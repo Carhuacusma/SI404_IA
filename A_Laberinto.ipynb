{
 "cells": [
  {
   "cell_type": "code",
   "execution_count": 12,
   "metadata": {},
   "outputs": [],
   "source": [
    "import cv2\n",
    "import numpy as np\n",
    "import time"
   ]
  },
  {
   "cell_type": "markdown",
   "metadata": {
    "id": "MALu6YirUXIO"
   },
   "source": [
    "# Algoritmo A*"
   ]
  },
  {
   "cell_type": "markdown",
   "metadata": {},
   "source": [
    "Miembros:\n",
    "- Rafael Andrade\n",
    "- Joao Basuri\n",
    "- Dante Moreno"
   ]
  },
  {
   "cell_type": "markdown",
   "metadata": {},
   "source": [
    "Definimos las dimensiones del mapa"
   ]
  },
  {
   "cell_type": "code",
   "execution_count": 2,
   "metadata": {
    "id": "_3jNzF8UWA-D"
   },
   "outputs": [],
   "source": [
    "largo=5\n",
    "ancho=5"
   ]
  },
  {
   "cell_type": "markdown",
   "metadata": {
    "id": "jLCAJLi6fYoM"
   },
   "source": [
    "* ***mapa:*** Arreglo que representa al mapa.\n",
    "* ***adyacentes(n):*** Si ***mapa*** es un arreglo que empieza en 0; devuelve el conjunto de otras ubicaciones (también como números) adyacentes a esta ubicación."
   ]
  },
  {
   "cell_type": "markdown",
   "metadata": {},
   "source": [
    "* $frame$: Representación gráfica del mapa, de ($ancho * 50) \\times (largo * 50$)"
   ]
  },
  {
   "cell_type": "code",
   "execution_count": 3,
   "metadata": {
    "id": "ZrqBvK9QS6z3"
   },
   "outputs": [],
   "source": [
    "mapa = ['O','O','O','O','O',\n",
    "        'O','O','X','O','O',\n",
    "        'I','O','X','O','F',\n",
    "        'O','O','X','O','O',\n",
    "        'O','O','O','O','O']\n",
    "posini = -1\n",
    "posfin = -1\n",
    "intran = set([])\n",
    "for i in range(len(mapa)):\n",
    "  if mapa[i]=='X':\n",
    "    intran.add(i)\n",
    "  if mapa[i]=='I':\n",
    "    posini = i\n",
    "  if mapa[i]=='F':\n",
    "    posfin = i"
   ]
  },
  {
   "cell_type": "code",
   "execution_count": 4,
   "metadata": {},
   "outputs": [],
   "source": [
    "frame = np.zeros((largo*50,ancho*50,3),dtype=np.uint8)"
   ]
  },
  {
   "cell_type": "code",
   "execution_count": 5,
   "metadata": {},
   "outputs": [
    {
     "name": "stdout",
     "output_type": "stream",
     "text": [
      "<class 'numpy.ndarray'>\n"
     ]
    }
   ],
   "source": [
    "#frame = np.array(frame)\n",
    "print(type(frame))"
   ]
  },
  {
   "cell_type": "code",
   "execution_count": 5,
   "metadata": {},
   "outputs": [
    {
     "data": {
      "text/plain": [
       "(250, 250, 3)"
      ]
     },
     "execution_count": 5,
     "metadata": {},
     "output_type": "execute_result"
    }
   ],
   "source": [
    "frame.shape"
   ]
  },
  {
   "cell_type": "code",
   "execution_count": 6,
   "metadata": {
    "colab": {
     "base_uri": "https://localhost:8080/"
    },
    "id": "-tc2uzXuVkGW",
    "outputId": "b7a6de71-08b8-4899-a06a-98152bb33b10"
   },
   "outputs": [
    {
     "data": {
      "text/plain": [
       "{5, 6, 10, 15, 16}"
      ]
     },
     "execution_count": 6,
     "metadata": {},
     "output_type": "execute_result"
    }
   ],
   "source": [
    "def adyacentes(num):\n",
    "  lista = set([])\n",
    "  if num%ancho and num>ancho and mapa[num-ancho-1]!='X':\n",
    "    lista.add(num-ancho-1)\n",
    "  if (num+1)%ancho and num>=ancho and mapa[num-ancho+1]!='X':\n",
    "    lista.add(num-ancho+1)\n",
    "  if num>=ancho and mapa[num-ancho]!='X':\n",
    "    lista.add(num-ancho)\n",
    "  if num%ancho and mapa[num-1]!='X':\n",
    "    lista.add(num-1)\n",
    "  if (num+1)%ancho and mapa[num+1]!='X':\n",
    "    lista.add(num+1)\n",
    "  if num<ancho*largo-ancho and mapa[num+ancho]!='X':\n",
    "    lista.add(num+ancho)\n",
    "  if num%ancho and num<ancho*largo-ancho and mapa[num+ancho-1]!='X':\n",
    "    lista.add(num+ancho-1)\n",
    "  if (num+1)%ancho and num<ancho*largo-ancho and mapa[num+ancho+1]!='X':\n",
    "    lista.add(num+ancho+1)\n",
    "  return lista\n",
    "\n",
    "adyacentes(11)"
   ]
  },
  {
   "cell_type": "markdown",
   "metadata": {
    "id": "UboEP_AzjBBh"
   },
   "source": [
    "* ***getcoor(num)***: Dado un número ***num***, retorna las posiciones *(x,y)* correspondientes a ***mapa***.\n",
    "* ***dist(num)***: Dado un número ***num***, retorna la distancia Manhattan hacia la posición de destino ***posfin***.\n",
    "* ***iscorner(ini,fin)***: Dadas dos posiciones ***ini*** y ***fin***, se retorna si una es esquina de otra."
   ]
  },
  {
   "cell_type": "code",
   "execution_count": 7,
   "metadata": {
    "id": "YAcLWa7cbs_v"
   },
   "outputs": [],
   "source": [
    "def getcoor(num):\n",
    "  return(int(num%ancho),int(num/ancho))\n",
    "\n",
    "def dist(num):\n",
    "  x,y = getcoor(num)\n",
    "  xf,yf = getcoor(posfin)\n",
    "  return 10*(abs(x-xf)+abs(y-yf))\n",
    "\n",
    "def iscorner(ini,fin):\n",
    "  if ini-ancho-1==fin or ini-ancho+1==fin or ini+ancho-1==fin or ini+ancho+1==fin:\n",
    "    return True\n",
    "  else:\n",
    "    return False"
   ]
  },
  {
   "cell_type": "markdown",
   "metadata": {},
   "source": [
    "* $pintar_num_img(num,bgr)$: Función que pinta en $frame$ una coordenada específica (según la representación del arreglo lineal $mapa$)"
   ]
  },
  {
   "cell_type": "code",
   "execution_count": 8,
   "metadata": {},
   "outputs": [],
   "source": [
    "def pintar_num_img(num, bgr_arr): #Con la misma lógica que getcoor, pero adaptado a la imagen\n",
    "    (x,y) = getcoor(num)\n",
    "    X = x * 50\n",
    "    Y = y * 50\n",
    "    frame[Y:Y+50,X:X+50] = np.array(bgr_arr,dtype=np.uint8)"
   ]
  },
  {
   "cell_type": "code",
   "execution_count": 9,
   "metadata": {},
   "outputs": [],
   "source": [
    "for muro in intran: \n",
    "    pintar_num_img(muro,[20,20,255])\n",
    "pintar_num_img(posini,[20,255,20])\n",
    "pintar_num_img(posfin,[255,20,20])"
   ]
  },
  {
   "cell_type": "markdown",
   "metadata": {},
   "source": [
    "### Implementación del algoritmo A*"
   ]
  },
  {
   "cell_type": "code",
   "execution_count": 16,
   "metadata": {
    "colab": {
     "base_uri": "https://localhost:8080/"
    },
    "id": "fF1no6-NkfUz",
    "outputId": "1331f1fe-c0c4-4395-c90a-8fd03feeebf0"
   },
   "outputs": [
    {
     "name": "stdout",
     "output_type": "stream",
     "text": [
      "Ruta:  [10, 6, 2, 8, 14]\n",
      "Costo final:  56\n"
     ]
    }
   ],
   "source": [
    "openList = []\n",
    "closeList = []\n",
    "openList.append(posini)\n",
    "fslist = [0 for i in range(largo*ancho)]\n",
    "padres = [-1 for i in range(largo*ancho)]\n",
    "endNode = None\n",
    "FinalCost = 0\n",
    "fslist[posini] = dist(posini)\n",
    "while True:\n",
    "    time.sleep(0.6)\n",
    "    if openList == []:\n",
    "        print(\"No se puede llegar al destino\")\n",
    "        exit(1)\n",
    "    n = min(openList, key=lambda x: fslist[x])\n",
    "    # pintar Mapa\n",
    "    for i in range(ancho*largo):\n",
    "        if not {i}.issubset(intran):\n",
    "            pintar_num_img(i,[10,10,10])\n",
    "    pintar_num_img(posini,[20,180,20])\n",
    "    pintar_num_img(posfin,[255,20,20])\n",
    "    # --- end pintar Mapa\n",
    "    openList.remove(n)\n",
    "    #for elem in openList:\n",
    "    #    pintar_num_img(elem,[10,100,10]) #Pinta la lista abierta\n",
    "    #for elem in closeList:\n",
    "    #    pintar_num_img(elem,[10,50,50]) #Pinta la lista cerrada\n",
    "    closeList.append(n)\n",
    "    pintar_num_img(n,[0,255,0]) #Pinta el nodo elegido\n",
    "    if n == posfin:\n",
    "        #pintar_num_img(n,[255,255,255])\n",
    "        endNode = n\n",
    "        FinalCost = fslist[n]\n",
    "        break\n",
    "    ady = adyacentes(n)\n",
    "    gs = fslist[n] - dist(n)\n",
    "    for i in ady:\n",
    "        s = 10\n",
    "        if iscorner(n,i):\n",
    "            s = 14\n",
    "        if i in openList:\n",
    "            if fslist[i] > gs + s + dist(i):\n",
    "                fslist[i] = gs + s + dist(i)\n",
    "                padres[i] = n\n",
    "        else:\n",
    "            if i in closeList:\n",
    "                if fslist[i] > gs + s + dist(i):\n",
    "                    fslist[i] = gs + s + dist(i)\n",
    "                    padres[i] = n\n",
    "                    openList.append(i)\n",
    "                    closeList.remove(i)\n",
    "            else:\n",
    "                fslist[i] = gs + s + dist(i)\n",
    "                padres[i] = n\n",
    "                openList.append(i)\n",
    "        \n",
    "    cv2.imshow('A Star Laberinto', frame) #...Imprime el frame\n",
    "    if cv2.waitKey(1) & 0xFF == ord('q'):\n",
    "        break\n",
    "\n",
    "cv2.imshow('A Star Laberinto', frame) #...Imprime el frame\n",
    "while True:\n",
    "    if cv2.waitKey(1) & 0xFF == ord('q'):\n",
    "        break\n",
    "        \n",
    "cv2.destroyAllWindows()\n",
    "        \n",
    "n = endNode\n",
    "sol = []\n",
    "while True:\n",
    "    sol.append(n)\n",
    "    if padres[n] == -1:\n",
    "        break\n",
    "    n = padres[n]\n",
    "sol.reverse()\n",
    "print(\"Ruta: \",list(sol))\n",
    "print(\"Costo final: \", FinalCost)"
   ]
  }
 ],
 "metadata": {
  "colab": {
   "collapsed_sections": [],
   "name": "A* - Laberinto.ipynb",
   "provenance": []
  },
  "kernelspec": {
   "display_name": "Python 3",
   "language": "python",
   "name": "python3"
  },
  "language_info": {
   "codemirror_mode": {
    "name": "ipython",
    "version": 3
   },
   "file_extension": ".py",
   "mimetype": "text/x-python",
   "name": "python",
   "nbconvert_exporter": "python",
   "pygments_lexer": "ipython3",
   "version": "3.7.3"
  }
 },
 "nbformat": 4,
 "nbformat_minor": 4
}
