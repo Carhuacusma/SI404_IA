{
  "nbformat": 4,
  "nbformat_minor": 0,
  "metadata": {
    "colab": {
      "name": "AG - TF.ipynb",
      "provenance": [],
      "collapsed_sections": [
        "qDEinrAQccFB",
        "XsFmbHMtchsQ",
        "o8yXJcWbnnac",
        "ccGcVAsXXRHf",
        "hfwWEwSSe183",
        "vftppKmloVTj"
      ],
      "include_colab_link": true
    },
    "kernelspec": {
      "name": "python3",
      "display_name": "Python 3"
    },
    "language_info": {
      "name": "python"
    },
    "widgets": {
      "application/vnd.jupyter.widget-state+json": {
        "35cecec7673c472a875d3de2d6a0e832": {
          "model_module": "@jupyter-widgets/controls",
          "model_name": "DropdownModel",
          "state": {
            "_options_labels": [
              "HOMBRE",
              "MUJER"
            ],
            "_view_name": "DropdownView",
            "style": "IPY_MODEL_d3dba8b9126d401e9c523ff8f18d7b60",
            "_dom_classes": [],
            "description": "Sexo:",
            "_model_name": "DropdownModel",
            "index": 0,
            "_view_module": "@jupyter-widgets/controls",
            "_model_module_version": "1.5.0",
            "_view_count": null,
            "disabled": false,
            "_view_module_version": "1.5.0",
            "description_tooltip": null,
            "_model_module": "@jupyter-widgets/controls",
            "layout": "IPY_MODEL_01481488e8204b16aeeea441437d1fa0"
          }
        },
        "d3dba8b9126d401e9c523ff8f18d7b60": {
          "model_module": "@jupyter-widgets/controls",
          "model_name": "DescriptionStyleModel",
          "state": {
            "_view_name": "StyleView",
            "_model_name": "DescriptionStyleModel",
            "description_width": "",
            "_view_module": "@jupyter-widgets/base",
            "_model_module_version": "1.5.0",
            "_view_count": null,
            "_view_module_version": "1.2.0",
            "_model_module": "@jupyter-widgets/controls"
          }
        },
        "01481488e8204b16aeeea441437d1fa0": {
          "model_module": "@jupyter-widgets/base",
          "model_name": "LayoutModel",
          "state": {
            "_view_name": "LayoutView",
            "grid_template_rows": null,
            "right": null,
            "justify_content": null,
            "_view_module": "@jupyter-widgets/base",
            "overflow": null,
            "_model_module_version": "1.2.0",
            "_view_count": null,
            "flex_flow": null,
            "width": null,
            "min_width": null,
            "border": null,
            "align_items": null,
            "bottom": null,
            "_model_module": "@jupyter-widgets/base",
            "top": null,
            "grid_column": null,
            "overflow_y": null,
            "overflow_x": null,
            "grid_auto_flow": null,
            "grid_area": null,
            "grid_template_columns": null,
            "flex": null,
            "_model_name": "LayoutModel",
            "justify_items": null,
            "grid_row": null,
            "max_height": null,
            "align_content": null,
            "visibility": null,
            "align_self": null,
            "height": null,
            "min_height": null,
            "padding": null,
            "grid_auto_rows": null,
            "grid_gap": null,
            "max_width": null,
            "order": null,
            "_view_module_version": "1.2.0",
            "grid_template_areas": null,
            "object_position": null,
            "object_fit": null,
            "grid_auto_columns": null,
            "margin": null,
            "display": null,
            "left": null
          }
        },
        "41ed04aaa54645f5ac3b7b59b92d1eb5": {
          "model_module": "@jupyter-widgets/controls",
          "model_name": "IntSliderModel",
          "state": {
            "_view_name": "IntSliderView",
            "style": "IPY_MODEL_e3887c3b1c4040bf90a2c59e8c61e10e",
            "_dom_classes": [],
            "description": "Edad:",
            "step": 1,
            "_model_name": "IntSliderModel",
            "orientation": "horizontal",
            "max": 100,
            "_view_module": "@jupyter-widgets/controls",
            "_model_module_version": "1.5.0",
            "value": 19,
            "_view_count": null,
            "disabled": false,
            "_view_module_version": "1.5.0",
            "min": 10,
            "continuous_update": true,
            "readout_format": "d",
            "description_tooltip": null,
            "readout": true,
            "_model_module": "@jupyter-widgets/controls",
            "layout": "IPY_MODEL_e8480f5ea1844dad9e9c333899b12337"
          }
        },
        "e3887c3b1c4040bf90a2c59e8c61e10e": {
          "model_module": "@jupyter-widgets/controls",
          "model_name": "SliderStyleModel",
          "state": {
            "_view_name": "StyleView",
            "handle_color": null,
            "_model_name": "SliderStyleModel",
            "description_width": "",
            "_view_module": "@jupyter-widgets/base",
            "_model_module_version": "1.5.0",
            "_view_count": null,
            "_view_module_version": "1.2.0",
            "_model_module": "@jupyter-widgets/controls"
          }
        },
        "e8480f5ea1844dad9e9c333899b12337": {
          "model_module": "@jupyter-widgets/base",
          "model_name": "LayoutModel",
          "state": {
            "_view_name": "LayoutView",
            "grid_template_rows": null,
            "right": null,
            "justify_content": null,
            "_view_module": "@jupyter-widgets/base",
            "overflow": null,
            "_model_module_version": "1.2.0",
            "_view_count": null,
            "flex_flow": null,
            "width": null,
            "min_width": null,
            "border": null,
            "align_items": null,
            "bottom": null,
            "_model_module": "@jupyter-widgets/base",
            "top": null,
            "grid_column": null,
            "overflow_y": null,
            "overflow_x": null,
            "grid_auto_flow": null,
            "grid_area": null,
            "grid_template_columns": null,
            "flex": null,
            "_model_name": "LayoutModel",
            "justify_items": null,
            "grid_row": null,
            "max_height": null,
            "align_content": null,
            "visibility": null,
            "align_self": null,
            "height": null,
            "min_height": null,
            "padding": null,
            "grid_auto_rows": null,
            "grid_gap": null,
            "max_width": null,
            "order": null,
            "_view_module_version": "1.2.0",
            "grid_template_areas": null,
            "object_position": null,
            "object_fit": null,
            "grid_auto_columns": null,
            "margin": null,
            "display": null,
            "left": null
          }
        },
        "b15945e6fff84aedbd5305c17af2c5e4": {
          "model_module": "@jupyter-widgets/controls",
          "model_name": "IntTextModel",
          "state": {
            "_view_name": "IntTextView",
            "style": "IPY_MODEL_bc4099388711497c8bb2ceb07a6d026a",
            "_dom_classes": [],
            "description": "Estatura (cm)",
            "_model_name": "IntTextModel",
            "_view_module": "@jupyter-widgets/controls",
            "_model_module_version": "1.5.0",
            "value": 170,
            "_view_count": null,
            "disabled": false,
            "_view_module_version": "1.5.0",
            "continuous_update": false,
            "step": 1,
            "description_tooltip": null,
            "_model_module": "@jupyter-widgets/controls",
            "layout": "IPY_MODEL_c585361ff4a9444f812a978c88ec5533"
          }
        },
        "bc4099388711497c8bb2ceb07a6d026a": {
          "model_module": "@jupyter-widgets/controls",
          "model_name": "DescriptionStyleModel",
          "state": {
            "_view_name": "StyleView",
            "_model_name": "DescriptionStyleModel",
            "description_width": "",
            "_view_module": "@jupyter-widgets/base",
            "_model_module_version": "1.5.0",
            "_view_count": null,
            "_view_module_version": "1.2.0",
            "_model_module": "@jupyter-widgets/controls"
          }
        },
        "c585361ff4a9444f812a978c88ec5533": {
          "model_module": "@jupyter-widgets/base",
          "model_name": "LayoutModel",
          "state": {
            "_view_name": "LayoutView",
            "grid_template_rows": null,
            "right": null,
            "justify_content": null,
            "_view_module": "@jupyter-widgets/base",
            "overflow": null,
            "_model_module_version": "1.2.0",
            "_view_count": null,
            "flex_flow": null,
            "width": null,
            "min_width": null,
            "border": null,
            "align_items": null,
            "bottom": null,
            "_model_module": "@jupyter-widgets/base",
            "top": null,
            "grid_column": null,
            "overflow_y": null,
            "overflow_x": null,
            "grid_auto_flow": null,
            "grid_area": null,
            "grid_template_columns": null,
            "flex": null,
            "_model_name": "LayoutModel",
            "justify_items": null,
            "grid_row": null,
            "max_height": null,
            "align_content": null,
            "visibility": null,
            "align_self": null,
            "height": null,
            "min_height": null,
            "padding": null,
            "grid_auto_rows": null,
            "grid_gap": null,
            "max_width": null,
            "order": null,
            "_view_module_version": "1.2.0",
            "grid_template_areas": null,
            "object_position": null,
            "object_fit": null,
            "grid_auto_columns": null,
            "margin": null,
            "display": null,
            "left": null
          }
        },
        "1fb949f64cdd442d88b24538363c6a13": {
          "model_module": "@jupyter-widgets/controls",
          "model_name": "FloatTextModel",
          "state": {
            "_view_name": "FloatTextView",
            "style": "IPY_MODEL_43d1e8051b4840c68cfb5343706d7fed",
            "_dom_classes": [],
            "description": "Peso (kg)",
            "_model_name": "FloatTextModel",
            "_view_module": "@jupyter-widgets/controls",
            "_model_module_version": "1.5.0",
            "value": 70.5,
            "_view_count": null,
            "disabled": false,
            "_view_module_version": "1.5.0",
            "continuous_update": false,
            "step": null,
            "description_tooltip": null,
            "_model_module": "@jupyter-widgets/controls",
            "layout": "IPY_MODEL_13a561588c714ac6b0837a43223e549c"
          }
        },
        "43d1e8051b4840c68cfb5343706d7fed": {
          "model_module": "@jupyter-widgets/controls",
          "model_name": "DescriptionStyleModel",
          "state": {
            "_view_name": "StyleView",
            "_model_name": "DescriptionStyleModel",
            "description_width": "",
            "_view_module": "@jupyter-widgets/base",
            "_model_module_version": "1.5.0",
            "_view_count": null,
            "_view_module_version": "1.2.0",
            "_model_module": "@jupyter-widgets/controls"
          }
        },
        "13a561588c714ac6b0837a43223e549c": {
          "model_module": "@jupyter-widgets/base",
          "model_name": "LayoutModel",
          "state": {
            "_view_name": "LayoutView",
            "grid_template_rows": null,
            "right": null,
            "justify_content": null,
            "_view_module": "@jupyter-widgets/base",
            "overflow": null,
            "_model_module_version": "1.2.0",
            "_view_count": null,
            "flex_flow": null,
            "width": null,
            "min_width": null,
            "border": null,
            "align_items": null,
            "bottom": null,
            "_model_module": "@jupyter-widgets/base",
            "top": null,
            "grid_column": null,
            "overflow_y": null,
            "overflow_x": null,
            "grid_auto_flow": null,
            "grid_area": null,
            "grid_template_columns": null,
            "flex": null,
            "_model_name": "LayoutModel",
            "justify_items": null,
            "grid_row": null,
            "max_height": null,
            "align_content": null,
            "visibility": null,
            "align_self": null,
            "height": null,
            "min_height": null,
            "padding": null,
            "grid_auto_rows": null,
            "grid_gap": null,
            "max_width": null,
            "order": null,
            "_view_module_version": "1.2.0",
            "grid_template_areas": null,
            "object_position": null,
            "object_fit": null,
            "grid_auto_columns": null,
            "margin": null,
            "display": null,
            "left": null
          }
        },
        "757f256ed9c5450d901386bd1ecaf5a1": {
          "model_module": "@jupyter-widgets/controls",
          "model_name": "DropdownModel",
          "state": {
            "_options_labels": [
              "Sedentario (Muy poco o nulo ejercicio)",
              "Livianamente (Ejercicio liviano de 1 a 3 días por semana)",
              "Moderadamente (Ejercicio moderado o deporte de 3 a 5 días por semana)",
              "Muy Activo (Ejercicios y deportes fuertes de 6 a 7 días a la semana)",
              "Extra Activo"
            ],
            "_view_name": "DropdownView",
            "style": "IPY_MODEL_df90b55fe940477bafa3ccdfd7e74dc5",
            "_dom_classes": [],
            "description": "Se considera ... activo",
            "_model_name": "DropdownModel",
            "index": 0,
            "_view_module": "@jupyter-widgets/controls",
            "_model_module_version": "1.5.0",
            "_view_count": null,
            "disabled": false,
            "_view_module_version": "1.5.0",
            "description_tooltip": null,
            "_model_module": "@jupyter-widgets/controls",
            "layout": "IPY_MODEL_e2ac29c8689e44dab82356dc3617b475"
          }
        },
        "df90b55fe940477bafa3ccdfd7e74dc5": {
          "model_module": "@jupyter-widgets/controls",
          "model_name": "DescriptionStyleModel",
          "state": {
            "_view_name": "StyleView",
            "_model_name": "DescriptionStyleModel",
            "description_width": "",
            "_view_module": "@jupyter-widgets/base",
            "_model_module_version": "1.5.0",
            "_view_count": null,
            "_view_module_version": "1.2.0",
            "_model_module": "@jupyter-widgets/controls"
          }
        },
        "e2ac29c8689e44dab82356dc3617b475": {
          "model_module": "@jupyter-widgets/base",
          "model_name": "LayoutModel",
          "state": {
            "_view_name": "LayoutView",
            "grid_template_rows": null,
            "right": null,
            "justify_content": null,
            "_view_module": "@jupyter-widgets/base",
            "overflow": null,
            "_model_module_version": "1.2.0",
            "_view_count": null,
            "flex_flow": null,
            "width": null,
            "min_width": null,
            "border": null,
            "align_items": null,
            "bottom": null,
            "_model_module": "@jupyter-widgets/base",
            "top": null,
            "grid_column": null,
            "overflow_y": null,
            "overflow_x": null,
            "grid_auto_flow": null,
            "grid_area": null,
            "grid_template_columns": null,
            "flex": null,
            "_model_name": "LayoutModel",
            "justify_items": null,
            "grid_row": null,
            "max_height": null,
            "align_content": null,
            "visibility": null,
            "align_self": null,
            "height": null,
            "min_height": null,
            "padding": null,
            "grid_auto_rows": null,
            "grid_gap": null,
            "max_width": null,
            "order": null,
            "_view_module_version": "1.2.0",
            "grid_template_areas": null,
            "object_position": null,
            "object_fit": null,
            "grid_auto_columns": null,
            "margin": null,
            "display": null,
            "left": null
          }
        },
        "a2a1e2904d5d49e5a6b4532044751db7": {
          "model_module": "@jupyter-widgets/controls",
          "model_name": "ButtonModel",
          "state": {
            "_view_name": "ButtonView",
            "style": "IPY_MODEL_c52be7249c4449d4aa51552ccec88c1b",
            "_dom_classes": [],
            "description": "Calcular",
            "_model_name": "ButtonModel",
            "button_style": "",
            "_view_module": "@jupyter-widgets/controls",
            "_model_module_version": "1.5.0",
            "tooltip": "",
            "_view_count": null,
            "disabled": false,
            "_view_module_version": "1.5.0",
            "layout": "IPY_MODEL_152c4d138a0a4c8c9b3948202d78f5ae",
            "_model_module": "@jupyter-widgets/controls",
            "icon": ""
          }
        },
        "c52be7249c4449d4aa51552ccec88c1b": {
          "model_module": "@jupyter-widgets/controls",
          "model_name": "ButtonStyleModel",
          "state": {
            "_view_name": "StyleView",
            "_model_name": "ButtonStyleModel",
            "_view_module": "@jupyter-widgets/base",
            "_model_module_version": "1.5.0",
            "_view_count": null,
            "button_color": null,
            "font_weight": "",
            "_view_module_version": "1.2.0",
            "_model_module": "@jupyter-widgets/controls"
          }
        },
        "152c4d138a0a4c8c9b3948202d78f5ae": {
          "model_module": "@jupyter-widgets/base",
          "model_name": "LayoutModel",
          "state": {
            "_view_name": "LayoutView",
            "grid_template_rows": null,
            "right": null,
            "justify_content": null,
            "_view_module": "@jupyter-widgets/base",
            "overflow": null,
            "_model_module_version": "1.2.0",
            "_view_count": null,
            "flex_flow": null,
            "width": null,
            "min_width": null,
            "border": null,
            "align_items": null,
            "bottom": null,
            "_model_module": "@jupyter-widgets/base",
            "top": null,
            "grid_column": null,
            "overflow_y": null,
            "overflow_x": null,
            "grid_auto_flow": null,
            "grid_area": null,
            "grid_template_columns": null,
            "flex": null,
            "_model_name": "LayoutModel",
            "justify_items": null,
            "grid_row": null,
            "max_height": null,
            "align_content": null,
            "visibility": null,
            "align_self": null,
            "height": null,
            "min_height": null,
            "padding": null,
            "grid_auto_rows": null,
            "grid_gap": null,
            "max_width": null,
            "order": null,
            "_view_module_version": "1.2.0",
            "grid_template_areas": null,
            "object_position": null,
            "object_fit": null,
            "grid_auto_columns": null,
            "margin": null,
            "display": null,
            "left": null
          }
        },
        "c27c84dc48ab45fbb02ac3c4ae924ac9": {
          "model_module": "@jupyter-widgets/output",
          "model_name": "OutputModel",
          "state": {
            "_view_name": "OutputView",
            "msg_id": "",
            "_dom_classes": [],
            "_model_name": "OutputModel",
            "outputs": [
              {
                "output_type": "stream",
                "metadata": {
                  "tags": []
                },
                "text": "HOMBRE de 19 años, 70.5 kg, y 170 cm \n >> IMC: 24.394463667820073 \n >> BMR: 1677.5 \n >> TDEE: 2013.0\nIMC: 24.394463667820073\nObjetivo: 0\n===========================\n[315, 287, 142, 321, 196, 406, 111, 102, 453, 410, 48, 1, 0, 0]\n0\nRESULTADOS: \nPuntuación obtenida: 0\nDebes consumir 3292 calorías al día. Se distribuyen de esta manera: [434, 412, 306, 342, 114, 142, 423, 297, 192, 271, 359]\n",
                "stream": "stdout"
              }
            ],
            "_view_module": "@jupyter-widgets/output",
            "_model_module_version": "1.0.0",
            "_view_count": null,
            "_view_module_version": "1.0.0",
            "layout": "IPY_MODEL_3df107a6a2fa4773bece3352fe051110",
            "_model_module": "@jupyter-widgets/output"
          }
        },
        "3df107a6a2fa4773bece3352fe051110": {
          "model_module": "@jupyter-widgets/base",
          "model_name": "LayoutModel",
          "state": {
            "_view_name": "LayoutView",
            "grid_template_rows": null,
            "right": null,
            "justify_content": null,
            "_view_module": "@jupyter-widgets/base",
            "overflow": null,
            "_model_module_version": "1.2.0",
            "_view_count": null,
            "flex_flow": null,
            "width": null,
            "min_width": null,
            "border": null,
            "align_items": null,
            "bottom": null,
            "_model_module": "@jupyter-widgets/base",
            "top": null,
            "grid_column": null,
            "overflow_y": null,
            "overflow_x": null,
            "grid_auto_flow": null,
            "grid_area": null,
            "grid_template_columns": null,
            "flex": null,
            "_model_name": "LayoutModel",
            "justify_items": null,
            "grid_row": null,
            "max_height": null,
            "align_content": null,
            "visibility": null,
            "align_self": null,
            "height": null,
            "min_height": null,
            "padding": null,
            "grid_auto_rows": null,
            "grid_gap": null,
            "max_width": null,
            "order": null,
            "_view_module_version": "1.2.0",
            "grid_template_areas": null,
            "object_position": null,
            "object_fit": null,
            "grid_auto_columns": null,
            "margin": null,
            "display": null,
            "left": null
          }
        }
      }
    }
  },
  "cells": [
    {
      "cell_type": "markdown",
      "metadata": {
        "id": "view-in-github",
        "colab_type": "text"
      },
      "source": [
        "<a href=\"https://colab.research.google.com/github/Carhuacusma/SI404_IA/blob/main/AG_TF.ipynb\" target=\"_parent\"><img src=\"https://colab.research.google.com/assets/colab-badge.svg\" alt=\"Open In Colab\"/></a>"
      ]
    },
    {
      "cell_type": "markdown",
      "metadata": {
        "id": "IrDMaKUF3DVt"
      },
      "source": [
        "# Maximización de la esperanza de vida a partir de algoritmos genéticos\n",
        "\n",
        "### Miembros:\n",
        "* Rafael Andrés Andrade Rodríguez - u201812443\n",
        "* Dante Moreno Carhuacusma - u201818067\n",
        "\n",
        "### Asesor:\n",
        "* Hugo David Calderón Vilca\n",
        "\n",
        "### Universidad Peruana de Ciencias Aplicadas.\n",
        "Lima, Perú"
      ]
    },
    {
      "cell_type": "markdown",
      "metadata": {
        "id": "U9u50del2-Yg"
      },
      "source": [
        "# Desarrollo de la Solución"
      ]
    },
    {
      "cell_type": "code",
      "metadata": {
        "id": "VH2ASVJwc39b"
      },
      "source": [
        "import random\n",
        "import numpy as np\n",
        "import pandas as pd\n",
        "import ipywidgets as widgets\n",
        "from matplotlib import pyplot as plt"
      ],
      "execution_count": null,
      "outputs": []
    },
    {
      "cell_type": "markdown",
      "metadata": {
        "id": "ZKhD7Nd1139d"
      },
      "source": [
        "Durante el desarrollo de la solución, clasificamos a las personas según diferentes métricas. El diccionario de dichas categorías es:\n",
        "\n",
        "Actividad | Desripción | Valor\n",
        "--- | --- | ---\n",
        "Sedentario | Muy poco o nulo ejercicio | 0\n",
        "Livianamente activo | Practica ejercicio liviano de 1 a 3 días por semana | 1\n",
        "Moderadamente activo | Ejercicio moderado o deporte de 3 a 5 días a la semana | 2\n",
        "Muy Activo | Ejercicios y deportes fuertes de 6 a 7 días a la semana | 3\n",
        "Extra Activo | Ejercicios muy fuertes y un trabajo físico | 4"
      ]
    },
    {
      "cell_type": "markdown",
      "metadata": {
        "id": "jdgjtl1JSoic"
      },
      "source": [
        "## Individuo:\n"
      ]
    },
    {
      "cell_type": "markdown",
      "metadata": {
        "id": "OxNBExAB-Sr1"
      },
      "source": [
        "![image.png](data:image/png;base64,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)"
      ]
    },
    {
      "cell_type": "code",
      "metadata": {
        "id": "TAf5mtJVdowC",
        "colab": {
          "base_uri": "https://localhost:8080/"
        },
        "outputId": "8bf7b92a-c894-4ffd-e331-70125e8d50fd"
      },
      "source": [
        "class estado:\n",
        "  #... CONSTRUCTOR\n",
        "  def __init__(self):\n",
        "    self.arreglo = [random.randint(0,500) for i in range(11)]\n",
        "    for i in range(3):\n",
        "      self.arreglo.append(random.randint(0,1))\n",
        "  \n",
        "  #... Funciones auxiliares para la heurística\n",
        "  \n",
        "  #..... 1. Calorías\n",
        "  def get_calorias(self):\n",
        "    return sum(self.arreglo[:11])\n",
        "\n",
        "  #..... 2. Ejercicios\n",
        "  def get_ejercicios(self):\n",
        "    a = list(self.arreglo[11:])\n",
        "    res = 0\n",
        "    for i in range(len(a)):\n",
        "      res += a[i] * pow(2, 2 - i)\n",
        "    if res > 4:\n",
        "      return 4\n",
        "    return res\n",
        "\n",
        "  \n",
        "  #... MUTACIÓN\n",
        "  def mutar(self):\n",
        "    r = random.randint(0,100)/100\n",
        "    if r < 0.20:\n",
        "      k = random.randint(0,11)\n",
        "      self.arreglo[k] = random.randint(0,500)\n",
        "      k = random.randint(12,13)\n",
        "      self.arreglo[k] = random.randint(0,1)\n",
        "\n",
        "  #... CRUCE\n",
        "  def cruce(self, otro):\n",
        "    def crear_hijos(padres):\n",
        "      n = len(padres[0])\n",
        "      if n != len(padres[1]): #... Si son de diferente len(), termina\n",
        "        print(\"ERROR en Cruce -> crear_hijos(). Diferente len() de padres\")\n",
        "        return False\n",
        "      j = random.randint(int(n/2),n)\n",
        "      aux = [(0,1),(1,0)]\n",
        "      hijos = []\n",
        "      for i in aux:\n",
        "        p1 = padres[i[0]][:j]\n",
        "        p2 = padres[i[1]][j:]\n",
        "        hijo = p1 + p2\n",
        "        hijos.append(hijo)\n",
        "      return hijos\n",
        "    \n",
        "    dieta_1 = self.arreglo[:11]\n",
        "    dieta_2 = otro.arreglo[:11]\n",
        "    ejerc_1 = self.arreglo[11:]\n",
        "    ejerc_2 = otro.arreglo[11:]\n",
        "    hijos_dieta = crear_hijos([dieta_1, dieta_2])\n",
        "    hijos_ejerc = crear_hijos([ejerc_1, ejerc_2])\n",
        "    hijos = [estado() for i in range(2)]\n",
        "    for i in range(2):\n",
        "      hijos[i].arreglo = hijos_dieta[i] + hijos_ejerc[i]\n",
        "    return hijos\n",
        "  # end\n",
        "\n",
        "#... EJEMPLO\n",
        "E1 = estado()\n",
        "E2 = estado()\n",
        "print(E1.arreglo)\n",
        "print(E2.arreglo)\n",
        "hijos = E1.cruce(E2)\n",
        "for h in hijos:\n",
        "  print(\">>\", h.arreglo)"
      ],
      "execution_count": null,
      "outputs": [
        {
          "output_type": "stream",
          "text": [
            "[28, 431, 196, 225, 187, 13, 385, 103, 32, 233, 80, 1, 0, 0]\n",
            "[356, 426, 401, 43, 371, 26, 18, 423, 99, 296, 383, 0, 0, 1]\n",
            ">> [28, 431, 196, 225, 187, 13, 385, 423, 99, 296, 383, 1, 0, 0]\n",
            ">> [356, 426, 401, 43, 371, 26, 18, 103, 32, 233, 80, 0, 0, 1]\n"
          ],
          "name": "stdout"
        }
      ]
    },
    {
      "cell_type": "markdown",
      "metadata": {
        "id": "qDEinrAQccFB"
      },
      "source": [
        "## Heurística:"
      ]
    },
    {
      "cell_type": "markdown",
      "metadata": {
        "id": "XsFmbHMtchsQ"
      },
      "source": [
        "### 1. Metabolismo Basal"
      ]
    },
    {
      "cell_type": "markdown",
      "metadata": {
        "id": "JY5PjZDJd7UB"
      },
      "source": [
        "El cálculo de $BMR$ (metabolismo basal), depende del:\n",
        "- $sexo$, hombre o mujer\n",
        "- $peso$, en kilogramos\n",
        "- $estatura$, en centímetros\n",
        "- $edad$, en años\n",
        "\n",
        "de la persona.\n",
        "> [Mateusz Mucha y Aleksandra Zając](https://www.omnicalculator.com/health/bmr-harris-benedict-equation) simplifican la ecuación de Harris-Benedict como:\n",
        "* $BMR = (10 \\times Peso) + (6.25 \\times Estatura) - (5 \\times Edad)+s$\n",
        "* Para **hombres**, $s=+5$\n",
        "* Para **mujeres**, $s=-161$\n",
        "\n",
        "Consideramos las variables personales como constantes para el desarrollo de la función heurística $h(x)$"
      ]
    },
    {
      "cell_type": "markdown",
      "metadata": {
        "id": "o8yXJcWbnnac"
      },
      "source": [
        "### 2. TDEE: Total de gasto de energía"
      ]
    },
    {
      "cell_type": "markdown",
      "metadata": {
        "id": "ogSE-OPWlo0h"
      },
      "source": [
        "El $TDEE$ determina cuántas kilocalorías necesita una persona diariamente.\n",
        "El cálculo varía según el nivel de actividad.\n",
        "- **Sedentario** (Muy poco o nulo ejercicio): $TDEE = BMR \\times 1.2$\n",
        "- **Activo Livianamente** (Ejercicio liviano de 1 a 3 días por semana): $TDEE = BMR \\times 1.375$\n",
        "- **Moderadamente activo** (Ejercicio moderado o deporte de 3 a 5 días a la semana): $TDEE = BMR \\times 1.55$\n",
        "- **Muy Activo** (Ejercicios y deportes fuertes de 6 a 7 días a la semana): $TDEE = BMR \\times 1.725$\n",
        "- **Extra Activo** (Ejercicios muy fuertes y un trabajo físico): $TDEE = BMR \\times 1.9$"
      ]
    },
    {
      "cell_type": "markdown",
      "metadata": {
        "id": "ccGcVAsXXRHf"
      },
      "source": [
        "### 3. Información del usuario e IMC."
      ]
    },
    {
      "cell_type": "markdown",
      "metadata": {
        "id": "9VeN8DKAc03c"
      },
      "source": [
        "Utilizando la información de [CDC (Centros para el Control y Detección de Enfermedades)](https://www.cdc.gov/healthyweight/spanish/assessing/index.html), podemos clasificar a la persona según su IMC. De esta manera, definimos los objetivos para la persona.\n",
        "\n",
        "IMC | Descripción | Código\n",
        "--- | --- | ---\n",
        "Inferior a 18.5 | Bajo Peso | 0\n",
        "Entre 18.5 y 24.9 | Peso saludable | 1\n",
        "Entre 25.0 y 29.9 | Sobrepeso | 2\n",
        "30.0 o superior | Obesidad | 3\n",
        "\n",
        "Dado que $IMC = \\frac{peso}{estatura^2}$; donde el $peso$ está expresado en kilogramos, y la $estatura$ en metros."
      ]
    },
    {
      "cell_type": "code",
      "metadata": {
        "id": "00kKckE6XNPI"
      },
      "source": [
        "class informacion:\n",
        "  def __init__(self, sexo, peso, estatura, edad, actividad):\n",
        "    self.sexo = sexo\n",
        "    self.peso = peso\n",
        "    self.estatura = estatura\n",
        "    self.edad = edad\n",
        "    self.actividad = actividad\n",
        "    #... MÉTRICAS\n",
        "    self.IMC = self.peso / pow(self.estatura/100, 2) #.... IMC (índice de masa corporal)\n",
        "    self.BMR = (10 * self.peso) + (6.25 * self.estatura) - (5 * self.edad) #... BMR (Metabolismo Basal)\n",
        "    if self.sexo == \"HOMBRE\":\n",
        "      self.BMR = self.BMR + 5\n",
        "    elif self.sexo == \"MUJER\":\n",
        "      self.BMR = self.BMR - 161\n",
        "    else:\n",
        "      print(\"ERROR: Sexo no definido\")\n",
        "    self.TDEE = self.BMR * (1.2 + self.actividad * 0.175) #... TDEE (Total Daily Energy Expenditure)\n",
        "    self.objetivo = None #... Definir 'Objetivo'\n",
        "    if self.IMC < 18.5:\n",
        "      self.objetivo = 1 # Subir\n",
        "    elif self.IMC < 25:\n",
        "      self.objetivo = 0 # Peso Saludable, debe mantener\n",
        "    elif self.IMC < 30:\n",
        "      self.objetivo = -1 # Debe bajar, tiene Sobrepeso\n",
        "    else:\n",
        "      self.objetivo = -2 # Debe bajar mucho peso, tiene Obesidad\n",
        "\n",
        "  def __str__(self):\n",
        "    return \"%s de %s años, %s kg, y %s cm \\n >> IMC: %s \\n >> BMR: %s \\n >> TDEE: %s\"%(self.sexo, self.edad, self.peso, self.estatura, self.IMC, self.BMR, self.TDEE)\n"
      ],
      "execution_count": null,
      "outputs": []
    },
    {
      "cell_type": "markdown",
      "metadata": {
        "id": "hfwWEwSSe183"
      },
      "source": [
        "### 4. Función personalizada"
      ]
    },
    {
      "cell_type": "markdown",
      "metadata": {
        "id": "Ideyp8Q7fxNy"
      },
      "source": [
        "![Heurística.jpg](data:image/jpeg;base64,/9j/4AAQSkZJRgABAgAAAQABAAD/2wBDAAgGBgcGBQgHBwcJCQgKDBQNDAsLDBkSEw8UHRofHh0aHBwgJC4nICIsIxwcKDcpLDAxNDQ0Hyc5PTgyPC4zNDL/2wBDAQkJCQwLDBgNDRgyIRwhMjIyMjIyMjIyMjIyMjIyMjIyMjIyMjIyMjIyMjIyMjIyMjIyMjIyMjIyMjIyMjIyMjL/wAARCALmBCgDASIAAhEBAxEB/8QAHwAAAQUBAQEBAQEAAAAAAAAAAAECAwQFBgcICQoL/8QAtRAAAgEDAwIEAwUFBAQAAAF9AQIDAAQRBRIhMUEGE1FhByJxFDKBkaEII0KxwRVS0fAkM2JyggkKFhcYGRolJicoKSo0NTY3ODk6Q0RFRkdISUpTVFVWV1hZWmNkZWZnaGlqc3R1dnd4eXqDhIWGh4iJipKTlJWWl5iZmqKjpKWmp6ipqrKztLW2t7i5usLDxMXGx8jJytLT1NXW19jZ2uHi4+Tl5ufo6erx8vP09fb3+Pn6/8QAHwEAAwEBAQEBAQEBAQAAAAAAAAECAwQFBgcICQoL/8QAtREAAgECBAQDBAcFBAQAAQJ3AAECAxEEBSExBhJBUQdhcRMiMoEIFEKRobHBCSMzUvAVYnLRChYkNOEl8RcYGRomJygpKjU2Nzg5OkNERUZHSElKU1RVVldYWVpjZGVmZ2hpanN0dXZ3eHl6goOEhYaHiImKkpOUlZaXmJmaoqOkpaanqKmqsrO0tba3uLm6wsPExcbHyMnK0tPU1dbX2Nna4uPk5ebn6Onq8vP09fb3+Pn6/9oADAMBAAIRAxEAPwD3+iiigAooooAKKKKACiiigAooooAKKKKACiiigAooooAKKKKACiiigAooooAKKKKACiiigAooooAKKKKACiiigAooooAKKKKACiiigAooooAKKKKACiiigAooooAKKKKACiiigAooooAKKKKACiiigAooooAKKKKACiiigAooooAKKKKACiiigAooooAKKKKACiiigAooooAKKKKACiiigAooooAKKKKACiiigAooooAKKKKACiiigAooooAKKKKACiiigAooooAKKKKACiiigAooooAKKKKACiiigAooooAKKKKACiiigAooooAKKKKACiiigAooooAKKKKACiiigAooooAKKKKACiiigAooooAKKKKACiiigAooooAKKKKACiiigAooooAKKKKACiiigAooooAKKKKACiiigAooooAKKKKACiiigAooooAKKKKACiiigAooooAKKKKACiiigAooooAKKKKACiiigAooooAKKKKACiiigAooooAKKKKACiiigAooooAKKKKACiiigAooooAKKKKACiiigAooooAKKKKACiiigAooooAKKKKACiiigAooooAKKKKACiiigAooooAKKKKACiiigAooooAKKKKACiiigAooooAKKKKACiiigAooooAKKKKACiiigAooooAKKKKACiiigAooooAKKKKACiiigAooooAKKKKACiiigAooooAKKKKAPCdS1LxPqvjbxJBB4p1CxtrK8EMUMAXaF2g9xSeR4r/6HnV/yT/CiD/kfPGX/YRH/oArVr1KFCnKmm0ebXr1I1GkzK8jxX/0POr/AJJ/hR5Hiv8A6HnV/wAk/wAK1ayG8VaAjFW1iyDA4IMw4NaOhRW6M1XrPZjvI8V/9Dzq/wCSf4UeR4r/AOh51f8AJP8ACrKatp76eb9b23NmM/v/ADBs646/WmWGt6Xqjsljf29w6jJWNwSB64o9hQ7B7et3IfI8V/8AQ86v+Sf4UeR4r/6HnV/yT/CmHxXoCsVOsWQIOCPOFXINW0+5sZL2G9gktYs75lcFVwMnJpKhQeyQ3WrLdlbyPFf/AEPOr/kn+FHkeK/+h51f8k/wq/aXltf2y3FpPHPC2drxtkHBweaz38UaFHK0T6vZK6sVZWmAwR2NN0KC3QlXrPZi+R4r/wCh51f8k/wo8jxX/wBDzq/5J/hWlHLHNEssTq8bDKspyCPUGs3/AISXQ/tX2b+1rPzs7dvnL19M+tDoUVugVes9mHkeK/8AoedX/JP8KPI8V/8AQ86v+Sf4Vq0U/q1LsL6xV7nNa7deLtI0O71CPxtqsjwR7wrBMH9K970maS50axnlbdLLbxu7Y6kqCTXhnjT/AJE7VP8Argf5ivb9C/5F7TP+vSL/ANAFcGLpxhJKKO7CzlOLcmaFFFFcp0hRRRQAUUUUAFFFFABRRRQAUUUUAFFFFABRRRQAUUUUAFFFFABRRRQAUUUUAFFFFABRRRQAUUUUAFFFFABRRRQAUUUUAFFFFABRRRQAUUUUAFFFFABRRRQAUUUUAFFFFABRRRQAUUUUAFFFFABRRRQAUUUUAFFFFABRRRQAUUUUAFFFFABRRRQAUUUUAFFFFABRRRQAUUUUAFFFFABRRRQAUUUUAFFFFABRRRQAUUUUAFFFFABRRRQAUUUUAFFFFABRRRQAUUUUAFFFFABRRRQAUUUUAFFFFABRRRQAUUUUAFFFFABRRRQB4RB/yPnjL/sIj/0AVq1lQf8AI+eMv+wiP/QBWrXs4b+EjyMR/FYV5H4YE32a+8vwfb6yPtkn+kSvGCvA+X5lJ9/xr1yuIsfBmuaUs8eneJhbwyytKUFmrfMfcn0ApVoybTX6fqOlJJNP9f0DX9FudW8K6fHa6fa6fcRTib+zWZRG5BI28YBJznt1NZ2nXFmnivTRqvh6TRdQ5SCS3wsMp6YIA5644J6iugvvCl1quj28F/q7yajbTGaC+SEIUPYbQfp37CorXwnqNxq9nqGu60b/AOxNugiSERqG9Tj6D8utQ4S5k0u3b+vuLU48rTffv/X3mX4w0jTLfxB4ZSHTrSNJ73bKqQKBINycNgc9T19am8dyWWm6RaaFZrbWKajcASFFWNEQEbmOMD+7+ANdBrnh86xqWkXYuRF/Z8/nFdm7fypxnPH3aguvCkOo+KDq2ovFdW6weVDaSRZVPcknn+Lt39qqVOXvcq3t/wAEmNSPu3exh+A722stZ1bw/b3Uc9qkn2i0dHDAocZGfUZX9aj8FaPpupjXTfWFtcMNQkUNLGGYD0B6it2fwdax69p2qaV5OntakiWOKEbZlPbgjBxkZ56j0rOt/Bms2E12dP8AEptYbqZpXRbQMck+pNSoTVk1dK5TnF3adr2OYW9udL8I+KdOtZXFvbX3kRNnJVGcggH3C/8AjxrsB4R0L/hEPJ+xW+fsu/7TsG/dtzu3devPp+FXrHwhp1n4euNHk3zx3JLTyufndj/F7YwMfSsf/hC9a+xf2V/wlEv9lY2+V5A37P7u7OcY49PahU5R3V9PuB1Iy2dtTQ+H15PeeDbN7hmZoy0YZupUEgfkOPwrp6q6bp9vpWnQWNom2CFdqg9T6k+5PNWq6IJxikznm1KTaMLxp/yJ2qf9cD/MV7foX/IvaZ/16Rf+gCvEPGn/ACJ2qf8AXA/zFe36F/yL2mf9ekX/AKAK8/HfGvQ78F8D9TQoooriOwKKKKACiiigAooooAKKKKACiiigAooooAKKKKACiiigAooooAKKKKACiiigAooooAKKKKACiiigAooooAKKKKACiiigAooooAKKKKACiiigAooooAKKKKACiiigAooooAKKKKACiiigAooooAKKKKACiiigAooooAKKKKACiiigAooooAKKKKACiiigAooooAKKKKACiimPNEjqjyort91SwBP0oAfRRUVxc29qge4nihQnaGkcKCfTnvQBLRUL3dtE5SS4iRh1VnAIpFvLV2CpcwsxOABICTQBPRRRQAUUUUAFFFMlmihUNLIkYJwCzAUAPooooAKKiguYLqPzLeaOVASN0bBhn0yKloAKKKKACiiigAooooAKKKKACiiigAooooAKKKKACiiigAooooAKKKKACiiigAooooAKKKKAPni613S9I+IHi+PUL2K3d9QDKHPUbBVj/hNPDn/QXtvzP+Fe5zaTptzM00+n2ksrfeeSFWJ/Eio/7C0f/oFWP/gOn+FdVPFyhFRSOaeFjOTk2eIf8Jp4c/6C9t+Z/wAKP+E08Of9Be2/M/4V7f8A2Fo//QKsf/AdP8KP7C0f/oFWP/gOn+FX9en2RH1KHdniH/CaeHP+gvbfmf8ACj/hNPDn/QXtvzP+Fe3/ANhaP/0CrH/wHT/Cj+wtH/6BVj/4Dp/hR9en2QfUod2eIf8ACaeHP+gvbfmf8KP+E08Of9Be2/M/4V7f/YWj/wDQKsf/AAHT/CvNPiXpenweNfh9HDYWsaS6oVkVIVAcZTg4HNH16fZB9Sh3Zzf/AAmnhz/oL235n/Cj/hNPDn/QXtvzP+Fe3/2Fo/8A0CrH/wAB0/wo/sLR/wDoFWP/AIDp/hR9en2QfUod2eIf8Jp4c/6C9t+Z/wAKP+E08Of9Be2/M/4V7f8A2Fo//QKsf/AdP8KP7C0f/oFWP/gOn+FH16fZB9Sh3Z4h/wAJp4c/6C9t+Z/wo/4TTw5/0F7b8z/hXt/9haP/ANAqx/8AAdP8KP7C0f8A6BVj/wCA6f4UfXp9kH1KHdnzx4q8VaFe+F9RtrbU4JJpIiqIpOSc19D6F/yL2mf9ekX/AKAKP7C0f/oFWP8A4Dp/hWgBgYFc9as6ruzelSVNWQUUUVkahRRRQAUUUUAFFFFABRRRQAUUUUAFFFFABRRRQAUUUUAFFFFABRRRQAUUUUAFFFFABRRRQAUUUUAFFFFABRRRQAUUUUAFFFFABRRRQAUUUUAFFFFABRRRQAUUUUAFFFFABRRRQAUUUUAFFFFABRRRQAUUUUAFFFFABRRRQAUUUUAFFFFABRRRQAUUUUAFFFFABRRRQAV8/eNtfi/4aK01pLW6vl0mBUjtLSPfJLKUaRQo+rrk9gtfQNeJfCGNPEHxM8a+KnUOonMFu5GflZ26fRUQfjQB2Pgn4mw+Ltf1DQrjR7vStTskMjwTsGyoIU9hggsvHvWFoUv/AAsz4lXurznzPD3hyXydPhP3JrnvKfXGMj6r755jwHcS6jrHxQ8Ywk71hnS1cenzsMfQJHXR/CSeLw98Cp9YGAVF3eN7smVH/oAFAHm8a+EfF3xW8VXvi/VfsliszJbES7DIVbYpzg8BU/UV6J4I8FfC5/E0F54b1SW+1Cx/0hY/tG4KBxuI2joWFee/DDUPhnZeH7p/Gj202pzXTMqz2kspWPaMcqpHJ3HrXrHhvxF8NrOx1jVfCNkkpsrcPeCxsZEk8sn/AGwoPQnGexoAgn+M32n7dc6B4T1TWNLsnKTX8RCpxySBgkjHPbj0q14i+KKW/wAMP+Ep0jTr52uN0KB4f+PSQggPJ1G0Nt9juFeQ3k2h6DpE3ib4f+ObnTGd950O4P7zO7GNoJBA7bgRj+Kuw+J3iTVL/wCAWjXOpweTe6rNCtwoXaCAGcNjtnYpx70AaPw48e3GmfDrUtb8VW+qnZMJ/tk6E/bWkyFWEHAIARRxwM9hWja/GhV1HTItZ8K6ppNlqbBbW8mIKvnGDjA45HQng1g+LfG83h3wP4L07wtq0NtYXaraz6skfmCERhFbAI6/MxPf5eK5S8Fvr/xX8KaTB4tv/EkCXCSzT3Dfugwbcyxjp91OSM9QO1AHs/jT4k2PhLUbTSINPutW1m7G6KxtB823sSecZwcAA9D0ryjx14rX4j+J/CXhs6ZeadcpqG2/srtMNGWKAH3G3ef886lrrWm+Hv2j/EF74nuFtVe22Wk8wOxcrHjB7ZUMM/Udaj8N6hZeO/2j5tZ08b7HT7VnjkKkeZtQRhsH3fI9gKAO58RfFmz0vxG/h7RdGv8AX9Vhz58VmPlix1BODyO/GB0znitPwP8AETT/ABq95apaXOn6pZHFzZXQw6c4yPUZ4PAIPbpXlnwr8RaN4L8SeMIfFd2thqr3OTJOp+cBnLAEA9SQffIxmtf4VGXxF8TPFXjtYXt9ImRreF5BtD/Mhz+Cxgn0LUAa3wnufsnjHx9oCnFvbaobiFey72YMP/HUr1evH/gnDJqmr+MfFpUiDU9QK25IxlQzMf8A0NR+Br2CgAooooAKKKKACiiigAooooAKKKKACiiigAooooAKKKKACiiigAooooAKKKKACiiigAooooAKKKKACiiigAooooAK8v8Aih/yPPw5/wCwq38469Qry/4of8jz8Of+wq3846APUKKKKACiiigAooooAKKKKACiiigAooooAKKKKACiiigAooooAKKKKACiiigAooooAKKKKACiiigAooooAKKKKACiiigAooooAKKKKACiiigAooooAKKKKACiiigAooooAKKKKACiiigAooooAKKKKACiiigAooooAKKKKACiiigAooooAKKKKACiiigAooooAKKKKACiiigAooooAKKKKACiiigAooooAKp2Gk6bpUTxadp9pZxudzpbwrGGPqQoGTVyigDPg0LSrOwuLKz061tLa4BEsdtCsYbIwchQOcVyPwy8L3+h+CLjw54hsYmihu5kiWQpIlxATkMQCeCS3B59q76igDD/AOEL8K/9C1o3/gBF/wDE1e07RdK0jzP7M0yzsvNx5n2aBY9+M4ztAzjJ/Or1FAGF/wAIV4W+2/bP+Ec0n7Tu3eb9jj3bvXp19609Q0yw1azaz1Gyt7u2YgmKeMOpI6HBq1RQBlP4Y0GTR00d9GsG02M7ktDbqY1OSchcYBySc+5p0Ph3Q7eS2kh0bT45LVdtu6WyAwjk4Q4+Xqenqa06KAMzVPDmia3LFLqukWN9JFxG1zbrIVHoCR09qmtdH0ywupLmz06zt7iUbZJYYFR3HoSBkjgVdooAydT8L6Brc6z6poun3syjAkuLZHYD0yRnHtWF450zW73w9D4b8L2UdtBen7Pc3asiR2dv/FhMgkkcAKPXpxXZ0UAZugaHZeG9Cs9H09NltaxhFz1Y9Sx9ySSfc1pUUUAFFFFABRRRQAUUUUAFFFFABRRRQAUUUUAFFFFABRRRQAUUUUAFFFFABRRRQAUUUUAFFFFAHkN/8atTTxHq+k6P4Ev9WGmXL28stvMx5ViuSqxNtyVbGT2qP/hcfi3/AKJRrf8A31L/APGKi+FX/JQ/iX/2Ff8A2rcV6vQB5b/wuPxb/wBEo1v/AL6l/wDjFH/C4/Fv/RKNb/76l/8AjFepUUAeW/8AC4/Fv/RKNb/76l/+MUf8Lj8W/wDRKNb/AO+pf/jFepUUAeW/8Lj8W/8ARKNb/wC+pf8A4xXHeMfiJr+r+I/Cl5deA9S0+XT70zQW8rSbrtvl+RcxDngdAevSvoOvNPiX/wAjr8Pv+wof5pQBB/wuPxb/ANEo1v8A76l/+MUf8Lj8W/8ARKNb/wC+pf8A4xXqVFAHlv8AwuPxb/0SjW/++pf/AIxR/wALj8W/9Eo1v/vqX/4xXqVFAHlv/C4/Fv8A0SjW/wDvqX/4xR/wuPxb/wBEo1v/AL6l/wDjFepUUAeW/wDC4/Fv/RKNb/76l/8AjFH/AAuPxb/0SjW/++pf/jFepUUAeW/8Lj8W/wDRKNb/AO+pf/jFH/C4/Fv/AESjW/8AvqX/AOMV6lRQB5b/AMLj8W/9Eo1v/vqX/wCMUf8AC4/Fv/RKNb/76l/+MV6lRQB5b/wuPxb/ANEo1v8A76l/+MUf8Lj8W/8ARKNb/wC+pf8A4xXqVFAHlv8AwuPxb/0SjW/++pf/AIxR/wALj8W/9Eo1v/vqX/4xXqVFAHlv/C4/Fv8A0SjW/wDvqX/4xR/wuPxb/wBEo1v/AL6l/wDjFepUUAeW/wDC4/Fv/RKNb/76l/8AjFH/AAuPxb/0SjW/++pf/jFepUUAeW/8Lj8W/wDRKNb/AO+pf/jFH/C4/Fv/AESjW/8AvqX/AOMV6lRQB5b/AMLj8W/9Eo1v/vqX/wCMUf8AC4/Fv/RKNb/76l/+MV6lRQB5b/wuPxb/ANEo1v8A76l/+MUf8Lj8W/8ARKNb/wC+pf8A4xXqVFAHlv8AwuPxb/0SjW/++pf/AIxR/wALj8W/9Eo1v/vqX/4xXqVFAHlv/C4/Fv8A0SjW/wDvqX/4xR/wuPxb/wBEo1v/AL6l/wDjFepUUAeW/wDC4/Fv/RKNb/76l/8AjFH/AAuPxb/0SjW/++pf/jFepUUAeW/8Lj8W/wDRKNb/AO+pf/jFH/C4/Fv/AESjW/8AvqX/AOMV6lRQB5b/AMLj8W/9Eo1v/vqX/wCMUf8AC4/Fv/RKNb/76l/+MV6lRQB5b/wuPxb/ANEo1v8A76l/+MUf8Lj8W/8ARKNb/wC+pf8A4xXqVFAHlv8AwuPxb/0SjW/++pf/AIxR/wALj8W/9Eo1v/vqX/4xXqVFAHlv/C4/Fv8A0SjW/wDvqX/4xR/wuPxb/wBEo1v/AL6l/wDjFepUUAeW/wDC4/Fv/RKNb/76l/8AjFH/AAuPxb/0SjW/++pf/jFepUUAeW/8Lj8W/wDRKNb/AO+pf/jFH/C4/Fv/AESjW/8AvqX/AOMV6lRQB5b/AMLj8W/9Eo1v/vqX/wCMUf8AC4/Fv/RKNb/76l/+MV6lRQB5b/wuPxb/ANEo1v8A76l/+MUf8Lj8W/8ARKNb/wC+pf8A4xXqVFAHlv8AwuPxb/0SjW/++pf/AIxR/wALj8W/9Eo1v/vqX/4xXqVFAHlv/C4/Fv8A0SjW/wDvqX/4xR/wuPxb/wBEo1v/AL6l/wDjFepUUAeW/wDC4/Fv/RKNb/76l/8AjFH/AAuPxb/0SjW/++pf/jFepUUAeW/8Lj8W/wDRKNb/AO+pf/jFH/C4/Fv/AESjW/8AvqX/AOMV6lRQB5b/AMLj8W/9Eo1v/vqX/wCMUf8AC4/Fv/RKNb/76l/+MV6lRQB5b/wuPxb/ANEo1v8A76l/+MUf8Lj8W/8ARKNb/wC+pf8A4xXqVFAHlv8AwuPxb/0SjW/++pf/AIxR/wALj8W/9Eo1v/vqX/4xXqVFAHlv/C4/Fv8A0SjW/wDvqX/4xR/wuPxb/wBEo1v/AL6l/wDjFepUUAeW/wDC4/Fv/RKNb/76l/8AjFH/AAuPxb/0SjW/++pf/jFepUUAeW/8Lj8W/wDRKNb/AO+pf/jFH/C4/Fv/AESjW/8AvqX/AOMV6lRQB5b/AMLj8W/9Eo1v/vqX/wCMUf8AC4/Fv/RKNb/76l/+MV6lRQB5b/wuPxb/ANEo1v8A76l/+MUf8Lj8W/8ARKNb/wC+pf8A4xXqVFAHlv8AwuPxb/0SjW/++pf/AIxR/wALj8W/9Eo1v/vqX/4xXqVFAHlv/C4/Fv8A0SjW/wDvqX/4xR/wuPxb/wBEo1v/AL6l/wDjFepUUAeW/wDC4/Fv/RKNb/76l/8AjFH/AAuPxb/0SjW/++pf/jFepUUAeW/8Lj8W/wDRKNb/AO+pf/jFH/C4/Fv/AESjW/8AvqX/AOMV6lRQB5b/AMLj8W/9Eo1v/vqX/wCMUf8AC4/Fv/RKNb/76l/+MV6lRQB5b/wuPxb/ANEo1v8A76l/+MUf8Lj8W/8ARKNb/wC+pf8A4xXqVFAHlv8AwuPxb/0SjW/++pf/AIxR/wALj8W/9Eo1v/vqX/4xXqVFAHlv/C4/Fv8A0SjW/wDvqX/4xR/wuPxb/wBEo1v/AL6l/wDjFepUUAeW/wDC4/Fv/RKNb/76l/8AjFH/AAuPxb/0SjW/++pf/jFepUUAeW/8Lj8W/wDRKNb/AO+pf/jFH/C4/Fv/AESjW/8AvqX/AOMV6lRQB5b/AMLj8W/9Eo1v/vqX/wCMUf8AC4/Fv/RKNb/76l/+MV6lRQB5b/wuPxb/ANEo1v8A76l/+MUf8Lj8W/8ARKNb/wC+pf8A4xXqVFAHlv8AwuPxb/0SjW/++pf/AIxR/wALj8W/9Eo1v/vqX/4xXqVFAHK/Dr4iv48fV4J9Fl0q60yRI5YZJd5y28YOVUggoQQRXdV498HP+R++Jn/YUH/o24r2GgAooooAKKKKACiiigAooooAKKKKACiiigAooooAKKKKACiiigAooooAKKKKACiiigDxj4Vf8lD+Jf8A2Ff/AGrcV6vXlHwq/wCSh/Ev/sK/+1bivV6ACiiigAooooAK80+Jf/I6/D7/ALCh/mlel15p8S/+R1+H3/YUP80oA9LooooAKKKKACiiigAooooAKKKKACiiigAooooAKKKKACiiigAooooAKKKKACiiigAooooAKKKKACiiigAooooAKKKKACiiigAooooAKKKKACiiigAooooAKKKKACiiigAooooAKKKKACiiigAooooAKKKKACiiigAooooAKKKKACiiigAooooAKKKKACiiigAooooAKKKKACiiigAooooAKKKKACiiigAooooAKKKKACiiigAooooAKKKKACiiigAooooAKKKKAPLvg5/yP3xM/wCwoP8A0bcV7DXj3wc/5H74mf8AYUH/AKNuK9hoAKKKKACiiigAooooAKKKKACiiigAooooAKKKKACiiigAooooAKKKKACiiigAooooA8Y+FX/JQ/iX/wBhX/2rcV6vXlHwq/5KH8S/+wr/AO1bivV6ACiiigAooooAK80+Jf8AyOvw+/7Ch/mlel15p8S/+R1+H3/YUP8ANKAPS6KKKACiiigAooooAKKKKACiiigAooooAKKKKACiiigAooooAKKKKACiiigAooooAKK5PXviLofh7WG0q7W+lu0jWVltrVpAqt0yRWd/wtzw9/z561/4LpKAO9orgv8Ahbnh7/nz1r/wXSUf8Lc8Pf8APnrX/gukoA72iuC/4W54e/589a/8F0lH/C3PD3/PnrX/AILpKAO9orgv+FueHv8Anz1r/wAF0lH/AAtzw9/z561/4LpKAO9orgv+FueHv+fPWv8AwXSUf8Lc8Pf8+etf+C6SgDvaK4L/AIW54e/589a/8F0lH/C3PD3/AD561/4LpKAO9orgv+FueHv+fPWv/BdJR/wtzw9/z561/wCC6SgDvaK4L/hbnh7/AJ89a/8ABdJSp8XPDTTwxSRapD5sixK81i6qGY4GTQB3lFFFABRRRQAUUUUAFFFFABRRRQAUUUUAFFFFABRRRQAUUUUAFFFFABRRRQAUUUUAFFFeU2nxE8YasbmbTPD+mPaxXEkCtLdMrHaxHIxQNJvRHq1FeZf8Jj4//wChc0j/AMDG/wAKP+Ex8f8A/QuaR/4GN/hTsV7OfY9NorzL/hMfH/8A0Lmkf+Bjf4Uf8Jj4/wD+hc0j/wADG/wosHs59j02ivMv+Ex8f/8AQuaR/wCBjf4Uf8Jj4/8A+hc0j/wMb/Ciwezn2PTaK8y/4THx/wD9C5pH/gY3+FH/AAmPj/8A6FzSP/Axv8KLB7OfY9NorzL/AITHx/8A9C5pH/gY3+FH/CY+P/8AoXNI/wDAxv8ACiwezn2PTaK8y/4THx//ANC5pH/gY3+FH/CY+P8A/oXNI/8AAxv8KLB7OfY9NorzL/hMfH//AELmkf8AgY3+FH/CY+P/APoXNI/8DG/wosHs59j02ivMv+Ex8f8A/QuaR/4GN/hR/wAJj4//AOhc0j/wMb/Ciwezn2PTaK8y/wCEx8f/APQuaR/4GN/hR/wmPj//AKFzSP8AwMb/AAosHs59j02ivMv+Ex8f/wDQuaR/4GN/hR/wmPj/AP6FzSP/AAMb/Ciwezn2PTaK8y/4THx//wBC5pH/AIGN/hR/wmPj/wD6FzSP/Axv8KLB7OfY9NorzL/hMfH/AP0Lmkf+Bjf4Uf8ACY+P/wDoXNI/8DG/wosHs59j02ivMv8AhMfH/wD0Lmkf+Bjf4Uf8Jj4//wChc0j/AMDG/wAKLB7OfY9NorzL/hMfH/8A0Lmkf+Bjf4Uf8Jj4/wD+hc0j/wADG/wosHs59j02ivMv+Ex8f/8AQuaR/wCBjf4Uf8Jj4/8A+hc0j/wMb/Ciwezn2PTaK898O+OPEF54xttB1vR7K1+0W8k6SW85c/LjrkV6FSJaa0YUUUUCPLvg5/yP3xM/7Cg/9G3Few1498HP+R++Jn/YUH/o24r2GgAooooAKKKKACiiigAooooAKKKKACiiigAooooAKKKKACiiigAooooAKKKKACiiigDxj4Vf8lD+Jf8A2Ff/AGrcV6vXlHwq/wCSh/Ev/sK/+1bivV6ACiiigAooooAK80+Jf/I6/D7/ALCh/mlel15l8T5Eh8Y+AJJXVI11NizMcADKck0Aem0VQ/tzSf8AoKWX/gQn+NH9uaT/ANBSy/8AAhP8aAL9FUP7c0n/AKCll/4EJ/jR/bmk/wDQUsv/AAIT/GgC/RVD+3NJ/wCgpZf+BCf40f25pP8A0FLL/wACE/xoAv0VQ/tzSf8AoKWX/gQn+NH9uaT/ANBSy/8AAhP8aAL9FUP7c0n/AKCll/4EJ/jR/bmk/wDQUsv/AAIT/GgC/RVD+3NJ/wCgpZf+BCf40f25pP8A0FLL/wACE/xoAv0VQ/tzSf8AoKWX/gQn+NH9uaT/ANBSy/8AAhP8aAL9FUP7c0n/AKCll/4EJ/jR/bmk/wDQUsv/AAIT/GgC/RVD+3NJ/wCgpZf+BCf40f25pP8A0FLL/wACE/xoAv0VQ/tzSf8AoKWX/gQn+NH9uaT/ANBSy/8AAhP8aAL9FUP7c0n/AKCll/4EJ/jR/bmk/wDQUsv/AAIT/GgC/RVD+3NJ/wCgpZf+BCf40f25pP8A0FLL/wACE/xoA4u0/wCS0a//ANgy3/ma7KuI0y5guvjJr0tvNHNH/ZluN8bBh1PcV29dFP4TCfxBRRXO+N/E48I+FbvVhGJZkwkMbdGdjgZ9hyT9KpuxK1OiorzBrH4pWthb6xFrNrqF05RpdINskaBT/CH45GeeR0PJ79XrXjfSfDz2lvqXnrf3EXmizt4zNIo7k7eMA5Ge+DS5u4WOkorzjxl4+8z4bS+IfCuobXFwkPmGIFkOfmUq4ODyO3euk13xvonhpraDUbiRrydN6W8ERkkYeuB0HXr6H0o5kFmdHRXNr488PSeFp/EcV6ZNOgYJMyxnfGxYLgr1Byw/nXP658RdK1Dw7eS6RrE1ksNxDDJffZGfaGJP7sEYYkIwz0/SjmQWZ6JRXLaz450PwxdR6ZeXF1c3iQiR0hhMrqn959owM9akn8e+HYPD9prf21pLS8fy7cRRM0kj5IKhMZyCDTugszpaKwvD/i7SPEslzDYSSrc2xHnW9xE0UiZ6Eqe1btG4BXE/FL/kWLP/ALCdr/6GK7auI+KbBfC1ozEBRqdqST0Hz0pbMcd0ekUVntr2jIMtq1gv1uUH9aZ/wkWh/wDQZ07/AMCk/wAa5joNOisn/hKfDwP/ACHtL/8AAyP/ABpreLPDafe8QaUv1vYx/WgDYorF/wCEw8Mf9DHpH/gdF/8AFVH/AMJv4T/6GjRf/BhF/wDFUAb1Fc+3jrwinXxRo34X0Z/k1N/4T3wh/wBDPpH/AIGR/wCNAHRUVzX/AAsPwd/0M2l/+BK/401viN4NTGfEum/hOD/KgDp6K5b/AIWT4M/6GXTv+/oqP/hZ3gn/AKGOy/76P+FAHW0VyDfFHwQmM+I7Pn03H+QpP+FqeB/+hitf++X/AMKAOwori/8AhbXgX/oYYP8Av1J/8TTW+LvgNMZ8Qxc+kEp/ktAHbUVw/wDwuDwF/wBDAn/gNN/8RVCb45eB4pWRL26mUdHS1cA/ng/pQB6PRXmn/C9fBZ+7Jft9LU/40f8AC9PBvrqP/gKf8aAPS6K80/4Xn4R/556p/wCAn/16P+F5eEz92DVm+lp/9egD0uivNP8AhePhX/n11f8A8BP/ALKuV8ZfHSSJtPfwvHPEyO5uYtQtQFlXA2jg59ehFAHuteO+Af8AkC3v/YSuf/QzVfQP2htPuNkOvaTNbSHAM1o3mIT6lTgqPoWNTfD1xJoF1IudrahcEblIPL9weRTRvh/jOsoooqztCiiigAorlPEXiPWtLvJUstKtjaQxeY11eXIiWQ9dqe/1/wD16nhjXV8SeHrXVVhMPnBg0ZbO0hip579KRKkm7GvRXFal4i8V22pXMNpounS26SFY5JL5FZl7EgtxXQeH73UdQ0zz9TtYLa43keXDMJFx2OQTQCkm7GozKilmIAHUk0AhgCCCD0Irzd7GPxv8QdWstVklfTNKVEitVkKKznqxx+P6V0Gg+Fm8J3Goy2N5PPp0ib4dOIyUYDPysT35HQdsniglSbe2h1NFcB/wnerWeq6dBq2kWttFfTiERpdhp4STgFl9Kh0vUYNJ8c+N9QuSRDbxwyNjqcL0HuelFw9oj0WivPx4+1e1s7TWNT0BbfRLp1CzJPukjVvusy45BH0/lm1qPjHWB4rvNB0fRor2aCJJQ7T7BtIBJOf94AfWi4e0idp5ieZs3rvxnbnmnVw+j6in/CTeLZodKM+oWnljcku55vlOEGeFHyim2PjfU08Q6dper6baQfb8hBb3QkkhOOjr29O36UXDnXU7qivPh8QdRvNRvItN02xlS2uDB9mmvBHcS4OCVU8Yrv42Z4kdkaNmUEo2MqfQ44oKjJS2HUVUt9U0+7mMNtfWs0oBJSOZWYY68A1zPjzwrpOq6TqGr3cDve2lhJ5LiRgBtVmHAODyaAb0ujsaK8w8JeFdJg8CjXo4HGoSWE+6TzGwchh0zjpVDwr4D0jV/AEOqkTQ6mySstxHKRtZXYLx07Ci5HO9ND16ivEtc1eXXPhhoFxqO+eRdR8mVhy0gUMPzIx+NbXhyx8HP4hsvsPh7XLa6WTfFLcIwjVgM5J3H0ouJVbuyPU6K8NeHQZfGfib+29K1K/IvD5X2JCdnLZ3YI68Y+hr03wRbaTb6JIdHsLyyt5JmZorsEPuwBnBJ4wBRcqM+Z2OlooopmgUUUUAYdp/yWPRf+wbcfzFeqV5Xaf8lj0X/sG3H8xXqlQ9zz63xsKKKKRmeXfBz/kfviZ/2FB/6NuK9hrx74Of8j98TP8AsKD/ANG3Few0AFFFFABRRRQAUUUUAFFFFABRRRQAUUUUAFFFFABRRRQAUUUUAFFFFABRRRQAUUUUAeMfCr/kofxL/wCwr/7VuK9Xryj4Vf8AJQ/iX/2Ff/atxXq9ABRRRQAUUUUAFedfEvTrPVPEHgu0vrdJ7eXUXR43HDKU5H6CvRa4Px5/yNngb/sKN/6LNAF//hWHgn/oXLL/AL5P+NH/AArDwT/0Lll/3yf8a62igDkv+FYeCf8AoXLL/vk/40f8Kw8E/wDQuWX/AHyf8a62igDkv+FYeCf+hcsv++T/AI0f8Kw8E/8AQuWX/fJ/xrraKAOS/wCFYeCf+hcsv++T/jR/wrDwT/0Lll/3yf8AGutooA5L/hWHgn/oXLL/AL5P+NH/AArDwT/0Lll/3yf8a62igDkv+FYeCf8AoXLL/vk/40f8Kw8E/wDQuWX/AHyf8a62igDkv+FYeCf+hcsv++T/AI0f8Kw8E/8AQuWX/fJ/xrraKAOS/wCFYeCf+hcsv++T/jR/wrDwT/0Lll/3yf8AGutooA5L/hWHgn/oXLL/AL5P+NH/AArDwT/0Lll/3yf8a62igDkv+FYeCf8AoXLL/vk/40f8Kw8E/wDQuWX/AHyf8a62igDkv+FYeCf+hcsv++T/AI0f8Kw8E/8AQuWX/fJ/xrraKAOS/wCFYeCf+hcsv++T/jR/wrDwT/0Lll/3yf8AGutooA8u8PaNp2hfFrXbLS7SO1thp0DCOMcZJOTXoFcbaf8AJaNf/wCwZb/zNdlXRT+Ewn8QVyPxL8N3PinwTdWNkA12jLPChON5X+HPuCce+K66iqavoSnY8sm+JWuXml2+m6P4X1NfEbFEkW6tiIYyCNxJyOD74xnPbl3i7U9at/GFjaXzahZ6a1iN13o9n5ks0+eUVyGKj0H0z1yPUaKXK+47rsfPQ0vUV+Duv2Laffi6/tzzBDLExlK4QZPHPQ5I9K7LUpLjwl8UpfEl9pl7eaZeaekEc1rCZTbuNuQR2ztP/fX1r1Oilyj5jwm80fVLrwL481kaXdW0Ws3dvJaWTRnzSqzglyg6Z3Z/A9sGuk+I2nTv8JNKtLS0ld42tR5UcZLKAnoPSvUqKOUXMeUeKdS1Y+O7+wuv7YtNONsosjpFoDJdsQMq0u0kc5GOAMdup53T9Kx8K9Hi1LR9Y32moylrixBSeyJbO/aRlhg9vQciveaKOUfMeY/DO516XXtThmu7/UNCWFTDe6hamGVpcj5QT8zADdkk9h0zXp1FFUlZEt3CuG+K8ST+EraGVQ0b6jbKynoQXwRXc1xPxS/5Fiz/AOwna/8AoYpS2Y47o3F+GfgpOnhuw/FM/wA6d/wrbwZ/0LWnf9+hXU0VzHQc1/wrzwd/0LOl/wDgMv8AhSr8P/B6Zx4Z0r8bVD/MV0lFAHO/8IF4Q/6FjSP/AADj/wAKk/4Qjwl/0K+i/wDgvi/+JreooAw18F+FUzs8M6MufSwiH/stO/4Q/wAMf9C5pH/gDF/8TW1RQBk/8It4e/6AOl/+Acf+FOXwzoCZ2aHpq564tIx/StSigDM/4R3Q/wDoDad/4Cp/hUn9h6T/ANAuy/8AAdP8Kv0UAUl0fTEzs06zXPpAo/pTv7L0/wD58LX/AL8r/hVuigCD7Daf8+sH/fsU5bW3TO2CJc+iAVLRQBH5EX/PJP8AvkVw/gP/AJGzxz/2FF/9Fiu8rg/Af/I2eOf+wov/AKLFAHeUUUE4GT0oAKK47V/iVodhdnT9N8/W9U6Cz0xPNIP+0w+VR685HpWf/Zvj3xZzqd/H4Y05v+XWwYS3TD0aXop91/KgDovEPjTw/wCF1A1TUY0nb7ltH88znthBzz69K8e+KFlr/jvSl1+HwvPp1jpcbMJLtwtxcRsRn90BkBevJ6Zr17w94G8PeGWMun2Cm7bl7yc+ZM5PUlzyM+2BXRUAeMfCb4SjShD4h8QwA35w9raOP9R6Ow/v+g/h+vSXwD/yBb3/ALCVz/6Ga9irxXwNfWdvpF7HNdwRv/aNydryAH757GmjfD/GdlRVT+1dO/5/7X/v8v8AjR/aunf8/wDa/wDf5f8AGqOy6LdFVP7V07/n/tf+/wAv+NH9q6d/z/2v/f5f8aAujidX8I6vc+Lr/UEtdN1C3u4ljhe+Yn7JgYJC4IPc8fpzW/4I0W88P+FrfTL7yvOidyTE25SCxI7D1rX/ALV07/n/ALX/AL/L/jR/aunf8/8Aa/8Af5f8aCFGKdzGvPAPhjUL2a8utLWS4mYvI/myDcT1OA2K1tJ0ew0Oy+x6bbiC33F9gYtyepySTT/7V07/AJ/7X/v8v+NH9q6d/wA/9r/3+X/GgpKKd0crqvhzW9O8UTeIfDT2ryXcYS6tLrIViMYYEfQenfrmjTfDniSeHWrzVtVEV/qEBhhht3bybfjAOPXgcjkc8nNdV/aunf8AP/a/9/l/xo/tXTv+f+1/7/L/AI0E8sbnmlv4C1wW+kJ/Z2kWz6fdJLLNG5Mtzg5JLY/T37V0DeDLm81fxU91JGlrq8SJCyHLKVHUj64711f9q6d/z/2v/f5f8aP7V07/AJ/7X/v8v+NFhKnFHAyeFfFmq6PZeG9Tk06LSrYoHuYWYySonCgA9DjHp0/PodO8PXVn4/1PWm8oWVxaxwxAMdwKhRyMdPlPet3+1dO/5/7X/v8AL/jR/aunf8/9r/3+X/Giw1CKOOn8HatJL4vaG5igbV/L+zOrnI25yG44yDjjPWs7TvBOsR6n4fu203SbGPTZB5q27nzJuAC7HHJ44GfXmvQv7V07/n/tf+/y/wCNH9q6d/z/ANr/AN/l/wAaLC5InnmveCtc1ae8im07Rrp55Mw6lkwyRr/tKo+Yj3zXoel2j2GlWdnJM07wQpG0rdXIAGfxo/tXTv8An/tf+/y/40f2rp3/AD/2v/f5f8aCoxinco6b4U0PSL9r6w09ILlgVMgZiSD16mrWuWcuo+H9SsYNoluLWWJNxwNzKQM/nUn9q6d/z/2v/f5f8aP7V07/AJ/7X/v8v+NA7K1kY+i6Hd6f4CTRZjH9qW1kiJVsrubdjnHuK5fS/D/j3TfDi6BbvosVrtdPPLSGRQ5JJ9M/MccV6B/aunf8/wDa/wDf5f8AGj+1dO/5/wC1/wC/y/40EuK7nE6x4Du08IaPpGjSQPNY3QuHe4JUO2GJPGe56elalnL4/N9AL230AWpkXzjEZd4TPzbcnGcZxXRf2rp3/P8A2v8A3+X/ABo/tXTv+f8Atf8Av8v+NAcqWzOHt9C8Y6L4h1u+0hNIkh1G483/AEp3JABbH3cY+8fWut0F9ee3lOvx2CTb/wB2LLdt2477iec1b/tXTv8An/tf+/y/40f2rp3/AD/2v/f5f8aBqKWzLdFVP7V07/n/ALX/AL/L/jR/aunf8/8Aa/8Af5f8aCrot0VU/tXTv+f+1/7/AC/40f2rp3/P/a/9/l/xoC6M60/5LHov/YNuP5ivVK8m025gufjFoxgnjlA064BMbhscj0r1mpe5wVfjYUUUUjM8u+Dn/I/fEz/sKD/0bcV7DXj3wc/5H74mf9hQf+jbivYaACiiigAooooAKKKKACiiigAooooAKKKKACiiigAooooAKKKKACiiigAooooAKKKKAPGPhV/yUP4l/wDYV/8AatxXq9eUfCr/AJKH8S/+wr/7VuK9XoAKKKKACiiigArg/Hn/ACNngb/sKN/6LNd5XB+PP+Rs8Df9hRv/AEWaAO8ooooAKKKKACiiigAooooAKKKKACiiigAooooAKKKKACiiigAooooAKKKKACiiigDitc8AS6p4mm1yx8RX+l3E8CQyLbqpDBc461V/4V7rn/Q/61/3xH/hXf0U7sVkcB/wr3XP+h/1r/viP/Cj/hXuuf8AQ/61/wB8R/4V39FF2FkcB/wr3XP+h/1r/viP/Cj/AIV7rn/Q/wCtf98R/wCFd/RRdhZHAf8ACvdc/wCh/wBa/wC+I/8ACj/hXuuf9D/rX/fEf+Fd/RRdhZHAf8K91z/of9a/74j/AMKP+Fe65/0P+tf98R/4V39FF2FkcB/wr3XP+h/1r/viP/Cj/hXuuf8AQ/61/wB8R/4V39FF2FkcB/wr3XP+h/1r/viP/Cj/AIV7rn/Q/wCtf98R/wCFd/RRdhZHAf8ACvdc/wCh/wBa/wC+I/8ACop/hfeXzW66l4y1a8t4p0m8mREwxU5HavRKKLsLIKKKKQwooooAKKKKACiiigAooooAKKKKACiiigAoorJ13xPonhq28/WNSgtFIyqu2Xf/AHVHJ/AUAa1eeeD7210/xF48ub25htrdNTUtLM4RV/djqTxTv+Es8WeKPk8KaD9hs26aprAKAj1SIfMfYnj1rm/BHgXT9X8VeJ5vEzHWbyyv1XdKNkTuUBLmMfL7YORgUAdPN8SW1aZ7TwXot1rkwO1rojybSM+8jdfoOvY0weBdc8SnzPGviCSWBuTpWlkw2/0ZvvOPr+dd9DDFbQpDBEkUSDCoihVUegA6U+gDP0jQ9L0G0FrpVhb2cPdYUA3e5PUn3NaFFFABRRRQAVy0/wAN/BtzcSTzeHrJpZGLu208knJPWupooA5L/hWHgn/oXLL/AL5P+NH/AArDwT/0Lll/3yf8a62igDkv+FYeCf8AoXLL/vk/40f8Kw8E/wDQuWX/AHyf8a62igDkv+FYeCf+hcsv++T/AI0f8Kw8E/8AQuWX/fJ/xrraKAOS/wCFYeCf+hcsv++T/jR/wrDwT/0Lll/3yf8AGutooA5L/hWHgn/oXLL/AL5P+NH/AArDwT/0Lll/3yf8a62igDkv+FYeCf8AoXLL/vk/40f8Kw8E/wDQuWX/AHyf8a62igDkv+FYeCf+hcsv++T/AI0f8Kw8E/8AQuWX/fJ/xrraKAPIviT4E8L6T4btriw0S1t5W1C3iLoDkqz4I69xXYf8Kw8E/wDQuWX/AHyf8aofFr/kU7T/ALClr/6MrvKAOS/4Vh4J/wChcsv++T/jR/wrDwT/ANC5Zf8AfJ/xrraKAOS/4Vh4J/6Fyy/75P8AjR/wrDwT/wBC5Zf98n/GutooA5L/AIVh4J/6Fyy/75P+NH/CsPBP/QuWX/fJ/wAa62igDkv+FYeCf+hcsv8Avk/40f8ACsPBP/QuWX/fJ/xrraKAOS/4Vh4J/wChcsv++T/jR/wrDwT/ANC5Zf8AfJ/xrraKAOS/4Vh4J/6Fyy/75P8AjR/wrDwT/wBC5Zf98n/GutooA5L/AIVh4J/6Fyy/75P+NH/CsPBP/QuWX/fJ/wAa62igDB0jwV4b0G9+26Xo9ra3O0p5ka84PUVvUUUAFFFFAHl3wc/5H74mf9hQf+jbivYa8e+Dn/I/fEz/ALCg/wDRtxXsNABRRRQAUUUUAFFFFABRRRQAUUUUAFFFFABRRRQAUUUUAFFFFABRRRQAUUUUAFFFFAHjHwq/5KH8S/8AsK/+1bivV68o+FX/ACUP4l/9hX/2rcV6vQAUUUUAFFFFABXB+PP+Rs8Df9hRv/RZrvK4Px5/yNngb/sKN/6LNAHeVj+K9afw54V1LWI4Vme0hMixscBj7mtiuS+J/wDyTTX/APr1P8xQBj2/iT4i3NtFcR+G9G8uVA65vWHBGR2qT+3viR/0LWi/+Bzf4V0Wi/8AIC0//r2j/wDQRV6t/Zox9ozj/wC3viR/0LWi/wDgc3+FH9vfEj/oWtF/8Dm/wrsKKPZoPaM4/wDt74kf9C1ov/gc3+FH9vfEj/oWtF/8Dm/wrsKKPZoPaM4/+3viR/0LWi/+Bzf4Uf298SP+ha0X/wADm/wrsKKPZoPaM4/+3viR/wBC1ov/AIHN/hR/b3xI/wCha0X/AMDm/wAK7Cij2aD2jOP/ALe+JH/QtaL/AOBzf4Uf298SP+ha0X/wOb/Cuwoo9mg9ozj/AO3viR/0LWi/+Bzf4Uf298SP+ha0X/wOb/Cuwoo9mg9ozj/7e+JH/QtaL/4HN/hR/b3xI/6FrRf/AAOb/Cuwoo9mg9ozj/7e+JH/AELWi/8Agc3+FH9vfEj/AKFrRf8AwOb/AArsKKPZoPaMy/A3iW58VeHTqF3ax21wlxLA8cbllyjYyCa6WuC+Ef8AyKN1/wBhO6/9DrvawNgooooAKKKKACiiigAooooAKKKKACiiigAooooAKKKKACiiigAooooAKKKKACiiigAooooAKKKKACimSyxwRNLNIkcaDLO5wFHqSa4m9+JthNdPYeF7C68R368EWYxAh/25j8oHuMigDua5bXviF4f0G4+xvcve6kTtSwsE86Zj6YHQ/Uisf/hFvF/in5vFOu/2bZN10zRztJHo8p5PuBx9K6nQfCuh+GLfydH02C1BGGdVy7/7zn5j+JoA5bd8QfFn3RB4T01u7YnvHH0+6mfzHvWtoXw88P6Hc/bTbyahqZOWv9QfzpifUE8A/QCurooAK4PwH/yNnjn/ALCi/wDosV3lcH4D/wCRs8c/9hRf/RYoA7yiiigAooooAKKKKACiiigAooooAKKKKACiiigAooooAKKKKACiiigAooooA4P4tf8AIp2n/YUtf/Rld5Xl/wAXvEmjw6VBpMmoQrfxX9tM8BzuCBgS30xXoOka1p2vWX23S7uO6ttxTzI84yOooAv0UUUAFFFFABRRRQAUUUUAFFFFABRRRQAUUUUAFFFFABRRRQB5d8HP+R++Jn/YUH/o24r2GvHvg5/yP3xM/wCwoP8A0bcV7DQAUUUUAFFFFABRRRQAUUUUAFFFFABRRRQAUUUUAFFFFABRRRQAUUUUAFFFFABRRRQB4x8Kv+Sh/Ev/ALCv/tW4r1evKPhV/wAlD+Jf/YV/9q3Fer0AFFFFABRRRQAV578TLg6dqvhLVHt7ma2s9RaSY28RkKjYewr0KigDg/8AhbWgf8+Wt/8AgukrnvHfxJ0XVvA2r2Fvaasks9uUVpbF0UHI6k9K9drkvif/AMk01/8A69T/ADFAF7Rf+QFp/wD17R/+gir1UdF/5AWn/wDXtH/6CKvV1HMFFFVdSe7TTLprCNZbwRN5CMQAXx8uSe2cUxHifjbU9Z1bxZrGvaPcSLZ+FWhTYrHbK+/5+O+DnPsor03WvHWn6R4QtPECRSXS3wjW0t4z80ruMhc9uhz9K5Lw/wDBqxOhIdfub7+05yz3SwXWEJJPtzxjNVovh74mbwGmiyNALzSNS+16ZI0gKTIMnacfd5JPPqBWa5kaOzOntvGHiRzfWd74OubS/jtDcW+y4WSGT/ZMoG1G68H0+meFsPEupX/wZ1O98QWd5c26zoUu0vxHJcFpsED5SYwpwOmCDgYrv9FPjfVNXlm1y3tdK0wWxjFnE6zNLIc/PuHQc9M9hx1NcbaeCvFv/CrNT8Iz6bbpKkyPazC5Uib97ub/AHQAOM9aHcFY7fTPFy/8JXB4ZuLE26vp6XVpctPv85cDKkbRgj5u5+7niuR8T+NrbxB4AvdTn0q5XTotUW2t2t77ynuAM/PnYdo9ue/PFbHjzwbq2s6Lo9xohSPWtPQw7i4XMbx7XGf5fU1H4n8BXkvwt0/wxo8cclxbPEzbnCBiMl2yfViT+NDuJWNXWfG95b+Kz4c0LQn1a+hhE91m5WFYlOMDJBySCPzHvjl/AHiG8g0nxjqq6df3041R2isUy0o3H7nfGM849O9bOp6F4k0b4h3XiXw/Y22pQ6lbrDcQTTiIxsoUBsnqMKOme/HQ1gx+BPGEfhDxLaLNDFqV/qP2oGCbas6Z+ZQeq5PY/Q0O9xq1jqNF8eX1x4sj8O65oS6ZdzQGeIx3izjAySGwBtOAfyrmvEPxB1HX/Bmu3WneHrgaIFe3TUhcqH3cDd5eM7ckcg8Z+uJdB8Eapb+ONK1g+HLHR9OjtpYJreC6ErglGG9m/iJLY4zgCq0PhHxtpvhDVPBlpZWM1hIZDBqD3AUlCc7NnXcemTgDJ60Xdg0ueheCHaTwJoLuxZmsISWY5JOwVv1keFrC40rwppOn3Shbi2tI4pApyAyqAea16tbEPcKKKKYjgvhFr+lHS73RjfwLqSajcv8AZmba5UvkFQfvfhXp1eTeBfCGheKfBdymq2CSyJqd15dwvySx/vDja45HPOOla/8AZ/jnwdzpl2PFGkp/y63rhLuNf9mTo/489gK5DqPQqK5bw/8AEDQ9fuTY+ZLp+qqcPp9+nkzKfQA/e/DNdTQAUUUUAFFch478Wah4ZGlQ6ZYQXd1qFwYFWeQoowueorB/4THx/wD9C5pH/gY3+FBSjJ7I9NorzL/hMfH/AP0Lmkf+Bjf4Uf8ACY+P/wDoXNI/8DG/wp2H7OfY9NorzL/hMfH/AP0Lmkf+Bjf4Uf8ACY+P/wDoXNI/8DG/wosHs59j02ivMv8AhMfH/wD0Lmkf+Bjf4Uf8Jj4//wChc0j/AMDG/wAKLB7OfY9NorzL/hMfH/8A0Lmkf+Bjf4Uf8Jj4/wD+hc0j/wADG/wosHs59j02ivMv+Ex8f/8AQuaR/wCBjf4Uf8Jj4/8A+hc0j/wMb/Ciwezn2PTaK8y/4THx/wD9C5pH/gY3+FH/AAmPj/8A6FzSP/Axv8KLB7OfY9NorzL/AITHx/8A9C5pH/gY3+FRz+NvHtvBJNJ4c0jZGpdsXjdAM+lFg9nPseo0Vj+FNafxH4V03WJIVhe7hEjRqchT7GtikQFFFFABRXPeIfG/h/wxhNS1BBct9y1hHmTOT0AQc8+pwK5/+1fHnivjSNNj8Nac3/L5qS+ZcsPVYein2b86AOz1XWtM0OzN3ql9BZwD+OZwufYep9hXGnx5rPiMmLwT4fkuYTwNU1IGC2Huo+84+mD7Vd0r4aaJaXg1HVWuNd1TqbrUn83B/wBlD8qj04OPWuyAAAAGAOgFAHBRfDiXWJVuvGut3OtSA7hZoTDaRn2RfvY9T17iu2srG0021S1sbWG2t0+7FCgRR+AqxRQAUUUUAFFFFABXB+A/+Rs8c/8AYUX/ANFiu8rg/Af/ACNnjn/sKL/6LFAHeUUUUAFFFFABRRRQAUUV47pnibx7ry3d3Z6rpdvAl3LCkb2hYgKxHXNA4xcnZHsVFeV/a/iP/wBB7SP/AACP+NH2v4j/APQe0j/wCP8AjTsy/Yz7HqlFeV/a/iP/ANB7SP8AwCP+NH2v4j/9B7SP/AI/40WYexn2PVKK8r+1/Ef/AKD2kf8AgEf8aPtfxH/6D2kf+AR/xosw9jPseqUV5X9r+I//AEHtI/8AAI/40fa/iP8A9B7SP/AI/wCNFmHsZ9j1SivK/tfxH/6D2kf+AR/xo+1/Ef8A6D2kf+AR/wAaLMPYz7HqlFeV/a/iP/0HtI/8Aj/jR9r+I/8A0HtI/wDAI/40WYexn2PVKK8r+1/Ef/oPaR/4BH/Gj7X8R/8AoPaR/wCAR/xosw9jPsc1+0PoB8zSdfiTO7NnMQO/LJ/7P+les+B9BHhrwXpWlFdssMAMw/6aN8z/APjxNeeatZeOdctEtdQ1fR5oUmjnVTZH7yMGHf1H5E1f+1/Ef/oPaR/4BH/GizD2M+x6pRXlf2v4j/8AQe0j/wAAj/jR9r+I/wD0HtI/8Aj/AI0WYexn2PVKK8r+1/Ef/oPaR/4BH/Gj7X8R/wDoPaR/4BH/ABosw9jPseqUV5X9r+I//Qe0j/wCP+NH2v4j/wDQe0j/AMAj/jRZh7GfY9Uoryv7X8R/+g9pH/gEf8aPtfxH/wCg9pH/AIBH/GizD2M+x6pRXlf2v4j/APQe0j/wCP8AjR9r+I//AEHtI/8AAI/40WYexn2PVKK8r+1/Ef8A6D2kf+AR/wAaPtfxH/6D2kf+AR/xosw9jPseqUV5X9r+I/8A0HtI/wDAI/40fa/iP/0HtI/8Aj/jRZh7GfY9UorzLw54j8WJ49s9D1y+sbu3ubSWYGC38sqVxjnNem0iGmnZhRRRQI8u+Dn/ACP3xM/7Cg/9G3Few1498HP+R++Jn/YUH/o24r2GgAooooAKKKKACiiigAooooAKKKKACiiigAooooAKKKKACiiigAooooAKKKKACiiigDxj4Vf8lD+Jf/YV/wDatxXq9eUfCr/kofxL/wCwr/7VuK9XoAKKKKACiiigAooooAK5L4n/APJNNf8A+vU/zFdbVLV9Ktdc0i60y+RntbmMxyBW2nB9DQBm6L/yAtP/AOvaP/0EVerkl+EPh1VCrdayABgAag/FL/wqPw9/z+a1/wCDGStfa+Rl7M6yiuT/AOFR+Hv+fzWv/BjJR/wqPw9/z+a1/wCDGSn7XyD2fmdZRXJ/8Kj8Pf8AP5rX/gxko/4VH4e/5/Na/wDBjJR7XyD2fmdZRXJ/8Kj8Pf8AP5rX/gxko/4VH4e/5/Na/wDBjJR7XyD2fmdZRXJ/8Kj8Pf8AP5rX/gxko/4VH4e/5/Na/wDBjJR7XyD2fmdZRXJ/8Kj8Pf8AP5rX/gxko/4VH4e/5/Na/wDBjJR7XyD2fmdZRXJ/8Kj8Pf8AP5rX/gxko/4VH4e/5/Na/wDBjJR7XyD2fmdZRXJ/8Kj8Pf8AP5rX/gxko/4VH4e/5/Na/wDBjJR7XyD2fmdZRXJ/8Kj8Pf8AP5rX/gxko/4VH4e/5/Na/wDBjJR7XyD2fmHwj/5FG6/7Cd1/6HXe1k+HfDun+F9JXTdNWRbcO0n7xy7FmOSSTWtWJqY3iDwponii2EOr6fFcbR8kuNskf+645H51y39j+NvB3zaHfjxHpa/8uGovtuUX0Sbof+BfgK9CooA5LQfiHous3f8AZ1wZtK1ccNp+oJ5Umf8AZzw3tjn2rfj1nTpNZm0dLyI6jDEsz2+fnCHocd/w6ZHqKr694Z0bxNafZtY0+G6QfdZxh0/3WHK/ga+Xb3RPE9p4rm1LSheK0E5+yTy3aNKsanCAktz8oAx0xxQB7l8T/wDkNeDf+wk3/oBq9Xn974r1LxHceEIda0/7LqVtqB8xkZWSYFD8wwTtPqPy9B6BVROzD/CwoooqjoCiiuB+ImhmLSdR8QQavqsFxEibYIrnbD1VfugZ7+vWkTJ2VzvqK81XRX0r4eXWtx6xq011c6UrlZ7ncqMwViV4BBzwOelU4vD1/D4Ei8S2PiTWEv0tBdsktzviOBuYbcdMA9c0XI532PVqK8i8VeIW1PS/Bt9dX91p9teeZ9se0kZSACgYgDPfOOD1rY8JHwxN4hhOleK9a1C6jV2FvcyOY2GCDkGMDjOevWi4Kom7HotFeG6Xf6LPNqJ8Q+LNbsrhbuRYo7eaQqY+x4Ru+e/avWPCiWK+HrdtN1C7v7RyzR3F0xLt8xBzkA8EEdKLjhU5jaooopmgVU1X/kD3v/XvJ/6Cat1U1X/kD3v/AF7yf+gmkJ7Gt8MP+SaaB/16j+ZrrCQASTgDqTXj/gbxtqD+CNI0fwx4eutUvYLcRzXEv7m1hbJ6ufvEeg/A10I8Bax4jIl8beIJLmE8/wBl6aTBbD2Y/ecfXB96g8wu6r8S9FtLw6dpKXGu6p0Frpqebg/7Tj5VHrycelUf7J8d+K+dX1KPw1pzf8uemt5lyw9Gm6Kf938q7PStG0zQ7MWml2MFnAP4IUC59z6n3NXqAOf8PeCfD/hjL6bp6C5b791L+8mcnqS5559BgV0FFFABRRRQAUUUUAFFFFABRRRQAVwfgP8A5Gzxz/2FF/8ARYrvK4PwH/yNnjn/ALCi/wDosUAd5RRRQAUUUUAFFFFABXjvgH/kC3v/AGErn/0M17FXjvgH/kC3v/YSuf8A0M00b4f4zqqKKKs7QooooAKKKKAEd1jRndgqqMlicACqtpqmn37stnfWtyy/eEMyuR9cGuM+ITPf614b8PvI6WV/cE3IU48wKVwufxP6elaZ8AaLBq+n6jpqvps1o2cWxx5o9GznjqD6g0jPmd7JHV1FLdW8EsUU08UckxIjR3ALkdcA9eorhfFXivXdHvb0xT6Ha29uoaGG6lLz3PGThVOR7Zx1HNUtW1M61rXw81JoxG1w8rsgOQDiPNFwdRbHplFcF/wk3ijW7zVX8O2mnmz06Yw7bnd5lw69QuCAPbOOo/DRl8TalF4s8P6RNZQ266hbvJco53vE6qxwrA4xkehouPnR1UkiQxNLK6pGgLMzHAUDqSaSGaK4iWWGRJI2GVdGBBHsRXC6p4gu9RTxxpM0cK2+n2LeUyKQzbo2J3EnH5AVDp+q6ppnw/8ADx059NgSSHE11qEwRIh2wMgsT7f/AKi4vaK56HRXnGn+P9Rn8NeIbp1sJ7vSSgSaEMYZgxIBwTnse4rpPCd/4g1W1GoatFYw2tzDHLax2+4uARn5snHTB/Gi41NPY3bq8tbKMSXdzDBGTtDSuFBPpk/Sq0et6TNKsUWqWTyOQqotwhLE9gM1wfxRnNzq/h3SltJb0GZriW1iGWkVccD6jfVjQrKxn1IG28Cy6ZcxI0kNzdIQiuPu5x70XJ53zWR3L6lYR3q2T3tst03SAyqHP/Ac5q1XimhalNYQax421O0066D3TJCdreZ53G3yyfuphjnv8tdTpXjfUf7f02y1G60S7h1BW/5B025rZgM4fk8dvz9OS4Rqp7noVBOOtef23ifxX4gt7nVfD9hYHToZTHDDcFvNuQDyQcgDr3/Wqnii78Q6n420HSbX7Lbny1vvs8rsQGXnEu04YBkIGKLjdRWuj0uiuAXxT4l12TU7rw9b6cmm6e7R77vcWuGUZO3BwBj19Rz6dP4X1weI/Dtpqgi8ppgQ6ZztYEg49sii41NN2RsUUUUywooooAKKKKAMO0/5LHov/YNuP5ivVK8rtP8Aksei/wDYNuP5ivVKh7nn1vjYUUUUjM8u+Dn/ACP3xM/7Cg/9G3Few1498HP+R++Jn/YUH/o24r2GgAooooAKKKKACiiigAooooAKKKKACiiigAooooAKKKKACiiigAooooAKKKKACiiigDxj4Vf8lD+Jf/YV/wDatxXq9eUfCr/kofxL/wCwr/7VuK9XoAKKKKACiiigAooooAKKKKACiiigAooooAKKKKACiiigAooooAKKKKACiiigAooooAKKKKACiiuS1n4keG9IufsaXT6lqJOFstOQzyk+ny8A+xIoA62qmoanYaTatdajeQWkC9ZJ5Ag/M1xX2v4h+J+LS0tPC1g3/La6xcXRHqE+6v0bmren/DDQ4rpb/WXutf1Af8vGpyGUD2VPuge2DigCtJ8Sm1aRrfwboN9rkgO37UV8i1U+8j9fpjn1rxW5+FvijV/iHd6Y9pbW7yMLueeHcbeBJCWwCeTg5UDqSp7c19TRxpFGscaKiKMKqjAA9hTqAPF9e8GaT4Kk8GWWmxZkfUSZ7hx88zCM8k+nXA6D8zXYVR+J/wDyGvBv/YSb/wBANXqqJ2Yf4WFFFFUdAVgeNtPutV8H6jY2URluZUUIgIGcOD1PHQVv0UhNXVjlr3Sb6X4Zf2SkBN9/ZscPlbh98IARnOOo9a5qKHxtceEo/DMfh2K0Q24tnvJbxGATGCdo55H1r06iixDhfqeb+IPC2p2EPhKPR9P/ALSXSC7SqZFjDn5D/Ee5Detbmkar4im1SGK88HpYW7Eh7lbuN9gwewGTzgfjXWUUWBQs7pnlugWvinw3/aEC+EVvkuLt51la7jTAOABjn0z+NegaFc391pok1HSxps4cj7OJVkAHY5HHNaVFFhxhy9QoooplhVTVf+QPe/8AXvJ/6Cat1U1X/kD3v/XvJ/6CaQnsa3wwGPhnoGP+fUfzNdbXJfDD/kmmgf8AXqP5mutqDzAooooAKKKKACiiigAooooAKKKKACiiigArg/Af/I2eOf8AsKL/AOixXeVwfgP/AJGzxz/2FF/9FigDvKKKKACiiigAooooAK8d8A/8gW9/7CVz/wChmvYq8F8JeKdD0mwvrW/1OC3nGoXDGNyc4LnFNG1BpS1PQqK53/hPPC3/AEG7X8z/AIUf8J54W/6Ddr+Z/wAKo7OePc6Kiud/4Tzwt/0G7X8z/hR/wnnhb/oN2v5n/CgOePc6Kiud/wCE88Lf9Bu1/M/4Uf8ACeeFv+g3a/mf8KA549x3ivwwviO1tmiuWtL+zl861uVGdjccEehwPyFY9v4T8QalrdhfeJdYt54bB/MhgtEKhn9WOB6D19OK1v8AhPPC3/QbtfzP+FH/AAnnhb/oN2v5n/CjQh8jd7mDc+BdX/tLXWtL6wFrq5cvLPAXniDZyinoBzj6dqsw+Cr1F8J77qDOiGTzcA/vASuNvHovetX/AITzwt/0G7X8z/hR/wAJ54W/6Ddr+Z/wo0C0O5izeDvEGn3mqL4f1i3tbHU5DLIsqN5kLN1KEfXjpjj0zVnVfCGqPdaHqGmaoj6jpkZjaW+DMJgwwScc55PHv14rR/4Tzwt/0G7X8z/hR/wnnhb/AKDdr+Z/wo0C0O5k2ngrUoz4mku9Rgnn1m28sOqFQjFSDkegJ49hUFx4E1Jbbw69rdWMl1pMTRtFdxs8Eme+Bzn/AAHTFbv/AAnnhb/oN2v5n/Cj/hPPC3/QbtfzP+FGgrQ7mFF4D1MWHiWCfULWWXWBGwkWMoEZSSfl545wPpXZ6TZtp2jWNk7Bnt7eOFmXoSqgZH5Vk/8ACeeFv+g3a/mf8KP+E88Lf9Bu1/M/4UaFLkWzMvXvC2vXvjCLXtL1Gzt3gt/IiE0ZYqOcnGMfxGr9hp3i0JeJqer2MyyWzpCIodm2Q9GJx0HNS/8ACeeFv+g3a/mf8KP+E88Lf9Bu1/M/4UC9y97/AImWvgBX+HsXhuW5VbiNzMLhFyvmbiQcHqMHFT6N4Y1SPUftWry6WI0iMawWFoqBieN7MRuB9hj/ABu/8J54W/6Ddr+Z/wAKP+E88Lf9Bu1/M/4UaBaHcwNP8E+I9Ogj0i38QJb6NFOZQ8ClbkqTnaT0A/z7VrXHhrUh8QIfENrdWxtjbi3limVi6rnJ244yfU+pqz/wnnhb/oN2v5n/AAo/4Tzwt/0G7X8z/hRoCUF1MAeCfEGnwahpej6xaw6RfSs7ebETNEG4YLjg8cdfyrstF0i30LRrbTLXPkwJtBbqxzkk/Ukmsz/hPPC3/QbtfzP+FH/CeeFv+g3a/mf8KNBrkWzOiornf+E88Lf9Bu1/M/4Uf8J54W/6Ddr+Z/woK549zoqK53/hPPC3/QbtfzP+FH/CeeFv+g3a/mf8KA549zoqK53/AITzwt/0G7X8z/hR/wAJ54W/6Ddr+Z/woDnj3JrT/ksei/8AYNuP5ivVK8c0DWtN1r4v6TJpt5HcpHp86uYz0ORXsdS9zhqu82FFFFIzPLvg5/yP3xM/7Cg/9G3Few1498HP+R++Jn/YUH/o24r2GgAooooAKKKKACiiigAooooAKKKKACiiigAooooAKKKKACiiigAooooAKKKKACiiigDxj4Vf8lD+Jf8A2Ff/AGrcV6vXlHwq/wCSh/Ev/sK/+1bivV6ACuS+I2v6j4c8Ki80poku5LqKBWlTcqh2wTiutrgPjB/yJlv/ANhK2/8AQ6T2GtzN8/4kf9B/R/8AwCP+NHn/ABI/6D+j/wDgEf8AGugpkkscKF5XVFH8THArwvr1fv8Agex9To9jC8/4kf8AQf0f/wAAj/jR5/xI/wCg/o//AIBH/GtqK6t5m2xXEUjeiODTnuIIpFjkmjR2+6rMAT+FP69X7/gH1Oj2MPz/AIkf9B/R/wDwCP8AjR5/xI/6D+j/APgEf8a3JbiCDHnTRx7um9gM/nTZbu2hfZLcRRt1wzgGj69X7/gH1Oj2MXz/AIkf9B/R/wDwCP8AjR5/xI/6D+j/APgEf8a3Y5Y5l3Rurr6qcin0vr1fv+AfU6PY5/z/AIkf9B/R/wDwCP8AjR5/xI/6D+j/APgEf8a2ku7aSYwx3ETyr1RXBYfhU1H16v3/AAD6nR7HP+f8SP8AoP6P/wCAR/xo8/4kf9B/R/8AwCP+NbpljEoiMiCQjITPJHrin0fXq/f8A+p0exz/AJ/xI/6D+j/+AR/xo8/4kf8AQf0f/wAAj/jW60sayLG0iB2+6pPJ+gp9H16v3/APqdHsc/5/xI/6D+j/APgEf8aPP+JH/Qf0f/wCP+NdBTXdI0Luyqo6sxwBR9er9/wD6nR7GD5/xI/6D+j/APgEf8aiur74jWtpNcNrukMIkZyBZHnAz610isrqGVgykZBByCKqat/yBr7/AK95P/QTTWOr33B4OjbY3/BWr3OveDNK1S92fabmAPJsXAz04Fb1cl8MP+SaaB/16j+Zrq3dI0Z5GVUUZZmOABXunjDqK4rUvifoVvdGx0gXOvaj2ttLjMuPq4+UD8Tiqn2f4ieJ/wDj4uLTwrYN/wAs4MXN0R6Fvur9RyKAOu1jxBpHh+2+0atqNtZx9vNcAt/ujqfwrkf+E/1bX/k8GeGrm8iPTUdQzb231Gfmcewwa0tH+G3hvSbn7bLbSanqJ5a91KQzyE+vzcA/QV13SgDz/wD4QLWfEHz+MvE1xdRN107Tc29v9GI+Zx9cGut0bw7o/h628jSNNtrNMYPlIAzf7zdW/E1p0UAFFFFABRRRQBg+J/CGleLre2h1MT/6NIZInglMbKSMdRXPf8Kf8Nf8/Gr/APge9d/RQFzgP+FP+Gv+fjV//A96P+FP+Gv+fjV//A967+igd2cB/wAKf8Nf8/Gr/wDge9H/AAp/w1/z8av/AOB7139FAXZwH/Cn/DX/AD8av/4HvR/wp/w1/wA/Gr/+B7139FAXZ4v4W+Hmkatr3iezurrVDFp18ILcLeuCFK559ea6n/hT/hr/AJ+NX/8AA96f4D/5Gzxz/wBhRf8A0WK7ygLs4D/hT/hr/n41f/wPej/hT/hr/n41f/wPeu/ooC7OA/4U/wCGv+fjV/8AwPej/hT/AIa/5+NX/wDA967+igLs4D/hT/hr/n41f/wPekPwd8MspBn1cg8EG/fmvQKKAuylpGlWuh6Ra6ZYoyWttGI4wzbjgepq7RRQIKKKKACiiigAooooAKKKKACiiigAooooAK4PwH/yNnjn/sKL/wCixXeVwfgP/kbPHP8A2FF/9FigDvKKKKACiiigAooooAKpPo+lyOzvptmzscszQKST6nirtFAFD+w9J/6Bdl/4Dp/hR/Yek/8AQLsv/AdP8Kv0UAUP7D0n/oF2X/gOn+FH9h6T/wBAuy/8B0/wq/RQBQ/sPSf+gXZf+A6f4Uf2HpP/AEC7L/wHT/Cr9FAFD+w9J/6Bdl/4Dp/hR/Yek/8AQLsv/AdP8Kv0UAUP7D0n/oF2X/gOn+FH9h6T/wBAuy/8B0/wq/RQBQ/sPSf+gXZf+A6f4Uf2HpP/AEC7L/wHT/Cr9FAFD+w9J/6Bdl/4Dp/hR/Yek/8AQLsv/AdP8Kv0UAecfFTStOt/C1o8NhaxsdTtVJSFQcF+RwK7j+w9J/6Bdl/4Dp/hXJfFr/kU7T/sKWv/AKMrvKAKH9h6T/0C7L/wHT/Cj+w9J/6Bdl/4Dp/hV+igCh/Yek/9Auy/8B0/wo/sPSf+gXZf+A6f4VfooAof2HpP/QLsv/AdP8KP7D0n/oF2X/gOn+FX6KAKH9h6T/0C7L/wHT/Cj+w9J/6Bdl/4Dp/hV+igCh/Yek/9Auy/8B0/wo/sPSf+gXZf+A6f4VfooAof2HpP/QLsv/AdP8KP7D0n/oF2X/gOn+FX6KAKH9h6T/0C7L/wHT/Cj+w9J/6Bdl/4Dp/hV+igCtb6bY2khktrK3hcjBaOJVOPTIFWaKKACiiigDy74Of8j98TP+woP/RtxXsNePfBz/kfviZ/2FB/6NuK9hoAKKKKACiiigAooooAKKKKACiiigAooooAKKKKACiiigAooooAKKKKACiiigAooooA8Y+FX/JQ/iX/ANhX/wBq3Fer15R8Kv8AkofxL/7Cv/tW4r1egArgPjB/yJlv/wBhK2/9Drv64D4wf8iZb/8AYStv/Q6UtmOO5eriPiz/AMk/u/8ArrF/6GK7eud8caBdeJfC8+mWckMc8jowaYkLwwJ6An9K+boNRqRb7nvVk3Tkl2PJNXGgLp9g2kaFqmi3/nRf8TK6DxxJ6nO5vr0Fa3xSglufF9pPbSZlttKF0jr0OyRmJ/LJrodR8MeOtc0gaNqOoaJFp7bFka3WRpNqkEdQB2HcVqXPguSbxRYXSyRHTLfSm050dj5jZDDOMYIww713e3jFqTeqv1ucfsZNNJb28jzf4jakPEt6t7A3+i2Njbtgc4kmIbH/AHyf/Ha2vGR0YfFMnXbKa7shp6kxwqxbdk4PykHHWrFt8LdVg8F3+lG6sTf3V1HJ5m99nloOATtznlu1dh/wjd5/wsf/AISLzIPsf2L7Ps3HzN2euMYx+NDrU42UXok/0/4IKlOWslu1+pyPw/toJ/GdzqfhqzurPw4bfy5BOxxJLx93JOcfXjnpnFb/AMUdTu7Hw3b2tlM0El/dJbNKpwVQgk8++APpmptM8J32geNLnUNKmt10W+G65tHZgySc/MgAI6+46kdhWr4s8Nw+KtCk06WUwuGEkMoGdjjocfiR+NYSqQdaM3qtP6ZtGnJUpRW+v9I5LxH8O9C0jwnc3umRy22oWEJnju1mbezKMnPOOcdsY7Uo8e6yLLwxDaWEF3e6rbNu8xin7xeM8cYzyfan3fh3x7rWnjRtU1XS47BsLNcQKxmlUdiCAPr0rWn8HSR+I/DN1YtClhpELxMkjHewK4GMDB98kVfPG1qj5nr+X+ZPLK96astPz/yM+O/dfiNpaavptrHqh0lpJbiKVyIwGkyoGdpHHUgnnrVYePvENxoV74jtdGszo0TMsQeVhMcHG8joRnqOD1610F74aubr4g22vF4DYx6e1q8ZY+YWJc8DGMYYd68umvDZeC9V0mx8Tae+kq7eXbyRul4SWB8vawHGepGe/SnTjCpbS+3fzuKpKcL69+3kdy2rw3/i7wXcXGnQtdX1k06zeY4MJaMsQoBwRzjkGoP+E58SXdlrV3YaTYGDSZ5Fmkllb50TsoH8WASecdKuad4Xv5r3wXqu6GOLTNOWKeKQkSbjFtwBjHBPciptM8H6hZeHvFGnyTWxl1WW4eAqzbVEi4G75ePfGalukt9bf5v9Ckqj2/rRfqTXXinVbjw5pWp6RYWg+2pvmmvbgJDbcfxcgnnPT0rnbrxZP4l8B+K7e7jtRcWCBGltJC8UoY8FSf8AdNWbrwHrAsPDQibTbuTSo2jltLssYJCf4hxzj3HYU618B6zHp3im3lm03zNYWMxeTuRI2GSQRt4X5sDGelOPsYq91v8Ar/kJ+1bt5fp/mdd4S/5E3Q/+wfB/6LWrmrf8ga+/695P/QTTNDspdM0DTrCZkaW2tYoXKElSyqAcZ7cU/Vv+QNff9e8n/oJrkbvO67nUlaFvI5vwLr3jC88EaRpvhvw9HFHDAEbU9Tk2xE5OSiL8zD36cV0afDaTWHWfxlr97rbZ3fZEb7Paqf8AcXrj1zWj8MP+SaaB/wBeo/ma62vpj54qadpWn6Pai102yt7SAdI4Iwg+vHU+9W6KKACiiigAooooAKKKKACiiigAooooAKKKKACiiigAooooA4PwH/yNnjn/ALCi/wDosV3lcH4D/wCRs8c/9hRf/RYrvKACiiigAooooAKKKKACiiigAooooAKKKKACiiigAooooAKKKKACiiigArg/Af8AyNnjn/sKL/6LFd5XB+A/+Rs8c/8AYUX/ANFigDvKKKKACiiigAooooAKKKKACiiigAooooAKKKKACiiigAooooAKKKKACiiigDg/i1/yKdp/2FLX/wBGV3lcH8Wv+RTtP+wpa/8Aoyu8oAKKKKACiiigAooooAKKKKACiiigAooooAKKKKACiiigAooooA8u+Dn/ACP3xM/7Cg/9G3Few1498HP+R++Jn/YUH/o24r2GgAooooAKKKKACiiigAooooAKKKKACiiigAooooAKKKKACiiigAooooAKKKKACiiigDxj4Vf8lD+Jf/YV/wDatxXq9eUfCr/kofxL/wCwr/7VuK9XoAK4D4wkL4LgZiABqNsST2+eu/qlqukafrlg1jqdpFdWrEMY5BkZHINJq6GnZnH/ANrab/0ELT/v8v8AjR/a2m/9BC0/7/L/AI1of8Kw8E/9C5Zf98n/ABo/4Vh4J/6Fyy/75P8AjXmf2Yv5vwPQ/tB/ymf/AGtpv/QQtP8Av8v+NH9rab/0ELT/AL/L/jWh/wAKw8E/9C5Zf98n/Gj/AIVh4J/6Fyy/75P+NH9mL+b8A/tB/wApn/2tpv8A0ELT/v8AL/jR/a2m/wDQQtP+/wAv+NaH/CsPBP8A0Lll/wB8n/Gj/hWHgn/oXLL/AL5P+NH9mL+b8A/tB/ymf/a2m/8AQQtP+/y/40f2tpv/AEELT/v8v+NaH/CsPBP/AELll/3yf8aP+FYeCf8AoXLL/vk/40f2Yv5vwD+0H/KZ/wDa2m/9BC0/7/L/AI0f2tpv/QQtP+/y/wCNaH/CsPBP/QuWX/fJ/wAaP+FYeCf+hcsv++T/AI0f2Yv5vwD+0H/KZ/8Aa2m/9BC0/wC/y/41SdPDMl39rddIa5zu84iMvn13da3f+FYeCf8AoXLL/vk/40f8Kw8E/wDQuWX/AHyf8aay1LaQnj77xM/+1tN/6CFp/wB/l/xo/tbTf+ghaf8Af5f8a0P+FYeCf+hcsv8Avk/40f8ACsPBP/QuWX/fJ/xpf2Yv5vwH/aD/AJTP/tbTf+ghaf8Af5f8aP7W03/oIWn/AH+X/GtD/hWHgn/oXLL/AL5P+NH/AArDwT/0Lll/3yf8aP7MX834B/aD/lM/+1tN/wCghaf9/l/xqpquq6c2kXqrf2pJgkAAmXn5T71t/wDCsPBP/QuWX/fJ/wAaP+FYeCf+hcsv++T/AI01lqTvzfgJ49tfCHww/wCSaaB/16j+Zrrar2VlbabZQ2VlAkFtCoSONBgKB2FWK9M88KKKKACiiigAooooAKKzNa8Q6R4dt459X1CGzikbYjSnG44zgVi/8LP8E/8AQx2X/fR/woA62iuS/wCFn+Cf+hjsv++j/hR/ws/wT/0Mdl/30f8ACgDraK5L/hZ/gn/oY7L/AL6P+FH/AAs/wT/0Mdl/30f8KAOtorkv+Fn+Cf8AoY7L/vo/4Uf8LP8ABP8A0Mdl/wB9H/CgDraK5L/hZ/gn/oY7L/vo/wCFH/Cz/BP/AEMdl/30f8KAOtrL8SSajD4b1GbSGUahFA0kG5dwLKM4x74x+NY3/Cz/AAT/ANDHZf8AfR/wo/4Wf4J/6GOy/wC+j/hQB4d4C8c+L9R8atZadLbLNrV2st05gB2gD5mA7YUE19PV4P8AD648E+F/GXiPVptfsFjkmMWnjd0hbDk9PdV/4CfWvS/+Fn+Cf+hjsv8Avo/4UAdbRXJf8LP8E/8AQx2X/fR/wo/4Wf4J/wChjsv++j/hQB1tFcl/ws/wT/0Mdl/30f8ACj/hZ/gn/oY7L/vo/wCFAHW0VyX/AAs/wT/0Mdl/30f8KP8AhZ/gn/oY7L/vo/4UAdbRXJf8LP8ABP8A0Mdl/wB9H/Cj/hZ/gn/oY7L/AL6P+FAHW0VyX/Cz/BP/AEMdl/30f8KP+FneCf8AoY7L/vo/4UAdbRTY5EljWSNgyOAyspyCD0Ip1ABRRRQAUUUUAFFFFABRRRQAVwfgP/kbPHP/AGFF/wDRYrvK4PwH/wAjZ45/7Ci/+ixQB3lFFFABRRRQAUUUUAFFFFABRRRQAUUUUAFFFFABRRRQAUUUUAFFFFABRRRQBwfxa/5FO0/7Clr/AOjK7yvPPi3e2i+G7a3N1CJl1K1ZozINwG8HJHXGK763ure7j8y2nimTON0bhhn0yKAJaKKKACiiigAooooAKKKKACiiigAooooAKKKKACiiigAooooA8u+Dn/I/fEz/ALCg/wDRtxXsNePfBz/kfviZ/wBhQf8Ao24r2GgAooooAKKKKACiiigAooooAKKKKACiiigAooooAKKKKACiiigAooooAKKKKACiiigDxj4Vf8lD+Jf/AGFf/atxXq9eUfCr/kofxL/7Cv8A7VuK9XoAKKKKACiiigAooooAKKKKACiiigAooooAKKKKACiiigAooooAKKKKACiiigAooooAKKKKACiiigDzf4pRpLq/g+ORFdG1FgVYZB+T0qX+ytO/58LX/vyv+FM+J/8AyGvBv/YSb/0A1eqkdeHXusqf2Vp3/Pha/wDflf8ACj+ytO/58LX/AL8r/hVuimdFkVP7K07/AJ8LX/vyv+FH9lad/wA+Fr/35X/CrdFAWRU/srTv+fC1/wC/K/4Uf2Vp3/Pha/8Aflf8Kt0UBZFT+ytO/wCfC1/78r/hR/ZWnf8APha/9+V/wq3RQFkVP7K07/nwtf8Avyv+FH9lad/z4Wv/AH5X/CrdFAWRU/srTv8Anwtf+/K/4Uf2Vp3/AD4Wv/flf8Kt0UBZFT+ytO/58LX/AL8r/hR/ZWnf8+Fr/wB+V/wq3RQFkVP7K07/AJ8LX/vyv+FH9lad/wA+Fr/35X/CrdFAWRU/srTv+fC1/wC/K/4Uf2Vp3/Pha/8Aflf8Kt0UBZFT+ytO/wCfC1/78r/hR/ZWnf8APha/9+V/wq3RQFkVP7K07/nwtf8Avyv+Fc/4406xi8E6tJHZ26OsBIZYlBHI74rq653x5/yIusf9e5/mKCZJcrPS9D/5AGm/9esX/oIq/VDQ/wDkAab/ANesX/oIq/UHnBRRRQAUUUUAFFFFABRRRQAVwfgP/kbPHP8A2FF/9Fiu8rg/Af8AyNnjn/sKL/6LFAHeUUUUAFFFFABRRRQAUUUUAFFFFABRRRQAUUUUAFFFFABRRRQAUUUUAFFFU9R1bTtIhEuoXsFsjHC+a4UsfRR1J9hQB4R+0NoPk6ppmvxJ8txGbaYj++vKk+5BI/4DXrXw40H/AIRzwFpVg6bZzCJpwevmP8xB+mcfhWX4pH/CbaXFY22g3U9tFcxXInvD9lRtjAkKrAudy7l5UD5utbsfi+wiYR6tDcaRKTj/AE1AsRPtKpMZ+m7PtXJDH4WdT2UKicu10U4ySvY6Cimo6SIroysjDIZTkEU6uskKKKKACiiigAooooAKKKKACiiigAooooAKKKKACiiigDy74Of8j98TP+woP/RtxXsNePfBz/kfviZ/2FB/6NuK9hoAKKKKACiiigAooooAKKKKACiiigAooooAKKKKACiiigAooooAKKKKACiiigAooooA8Y+FX/JQ/iX/ANhX/wBq3Fer15R8Kv8AkofxL/7Cv/tW4r1egArkviNr+o+HPCovNKaJLuS6igVpU3KodsE4rra4D4wf8iZb/wDYStv/AEOk9hrczfP+JH/Qf0f/AMAj/jR5/wASP+g/o/8A4BH/ABroKy5vE2gW87wz63psUsbFXR7uNWUjqCCeDXhrG4h7P8D2HhKC3X4lPz/iR/0H9H/8Aj/jR5/xI/6D+j/+AR/xq6viLQ3tnuV1nTmgjYK8oukKqT0BOcAnBp9nrukahN5Nlqtjcy4zshuEdvyBp/XMT/SF9Vof0zP8/wCJH/Qf0f8A8Aj/AI0ef8SP+g/o/wD4BH/GtG91zSNNnEN9qllayldwSe4RGI9cE9ODSWuvaPfGQWmrWNx5SGSTyrhH2KOrHB4HvR9cxFr/AKB9VoXt+pn+f8SP+g/o/wD4BH/Gjz/iR/0H9H/8Aj/jVj/hLPDn/QwaV/4GR/41qQzxXMCTwSpLFIoZJI2DKwPQgjqKTxmIW/5AsLQe35mH5/xI/wCg/o//AIBH/Gjz/iR/0H9H/wDAI/41pahrWl6UVGoaja2pf7omlVCfoCasWt3bXtutxaXEU8LfdkicMp+hFH13EWvf8B/VKF7W/ExfP+JH/Qf0f/wCP+NHn/Ej/oP6P/4BH/Gtye4htYHnuJY4YYxueSRgqqPUk9KIZ4rmBJ4JUlikUMkiMGVgehBHUUvr1fe/4B9To9jD8/4kf9B/R/8AwCP+NHn/ABI/6D+j/wDgEf8AGt6WWOGJ5ZXWONFLO7HAUDqSewpltdW95bpcWs8U8DjKSROGVvoRwaPr1fe/4B9To9jE8/4kf9B/R/8AwCP+NHn/ABI/6D+j/wDgEf8AGugoo+vV+/4D+p0exz/n/Ej/AKD+j/8AgEf8aiur74jWtpNcNrukMIkZyBZHnAz61upfWkl7LZx3UD3UQDSQLIC6A9CV6gcj86j1b/kDX3/XvJ/6Caaxte6Tf4EvCUbaI3/BWr3OveDNK1S92fabmAPJsXAz04Fb1cl8MP8Akmmgf9eo/ma62vdPHCiiigAooooAKKKKAPOfif8A8hrwb/2Em/8AQDV6qPxP/wCQ14N/7CTf+gGr1VE7MP8ACzB1/wASjQ9S0exW1E8moz+UCZdnlqMbm6HOM9OK24pop498MqSJ03IwI/SvNfEv9m6x8WNO03VJIxZ2toWKSPtV5Dk7SfptOO+Kt/D6K3TxN4nOkjGjCaNIQpyhcA7tvt/QinctTfNY7yS7toX2S3ESN6M4Bp0VxDPnyZo5MddjA4/KuB8YaDdajrzTxeDYNVUxqPtL3/lE47bdw6fStPwLpU+lx3wm8ORaL5hTAju/P83G7/aOMZ/Wgak+a1jTvteltfEsGkRWgmaWzkuVbfgll6L07+tc1N8Qdet9Vt9Ll8Gut7cqWhiOoLlgASedmOxrTvv+Sq6V/wBg2b/0Ks/Xf+Sw+GP+vab/ANBkoJk30fUsal441TTTpFu/hlm1HURJ/on2wAxlWwBu24ORz2qzpPjaS51yPRtZ0afSb2ZS0AkkEiSY7BgBzxWV40nhtfiF4SmuJY4okaUs8jBVUcdSelQ+Jb+01/x/4UttJuYruS0maed4HDqiZU8kcdFP5j1pCcmm9S+fHWr3Os6np+l+FnvhYTmGSRb1U7kA4K98H1q1f+MdR0nwrcazqfh5rWaKdYltWug29Tj5twXjknjHauM062iuPGHirzPFMmibb04CTrH5vzP6kZx/WtPxksMXwwuoYtcOsFblN1w0qyEZYfKSCaLi55Wbv+Ru23inxRPJFu8EypFIRmT+0EOFPfG2uvlljgheaVwkcalnY9AByTXnulWdpBNZTv8AEWWURsjm3e8j2tjB2Ebuh6V2Hie0nvvC2q2tsC00trIqKOrHaePx6UzSLdm2cxH4/wBV1FJbzRfClze6ZGxH2gzCNpMdSq4JP4ZrpdA8R2HiHR01K1cpGWKOkmAY3HVT+Y/Oua8C+KNDtvBFpFcahbWstmhSeKVwrKQTzg8nPXj19a4aaOST4ba/qQjaO1vdVElupGPl3dR+ePwpXI52le9z1/V9YmsYoWsLNdQdrhYZUSdU8oEHLHg9MdPetKSeGJkWSVEZzhQzAFj7eteZeMtA07QPD2jR2EHlmbVbd5nLFmkbY3JJP+c0jxaNf/EjxAviuSILDFGLRbmXYoTGSV5HPQ8epp3K52nY73W9VuNN0trrT7EajKrhPJWYR/X5iD0rRaeJM75EXau5tzAYHqa8LUq3we1NkdnU6zkM3UjanJ967C+0qz1j4vtbX0XnW40sO0ZJCsQwxnHUc5x6gUriVRs9FSWOWMSRurxkZDKcgj602G6t7nd5E8Uu3rscNj8q8hsbqx0fwf4ts7qK4lsItUaCKCGUoeuAN3YfKM//AF6m0K2Gm/FHSIYrfT7MTWkm+CwnaUbdrEbyeC3APHoDTuHtdj0Dwr4j/wCEmsLq6+yfZvIunttvmb920A7s4GOvSovHn/Ii6x/17n+YrG+Ff/IB1T/sKzf+gpWz48/5EXWP+vc/zFHQabdO7PS9D/5AGm/9esX/AKCKv1Q0P/kAab/16xf+gir9QcAUUUUAFFFFABRRRQAUUUUAFcH4D/5Gzxz/ANhRf/RYrvK4PwH/AMjZ45/7Ci/+ixQB3lFFFABRRRQAUUUUAFFFFABRRRQAUUUUAFFFFABRRR0oAKKwrjxdpaTPb2TS6ndKcNDYJ5u0+jP9xD/vMKrtN4m1LobXRoD6f6TcY/REP/fYrgxeaYTCfxppPtu/uWpUYSlsjoLi4gtIHnuZo4YUGWkkYKqj3J6VhN4thuvl0SxutVPaWJfLg+vmvgMP9zd9Kjh8Macs63N4JdSulOVnv384qfVVPyp/wECtmvlsZxgvhwsPnL/Jf5m8cP8AzMxWtvEGpf8AH9qcenwnrBpq5f6GZxk/8BVT71YsNB0zTZjPb2qm5YYa5lYyzN9ZGJY/nWlRXy2LzXGYv+NNtdtl9yN4wjHZBSMqupVlDKRggjIIpaK84sxD4Ys4HaXSZrjSJick2LhYyfUxEGM/Urn3p633iTTeLi1ttXgH8dqfInx/uOSjH33r9K2KK9jB57jsLpCd12eq/wA/uZnKlGXQp2XinSb24W1adrS8bpa3iGGU/wC6Gxu+q5HvWzWXd2VrqFu1veW0NxA33o5kDqfwNZa6BNYc6Jqt1YgdLeU/aIPpsc5UeyMtfU4Pi+hP3cTBxfdar/P8zCWHfQ6iiubXXNY0/jVdHM8Y63OmN5g+pibDj6LvrT03XdL1jcthexSyJ9+LO2SP/eQ4ZfxAr6jDYzD4qPNRmpen+Ri4uO5o0UUV0khRRRQAUUUUAFFFFABRRRQAUUUUAeXfBz/kfviZ/wBhQf8Ao24r2GvHvg5/yP3xM/7Cg/8ARtxXsNABRRRQAUUUUAFFFFABRRRQAUUUUAFFFFABRRRQAUUUUAFFFFABRRRQAUUUUAFFFFAHjHwq/wCSh/Ev/sK/+1bivV68o+FX/JQ/iX/2Ff8A2rcV6vQAVwHxg/5Ey3/7CVt/6HXf1wHxg/5Ey3/7CVt/6HSlsxx3L1eX/FfQ9KtdHtb6DT7eO6n1JBLMsYDOGVycnvk16hXOeM/DMninSraziuUtzDdJcFmUtkKGGP8Ax6vncPPkqJt2R7teHPBpLU5f4naNpuj+Apl06xgtVkuoi4hQLuIzjOKj+IPhrSNH8KJrOlWcVhf2ksTxy242EkkDt165/Cuu8aeG5PFXh86bFcpbsZVk3su4cZ4x+NYkvgfXNaa3h8SeJPtmnwyCQ2sFssQkI6ZYdv8APFb0qqUYty2bvvrsY1KTcpJR3St5HNeJZjd/EbSp5dD/ALXaXSEdrPjkkuc8g9K6LTYoho+uyL4OGguLGRRJ8uZQVORwB0wKt6/4Q1a98Vwa9o+rQ2EsNqLcB4BJxlievH8VWrLRPFDR3sGsa/Be29xayQoiWqx7XbgNkdQBnj3olUi4KzX4/wDDBGnJSd1+X/DnnfhFYz4Ysy3w9/tY/P8A6b8n73529Rnjp+Fey6dGkWm2qR2otUES4tx/yy4+7+HSuG0nwf4y0TTIdOsPFNrFaw7tiGyVsZJY8nnqTXcadFdwadBFf3C3N0q4lmVAoc+uB0qMVNTd0+vn+pWHi4qzX5foec+B9IsPFOpa/rWt20d7dfbWgRJxvWJB0AB474/4DTLA/wDCJ+PfEem6T8ll/ZjXqwE5WKVVBHHpyfzHpW5deCtUsdcu9U8L60unm9bdc28sIkjZuu4enJJ6dzzjip9I8DtYWurz3uotfaxqkLRS3bpgKCMYA9On5DpitJVYO7ctGlp935EKnJWVtU9zAttc8Tav4Fvtd1JdMbTWspdlv5RLO6tjLDpg4bjPYVYXxNqps/Cmh6JFZ297qNkszyOh8uFAucKo+h/L343bbwlLb/DtvDBu0MpgeLz9h2/MxOcfjXLeKdPtvDkPhdpNSuLDULGH7PHqMdt5sJAABVxnI6nHB4J/Ai6c5OKXV2+7QJKcIpt9Ff79S/D4j1yTUfE+j6ullJ/Z+mNIPKQ7JDszk5PQg8j61Sg8U6pp/hTwgNLtrJJNSmaEw7CsYO/AxjoMnmq/hCyl13xB4ruItQkvoLuyFt/aMkOxZJGUA4XjgYIx6AV0MfgOdNP8LW326MnRbjznbYf3o37sDninL2UHyy8vy/zFH2kldef5/wCQ7RNf16PxlfeHdYNncvHafaoZYFMY6gbTnPHP6Vzs/j7W9Ov7NrjU9Fu/OuhFNYWYLmJCSM+YDjPHr36da6+78IteeLL7V3u9sN3prWJjRfnXdj5ga57/AIVxrLaJaaS+tWgtbG4E8CpabS7AnlznrgkfjUwlRbvK3QqUauyv1Lui/wDJZfEv/XnD/wCgx12Orf8AIGvv+veT/wBBNZVj4bktPG+qeIDcI0d7CkQhCnK7Qozn/gNaurf8ga+/695P/QTWFSSlKNuyNoRai792c/4E8Y61YeBtItbfwVq17FFbhVuInQLIMnkZNdD/AMJ5r/8A0T7W/wDvuP8Axq/8MP8Akmmgf9eo/ma62vozwTg/+E81/wD6J9rf/fcf+NH/AAnmv/8ARPtb/wC+4/8AGu8ooA4P/hPNf/6J9rf/AH3H/jR/wnmv/wDRPtb/AO+4/wDGu8ooA4P/AITzX/8Aon2t/wDfcf8AjXjenfGbxnpesTwMy38RnZVtLuPc6fMflDLhsjpzmvqCsvS/Dei6LJJLpul2ttLIxZ5UjG9iTk5bqfzoA8n13xNqfiW88Hz6l4bvdGYaiSPtBG2T5D90HDfmuPc12lUfif8A8hrwb/2Em/8AQDV6qidmH+FmXeeG9F1CS4ku9NtppLjb5rumS20YHPsKuWVhaabaJa2VvHbwJ92ONcAVYopm9kFFFFMZg3Oj3Uvjix1hTH9lgs5IXBb5txORgelacumWU+owahLbRvdwKVimI+ZAc5AP4mrdFImyM7U9B0rWWjbUbCC6aMEIZVztz1x+VO07RNL0jd/Z2n21qX4YxRhS31PU1frO1q11O80/ytJ1FbC53g+c0Ky/L3GDxQDS3sVbjwh4du7mS4uNHtJJpWLu7R5LE9SalTwvocenyWCaXbLaSuHeEJ8rMOhIrhdEn8bazrWs6cvipIjpkqxs5sIj5mS3OMcfd/WrX23xVrXjbXNL07X0sbexKFFa0jk4IHGSM0GalHex1C+CfDKsGXRLMEHIPl1vVwGmeKNZSDxJo+qvEdX0q1eaO5iQASDZkNtxjPKnp36cVlaJqfiPV9Ht76Xx/p9m8oJMEttBuTBI56emfxouNTitkd3d+EvD9/dm7utItJZ2OWcxj5j6n1/Grt3pOn31gLG5s4ZLQYxCUGwY6YHtXDeKNZ12w1fw9pVt4ghtPtVuftF68EZR3A+/hhgA+gOOa1/Dg1dtUzd+MrLV4VjJa2ghiVu2GyvOB/WgFJXtY6O90yy1GKKO8to50icSRq4yFYdCPfmuV8Q+H9du/EH2+2t9E1G2CARRahB80B46Moywzk8nv0rR8C6ld6r4Xjur6YzTmaVS5AHAcgdPaukoKspK5ynhzwZBp/hl9L1dYL5p7hrmZduU3nHTPoAK6EabZDUjqItoxeGPyjNj5tnpn0q1RQNRSVjO/sHSTb3dudPtzDeOZLhCgIkYnOT75qKz8MaHp8sEtppdtDLAWMbomGUkYPPXpxWtRQOyKtjptlpkTxWNtHbxySGR1jGAWOMn68Csfx5/yIusf9e5/mK6Kud8ef8AIi6x/wBe5/mKBS+Fnpeh/wDIA03/AK9Yv/QRV+qGh/8AIA03/r1i/wDQRV+oPNCiiigAooooAKKKKACiiigArg/Af/I2eOf+wov/AKLFd5XB+A/+Rs8c/wDYUX/0WKAO8ooooAKKKKACiiigAooooAKKKKACiqeo6tp2kQiXUL2C2RjhfNcKWPoo6k+wrIbxHf33GjaNO6Hpc35NtH9QpBkP/fIB9awxGKo4ePNWmorzY1FvY6OsrUfEek6XMLe4u1a6IytrAplmb6RoC2PfGKzG0fUdQ51jWZ5EPW2sc20X4kEyH/vvB9K0LDTLDS4TDYWcFtGTkiJAu4+px1Pua+ZxnF2Gp6YeLm++y/z/AARtHDt7lNtV1/UeLDTItOhPSfUW3v8AUQof/QnU+1RHw1Hendrd7daqT1inYJB9PKTCkf724+9blFfK4ziHH4rRz5V2jp+O/wCJvGlGIyGGK3hWGCJIokGFRFCqB7AU8kAZPAqG8kkhsriWLZ5iRsyb/u5A4z7Vh+FdYvNe8FwalfmzNzMku82ZJi4ZlG3JPYDPPXNeUqUpQdXpdL5u/wDkaX1saH/CQ6L/ANBjT/8AwJT/ABqxJqenw2Ivpb62S0PSdpVEf/fWcV88+A7bSJfDKNefD/Udbm81/wDTLdCVI/u9R0rofiJZ3h0/wXYafplnZaVNcxCHT7wPuSdmPySgcbMNzjnlq96pklKOJWHU3u1d8vRN6Wbf3pGSqO1z2uCeG6gSe3ljmhcZWSNgysPUEdakrye88canperDwvpbeF9Lk0y0jN097MYbd5ioJjgGQduT3/HHe03xUnu/B+jXum6fC2s6rd/YY4JHPlJKCAWJHJXlf++uvFcMsnxPuyitJba9Gm038lcr2iPTqAQehzXnl5qPxAh0LxBb6jYaYk0NmZbbUbWRliP99dpO/cF3EEADIGa5zwt4v1fwr8JLG9uba1u3urj7PpcaM2+R2dyxlJ9wenXj1zSjlNSdNyhJN8yikmtbq97/AOfn2D2iuezUV57aeLfE+i+KdL0fxdaaZ5erbltrjTy+EkGPkYN16gcevft0fjHUtQ0rQvtOmXek2tx5qr5mqy+XDg5yM5HPpXNPA1IVIQbXvbNPR6239SlJWub9FeX6H4v8U3muWVtd634Imt5ZVWSOzvd0zD0QbuTXqFTisJPDSUZtO/YIy5gqjqOjabquw31nFM6f6uQjDx+6uPmU/Qir1FYQnKEuaDs/IdrmKunazp3Ol6y08Q6W2pqZh9BKMOPqxf6VKviiSz+XW9JurIDrcQA3MH/fSjco92VRWrRX0GD4nx2H0m+dee/3/wCdzKVGL20JbK/s9StlubG7guoG6SQyB1P4irFc7eeHNMu7k3Yga2vD1urRzDKfqy4LD2OR7VGq+JNN/wBRd2+rwD/lneDyJsf9dEG0/QoPrX1OD4qwVfSreD89V96/VIwlQkttTpqK5+PxfYRMI9WhuNIlJx/pqBYifaVSYz9N2fat5HSRFdGVkYZDKcgivoqdWFWPPTaa7rUyaa3HUUUVoIKKKKACiiigDy74Of8AI/fEz/sKD/0bcV7DXj3wc/5H74mf9hQf+jbivYaACiiigAooooAKKKKACiiigAooooAKKKKACiiigAooooAKKKKACiiigAooooAKKKKAPGPhV/yUP4l/9hX/ANq3Fer15R8Kv+Sh/Ev/ALCv/tW4r1egArz74ySJF4IikkYKiahbMzHsA/WvQajmghuYjFPEksZ6pIoYH8DSauC0PLv+E/8ACn/QctPzP+FH/Cf+FP8AoOWn5n/CvRv7D0n/AKBdl/4Dp/hR/Yek/wDQLsv/AAHT/CvP/s2n3Z3fX59kec/8J/4U/wCg5afmf8KP+E/8Kf8AQctPzP8AhXo39h6T/wBAuy/8B0/wo/sPSf8AoF2X/gOn+FH9m0+7D6/Psjzn/hP/AAp/0HLT8z/hR/wn/hT/AKDlp+Z/wr0b+w9J/wCgXZf+A6f4Uf2HpP8A0C7L/wAB0/wo/s2n3YfX59kec/8ACf8AhT/oOWn5n/Cj/hP/AAp/0HLT8z/hXo39h6T/ANAuy/8AAdP8KP7D0n/oF2X/AIDp/hR/ZtPuw+vz7I85/wCE/wDCn/QctPzP+FH/AAn/AIU/6Dlp+Z/wr0b+w9J/6Bdl/wCA6f4Uf2HpP/QLsv8AwHT/AAo/s2n3YfX59kec/wDCf+FP+g5afmf8KRvHnhJ1KtrdmynqCSR/KvR/7D0n/oF2X/gOn+FH9h6T/wBAuy/8B0/wo/s2n3YfX59kecL488JooVdbs1UdACQP5Uv/AAn/AIU/6Dlp+Z/wr0b+w9J/6Bdl/wCA6f4Uf2HpP/QLsv8AwHT/AAo/s2n3YfX59kec/wDCf+FP+g5afmf8KP8AhP8Awp/0HLT8z/hXo39h6T/0C7L/AMB0/wAKP7D0n/oF2X/gOn+FH9m0+7D6/Psjzn/hP/Cn/QctPzP+FVtS8d+F5dLu449atWd4XVQCeSVOO1en/wBh6T/0C7L/AMB0/wAKP7D0n/oF2X/gOn+FNZdTTvdg8fN9EYPwx/5JpoH/AF6j+ZrrabHGkUaxxoqIowqqMAD0Ap1egcIUUUUAFFFFABRRRQB5z8T/APkNeDf+wk3/AKAavVR+J/8AyGvBv/YSb/0A1eqonZh/hYUUUVR0BRRRQAUUUUAc3rHhvUtS1ZLy28SXtjCoUG2iHynB5PUda6SiikJJI4bwVbTw+MvGUksEkcct1GY2ZCA4zJ0PfrWRBrB8N/ETxHdXOl6ncRXJjWI2tsXyQB6kCvUKKLEcmiszzOw07UtSl8XeJrqwnsxfWLwWttKuJGUR4yV6j7q/mawvD0nhmz0K1g1fwhqdxfoD5sq2RIY7iRzuHbHavaaKLC9meU+MDa3eueGNQm0a9uNKW2YyWy25Z1Uj5VIzwenGe1bnhS/8N/20ItJ8N3+n3EsbKZpbXYu0ckE7j6Cu6oosNQs7nI/DX/kTIf8Ar4n/APRjV11Zmg6LD4f0pdPt5ZJI1d33SYzlmJPT61p0FRVopBRRRTKCiiigArnfHn/Ii6x/17n+Yroq53x5/wAiLrH/AF7n+YpEy+Fnpeh/8gDTf+vWL/0EVfqhof8AyANN/wCvWL/0EVfqDzQooooAKKKKACiiigAooooAK4PwH/yNnjn/ALCi/wDosV3lcH4D/wCRs8c/9hRf/RYoA7yiiigAooooAKKKKACori4gtIHnuZo4YUGWkkYKqj3J6VLVHVtG07XLP7JqdpHcwBg6q45Vh0ZSOQRk8jmgDLbxbDdfLotjdaqT0miXy4Pr5r4DD/c3fSo2tvEGpf8AH9qcenwnrBpq5f6GZxk/8BVT705tC1fT+dJ1hpoh0tdTBlH0Eow4+rb6ibxBNYca3pdzYAdbiMfaLf670GVHu6rXyGcV88hf2UUod46v8dfuR0U1S6lqw0HTNNmM9vaqblhhrmVjLM31kYlj+daVQ2t5bX1utxaXEVxA/wB2SJw6n6EcVNXwFWpUnNyqtt+e51JJbBRRRWYwooooA87+LV/d22n6VZm5mstFvbnydUvYVJaKPjC8dA2WyfbHfBueFvEuh3l3/wAIt4XtXm02ys8m9jz5SMc/KSeSxznPfn0NdLr+taXoGkS32sTpFaD5TvXdvJ6KF7k+lcpo3xR8KTXdvYJBd6WtwcW7XNr5MUhPoQSOfU4r2qKqVsFyQot8t9Vtfu1bVpab7fjk7KW5j+HPBXxC8LaSumaZreiLbB2cCSJ2OT1521t6v4S1/XrTww+o31i1/pmoLd3TxqypIofICDHXbgc966NvEunr4rTw2fN/tB7b7UPk+TZkjr68VZ1nVrfQtIuNTu1laCAAuIk3NyQOB361FTHYudaM3BKctU1FJu91873GoxscVr3gHVG8WXmv6DLpLPfxLHcW+qW5kRWAADoQDzgDjp1607Ufh1e3fhbSbaPVol1zTLkXcN4LZY4zJnOCigccLzyfl59K7uyuo76xt7yIMI54llQOMHDDIyOx5qPU9TstG06bUNRuEt7SEZklfoOcD8SSBj3rOOY4u8ILeNktFfTRLz00t1HyR3OU0zwz4nupdUuPEuuxSm8tGtI7SyDC3iBGC+G6t/ifbGJa/DPWJ/AaeG9T1OzSSwuFn0y5tUYmNgWJ35xnO49Onviu3vPE+n2V3o9u6zu2rEi2ZIyV6Kcsf4fvCtqm8wxdK0rKKbTWiXw3Wn4p9+ouSLOAsfBviLU/E+m6z4u1SxuBpYY2lvZRsqlzjLsTjngHA9B079nqWlWGsWn2XUrOG7t9wby5kDLkdDg1cqO4nitbeW4uJFihiQvI7nAVQMkk+mK5auLq1pxe1tElpbrpbzKUUjGtfBXhixu4rq10HT4biJg0ciQKGUjuDW7XEW3xW8NXNzCp+3Q2s8nlQ309qyW8jegc/wBQPeu3p4unioNfWU79L3/UIuL2CiiiuQoKKKKACiiigBGVXUqyhlIwQRkEVinwxZwO0ukzXGkTE5JsXCxk+piIMZ+pXPvW3WdqGu6Zpkqw3N0v2hxlLaMGSZ/92NQWP4CurCVsTTqf7M2peV/03Jkote8QLfeJNN4uLW21eAfx2p8ifH+45KMffev0q5ZeKdJvLhbVrhrS8bpa3iGGQ/7obG76rke9UVuvEGp/8eOmR6fCf+XjUmy/1EKHJ/4Eyn2pZPBVlqUePEF1c6v38uZvLhU+0aYH0LbiPWv0fKKubzS+txXL3ekvuWn5HHUVP7J0wIIBByD0Iorz0+DfEXhMmXwXq3nWS8nRtTYvFj0jk+8nsOnqau6V8SNPlvV0vxBaz+H9WPAt77iOQ/8ATOX7rD8s9s19CZHa0UA5GR0ooA8u+Dn/ACP3xM/7Cg/9G3Few1498HP+R++Jn/YUH/o24r2GgAooooAKKKKACiiigAooooAKKKKACiiigAooooAKKKKACiiigAooooAKKKKACiiigDxj4Vf8lD+Jf/YV/wDatxXq9eUfCr/kofxL/wCwr/7VuK9XoAKKKKACiiigAooooAKKKKACiiigAooooAKKKKACiiigAooooAKKKKACiiigAooooAKKKKACiiigDzn4n/8AIa8G/wDYSb/0A1eqz478J6h4mGlTaZfwWl1p9wZ1aeMupyuOgrB/4Q7x/wD9DHpH/gG3+NNM6KVWMFZmrRWV/wAId4//AOhj0j/wDb/Gj/hDvH//AEMekf8AgG3+NO5r9YgatFZX/CHeP/8AoY9I/wDANv8AGj/hDvH/AP0Mekf+Abf40XD6xA1aKyv+EO8f/wDQx6R/4Bt/jR/wh3j/AP6GPSP/AADb/Gi4fWIGrRWV/wAId4//AOhj0j/wDb/Gj/hDvH//AEMekf8AgG3+NFw+sQNWisr/AIQ7x/8A9DHpH/gG3+NH/CHeP/8AoY9I/wDANv8AGi4fWIGrRXIaLY+Ota1PWbGPXNLjbS7kW7s1oSHJXORzW1/wh3j/AP6GPSP/AADb/Gi4fWIGrRWV/wAId4//AOhj0j/wDb/Gj/hDvH//AEMekf8AgG3+NFw+sQNWisr/AIQ7x/8A9DHpH/gG3+NH/CHeP/8AoY9I/wDANv8AGi4fWIGrRWV/wh3j/wD6GPSP/ANv8aP+EO8f/wDQx6R/4Bt/jRcPrEDVorK/4Q7x/wD9DHpH/gG3+NH/AAh3j/8A6GPSP/ANv8aLh9Ygatc748/5EXWP+vc/zFXf+EO8f/8AQx6R/wCAbf41U1P4e+ONW02ewuvEWlGCddjhbRgcfXNFxSrxaaPSdD/5AGm/9esX/oIq/Vextvsen21ru3+TEse7GM4AGf0qxUnGFFFFABRRRQAUUUUAFFFFABXB+A/+Rs8c/wDYUX/0WK7yuD8B/wDI2eOf+wov/osUAd5RRRQAUUUUAFFFFABRRRQAUUUUAYt54V0q6uGuooXsrxuTc2TmGRj/ALW3h/owIqo1r4l03/VTW2swD+GYC3uAP94Ao5/BPrXS0Vw4vLcJi1+/gn59fv3KjOUdmczH4nsFmW31BZtLuWOFiv08sMfRX5Rz/usa2etWZoIrmF4Z4klicYZHUMrD3B61gt4Rt7Ul9FvLnSW7RQNvgPt5TZUD/d2n3r5bGcHp+9hZ/KX+a/yN44j+ZGrRWK1z4g03/j+0yPUIR/y8aacP9TC5yP8AgLMfarOn67pmpytDbXS/aVGXtpQY5k/3o2AYfiK+VxmVYzB/xoNLvuvvRvGpGWzPPviz5Y8R+CPt+P7K/tA/ad/3M5jxu7Yxu/DNX/jUbL/hW139p8vzjLF9lz137xnb/wAA3/hXZa5oOm+I9Lk07VbZbi2cg7SSCrDowI5B965bTfhL4a0+/t7uQ39+bY5givbjzI4vTC4H5HNdmExuHjGhKo2nSbdkvi1vvfTs/ImUXrbqcfNpt3q/xW0OyutSu7CeTw7F9pkt5NkzEbiyhuxJ6nrgGoX1rWtL8N/EDRRrN7cDR3h+x3rTHzkDvgqXHPQY/P6V6RrngHRvEGtDV7tryO+WAQRzW85jMQBJDKR0bk8+hrlPFnhB9B8D3Xh/wvot3qM+ryf6TdPMGcEMrbnJ655HYdT9e7D4/D13Tpvf3VZpJK0rt3b7XViXFq7MbW9f1W/1fwxoTT661m+jQ3lwNIcfabh2XqWYjIGMnn1/Chrw128+E2vx6zJq6RadfRmze7YLJcRNIFCTYzuK5z1+9j0r0u48Aafquk6Il9Jc22pabaxwR3ljOYpUwoBAb0zn/JNTw/D7QIPCt54eWGZrS9bfcSvKTLI+QQ5b1BAPpx0qIZrhKSp8q1jJN6dpXbTv1Wm3l0Qcknc467N7oN/8NdPttY1OSC6lcz+dcsTKCIyFbGAVG4gA9BWdqPivVfCEPi/w3cX15c6g8qNo8sszPIUm+XCsTn5RjHvmvQLX4faRbLom6e/nbRpXltXnn3NlsZDccgbRgcYq5qvg3RtZ8Radrt5A7X1hjySGwpwdy7h3wSSKxjmOEUkqi5lZ30tdqbkvvWj8mPkl0OF1NNZbxJ4W8By69qFtG9gbm9vIpz59xIN2VEhyeqn8D3wKueFXuoPG/iHwNqN7NrOlRWqzRvfHzXUNtzGx753/AKds113iXwdpPioW7X6zR3NsSYLq2kMcseeuG/xpfDXhDSvCsdx9gWaSe5bdPc3EnmSyntub8TWUswoSwzj9pray+Lmvz82+2lvlsPkdzkfEmjXnivXYvBVrZ/2d4Z05IpricREedjG2OI4wMZ6/X0wfSwAAAOgrJtvDljaeJr3X4zN9tvIlilBfKbVAAwOx+UVr15+KxKqxhTj8MV/5M/ifnd9S4q12FFFIzBVLMQABkk9q4ihaKxG8T2c0jQ6VFcatMDgixQOin0aUkRr9C2fanrY+I9S5ubu30iA/8s7QCefH/XRxsX6BG+texg8hx2L1jCy7vRf5/cjOVWMepoXt/Z6bbm4vrqG2hHWSZwi/mazF1y71DjRdIuLpT0ubrNtB+bDew91Qj3rQsPDGk2Fwt0Lc3F6P+Xu7czSj6M2do9lwPativqsHwjQh72Jk5PstF/n+RhLEN7HOL4f1K/51jWZRGetrpwNun0L5Mh+oZfpWtpuj6dpETR6fZQWwY5cxoAzn1Y9WPuau0V9Rh8JQw0eWjBRXkYOTe4UUUV0CCqOraNpuu2TWeqWUF3bt/BKmcH1Hofcc1eooA89PhDxJ4SPmeDNW+02K8/2Nqjl0A9IpOq+wPHqavaR8SNNuL5dL122n0DV+n2a++VHP/TOT7rD8s9q7SqGr6JpmvWTWeq2MF3bt/BKucH1B6g+45oA88+Dn/I/fEv8A7Ci/+jbivYq+cvhxYeJdJ8W+N08GmyeDT74Qyafe5/0iMSTBAsnVWUKepwd3PSvV9F+JmlXl8ula5bz+H9Z6fZNQG1XP/TOT7rj06Z7CgDtqKKKACiiigAooooAKKKKACiiigAooooAKKKKACiiigAooooAKKKKACiiigAooooA8Y+FX/JQ/iX/2Ff8A2rcV6vXlHwq/5KH8S/8AsK/+1bivV6ACuK+KWp6hpXg9ZdMvJLO4lvIIfOjxuVWbBxmu1rgPjB/yJlv/ANhK2/8AQ6T2GtzH/wCEf8Sf9D3rH/fKf4Uf8I/4k/6HvWP++U/wrpqK+f8Arlf+Y9v6rR/lOZ/4R/xJ/wBD3rH/AHyn+FH/AAj/AIk/6HvWP++U/wAK6aij65X/AJg+q0f5Tmf+Ef8AEn/Q96x/3yn+FH/CP+JP+h71j/vlP8K6aij65X/mD6rR/lOZ/wCEf8Sf9D3rH/fKf4Uf8I/4k/6HvWP++U/wrpqKPrlf+YPqtH+U5n/hH/En/Q96x/3yn+FH/CP+JP8Aoe9Y/wC+U/wrpqKPrlf+YPqtH+U5n/hH/En/AEPesf8AfKf4Uf8ACP8AiT/oe9Y/75T/AArpqKPrlf8AmD6rR/lOZ/4R/wASf9D3rH/fKf4Uf8I/4k/6HvWP++U/wrpqKPrlf+YPqtH+U5n/AIR/xJ/0Pesf98p/hR/wj/iT/oe9Y/75T/Cumoo+uV/5g+q0f5Tmf+Ef8Sf9D3rH/fKf4VBeaN4ltbG4uF8dauxijZwCqc4GfSutqnq3/IGvv+veT/0E01i69/iE8LRt8JteAdQutV8B6NfX0zTXU1sGkkbqxyRk10dcl8MP+SaaB/16j+Zrra+gPECiiigAooooAKKKKACiiigAooooAKKKKACiiigAooooAKKKKAOD8B/8jZ45/wCwov8A6LFd5XB+A/8AkbPHP/YUX/0WK7ygAooooAKKKKACiiigAooooAKKKKACiiigAooooAKKKKACiiigAooooAK4PwH/AMjZ45/7Ci/+ixXeVwfgP/kbPHP/AGFF/wDRYoA7yiiigAooooAKKKKACiiigAooooAKKKKACiiigAqlqWj6dq8Sx6hZQXKqcoZEBKH1U9VPuKu0UAc43h/UrDnR9ZlMY6Wuog3CfQPkSD6lm+lRNrl3p/GtaRcWqjrc2ubmD81G9R7sgHvXUUV4uM4fwGK1cOV946f8D8DSNWUTKsr+z1K3FxY3UNzCekkLh1/MVYqpf+GNJv7g3Rtzb3p/5e7RzDKfqy4LD2bI9qpNYeI9N5tru31eAf8ALO7Agnx/10QbW+hRfrXyuM4RxNP3sPJTXbZ/5fijeOIT3NiisRfE9nBIsOqxXGkzE4AvlCox9FlBMbfQNn2raVgyhlIIIyCO9fMYjC1sPLlrRcX5o3Uk9haKKKwGFFVb/UrHS4PPv7uC2jJwGlcLk+gz1PsKzl1jUNR40bRp5EPS6vs20X1AIMjfgmD6124XL8Vi3ahBv8vv2JlOMd2bdZl94g0zT5xbS3PmXZGRa26GWY/8AQFse+MUxfDd7ffNrWsTyoetrY5tovoSCZG/76APpWxp+l2GkweRp9nBaxk5KwoF3H1OOp9zX1OD4Pm/exU7eS/zf+TMJYj+VGIsviPU/wDj0sIdLgP/AC2vz5kv4RIcfm4PqKlTwhZTsJNYuLjV5M523bDyQfaFQE/Egn3roaK+qweUYLB60oK/d6v73+hhKpKW7GxxpFGscaKiKMKqjAA9hTqKK9IgKKKKACiiigAooooAKKKKACiiigDy74Of8j98TP8AsKD/ANG3Feoa1oOleIrFrLV7CC8tz/DKudp9VPVT7jBry/4Of8j98TP+woP/AEbcV7DQB5x/wiXivwb+88G6t/aOmr/zBtVfdtHpFL1X2B49c1paJ8S9Jv74aVrEM+gaz0NlqI2bz/sP91x6dCfSu1rN1vw/pHiOxNlrGnwXkB6LKuSp9VPVT7gg0AaVFecf8Ir4u8GfP4Q1X+1dMX/mDaq+So9Ipuo9gePrWnofxL0jUr4aVqsU+ha0ODY6iNhY/wCw/wB1x6dz6UAdpRRRQAUUUUAFFFfMXj/RoPEfxz1+yvZp1ihtoXTy2AI/dRccg8fMT9aTaSuy6dN1JqEd2fTtFfK3/CstF/5+r/8A7+J/8RR/wrLRf+fq/wD+/if/ABFZe3gd39l4jsvvPqmivlb/AIVlov8Az9X/AP38T/4ij/hWWi/8/V//AN/E/wDiKPbwD+y8R2X3n1TRXyt/wrLRf+fq/wD+/if/ABFH/CstF/5+r/8A7+J/8RR7eAf2XiOy+8+qaK+Vv+FZaL/z9X//AH8T/wCIo/4Vlov/AD9X/wD38T/4ij28A/svEdl959U0V8rf8Ky0X/n6v/8Av4n/AMRXb/s9Q/Y9S8Z2EckjQW1zCkYc56GYZ9MkKM/SrhUjLYwr4SrQSc+p7lRRRVnKFFFFAHjHwq/5KH8S/wDsK/8AtW4r1evKPhV/yUP4l/8AYV/9q3Fer0AFcB8YP+RMt/8AsJW3/odd/XAfGD/kTLf/ALCVt/6HSlsxx3L1eWaBpcnxHudT1fV9QvUs4rpre1tbeXYqBQDk++CPxzXqdedWujeKvBmp6gugafb6rpV5MZ0hecRPCx92IGOg75wOlfP0HZSs7S6fqe3WV2rq66lC1vNQ0S48XeFJr+e7gtdLlurOeVsyIuwfLn/gQ/LjGad4e8c3ui+DtKub7RLqTShiKXUTOpO4sednJI7ZJHStDT/CWsy2/iTWdX8k61qtnJbxW8LDbEpTAXJ46hR17deaym8OeMrvwbZeEZtMtYrbKmW++0qdiBt20oOSwPcZBrpvSlo7bq/Tpq0YWqR1V+tvv0TOij1Sxi+Jd+Xa5XytJ895TcZh8sFTkJt4Pvn8Kht/iPI6WuoXOgXFtod1P5MWoNOpOckAtGBkDIPOe3esyGzttT+J+s6ZBOrQvoJtGdGDbc7FPTuM1nad4C1SJLTTLjwvpzmKX99qct4zJJHk9I1YMG/wqeSlb3+y/rdfr6D56l/d7v8Arb+u5uWHiHXZ/ixqGmyWcrWUUfliLz1CwplcTY/i3cHHUbsdqq6F4vt9D8LG/jsbuWyfVmt53uLsSNDkL8/3B8vt+vNa40nW7D4o3GsW9glzp19BHDJN56qYcbcnaeT93oPWq3h3wbd/8IJrGh6tCsMl5cSyR/OGxkLsbgnoy5/Ck3Ssr2t7v/BGlUvp5/8AAN+fxTFF4uTQo7fzAtqbq5ufMwsCDOMjHOeO46isA/EqdrN9Wi8NXkmgJJsN/wCcobGcbhHjOM+9O8EeEdQtNL1WTxAMahqCC2Yhw5WFU2LyDjP+ArJj0Dxnb+FX8Gx6dZvaMWjXU/tAAEZfccp97PJ7f41MYUb20drdfvaG51bX1V79PuR3UmuTNqGlR2WnS3djfxmQ3qEhIVxlSRjv9RWleXCWllPcSOqJFGzlmOAMCse3t9V0aTQ9J0+1in0uGDyrq5dgHTauFIGeckehq34i0e217QbrT7tWaKRM/KcEMOQfzArnajzLt/wToTlZ9zm/hbZMPC41i4muJr3UmZpnmkLZ2u4XGenBruK5H4aan/aXgXTvMmR54VaJ1UjKhWYLkDp8oH1rrqeIv7WV+4qNvZxt2CiiisTUKp6t/wAga+/695P/AEE1cqnq3/IGvv8Ar3k/9BNVHdEy2ND4Yf8AJNNA/wCvUfzNdbXJfDD/AJJpoH/XqP5mutr6g+dCiiigAooooAKKKKACiiigAooooAKKKKACiiigAooooAKKKzte1U6HoN9qgtnuRaRNM0UZAZlXk4z6DJ/CgDlPAf8AyNnjn/sKL/6LFd5Xz/4M+LNtF4s1ZYNFup5td1BHgjWRQUJAUA/419AUAFFFFABRRRQAUUUUAFFFFABRRRQAUUUUAFFFFABRRRQAUUUUAFFFFABXB+A/+Rs8c/8AYUX/ANFiu8rg/Af/ACNnjn/sKL/6LFAHeUUUUAFFFFABRRRQAUUUUAFFFFABRRRQAUUUUAFFFFABRRRQAUUUUANkjSWNo5EV0YYZWGQR7isB/CNlAxk0e4uNIkJzttGHkk+8TAp+IAPvXQ0VnUpU6seSpFNdnqNNrY4nWdd1fwlaJcavbW1/bPKkCT2ZMTl2OFDRtkAZ7hz9K0l03xDqXN7qEOlwn/ljYDzZfxlcYH4J9DWP8Wv+RTtP+wpa/wDoyu8ry4ZBl0KntFSV/O7X3PQt1ZtWuZOneG9J0yf7TDaiS7Iwbq4YzTH/AIG5LY9gcVrUUV68YqKslZGYUUUUwCiiigAooooAKKKKACiiigAooooAKKKKACiiigDy74Of8j98TP8AsKD/ANG3Few1498HP+R++Jn/AGFB/wCjbivYaACiiigArM1zw7o/iWxNnrOnwXkHYSLyp9VYcqfcEVp0UAecf8Ix4w8F/P4T1T+2NLX/AJg+qyfOg9Ipu3sG4HvWroPxK0fVb4aVqMc+ia0OGsNRXy2Y/wCwx4cHtjk+ldlWVr3hvRvE1ibPWdOgvIf4fMX5kPqrDlT7gigDVorzj/hG/GXgv5/C2p/25paf8wnVJP3iD0im/kG4HvWtoHxI0bV73+y75Z9F1ocNp+or5bk/7BPDg9scn0oA7GvnTxB/ycF4l/684v8A0VBXt2i+MNF1/WNV0qwug95pkvlTxnjPqy+oBypPYj3GfEfEH/JwXiX/AK84v/RUFZ1fgZ1YL/eIeprUUUVwH1gUUUjusaM7sFRRksTgAetAC0Vk2fibRb+8+yW2oRSTngLyN30JGD+Fa1NprcmM4zV4u4UUUUigqf4C/wDIyePf+vyL/wBDnqCp/gL/AMjJ49/6/Iv/AEOeujD7s8fOPgj6nt1FFFdZ4IUUUUAeMfCr/kofxL/7Cv8A7VuK9Xryj4Vf8lD+Jf8A2Ff/AGrcV6vQAVwHxg/5Ey3/AOwlbf8Aodd/XAfGD/kTLf8A7CVt/wCh0pbMcdy9WFqHjPw5pV6bO91a3iuFOGTJYqffAOPxrdryL+x9X0W51eWx0fTfE2k3s7yPIjK0y56rnrnnsD68Zr52jTjNvmf6Hu1ZyhblR6zBPDdQJPbypLDINySIwKsPUEVJXlX/AAksOmfDrSLnwt5tnE2prbSxTYlZMhmdctnvg5Hr2rqdR1u/t/iXo+jxzAWNzaySSx7AdzAPg5xkdBTlh5J/f+Ao1k1934l7w5Z+HFa7vdBity0kpjuJosklxyQSfrnFadzqljZ3trZ3FykdxdEiCNushHXH515J4WTxHF4U17UNI1aGzgs7yebyTbrIZ2VVLAsfujAGMDrmtw+JrjVtU8CXfk26/bxKZg0KsVZcA7GYEqMg9DWk8O+d63/4a5nCuuVaW/4ex6VRXnfh7UvFPiDxLqqDVooNO0zUmjaP7OpaWMMRszjjAXr15r0SuepTdN2bN4T51dIKKKKzNAooooAztN0LS9HnuptOsorZ7ogzeWMBiM446D7x6etaNFFNtt3YkktEFFFFIYVT1b/kDX3/AF7yf+gmrlU9W/5A19/17yf+gmqjuiZbGh8MP+SaaB/16j+Zrra5L4Yf8k00D/r1H8zXW19QfOhRRRQAUUUUAFFFFABRRRQAUUUUAFFFFABRRRQAUUUEgAknAHegApksUc8LwyqHjkUqynoQeCKxJ/F2mCVoNP8AO1W4U4MdgnmBT6M+Qin/AHmFV2k8Tal1e10aA9ox9ouMfUgIp/B/rXn4vNMJhP400n23f3LUuMJS2R5d8J/h9JpvxF1u7vIyYdFme3tmYffdujfhGQf+Bivd65VPD91Zu8+na7qEVzI2+VrlhcRzNgDLIQMcAD5CnQVMuta1p/GqaQLqIdbnTG3/AImJsMPopc1yYXiHL8S+VT5X/e0/Hb8SpUZo6Sis3Tdf0rV2ZLK9jkmT78DZSVP96NsMv4itKvaTTV0ZBRRRTAKKKKACiiigAooooAKKKKACiiigAooooAKKKKACiiigArg/Af8AyNnjn/sKL/6LFd5XB+A/+Rs8c/8AYUX/ANFigDvKKKKACiiigAooooAKKKKACiiigAooooAKKKKACiiigAooooAKKKKACiiigDg/i1/yKdp/2FLX/wBGV3lcH8Wv+RTtP+wpa/8Aoyu8oAKKKKACiiigAooooAKKKKACiiigAooooAKKKKACiimSzRQLumlSNfV2AH60APorHuPFnhyz/wCPnX9LhPo95GD/ADrIuPil4Itf9Z4js2/65bpP/QQaAOd+Dn/I/fEz/sKD/wBG3Few187fDXx7o+jeL/HN60d/dw6nfia1+x2jyF08yY5IxleHXrivSf8AhaE0/Fh4F8Wz+jSWAiQ/iWoA9Aorz/8A4TPxxc/8eXw2ucH+K61SGLH4YJo/tL4qXX+p0Dw7ZZ/5+rySTH/fAoA9Aorz/wDs74q3X+u13w3ZZ/59bSSXH03mj/hDfHNz/wAfvxJnCnqlrpcMWPo2c0AegUV5/wD8KwuLjm/8d+LZ/VYr4RKfwC0f8Kb8Jzf8f/8Aamoev2rUZWz+RFAHZ3OsaZZZ+1alZwY6+bOq/wAzXnHxU8T+CtQ8EaihvdC1XUI4j9liNwkjq5IGVKnIIGTwRnFdDbfCbwJaY8vw1aNj/nqWk/8AQiaZ4n+HeiXvhDU9O0bRdHsbueArFOLVI9h9SyrkfWgD5K8P+INS8Na7b6vps5ju4Wzk8hweqt6g969Gs/EMfir4s6trcUXkrdWERMe8NtZUhVhkcEZU8/yrzG20y7vNXj0q2jE13LOIEWNgwZycDBHBGe/SvTNP8OxeE/irqehxP5gtdPiDv/edkhZyPYsxIrOr8DOrBf7xD1OyooorgPrArl/iBcvb+E5lQkedIkZI9M5P8q6isLxfpUuseHLi2t13TqRJGv8AeIPT8s1cLKSuYYlSlRko72Zx/ibTLXTPCGh31pCkN0jR5lRcMxKFiSe/Ir0mCTzreOXGN6BsfUV5ndz6h4m03StAj0y6hlt2UXEsiEKu1dufyJPP0r05EEaKi8KoAFXU2Se5zYOznKUFpZffYdRRRWJ6AVP8Bf8AkZPHv/X5F/6HPUFT/AX/AJGTx7/1+Rf+hz10Yfdnj5x8EfU9uooorrPBCiiigDxj4Vf8lD+Jf/YV/wDatxXq9eUfCr/kofxL/wCwr/7VuK9XoAK4D4wf8iZb/wDYStv/AEOu/rgPjB/yJlv/ANhK2/8AQ6UtmOO5erhX+Ht5Z3V2dB8TXWlWl25kktlhEgDHrtORt/n05ruq4/w/8QLXXvE13oi2ckEsHmYkZwQ5RgCAP1/CvnKTqJNw26nvVFBtKfyGz/DrT28Gx+HoLmaHy5hcLc4Bbzf7xHHY4x9KksPBdzD4lste1HXZ9QvbaJojvgVFYEEAAL93GSe+TTdJ+IFrq/jG48PQ2cgaFpF+0FwVbYcHArr8jdtyM9cVU51oe7Lr+pMIUpax6focAnw0uraxu7Kz8TXVvbX0jNdRCBSsinsOcqccEg8jHFbL+CrRbzw9LbXDwxaKGWOLbu8zIHU9jxn8a6eqOr6vaaHpM+p3rsttAoLFV3E5IAAHuSBS9tVk7X/p6D9lTir2/rcyNP8ADP8AYdt4gkgvJnk1KWW4Bjj+eJmB4XnkjPHSr/hmDULbw5YxapJJJehMytI25skkgE+oBA/CtC1uUu7KG6QFUmjWQBuoBGeamqJTk7qRUYJaoKKMjOM80ZAxk9azNAooozkZFABRRRQAUUUUAFU9W/5A19/17yf+gmrlU9W/5A19/wBe8n/oJqo7omWxofDD/kmmgf8AXqP5mutrkvhh/wAk00D/AK9R/M11tfUHzoUUUUAFFFFABRRRQAUUUUAFFFFABRVLUtY03SI1k1C9gtgxwgkcBnPoo6sfYVkt4h1G/wCNH0aUoelzqJNvH9QmDIfoVX61z4jFUMNHmrTUV5sai3sdHWTqHiXSdNn+zTXQku8ZFrbqZpj/AMAQFgPcjFZraLfahzrOs3E6nrbWebWH/wAdJc/i+D6Vo2Om2OlweRYWkFtFnJWFAoJ9TjqfevmcZxdh6emHi5vu9F/n+CN44dvcpNqfiHUeLHTodMhP/LbUG8yT8Iozj83B9qiPhmG8O7Wru51Zuvl3LAQj/tkuEP8AwIE+9blFfK4ziDH4rRz5V2jp/wAH8TaNKMRkUUcESxQxrHGowqIMAD2Ap9FFeM3c1CiiikBS1DR9O1VVF9ZwzlOUdl+ZD6q3VT7giqS6Zq+nc6VrMkkY6W2pAzr9BJkSD6sW+lbVFd2EzLF4R/uJteXT7noRKEZboyV8Tz2Xy63pFzaAdbi2zcwfmo3qPdkA962rHUbLVLYXFhdwXUJ48yGQOM+mR3qOsu98O6Ze3JumtzBeH/l6tXMM34uhBI9jke1fU4PjCS93FQv5x/yf+ZjLD/ys6GiuZWPxJpv/AB7XtvqsA/5ZXy+TL+EqDafxT8alTxfZQME1iC50iTpuvFHkk+0qkp+ZB9q+pweb4PF6Uqiv2ej+5/oYSpyjujoaKbHIk0ayROrowyrKcgj2NOr0iAooooAKKKKACiiigAooooAKKKKACiiigArg/Af/ACNnjn/sKL/6LFd5XB+A/wDkbPHP/YUX/wBFigDvKKKKACiiigAooooAKKKKACiiigAooooAKKKKACiiigAooooAKKjmuIbdd000ca+rsAP1rKufF3hqzz9p8QaVER2e8jB/LNAGzRXH3PxT8D2ufM8R2jY/55BpP/QQap/8Le8LS/8AHiNTv/T7Np8pz+YFAB8Wv+RTtP8AsKWv/oyu8rxb4h+OW1nw9bQQeF/EVui39vIJ7yz8mNiHyFBJ6noK63/hLvG1x/x5/DuYA/x3WpxR4+oxmgDvKK4P7f8AFC5/1OieHbLP/P1dSSY/74o/s74n3P8Arte8P2Wf+fa0eTH/AH2aAO8org/+EP8AGlx/x+fEW4wf4bbTYosfjnNH/CtJZ+b7xt4rn9VS+Ean8AtAHeVSuNZ0uz/4+tSs4P8ArrOq/wAzXIf8Kg8KS/8AH6mo3/r9pv5Tn8iKu2/wt8EWv+r8OWbf9dd0n/oRNAFu5+IPg+1z5viXSyR2juVc/wDjpNZcvxf8DxtsTWTPJ/cgtZXJ/JcV0Ft4T8OWePs2gaXCfWOzjB/QVqxQxQLthiSNfRFAH6UAcN/wtXTZf+PHw/4mvvT7NpjHP5kUf8J7r1x/x4/D7XHz0+0skH8ya7yigDg/+Eg+Itz/AKnwRZWgPQ3Wqo/6IKP+LqXP/QqWSH/rvI4/pXeUUAcH/wAI/wDEW5/13jeytAeottKR/wBXNH/CBa9cf8f3xB1x89fsypB/IGu8ooA4P/hVWmy/8f3iDxNfev2nU2OfyAqSL4QeB423voxnk7vPdSuT+bYruKKAObt/h/4PtceV4a0skd5LZXP/AI8DWvb6Ppdn/wAe2m2cH/XKBV/kKu0UAeXfBz/kfviZ/wBhQf8Ao24r2GvHvg5/yP3xM/7Cg/8ARtxXsNABRRRQAUUUUAFFFVNU1Sx0XTZ9R1K5jtrSBd0kshwAP6n0A5NAE1xcQ2ltJc3MqQwRKXkkkYKqqOpJPQV5nLc6n8Wbl7axefTvBUbFZroZSbUyDyqd1j9T3/MBbex1P4rXUd9q0U+n+DY2D22nsSsuoY6SS46J3C9/yNemwwxW0EcEEaRRRqFSNFAVQOAAB0FAHN23w/8ADVlr+nazZ6ZFb3On27W8AiGFCnoSO7Abhnr8xznjHjfiD/k4LxL/ANecX/oqCvouvnTxB/ycF4l/684v/RUFZ1fgZ1YL/eIeprUUUVwH1gUUUUAFFFFABRRRQAVP8Bf+Rk8e/wDX5F/6HPUFT/AX/kZPHv8A1+Rf+hz10Yfdnj5x8EfU9uooorrPBCiiigDxj4Vf8lD+Jf8A2Ff/AGrcV6vXlHwq/wCSh/Ev/sK/+1bivV6ACuA+MH/ImW//AGErb/0Ou/rgPjB/yJlv/wBhK2/9DpS2Y47l6vA4bh9BuJPE8SFjaa9dQSAfxK6DGfyP5175WM/hPQpLC5sX06M21zP9omjLN80n97rkfhXz1CtGnfmW57lak52t0PMPBlp/Zfi/QJrgkST6NJdzOep3vI2f++cVj60lufD/APwkelWFxCWvMxapd3+65lbJ4EajA6fXivb10LTE1CC/W0QXNvB9mifJ+WPn5cZxjk1lf8K98J5m/wCJLB++OWG5sDnPyjPy9O2K6Fi4c/M7/wBX8zB4aXLyq39WOavtJttd+L91Y33mPaHS1d4UkZBJhlADYIJGTnHqBXLy2cbfDTxTauZJItK1XFoGcny/nVPxGCePU5r2SLRtPh1U6olsBemEQGbcSSgxx1x2FQr4a0dbO+tBYx/Z79zJcoSSJGPU9ePwqI4lKy7W/DcuWHbv53/E8w1m0SEeD9BtLcz6XdRGeS1+1mNbiUqDtLnOOe3+1gdqkjgu9P8ACvjOyBhhsY41aGzS+Fw1q2fmUkcgH39PrXoR8F+HW0ZNIbS42sY3LpGzMSrHqQ2dw/OprXwrodlpE+lW+nRR2U/+tjBOX+rZyfzp/WY2S8/1vfff+ri+ryvf+trdv67HmV3o9vo+l+CNctHnGpXU9ss07TMxdWUHbgnAAHGB2pmoW83iDxZ4pN/YC8axOyBpNQ+zCzQZw4HfoDnp+deqz+H9KubSxtZrNXgsGRrZCx/dlRhcc84HrVXVvBvh7XbwXepaZFNcAAeZuZScdM7SM/jRHFRvd36/nfuDwz6f1oec6rDeanY+AbTUb0Syzzywyz204fzE3KvDjqdvBPrmvT9Gs9K0S2TRNOkjTyFLiDzdzqCc5IJzjJ6/SnS6BpUz6ez2UedPObQLlRF06AcdhUEOgrH4uuddJjDyWotgqg5IyCSxJx/CAMCsqlVTjy7Wv99zSFNwlffb8jZooormOgKKKKACqerf8ga+/wCveT/0E1cqnq3/ACBr7/r3k/8AQTVR3RMtjQ+GH/JNNA/69R/M11tcl8MP+SaaB/16j+Zrra+oPnQooooAKKKKACigkAEk4A71gz+LtM81oNP87VbhTgx2CeYFPoz5CKfZmFROpGnHmm7LzBK5vVFc3VvZW73F1PFBCgy0krhVX6k8CufaTxLqXWS10aA9ox9onx9SAin8H+tEHhnTY7hbq5STULtTlbi+czMp9VB+VP8AgIFfP4zijA0NKb535bff/lc2jQk99B7eLI7v5dE0+61MnpMq+Vb/AF8x8bh7oGqJrTX9S51DVUsYT1t9NX5voZnGT9VVDW1RXyuM4pxtfSlaC8t/vf6WN40IrfUztP0LTNMlaa1tEFw4w9xITJM/+9IxLH8TWjRRXztSpOpLmqNt93qapJbBWJq3iIaTr2j6Y1jPKupyPGLhPuRMozhj6kA4Hsa5e+v7DWfjBo9vYRS3c+lQzfa54pcRW2VICsMYZiTjGeM+xruZtOtLi/tr6aEPcWoYQuSfk3DBIHTOOM9cEjua6pUIYdwdZN80W7bWbul19H006d1e+xkv4rgHjqPwtHbSSTm0+1STBhtjXJGCOuen5ipNf8RjQrzSYGsZ7hdRu1tfNj+7CWIALH05/SvMrDTNC8Z/Evxte67Nm0sFWAReeY12LlWYkEEgGPPplvpW98IrIaj4Js7jUFkuI7O+mbTWmYnbHwoOOhIO8D05xivRxGAw9CCqSv7qjzLu5RbVnfp1VvvIU23Y9Lorz74y6lfab4F/0GWSL7RdxwTSRttKxkMT83bJAGfeub8M6beeHvHEENna2+gafPYyG6tZNYS5LYVis4UnPBAyRxjPQZrmoZZ7XCvEOaW9lpry2v1v10sn52G52lax7LRXzhBanw3Da63rGmPfQJd7v+Ek0jVSzynceGBJB9MYXp165+jlYOoYdCMiozHL1hOVxlzJ3103W+zf42fkOE+YWiiivNLCiiigApCAylWAIIwQe9LRQBit4YsYpGm0uSfSZ2OS1g+xWPq0ZBjY+5UmnLeeJNN4mt7bWIB/Hbn7PPj/AHGJRj77k+lbFFexg89x2F0hO67PVf5/czOVKMuhSs/FWk3VwtrLM9leNwLa9QwyMf8AZ3cP9VJFbVZl1aW19btb3dvFcQv96OVA6n6g8VlL4fksOdE1S608DpAx8+3+nlv90eyFa+pwfF9Cfu4mDi+61X+f5mEsO+h1FFc2uta1p/GqaQLqIdbnTG3fiYmww+ilzWlpuv6Vq7MllexyTJ9+BspKn+9G2GX8RX1GGxuHxUeahNS9P8tzFxcdzSooorpJCiiigAooooAKKKimuYLZd080cS+ruFH60AS1wfgP/kbPHP8A2FF/9FiuiufGHhmzz9o8Q6VER2a8jB/LNeceF/iD4U0bxH4vuL7WYY4bvUBJA6K0gkUIBkbQeM0Aew0Vwf8Awt3wxL/x4pqt/wCn2bT5Dn8wKP8AhZN1P/x4+BvFMvo01mIVP4lqAO8org/+Et8cXH/Hp8O5VU/x3OqRR4/4DjNH274o3P8AqdH8N2f/AF83MsmP++KAO8org/7N+J1z/rvEGg2f/XtZvJj/AL7NH/CHeMrj/j8+It0R6W2nRQ4/EE0Ad5RXB/8ACs3n5vvGviu49VW/8tD+AWj/AIVB4Sl/4/Yr++9ftN/K2fyYUAddc61pVnn7VqdlBjr5s6r/ADNZFz8QvB1rnzfEulnHUR3Kyf8AoJNVrb4X+CbXHl+HLJsf89QZP/Qia17bwr4ds8fZtB0uHHeO0jX+QoA52X4v+B0fZFrDXEn9yC1lcn/x3FM/4Wpp8v8Ax4+HfE99nobfTGIP5kV3MUMcKbIo0jX0VQBT6AOD/wCE88Q3H/Hj8PdafPT7TJHB/MnFH9v/ABGuf9T4KsLPPQ3OqLJj/vgV3lFAHB4+Klz1fwpZKfQTyOP6Uf8ACO/ES5/1/jm0tB3FtpSP+rGu8ooA4P8A4QHXLj/j9+IOuv6/ZgkH8gaP+FU6XL/x+674kvvX7TqbHP5AV3lFAHDw/CHwNE29tE85+7TXMrk/m2K1bbwB4QtceV4a0rI6F7VHP5sDXR0UAU7bSdNs8fZdPtIMdPKhVf5CrlFFAHB/Fr/kU7T/ALClr/6MrvK4P4tf8inaf9hS1/8ARld5QAUUUUAFFFFABRRRQAUUUUAFFFFABRRRQAUUUUAFFFFABRRRQB5d8HP+R++Jn/YUH/o24r2GvHvg5/yP3xM/7Cg/9G3Few0AFFFFABRRWB4s8Xab4R01bm8Ly3EzeXa2cI3S3MnZUX8Rz2/KgC14i8R6Z4W0eXU9WuRDbpwB1aRuyqO7H0/pXFaX4d1Tx7qUHiDxjbtbaXC3maboTdF9JJx/E3+yen5g2vDvhHUtZ1iLxX42CSainNhpindDp69vZpOmT2P0GPQKAAAAYAwKKKKACvF/Gfwq8Xap8QtR8S+HtW0y2S8jjQi5Lb1CoikY8th1QHNe0UUNX3HGTi7xdmeBf8Ks+Kn/AEMeh/r/APGKP+FWfFT/AKGPQ/1/+MV77RU8kext9Zr/AM7+9ngX/CrPip/0Meh/r/8AGKP+FWfFT/oY9D/X/wCMV77RRyR7B9Zr/wA7+9ngX/CrPip/0Meh/r/8Yo/4VZ8VP+hj0P8AX/4xXvtFHJHsH1mv/O/vZ4F/wqz4qf8AQx6H+v8A8Yo/4VZ8VP8AoY9D/X/4xXvtFHJHsH1mv/O/vZ4F/wAKs+Kn/Qx6H+v/AMYrtPhR8P8AWfBMuu3Ot3tnc3OpyRv/AKKWIBXeSTlV6l+gHavSaKailsiJ1ak9Jyb9WFFFFMzCiiigDxj4Vf8AJQ/iX/2Ff/atxXq9eUfCr/kofxL/AOwr/wC1bivV6ACuA+MH/ImW/wD2Erb/ANDrv64D4wf8iZb/APYStv8A0OlLZjjuXq8y0jVfG/iK51dtN1PT4o7K7eBY54PvYPHIB7V6bXkXhLxZYeGLvxBBfwXjSzajJJGsMBbcMkV4FCLcZNK70PbrNKUU3Zam/ZeNL3UPBurT3Ettper6ZMILiR0Z4kbeBnaATzyMc81uXXjDR9GsrD+1dRT7RcQLIBFE7GQY5YKBkA89QK8+fSr8fDzxfrF5aS28ur3Szx27qd6p5oIyP+BH8qsa8traXOhXj3+p6JdjS4o11GOAywMAAfLYLznOf04rZ0acnZd3t6L16mKqzSv5dfVnoP8Awlug/wBiLrP9oxnT2cRiYKxwx7EYyD9RVNfiF4UZ7hBrEOYBubKsAwzj5ePn/wCA5rznU7jVNR+E12by2UgaiogmitvJNwn98oAPzx/Kur1WyjHxd8M7bceVFZSAYX5Vwr7fy7VH1emr3v1/D5Fe2m7W8vx+Zs3viux1DwhfaromrW8Yhwv2iaJisTZH3k27uh9O9WH8W6RplnYDVdUhSee0WcPsYLIMcsOO56Dr7V53PBIug/EdFiYBr8FAF6/vT0rVjtjJ448BmSEsiaVk5XhWETY/HNN0IJeWv5Jgq07/AHfnY7Ow8X6FqWl3epWt+r2toM3DFGBjHXJUjPY9u1Tz+JdIttNs9RmvAtpeuqW8mxjvZgSoxjIyAetefiwnn1b4kQW8Dl5oF8tVX77bWPHqSf51j32tQan4J8L6Xaw3L3FleQC5zAwWIqGXBYjGTnPHoaFhot6Xtp+KuDxEktf61sekx608Xi7Vra51S2NnaWomNqsTeZCMKSzNtwRyeASeasaV4w0HW7/7Dpt+Li48rztqxuAF45JIwOo4681x11FJ/wAJ941bY21tGwDjgny1rf8AhpaR2/gPTGECpKyyFztwxJkbr+Q/IVnUpwUObrp+KLhOTny+v5jfE+r6xofiXRJIbiF9LvrmOzktmj+YMxOXDdenb2rsK4b4oDztH0uyiUC8utShjtptxHkvz8/H5fj7V2VlDNb2FvDc3BuJ441WSYrt8xgMFsdsnnFZzS9nGXXUuDfPJE9FFFYmwVT1b/kDX3/XvJ/6CauVT1b/AJA19/17yf8AoJqo7omWxofDD/kmmgf9eo/ma62uS+GH/JNNA/69R/M11tfUHzoUUUUAFcZq/i3ULXVJbBraHRrdW2pqOpKzxSe6bMJ9N0in/Zrs6RlV1KsAVIwQRwRWdWEpwcYS5X30f5jRyy+HbbUEWbVr641gMNwWdx5B+kSYQj/eDH3raiijgiWKKNY41GFRBgAewqhL4Q09HabS5J9InJyWsWCIx9WiIMZ+u3PvUDHxJpn+utbfV4B/y0tCIJ8f9c3O1vqHH0r4LNcgzOcudz9qvWz+7b7jqhVgtLWNmisqz8RaZeXItPPa3vT/AMut0hhlP0VsFh7jI961a+Sq0alKXJUi0/PQ3TT2CiiisxhRRRQB5Vp3hjxx4Vs9T0XQotMmgvZ3lj1SWUrLHu4y645YduvPr0r0nSrW5stJtba8u2vLmOMLLcMADI3c4HTmucn+KHgu3IEuuxKxkaLHlSEhhwcjbwPc8flWtrHizQtA0+C/1LUoYba4wYXGX80EZyoUEkYI5HqK9XFvGYhxVSlaUn/K7yf9dFp5GceVbMzLn4ZeDrxSJ9EicmZpy3myBmdsbiWDZI4HB49q6e1tYLK1itbWFIYIlCRxxrhVA6ACuR8Q+NrZ/h1qXiLw1fQXJgVdj7SQrblBDKcEHB6H1plp4jv59e8J28mpWUaajp/2ie0aJ/Nmfyi2UIUqADzgkdDSnQxtalerJ2i5aNvRpXenTT/gheKeh1uoafZ6rYy2N/bx3FrMNskUgyGFZGg+CPDfhmeSfSNLjt5pF2NIXeRtvoC5OB7Cq938RvCNjqc+nXOtwJc24bzV2uVUqMkbgNu7g8ZznjGamu/Hfhmxs7G7utVjit7+J5bZ2jfEiqMk9OOo4PJ7VlGjjoQ9nGM1GXSzs+u3XRDvHcqx/DPwdFqIvk0KATK/mAb38sN6+Xu2fpXWVzVz8QPC1notpq9xq0cdld5NuzRvukwcEhNu7APfFW7HxboGpaJNrNpqlvJp8AJlmJK+Xj+8Dgg+xFKvDG1EpVlJpaJu717a/kCcVsbVFc3ovj7wx4g1AWGmaqkt0ylkjeJ4y4Hdd6jd36elM1b4h+E9D1I6dqOswxXYIDRhHfYf9oqCF/Gs/qWJ5/Z+zlzb2s7272HzRte509Fcv4m1TXns9NTwlb29y1+43XzkNDbx4B34B+bOeMZ6Gsnw94k1228eTeEtcuLPUH+yfao7u0j2FOcbZF6D/wCuPXi4YGpOk6ia0Tdr62Wjdv8APXyByV7HfUUUVxFBRRRQAUUUyWaK3iaWaRI40GWd2AAHuTTSuA+qWoaPp2qqovrOGcpyjsvzIfVW6qfcEVQHiWO9O3RLK51U/wDPWBQsA/7athSP93cfapV0nXtR51HU49PhPW301dz/AEMzj/0FFPvXt4DI8xryU6cXDzen/BMpVYLRlC+efwzEssPiVI4ScJa6sfODH+6j5EmfqX+lVx428SyQobXwHf3DsSN/2hYY2x3HmKr4P+0orp9N8O6VpMpmtLNBcsMPcykyTP8AWRiWP51qV+i5dhcTh6fLiKrm/T9d38zknJN6Kxwf9u/Ee5/1PgzT7P8A6+dUWT/0AUbPipc/el8KWa/7CzyMPz4rvKK9Eg4P/hHPiHc/6/x3bWo7rbaTG36saP8AhX+tXH/H98QNff1+zFIP5A13lFAHB/8ACqNJl/4/ta8R3/r9p1Nzn8gKlh+EPgaFt50NZX7tNcSuT+bYrt6KAOdtvAXhG0x5XhrSsjoWtUc/mQa574fWNpB4q8arFawRrFqSrGEjACDYOB6CvQ64PwH/AMjZ45/7Ci/+ixQB3lFFFABRRRQAUUUUAFFFFABRRRQAUUUUAFFFFABRRRQAUUUUAFFFFABRRRQBwfxa/wCRTtP+wpa/+jK7yvGPjT43i0+WDw7Np0+9Zre+ScONrorZIA9cgivSfB3iZfF/h2HWY7KW0hmdljSVgSwU4zx7g/lQBvUUUUAFFFFABRRRQAUUUUAFFFFABRRRQAUUUUAFFFFABRRRQB5d8HP+R++Jn/YUH/o24r2GvHvg5/yP3xM/7Cg/9G3Few0AFFFcZ4u8bSabex+HvD1sNS8TXK5jtwfkt1/56TH+FR1x1P40AWvGHjW38MJBZ29u+o65efLZadD9+Q/3m/uoO5PofeqXhPwVcW+pN4m8U3Cah4kmXAYD91ZJ/wA84h268t1PPqSbXg/wTH4eefVNRuTqfiK85u9QkHP+5GP4UHoPQewHWUAFFFFABRRRQAUUUUAFFFFABRRRQAUUUUAFFFFABRRRQAUUUUAFFFFAHjHwq/5KH8S/+wr/AO1bivV68o+FX/JQ/iX/ANhX/wBq3Fer0AFcB8YP+RMt/wDsJW3/AKHXf1xXxS0zUNV8HrFplnJeXEV5BN5MeNzKrZOM0nsNbklFcz/wkHiT/oRNY/76T/Gj/hIPEn/Qiax/30n+NfP/AFOv/Ke39ao/zHTUVzP/AAkHiT/oRNY/76T/ABo/4SDxJ/0Imsf99J/jR9Tr/wAofWqP8x01Fcz/AMJB4k/6ETWP++k/xo/4SDxJ/wBCJrH/AH0n+NH1Ov8Ayh9ao/zHTUVzP/CQeJP+hE1j/vpP8aP+Eg8Sf9CJrH/fSf40fU6/8ofWqP8AMdNRXM/8JB4k/wChE1j/AL6T/Gj/AISDxJ/0Imsf99J/jR9Tr/yh9ao/zHTUVzP/AAkHiT/oRNY/76T/ABo/4SDxJ/0Imsf99J/jR9Tr/wAofWqP8xLqvhVNY8Rafqd1f3HkWLLLFZrgJ5ikkOf0/Kuhrmf+Eg8Sf9CJrH/fSf40f8JB4k/6ETWP++k/xqnhcQ0k47ehKxFBNtPc6aiuZ/4SDxJ/0Imsf99J/jR/wkHiT/oRNY/76T/Gp+p1/wCUr61R/mOmqnq3/IGvv+veT/0E1i/8JB4k/wChE1j/AL6T/GoLzWfEt1Y3FuvgXV1MsbICWTjIx601hK9/hE8VRt8R2Pww/wCSaaB/16j+Zrra5zwDp91pXgPRrG+haG6htgskbdVOScGujr6A8QKKKKACiiigAooooArX2nWWp2xtr+0guoT1jmjDr+RrFbwxPZfNomr3FoB0trrNzB+THev0VwPaujorCvhqOIjy1oqS80NNrY5dtU1XTuNX0aVox1utOJuE+pTAkH0CsPer+n6tp+qxNJYXkNwqnDiNwSh9GHUH2NbNZmpeHtK1aVZruzQ3KjCXMRMcyfSRSGH518zjOEsNU97DycH23X+f4m0a8luTUVkNpGvadzp2qR6hCOlvqS7X+gmQf+hIx96iPiWOyO3W7K50o/8APWdQ8B9/NXKgf720+1fK4zh/H4XVw5l3jr+G/wCBvGrGR4t4d8R6LpXgvxfpuoWkrXeoXdxHbEW7OLhioCoGAwCpO7npuyOalvNK1fw2vgXUtTuZ9OtrWyeKS7+y/aPscjM7DchBwdrKPUbT3Feu+DPDdp4a0u6isr03kN5dveCU4xlgowCOCPlro666+d04VpeyheLbvd7+7y6JrT53+7QlU3bU8IW0W4+HfjrVLS5v72O/kiPnTWS26TssnLxqpOQc88D+eNu3hk/4WH8N28t9qaKQx2nAPkN1r1yiuSecuSkuTfm694KHRLZLy+RXsz5/sb+Pw74B8VeFNW0m8fWXeeQsLcssi7RiUv0wuC2fpjrV23s1vH+EySwebCI5GcFcrxsIz+Irs734Z3Fwb62t/FurQaVfMTNZHbJweqqzcqO2PzzXbaZp1vpOl2unWilbe2iWKME5O0DAyfWu3EZvQjHnpayk23urXg49Vpvsr7bkqm+p5n4qkg8L/FfTPEWrWkh0NbAwRzxwl0tpcsckAcdf/HvasWzs4Ncj8ea4ulakfDeopEsMNrEFlmZSCZUVsZwQW/E9eRXuFFcFPN3Cmkoe8kle+llLm2to79b/ACLdO7PC/CGs3x8Y6FZ6XrB8R2e0rMLvTik2npgdZCMg9uGwcYxyKdpWr6d4OtvF2i+J7Cd9Uv7qZ4ibcv8AbUYfKFbHrk8/3vWvcqK0nnEJyd6WjSvZpO6d07qKXX+X531EqbXU4j4f2Go6B8LbWDUA8N3FBLKEZctECWZQR6gEcfhTPhXpNhbeFU1aEy3F/qDyPdXlwhWWUh2HIJJA46Z9+9d1RXBVx06iq6WdSXM7fPT7336FKNreQUVR1HWdO0kJ9uvIoWfiOMnLyH0VRyx9gDVNdR1rUuNL0doIj0udTJiH1EQy5+jbPrRhMtxeLf7mDa79Pv2CU4x3ZtVkXXiTTbe5a0hke9vF621khmkX/eC8J9WIFKvhVrz5tc1S5v8APW3jP2e3/wC+EOWHs7NW5aWVrp9sttZW0NtAn3YoUCKPoBxX1WD4Pb97FT+Uf83/AJGMsR/KjAVPEup/dittGgP8UxFxcY/3VOxT/wACf6VYg8I6YJVn1DztVuVORLfv5gU+qpgIp91UVvUV9ThMqweE/gwSffd/ezCU5S3YAADA4FFFFeiQFFFFABRRRQAUUUUAFFFFABXB+A/+Rs8c/wDYUX/0WK7yuD8B/wDI2eOf+wov/osUAd5RRRQAUUUUAFFFFABRRRQAUUUUAFFFFABRRRQAUUUUAFFFFABRRRQAUVR1LWNN0iJZNQvYLYMcIJHAZz6KOrH2FZTeIdRv+NH0aUoelzqJNvH9QmDIfoVX61z4jF0MNHmrTUV5jUW9jgvj34Yl1bSdJ1OziL3MFyLVgo5ZZSAv/jwA/wCBV6foOkxaFoFhpUONlpAkWR/EQOT+JyfxrFm0G91RR/bWtXEoDK6wWQ+zRIykMpGCXJBAPLEZHSpVj8Sab/x7XtvqsA/5ZXy+TL+EqDafxT8a8eHE+XTqcnM15taf16mjoztc6aiueTxfZQME1i3udIk6brxR5JPtKpKfmQfat+ORJo1kidXRhlWU5BHqDXuUq1OtHnpyTXlqZtNbjqKKK0EFFFFABRRRQAUUUUAFFFFABRRRQAUUUUAFFFFAHl3wc/5H74mf9hQf+jbivYa8e+Dv/I/fEz/sKD/0bcVtaz4n1Txjqs/hnwVN5UMR2alrgGUtx3SI/wAUnuOn6gAteJvGN/eau/hTwYiXOtYxdXjcwacp/ic9C/ov5+lbfhHwdYeErKRYXe6v7lvMvL+fmW5fuSfT0Hb3OSbPhnwxpfhPSE07S4diA7pJHOZJn7u7dyf/ANVbNABRRRQAUUUUAFFFFABRRRQAUUUUAFFFFABRRRQAUUUUAFFFFABRRRQAUUUUAeMfCr/kofxL/wCwr/7VuK9Xryj4Vf8AJQ/iX/2Ff/atxXq9ABRRRQAUUUUAFFFFABRRRQAUUUUAFFFFABRRRQAUUUUAFFFFABRRRQAUUUUAFFFFABRRRQAUUUUAFFFFABRRRQAUEZGD0oooAwZ/COmGVriw87Srljky2D+WGPqyYKOf95TVdk8S6Z96K21mAd4iLe4x/usdjH/gSfSumorz8XleExn8aCb77P70XGco7M5u28SabPcraTSPZXjcC2vUMMjH/Z3cP9VJFa9TXdla6hbNbXttDcwP96KZA6n6g8ViN4Vaz+bQ9UudPx0t5D9ot/8AvhzlR7Iy18rjOD38WFn8pf5r/I2jiP5katFYrahrWm8apo7TxDrc6YTKPqYjhx9F31c07WdO1UP9hvIpmTiSMHDxn0ZTyp9iBXy2LyzF4R/voNLvuvvWhvGcZbMvUUVjz+JtOWd7azMuo3anDQWKeaVPozD5U/4ERXNRw9WvLkpRcn5K5TaW5sVFcXMFpA89zNHDCgy0kjhVUe5NZiweJdS+8bbRoD6Yubgj9I0P/fYqza+E9KhnS5uUk1G7Q5W4v385lPqoPyp/wECvpcHwniqtpV2oL73/AJfiYyrxWxSXxEb/AI0PTrnUs9JwPKt/r5j43D/cDVKui61qHOqasLSI9bbTBt/AzN8x+qhDXSUV9Vg+HcBhteXmfeWv4bfgYSrSkZ2m6DpekFnsbKOOV/vzHLyyf7ztlm/EmtGiivcSSVkZBRRRTAKKKKACiiigAooooAKKKKACiiigAooooAK4PwH/AMjZ45/7Ci/+ixXeVwfgP/kbPHP/AGFF/wDRYoA7yiiigAooooAKKKKACiiigAooooAKKKKACiiigAooJABJOAO9YM/i7TBK0Gn+dqtwpwY7BPMCn0Z8hFP+8wqKlSFOPNNpLuwSvsb1RXN1b2Vu9xdTxQQoMtJK4VV+pPArnmk8Tal1e10aA9ox9ouMfUgIp/B/rSweGdNjuFurlJNQu1OVuL5zMyn1UH5U/wCAgV89jOKMFQ0pvnflt9/+VzaNCT30Ht4sju/l0TT7rUyekyr5Vv8AXzHxuHugaomtNf1L/kIaqljCf+XfTF+b6GZxk/VVQ1tUV8rjOKMbXuqdoLy3+/8AysbxoRW+pnafoWmaZK01raILhxh7iQmSZ/8AekYlj+JrRoor56pUnUlzTbb7vU1StsFFFFQMQgMpVgCCMEHvWM3hixikabS5J9JnY5LWD7FY+rRkGNj7lSa2qK3oYmth5c1GTi/JiaT3MdbzxLpvE9vbaxAP47c/Z58f7jEox99yfSrdn4q0m6uFtZZnsrxuBbXqGGRj/s7uH+qkirtQ3VpbX1u1vd28VxC/3o5UDqfqDxX0uD4txVLSvFTX3P8Ay/AwlQi9jTorll8PSWHOiapdaeB0gY+fb/Ty3+6PZCtSrrWtafxqmkC6iHW50xt/4mJsMPopc19Tg+IsBidOblfaWn47fiYyoyidJRWbpuv6Vq7MllexyTJ9+BspKn+9G2GX8RWlXuJpq6MgooopgFFFFABRRRQAUUUUAFNd0ijaSR1RFBZmY4AA6kmory8ttPs5bu8njgt4VLySyNhVA7k151jUfitPk+fp/gtG6cpNqZB/NYv5/X7oBxXgbTtV8YeM/HFno2qLaaDe6gZb+8gP72SIyTFEjPbeGbJ9B+B+gtG0bT/D+lQaZpdqltaQjCRoPzJPcnuTya8o+CltDZ+NPiNa20SxQQ6ikccaDARRJcAAD0AFezUAFFFFABRRRQAUUUUAFFFFABRRRQAUUUUAFFFFABRRRQAUUUUAFFFFABRRRQAUUUUAeMfCr/kofxL/AOwr/wC1bivV68o+FX/JQ/iX/wBhX/2rcV6vQAUUUUAFFFFABRRRQAUUUUAFFFFABRRRQAUUUUAFFFFABRRRQAUUUUAFFFFABRRRQAUUUUAFFFFABRRRQAUUUUAFFFFABRRRQAUUUUAFZ2paDperlWvrKOSVPuTDKSx/7rrhl/AitGik0mrMDzfwxpy67rviSw1i5u7+z0u9FvbQTzsU2Fc/OBjzOv8AHmvQ7e2gs4EgtoI4IUGFjiQKqj2A4FcR4D/5Gzxz/wBhRf8A0WK7yop0qdJctOKS8lYbbe4UUUVoIKKKKACiiigAooooAKKKKACiiigAooooAKKKKACiiigAooooAK4PwH/yNnjn/sKL/wCixXeVwfgP/kbPHP8A2FF/9FigDvKKKKACiiigAooooAKKKKACiiqWpaxpukRrJqF7BbBjhBI4DOfRR1Y+woAu0VzjeIdRv+NH0aUoelzqJNvH9QmDIfoVX61E2i32oc6zrNxOp621nm1h/wDHSXP4vg+leNjM/wABhdJT5n2jr/wPxNI0pSNLUPEuk6bP9mmuxJd4yLW3UzTH/gCAsB7kYqi2p+IdR4sdOh0yE/8ALbUG8yT8Iozj83B9qu2Om2OlweRYWkFtFnJWFAoJ9TjqferVfK4zi7EVPdw8VFd3q/8AL8zeOHS3MM+GYbw79au7nVm6+XcsBCP+2SgIf+BAn3rZiijgiWKGNY41GFRBgAewFPor5jEYuviZc1abk/M2UUtgorD8Xa5pmgeG7u61SUJC8bRKg+9KzA4RR6n/AOvVL4c2Uun+AdLgmsTYvtd/szMWKBnZhnPOSCDg9M4p/V39X9u+9l56Nv7tOnXcL62LeleI31PxPrOj/wBnSwppvl5uHbiXeCRgY46Hv/OttJY5c+W6vg4O05wa4Tx9NpXh/wAPtYRafK02u3giKW1wLdppHOSXlIOB0B9uOlcl4BsfsvxdubWzsrXTYbPTdtzBZ3TTo7ZGNzHq3zDP+765r0I5fCtQliI+6krpaa2sm/ivq/Jojnadj03QvEb61q+t2LadLarpdwIBLI2fOJBOQMcDG09+GFbjSIjKrOqljhQTjP0qvYabZ6ZC8NlbpAjyNI4Qfec9WJ6kn1NeDalbT+IvFfjWTUtPtryWzlaKGa61I232KJS2x0XByMAH/wDXUYXBUsbUm4PkjFLzfRdWt3rv5IcpOKPoF3SNSzsFUdSxwKVWVlDKQVPIIPWvD9Z0/U9a0Twak+o6Tqt/HDJnTbm7Oy9GSFdWBG5go6kjn15FdT8Jry0C63pEWlT6Xc2VwrXFqbrz4kZs/wCrPb7p457cmqr5UqWHdZTu1ukltzct9Xe3na3S4Kd3Y9IooorxzQKKKKACiiigClqGj6dqqqL6zhnKco7L8yH1Vuqn3BFUl0zV9O50rWZJIx0ttSBnX6CTIkH1Jb6VtUV3YTMsXhH+4m15dPu2IlCMt0ZK+J57L5db0i5tAOtxbZuYPzUb1HuyAe9bVjqNlqlsLiwu4LqE8b4ZA4z6ZHeo6y73w7pl7cm6a3MF4f8Al6tXMM34uhBI9jke1fU4PjCS93FQv5x/yf8AmYyw/wDKzoaK5lY/Emm/8e17b6rAP+WV8vky/hKg2n8U/GpU8X2UDBNYgudIkzjdeKPJJ9pVJT8yD7V9Tg83weL0pTV+z0f3P9DCVOUd0dDRTY5EmjWSJ1dGGVZTkEexp1ekQFUdY1jT9A0ubUtTuUt7WEZZ2/QAdyewFVfEnibTfCulNqGpTFVztiiQZkmfsiL3J/8A11yuj+GdS8WapD4k8ZwiNIjv07RScx2w7PJ/ek+vT9AAQWelal8SbyLVfEMEtl4aiYSWOkvw1z6Sz+3ov9OW9HREjjVEUKigBVUYAA7CnUUAeXfBz/kfviZ/2FB/6NuK9hrx74Of8j98TP8AsKD/ANG3Few0AFFFFABRRRQAUUUUAFFFFABRRRQAUUUUAFFFFABRRRQAUUUUAFFFFABRRRQAUUUUAeMfCr/kofxL/wCwr/7VuK9Xryj4Vf8AJQ/iX/2Ff/atxXq9ABRRRQAUUUUAFFFFABRRRQAUUUUAFFFFABRRRQAUUUUAFFFFABRRRQAUUUUAFFFFABRRRQAUUUUAFFFFABRRRQAUUUUAFFFFABRRRQAUUUUAcH4D/wCRs8c/9hRf/RYrvK89bwh4v07xDrN/oOu6db2+p3AuGjuLUuynaBjOam/sr4mf9DLon/gA3+NAHeUVwf8AZXxM/wChl0T/AMAG/wAaP7K+Jn/Qy6J/4AN/jQB3lFcH/ZXxM/6GXRP/AAAb/Gj+yviZ/wBDLon/AIAN/jQB3lFcH/ZXxM/6GXRP/ABv8aP7K+Jn/Qy6J/4AN/jQB3lFcH/ZXxM/6GXRP/ABv8aP7K+Jn/Qy6J/4AN/jQB3lFcH/AGV8TP8AoZdE/wDABv8AGj+yviZ/0Muif+ADf40Ad5RXB/2V8TP+hl0T/wAAG/xo/sr4mf8AQy6J/wCADf40Ad5RXB/2V8TP+hl0T/wAb/Gj+yviZ/0Muif+ADf40Ad5RXB/2V8TP+hl0T/wAb/Gj+yviZ/0Muif+ADf40Ad5RXB/wBlfEz/AKGXRP8AwAb/ABo/sr4mf9DLon/gA3+NAHeUVwf9lfEz/oZdE/8AABv8aP7K+Jn/AEMuif8AgA3+NAHeVwfgP/kbPHP/AGFF/wDRYo/sr4mf9DLon/gA3+NaHgrwxqfh+TWLrV7+3vLzUrkTu0ERRRhcdDQB1lFFFABRRRQAUUUUAFZuu6ndaTpjXVppdxqUoYDyLcgED+8c84H+yCeehrSooA4mw1C98TM6SeIIbXb/AKyx05Skye0jSDePwRDWxp+haZpkjTWtoguHGHuJCZJn/wB6RiWP4mr+paJpmsKov7KGdk+5Iy4eP3Vh8yn3BFZTaFq2n86TrDTRjpa6mDKPoJRhx9W318hm+S5jibuFbmX8r0/LR/Ox0U6kFujXorEbX5rDjW9KubEDrcRD7Rb/AF3qMqPd1WtW0vLW/t1uLO4huIG+7JC4dT9COK+GxWBxGFfLXg4/l9+x0xkpbMmooorlKCiiigDjvHXhW/1+TR9R0qW2F/pNwZ4obsEwy5xkNjkH5Rg/Xp1p/h/T/F0/iGXVvEV5bW9sIfJh02ydmjznO9ye/Xp7ela2u+KNH8NfZf7XvBardOUiZlYgkDJyQOPxqv4f8beH/E9xPb6Vf+bPANzxPG0bbf7wDAZHT8x616camLeEt7O8EmlLl2Tetntv8/Mi0ebcv61oOl+IrH7Fq1lHd24YOEfIww7gjkHk9Kg0nwroehXT3Ol6ZBaTPGImaIEZUYwCOnbr1rLtfiV4SvNXXTINWRp3k8pH8txG7/3Q+NpP489qzf8AhJ9UPxD8T6O13HFY2GmC4gJiB8t9qkscDJHJOKIYbG8sqTvFJc1ndJq6W3XVoHKO531YGr+CPDWvXwvdT0e3uLkADzSCC2OmcEbvxzWXpPjSw0/wDYa5r2tw3CzF1+1RwMnnNvYALHtDZAGOnbNXtK8feG9bv1sbC/Mt0YWnMRhdSqqcHdkcHjoeeh6Gs44bGUJSnTUlytptXW2+un4heL3Luq+FNB1uxgstR0q2nt7cYhTbt8oYxhSMEDgcD0qbRtA0rw9aG10mxhtIWbcyxjlj6knk/jWPpPxH8La5qENjp2pedPNG8oHkuoVVzncSML0PXHb1FRW3xQ8H3eqJp8OsIZXfy0do3WN29A5G39cVUsPmHK6TjOy1as7etvvC8Nzr6K5rXPHvh3w9fmxv7x/tSp5jxQwPKY19W2g4/Grcvi3QYfDieIJNThGluMpcc4bnGAMZJyDxjPBrm+qV+WMuR2lto9fTuPmXc2qK53w9448PeKJ5bfSr8SXEa72hkjaN9vqAwGRyOnrXH6rqfxBtNF1LxLeX+n6NBaMzQ6VNAknmIOgaQH7zdBg8n0rell9WdR052hLTSV023tZWb/C3dic1a6PUqKzfD2qPrfh3TtUkgMD3dukzRH+EkZ/L09q0q45wcJOEt1oUtQoooqBhRRRQAUhAZSrAEEYIPes/UNe0zTJVgubpftLDKW0SmSZ/pGoLH8BVZbnxBqf/AB46bHp0J6XGpNuf6iFD/wChMp9q9HB5VjMX/Bg2u+y+9kSnGO7EfwxYwyNNpkk+kzE7i9i+xCfVoyDGx9ypNZQ8X6va3LWdnFbeJ5ASubANE8bdhI3zRD3JZT6Ka218I29yQ+tXlzqzd4p2CwD/ALZLhSP97cfet+GGK3hSGCJIokGFRFCqo9gK/QMoyzHYVL29dtfy7r73r91jkqTjLZHFeG/CF9c6qvijxe6XOtEf6NarzDp6/wB1B0Lerf8A6z3FFFfQmQUUUUAeXfBz/kfviZ/2FB/6NuK9hrx74Of8j98TP+woP/RtxXsNABRRRQAUUUUAFFFFABRRRQAUUUUAFFFFABRRRQAUUUUAFFFFABRRRQAUUUUAFFFFAHjHwq/5KH8S/wDsK/8AtW4r1evKPhV/yUP4l/8AYV/9q3Fer0AFFFFABRRRQAUUUUAFFFFABRRRQAUUUUAFFFFABRRRQAUUUUAFFFFABRRRQAUUUUAFFFFABRRRQAUUUUAFFFFABRRRQAUUUUAFFFFABRRRQAUUUUAFFFFABRRRQAUUUUAFFFFABRRRQAUUUUAFFFFABRRRQAUUUUAFFFFABRRRQAUUUUAFFFFABRRRQAUUUUAFFFFABWLe+FdKu7hrqOF7K8bk3Vk5hkY/7RXh/owIraoqZwjNcsldAc01p4k03/Uz22sQD+GYC3uMf7yjYx/4Cn1psfiewWZbfUVn0q5Y4Ed+nlhj6K+Sjn/dY109MmhiuIXhnjSWJxhkdQysPQg18/jOGMDiNYLkflt9233WNo1pLzKoORkdKKy28I21sS+i3dzpLdRHAwaA+3lNlQP93afeoWufEGm/8f2mx6jCP+XjTjtf6mFz/wCgsx9q+VxnCuNoa0rTXlo/uf6Nm0a8XvocN8YJRBqXg2ZrV7pY9TDm3RdzSgFDtA7k9MVnyGXx38RbvU9AtrmC1h0WazkupojEHmdXCrz3BZf++fpXaahaaF401XSJRqMkV5pFyLpbUjypcgg4eNwGA+X0FdfXP9e+qUIUuR+0Skne6td3266FcvM79D5x060lu/DuneFLy518Xsd1htKg06MeQ25j5gkIHHOclu57V3E1vP8A8LQ8byeVIUfQ9qvtOGPlpwK9WopVs7dSTfJa6fXq2m3ol26692wVO3U8Eg0+/tfAfw91o6dc3VrpN3PJeW8cZZwrTZDbfbafzFbGnarHrnxre/gsLm0il0V9n2iLy3lAON+3rjsM9lr0XxT4Wg8UWtvG97eWVxbSeZBcWkm11P8AUdPyqn4d8EQ6JrM+tXeqXuq6pNEIPtF0w+SPOdqgDjp/nnPQ81oVKM5z+NqaS1+1Lm9Hvvp6dRcjTsjjfAeh3V18DtQsbWAw6hdpcqoZdrMx+UA59QAK5+91FNZ+GeneBrLQb8eII2jjaF7UqIWVstIWPAzzk/7RzXvlFc0c5ftZVZQvefOtdn5915aD9npa54n4ut4dK8WzXB1TXNC1FrSJHv4rdri2vyqAY2rznjHPHHT1j1CDxHqXgDwrrGqaQ8y6bqQuLqzhtwjSwAjDmMADoCOnRs9M17hRRHOnGMFyJuNtX2s1ZaXWj7u3Swez31PKLS9HjX4saPrei2V1FYabbSLd3k0JiDlgwEYz1xu/U+la/i7T7PW/iL4Z0zU/tc9mElmFqIN1u7hWIMjbhjG3gbTnp3NegUVzSzH95GVONlGLitdVe+t7b3fZeViuTTUQAKoVQABwAO1LSMwVSzEBQMknoKxW8T2c8jQ6VDcatMDgixUNGp9GlJEY+hbPtXHQw1bES5aMXJ+SKcktzbqve39nptubi+uobaEdZJnCD8zWeth4j1Lm6vLfSID/AMs7QCebH/XRxtX6BD9au2HhjSdPuBdLbm4vR/y93TmaUfRmyVHsMD2r6fB8I4mp72IkoLtu/wDL8WYSxCWxnrrl5qHGi6RcXKnpc3WbaD65Yb2HuqEe9Sr4e1G/51jWZfLPW104G3T6F8mQ/UMv0ro6K+qwfD+AwuqhzPvLX/gfgYSqykUtN0fTtIiaPT7KC2VjlzGgBc+rHqx9zV2iiva2MwooooAKKKKACiiigDy74Of8j98TP+woP/RtxXsNePfBz/kfviZ/2FB/6NuK9hoAKKKKACiiigAooooAKKKKACiiigAooooAKKKKACiiigAooooAKKKKACiiigAooooA8Y+FX/JQ/iX/ANhX/wBq3Fer15R8Kv8AkofxL/7Cv/tW4r1egAooooAKKKKACiiigAooooAKKKKACiiigAooooAKKKKACiiigAooooAKKKKACiiigAooooAKKKKACiiigAooooAKKKKACiiigAooooAKKKKACiiigAooooAKKKKACiiigAooooAKKKKACiiigAooooAKKKKACiiigAooooAKKKKACiiigAooooAKKKKACiiigAooooAKKKKACiiigAooooApajpGnavEseoWUFyqnKeYgJQ+qnqp9xWS3h7UbDnR9Zl2Dpa6iDcJ9A+RIPqWYe1dHRXPiMLQxMeWtBSXmhqTWxy7a3eafxrWkXFso63Nrm5g/NRvUe7IB71p2V/Z6lbi4sbqG5hPSSFw4/MVq1kX/hjSdQuDdNbG3vT/AMvdq5hl/FlwWHscj2r5jGcI4ep72Hk4vs9V/n+ZvHENblqisdrDxHpvNreW+rQD/lneAQzY/wCuiDa30KD60xfE9nBIsWqw3GkzE4AvVCxsfRZQTGfoGz7V8rjMgx+F1lDmXeOv/B+9G8asZG3RSKwZQykFSMgjoarX+p2Olwedf3cFtGTgNK4XJ9BnqfYV5EYyk+WKuyy1RWIusajqPGjaNM6HpdX+baL6gEGRv++QD61Kvhu8vvm1rWJ5lPW2sc20X0JBMjf994PpXv4PhnHYjWS5F57/AHb/AH2MpVooffeINM0+4+zSXHmXZGRa26GaY/8AAEBbHvjFQrL4j1P/AI9bGDSoD/y2vz5suPaJDgfi+fUVt6fpdhpVv5Gn2cFrETkrDGFyfU46n3NW6+qwfCuDo61bzfnovuX6tmEq8ntoc+nhCymYSaxPcavIDnbeMPKB9olAT8SCfet6ONIo1jjRURRhVUYAHsKdRX0dKlTpR5KcUl2Whk23uFFFFaCCiiigAooooAKKKKACiiigAooooA8u+Dn/ACP3xM/7Cg/9G3Few1498HP+R++Jn/YUH/o24r2GgAooooAKKKKACiiigAooooAKKKKACiiigAooooAKKKKACiiigAooooAKKKKACiiigDxj4Vf8lD+Jf/YV/wDatxXq9eUfCr/kofxL/wCwr/7VuK9XoAKKKKACiiigAooooAKKKKACiiigAooooAKKKKACiiigAooooAKKKKACiiigAooooAKKKKACiiigAooooAKKKKACiiigAooooAKKKKACiiigAooooAKKKKACiiigAooooAKKKKACiiigAooooAKKKKACiiigAooooAKKKKACiiigAooooAKKKKACiiigAooooAKKKKACiiigAooooAKKKKACiiigAooooAKa8aSxtHIiujDDKwyCPcU6igDznx7p8XhbRYb/AMPvLpks17DBIls5WIq7Yb92coD7gA12OneG9K0yf7TBah7sjBup2Msx/wCBuS2PbOK5j4tf8inaf9hS1/8ARld5WcaNOM3NRV31tqO72CiiitBBRRRQAUUUUAFFFFABRRRQAUUUUAFFFFABRRRQAUUUUAeXfBz/AJH74mf9hQf+jbivYa8e+Dn/ACP3xM/7Cg/9G3Few0AFFFFABRRRQAUUUUAFFFFABRRRQAUUUUAFFFFABRRRQAUUUUAFFFFABRRRQAUUUUAeMfCr/kofxL/7Cv8A7VuK9Xryj4Vf8lD+Jf8A2Ff/AGrcV6vQAUUUUAFFFFABRRRQAUUUUAFFFFABRRRQAUUUUAFFFFABRRRQAUUUUAFFFFABRRRQAUUUUAFFFFABRRRQAUUUUAFFFFABRRRQAUUUUAFFFFABRRRQAUUUUAFFFFABRRRQAUUUUAFFFFABRRRQAUUUUAFFFFABRRRQAUUUUAFFFFABRRRQAUUUUAFFFFABRRRQAUUUUAFFFFABRRRQAUUUUAFFFFABRRRQAUUUUAeR/GPxnpNpBDoExnW+jura7I8r5TGGySD36H8q9F8N+JLDxXo66ppnnG1d2RWlTYSRwcD0zx+FeRftEaGXi0fXYkywZrOUgcnPzJ/J/wA69Z8HaKPDvg/StJ2hXt7dRIB/z0PzOf8AvomgDbooooAKKKKACiiigAooooAKKKKACiiigAooooAKKKKACiiigDy74Of8j98TP+woP/RtxXsNePfBz/kfviZ/2FB/6NuK9hoAKKKKACiiigAooooAKKKKACiiigAooooAKKKKACiiigAooooAKKKKACiiigAooooA8Y+FX/JQ/iX/ANhX/wBq3Fer15R8Kv8AkofxL/7Cv/tW4r1egAooooAKKKKACiiigAooooAKKKKACiiigAooooAKKKKACiiigAooooAKKKKACiiigAooooAKKKKACiiigAooooAKKKKACiiigAooooAKKKKACiiigAooooAKKKKACiiigAooooAKKKKACiiigAooooAKKKKACiiigAooooAKKKKACiiigAooooAKKKKACiiigAooooAK4r4p6nqGleDxLpl5JaXEl5BD50eNwVmwcZrta4D4wf8AImQf9hK2/wDQ6Brcw/7D8S/9D1q//fKf4Uf2H4l/6HrV/wDvlP8ACujoq7I7vYw7HOf2H4l/6HrV/wDvlP8ACj+w/Ev/AEPWr/8AfKf4V0dFFkHsYdjnP7D8S/8AQ9av/wB8p/hR/YfiX/oetX/75T/Cujoosg9jDsc5/YfiX/oetX/75T/Cj+w/Ev8A0PWr/wDfKf4V0dFFkHsYdjnP7D8S/wDQ9av/AN8p/hR/YfiX/oetX/75T/Cujoosg9jDscjqPhHWNVt1t77xjqdxEsiyhJI0IDKcg9OtW/7D8S/9D1q//fKf4V0dFFkHsYdjnP7D8S/9D1q//fKf4Uf2H4l/6HrV/wDvlP8ACujoosg9jDsc5/YfiX/oetX/AO+U/wAKP7D8S/8AQ9av/wB8p/hXR0UWQexh2Oc/sPxL/wBD1q//AHyn+FH9h+Jf+h61f/vlP8K6OiiyD2MOxzn9h+Jf+h61f/vlP8KP7D8S/wDQ9av/AN8p/hXR0UWQexh2Oc/sPxL/AND1q/8A3yn+FZmtt4n8OxWd8vjHU7nN7DE0UqptYM4BzxXbVyvj7/kC2X/YStv/AEMUmiZ0oKLaR7FRRRUnEFFFFABRRRQAUUUUAeXfBz/kfviZ/wBhQf8Ao24r2GvHvg5/yP3xM/7Cg/8ARtxXsNABRRRQAUV5v8VfH+teC59BtNCsrO6utUlkjAugxGVKAAYZepfqT2rk/wDhYnxd/wChX0P/AL6/+31LlFbsTkluz3SivC/+FifF3/oV9D/76/8At9H/AAsT4u/9Cvof/fX/ANvpe0h3QuePc90orwv/AIWJ8Xf+hX0P/vr/AO30f8LE+Lv/AEK+h/8AfX/2+j2kO6Dnj3PdKK8L/wCFifF3/oV9D/76/wDt9H/CxPi7/wBCvof/AH1/9vo9pDug549z3SivC/8AhYnxd/6FfQ/++v8A7fR/wsT4u/8AQr6H/wB9f/b6PaQ7oOePc90orwv/AIWJ8Xf+hX0P/vr/AO30f8LE+Lv/AEK+h/8AfX/2+j2kO6Dnj3PdKK8L/wCFifF3/oV9D/76/wDt9H/CxPi7/wBCvof/AH1/9vo9pDug549z3SivC/8AhYnxd/6FfQ/++v8A7fR/wsT4u/8AQr6H/wB9f/b6PaQ7oOePc90orwv/AIWJ8Xf+hX0P/vr/AO311nwq8f6140n16012ys7W60uWOMi1DAZYuCDlm6FOoPempRezGpJ7M9IoooqhhRRRQB4x8Kv+Sh/Ev/sK/wDtW4r1evKPhV/yUP4l/wDYV/8AatxXq9ABRRRQAUUUUAFFFFABRRRQAUUUUAFFFFABRRRQAUUUUAFFFFABRRRQAUUUUAFFFFABRRRQAUUUUAFFFFABRRRQAUUUUAFFFFABRRRQAUUUUAFFFFABRRRQAUUUUAFFFFABRRRQAUUUUAFFFFABRRRQAUUUUAFFFFABRRRQAUUUUAFFFFABRRRQAUUUUAFFFFABRRRQAVwHxg/5EyD/ALCVt/6HXf1wHxg/5EyD/sJW3/odA1uT0UUVoemFFFFABRRRQAUUUUAFFFFABRRRQAUUUUAFFFFABRRRQAUUUUAFcr4+/wCQLZf9hK2/9DFdVXK+Pv8AkC2X/YStv/QxSZnU+BnsVFFFQeeFFFFABRRRQAUUUUAeXfBz/kfviZ/2FB/6NuK9hrx74Of8j98TP+woP/RtxXsNABRRRQB4r8cv+Rt+Hv8A1/Sf+jIK2Kx/jl/yNvw9/wCv6T/0ZBWxXDiviRzV90FFFFcpzhRRRQAUUUUAFFFFABRRRQAUUUUAFFFFABWP8Df+Rt+IX/X9H/6MnrYrH+Bv/I2/EL/r+j/9GT11YX4mb0N2e1UUUV3HUFFFFAHjHwq/5KH8S/8AsK/+1bivV68o+FX/ACUP4l/9hX/2rcV6vQAUUUUAFFFFABRRRQAUUUUAFFFFABRRRQAUUUUAFFFFABRRRQAUUUUAFFFFABRRRQAUUUUAFFFFABRRRQAUUUUAFFFFABRRRQAUUUUAFFFFABRRRQAUUUUAFFFFABRRRQAUUUUAFFFFABRRRQAUUUUAFFFFABRRRQAUUUUAFFFFABRRRQAUUUUAFFFFABRRRQAUUUUAFcB8YP8AkTIP+wlbf+h139cB8YP+RMg/7CVt/wCh0DW5PRRRWh6Zg+MtZufD/hS91SzWNp4PL2iUEr8zqpyAR2JrlbvxP440jQ01y9s9FmsNscjLEXEm1sY6nHcetbXxP/5J5qn/AGy/9GpXD654XGi6No2vE3eqaYqRNe2VxOxCggYZcYwOcY+nUZqWYVHK+h6hN4l0qz0q01C+vIrSG6jWSMSthjkA4x1OM1YGtaYdL/tQX9v9hxn7R5g2enX1zxivNPEl1E/jbR9WW8trbSptPAtLm4tvOhVucrtyMHBH04qqljpj+A9Wnl1C7ewm1ESpNbWGxInGcsELcx9B1GOBRcftHdnqGleItH1tnTTdQguXQZZEb5gPXB5x706PXtKl0yTUo7+BrKMkPOG+VT7n8RXn3g/U7h/G8do02mayGtSTqNrbBJIVGcBiABycDHuOawbLWLOy+FusaFPIy6p9ocfZth3AblJJ44Awc/Si4va6X9T0bUPFEtv4v0LT7drd9P1CCSZ5SCTgIWBU5xjgdqPDfjiw8Q3epQq8MItXby8yZMkS9ZPYc1zUYDeL/h+CAQdLIIP/AFxNZ+iX+n6TbeNYHsYbi+juJ3W0aP70IbBHT7o4JHoKLhzu/wDXY9GsPFeg6ne/Y7LVbaa4OcRq/LY9PX8KTVPFGkabLLZy6lax3wjLLC785xkA+meOK8rgvYbnX/B00d9YyYnQNb2Vp5SWu7bhCxyWJ56+nvWhZ3WkaZc+MbHX4Q2p3M8hhV4S7zK2dgTj1II+o9OC4Kq2dv4Y8UDUPBdvrmszW1rvLiR87EGHKjqT6CtfS9d0rW1dtNv4LnZ98Rtyv1HWvIYU2+AvB13dxNLo9vfyteqF3ADzTgsO4+9+eO9dHpk9hq3xUtb3w2i/YYLNlvpYYykbEhto6DJzt/L2ouEaj0Xod7qms6dosKS6ldx20cjbVaQ8E9cVUsPFugapeJZ2WqW89xJnbGhOTgZP6A1D4r0rUdWs4I9NTTGkSTc39oQ+YuMdhg4NY/h/w1r+n63BdXsXh1bdN242doEl5UgYO0Y5Izz0zTLblzW6Gz4u1i60PSIrq0EZke6iiPmLkbWbBq9qmuaXokSSalfQ2yucJ5jct9B1NYPxG/5Fy3/6/wC3/wDQ65/xTrqjxtcWsz2Onmxt1aC5msjcTTlhnbGOncj65/AFKfK2dNrXilYrDR7zR7i3uYL3U4bR3HzDY2d2OeDxXUV4zo1uY/Anhy5Ygtd+JYpjgYAOWXp2+7Xs1CHCTlqwrlfH3/IFsv8AsJW3/oYrqq5H4iwrceHbeFywWS/t0JU4OC+ODQwqfAz2aiuD/wCFS6B/z+63/wCDGSj/AIVLoH/P7rf/AIMZKg887yiuD/4VLoH/AD+63/4MZKP+FS6B/wA/ut/+DGSgDvKK4P8A4VLoH/P7rf8A4MZKP+FS6B/z+63/AODGSgDvKK4P/hUugf8AP7rf/gxko/4VLoH/AD+63/4MZKAMr4Of8j98TP8AsKD/ANG3Few187fDXwJpWueL/HNldXOpJFp1+IoTBdtGzDzJh85H3j8g5Pv616T/AMKf8O/8/wBrn/gykoA9ArjtK+KXg7Vr2WyTWYba7jkaNobv9ydwOOC3ynp2Jqh/wp/w7/z/AGuf+DKSvMNN/Z01a91GebVNUgsbQysUSPM8xXJxk8AHHfJoA6T44MG8V/DxlIKm+kII7/PBWzXA+PvA+m+Btc8A2enXF7Ost+5c3U5cZDwfdXhV6noOeM5xXfVw4r4kc1fdGJrXizSfD93BbajM8TTqXVghIAHXJqraeOtEutDn1gyyw2cMnlFpY8FnxnCgZyea5jx9BHdeP/C0EyB43kUMpGQw8wZBpPi3C0dvorRqiWouW80lfk3YXaWA68BqmNOL5V3IUIuy7nTaL4+0PXL5bKCSaG4cZjS4j2eZ9Dkin6z440fRNQNhMbi4u1Xc8VtFvKDrz0rjdZt7y/1nQ/7Q8RaN9pSVXtPssTlm+ZcDKg8ZxjOKm1fT2k8c31x4Y8Rw2mrlf9ItbhWUcYBwxUhugOMH16UezhcfJG52+jeKdK16wnvLGZmW3GZkZcOnGeR+Bp+j+I9P1zSpdSsmkNvEzKxdMHKgE8fQ1x3g/W7y/k17Sr2ysheQRO0lzaRqolbkHcV4JJOc/Wqnw81Sxsvh7qouLqGJo5ZWKs4BwY1xx7kECk6SV/kJw3N3XfEttrXw71XUtInnQR4jEmCjBgy5x+BrndT8ZXmjfDvRY7a6kGp3ce4yuN52AsCcnvnFU9C/5Iprf/Xyf/adO8SD/izOgnHImTn8JK1jCKdvP9C1FLTzO6tfG2jL4Wj1ie5dbcEQksh3vIByAO9R6T8Q9C1fUY7CNrmCeXiMXEW0OfQEE/rWR4t8RWVl4f0eO3s9O1CS5ISN7gB4oSFXJPofmHpWBrv9or478MDVNWtb24+1RHy7aMKsIMi4Gepzz19KzjTi9/MlQTPQNf8AGuj+HbmO1vJJZLlxnyYE3sB2J9K5PSvEI1n4rxvY3s0mnyWxIiLMFDBOcqehBpunTW9l8Z9WfVHjjd4T9neUgDJCYwT/ALII/MVHp09lc/G6eWxeN4jEwZ4yCrP5Y3EY9/1zTUEk/Qaikn6HV618QNB0K+ayuJpZrhPvpbpu2fU5A/CtbRde07xDZfatNuBKgO1lIwyH0IPSvPvhtdWVjquvpqs0MOpmc72nYKSAW3YJ9+T+FTeAfLm8e+I7jTQP7LOQCgwhYv8ALj2+/j2NKVOKT8iZQST8j02sf4G/8jb8Qv8Ar+j/APRk9bFY/wADf+Rt+IX/AF/R/wDoyeqwvxMqhuz2qiiiu46gooooA8Y+FX/JQ/iX/wBhX/2rcV6vXlHwq/5KH8S/+wr/AO1bivV6ACiiigAooooAKKKKACiiigAooooAKKKKACiiigAooooAKKKKACiiigAooooAKKKKACiiigAooooAKKKKACiiigAooooAKKKKACiiigAooooAKKKKACiiigAooooAKKKKACiiigAooooAKKKKACiiigAooooAKKKKACiiigAooooAKKKKACiiigAooooAKKKKACiiigArgPjB/wAiZB/2Erb/ANDrv64D4wf8iZB/2Erb/wBDoGtyeiiitD0xGRXUq6hlPUEZFBRSmwqCuMYxxilooERvbwSQ+S8MbRf3CoI/KnBEWPywihAMbQOMemKdRQBHDbwW6lYIY4gTkhFC5/Kj7PBvd/Jj3uMM20ZYe/rUlFADfKj3Kdi5UYU46fSmiCFZmlESCVhhnCjJHuakooAiS1t41CpBEqg7gFQAZ9frTmhieVZWiQyKMByoyB9afRQA0RosflhFCdNoHH5UkUMUCbIYkjXOdqKAP0p9FABRRRQMxvEuiNr+mR2iziEpcRzbiu7O05xWq0ETyrK0SNIowrlQSB7GpKKQrK9zF1/QP7Yi02OKVLcWd/FeEbMhgmfl9s561tUUUBbqFcr4+/5Atl/2Erb/ANDFdVXK+Pv+QLZf9hK2/wDQxQyKnwM9ioooqDzwooooAKKKKACiiigDy74Of8j98TP+woP/AEbcV7DXj3wc/wCR++Jn/YUH/o24r2GgAooooA8V+OX/ACNvw9/6/pP/AEZBWxWP8cv+Rt+Hv/X9J/6MgrYrhxXxI5q+6M690LTdQ1G1v7q1El1aHMMm9hsOc9AcHn1qxf2Fpqdm9pe26TwP95HGR/8ArqzRXNdmF2YGleCvD2i3gu7HTkScfdd3Zyv03E4qTWPCGha9OJ9R09JZgMeYrMjEe5UjP41t0U+eV73HzO97mdpGhaZoNu0GmWiW6MctjJLH3JyTWevgXw0mom/GlReeW3febaD6hc7R+VdDRRzS7i5n3MiDwvo1to02kRWQWwnbdJD5jHceO+c9h37U+bw5pNxoiaNLZq1ggAWIs3y45GDnP61qUUcz7hdmAPBfh8aN/ZJ05TZiQyhDIxIcjGQ2cj86ZD4E8NW6wCLS0UwSeZG4kfeG453Zyeg610VFHPLuPml3MfWvC2jeIGjfU7FZnjGFcMyMB6ZUgke1Fl4W0TTr6K9s9PjhuIo/LR0ZhhfpnB6nnrWxRRzSta4uZ2tcwtW8HaBrlz9pv9OSSfvIrMjN9SpGfxrS03S7HR7NbTT7aO3gBztQdT6k9Sfc1bopOTatcLu1grH+Bv8AyNvxC/6/o/8A0ZPWxWP8Df8AkbfiF/1/R/8AoyeunC/Ezahuz2qiiiu46gooooA8Y+FX/JQ/iX/2Ff8A2rcV6vXlHwq/5KH8S/8AsK/+1bivV6ACiiigAooooAKKKKACiiigAooooAKKKKACiiigAooooAKKKKACiiigAooooAKKKKACiiigAooooAKKKKACiiigAooooAKKKKACiiigAooooAKKKKACiiigAooooAKKKKACiiigAooooAKKKKACiiigAooooAKKKKACiiigAooooAKKKKACiiigAooooAKKKKACiiigArgPjB/yJkH/AGErb/0Ou/rz74ySLF4HikdgqJqFuzE9gH60DW5Zornf+E88Lf8AQbtfzP8AhR/wnnhb/oN2v5n/AAqz0eePc6Kiud/4Tzwt/wBBu1/M/wCFH/CeeFv+g3a/mf8ACgOePc6Kiud/4Tzwt/0G7X8z/hR/wnnhb/oN2v5n/CgOePc6Kiud/wCE88Lf9Bu1/M/4Uf8ACeeFv+g3a/mf8KA549zoqK53/hPPC3/QbtfzP+FH/CeeFv8AoN2v5n/CgOePc6Kiud/4Tzwt/wBBu1/M/wCFH/CeeFv+g3a/mf8ACgOePc6Kiud/4Tzwt/0G7X8z/hR/wnnhb/oN2v5n/CgOePc6Kiud/wCE88Lf9Bu1/M/4Uf8ACeeFv+g3a/mf8KA549zoqK53/hPPC3/QbtfzP+FH/CeeFv8AoN2v5n/CgOePc6Kiud/4Tzwt/wBBu1/M/wCFH/CeeFv+g3a/mf8ACgOePc6KuV8ff8gWy/7CVt/6GKsf8J54W/6Ddr+Z/wAK5/xb4p0PVrCxtbDU4Lic6hbsI0JzgOM0MipKPK9T3qiiioOAKKKKACiiigAooooA8u+Dn/I/fEz/ALCg/wDRtxXsNePfBz/kfviZ/wBhQf8Ao24r2GgAooooA8P/AGgLgafrHgjUpY5Gt7W6mkkKLno0LY9MkKcfSuc/4XD4f/589T/79R//ABdfSdFZzpRnqyJU1Lc+bP8AhcPh/wD589T/AO/Uf/xdH/C4fD//AD56n/36j/8Ai6+k6Kz+rUyfYwPmz/hcPh//AJ89T/79R/8AxdH/AAuHw/8A8+ep/wDfqP8A+Lr6Too+rUw9jA+bP+Fw+H/+fPU/+/Uf/wAXR/wuHw//AM+ep/8AfqP/AOLr6Too+rUw9jA+bP8AhcPh/wD589T/AO/Uf/xdH/C4fD//AD56n/36j/8Ai6+k6KPq1MPYwPmz/hcPh/8A589T/wC/Uf8A8XR/wuHw/wD8+ep/9+o//i6+k6KPq1MPYwPmz/hcPh//AJ89T/79R/8AxdH/AAuHw/8A8+ep/wDfqP8A+Lr6Too+rUw9jA+bP+Fw+H/+fPU/+/Uf/wAXR/wuHw//AM+ep/8AfqP/AOLr6Too+rUw9jA+bP8AhcPh/wD589T/AO/Uf/xddH+z/cDUNY8b6lFHItvdXUMkZdcdWmbHpkBhn617hRWkKUYaoqNNR2CiiitCwooooA8Y+FX/ACUP4l/9hX/2rcV6vXlHwq/5KH8S/wDsK/8AtW4r1egAooooAKKKKACiiigAooooAKKKKACiiigAooooAKKKKACiiigAooooAKKKKACiiigAooooAKKKKACiiigAooooAKKKKACiiigAooooAKKKKACiiigAooooAKKKKACiiigAooooAKKKKACiiigAooooAKKKKACiiigAooooAKKKKACiiigAooooAKKKKACiiigAooooAKjmghuYjFPEksZ6pIoYH8DUlFAFD+w9J/6Bdl/4Dp/hR/Yek/8AQLsv/AdP8Kv0UAUP7D0n/oF2X/gOn+FH9h6T/wBAuy/8B0/wq/RQBQ/sPSf+gXZf+A6f4Uf2HpP/AEC7L/wHT/Cr9FAFD+w9J/6Bdl/4Dp/hR/Yek/8AQLsv/AdP8Kv0UAUP7D0n/oF2X/gOn+FH9h6T/wBAuy/8B0/wq/RQBQ/sPSf+gXZf+A6f4Uf2HpP/AEC7L/wHT/Cr9FAFD+w9J/6Bdl/4Dp/hR/Yek/8AQLsv/AdP8Kv0UAUP7D0n/oF2X/gOn+FH9h6T/wBAuy/8B0/wq/RQBQ/sPSf+gXZf+A6f4Uf2HpP/AEC7L/wHT/Cr9FAFD+w9J/6Bdl/4Dp/hR/Yek/8AQLsv/AdP8Kv0UAUP7D0n/oF2X/gOn+FOTR9LjdXTTbNXU5VlgUEH1HFXaKACiiigAooooAKKKKACiiigDy74Of8AI/fEz/sKD/0bcV7DXj3wc/5H74mf9hQf+jbivYaACiiigAooooAKKKKACiiigAooooAKKKKACiiigAooooAKKKKACiiigAooooAKKKKAPGPhV/yUP4l/9hX/ANq3Fer14vBoHxQ8J+NPFV94d8O2F7a6vfvOJLidOV3uy4HmoRxIc5HatL+2Pjh/0J2if9/k/wDkigD1aivKf7Y+OH/QnaJ/3+T/AOSKP7Y+OH/QnaJ/3+T/AOSKAPVqK8p/tj44f9Cdon/f5P8A5Io/tj44f9Cdon/f5P8A5IoA9Woryn+2Pjh/0J2if9/k/wDkij+2Pjh/0J2if9/k/wDkigD1aivKf7Y+OH/QnaJ/3+T/AOSKP7Y+OH/QnaJ/3+T/AOSKAPVqK8p/tj44f9Cdon/f5P8A5Io/tj44f9Cdon/f5P8A5IoA9Woryn+2Pjh/0J2if9/k/wDkij+2Pjh/0J2if9/k/wDkigD1aivKf7Y+OH/QnaJ/3+T/AOSKP7Y+OH/QnaJ/3+T/AOSKAPVqK8p/tj44f9Cdon/f5P8A5Io/tj44f9Cdon/f5P8A5IoA9Woryn+2Pjh/0J2if9/k/wDkij+2Pjh/0J2if9/k/wDkigD1aivKf7Y+OH/QnaJ/3+T/AOSKP7Y+OH/QnaJ/3+T/AOSKAPVqK8p/tj44f9Cdon/f5P8A5Io/tj44f9Cdon/f5P8A5IoA9Woryn+2Pjh/0J2if9/k/wDkij+2Pjh/0J2if9/k/wDkigD1aivKf7Y+OH/QnaJ/3+T/AOSKP7Y+OH/QnaJ/3+T/AOSKAPVqK8p/tj44f9Cdon/f5P8A5Io/tj44f9Cdon/f5P8A5IoA9Woryn+2Pjh/0J2if9/k/wDkij+2Pjh/0J2if9/k/wDkigD1aivKf7Y+OH/QnaJ/3+T/AOSKP7Y+OH/QnaJ/3+T/AOSKAPVqK8p/tj44f9Cdon/f5P8A5Io/tj44f9Cdon/f5P8A5IoA9Woryn+2Pjh/0J2if9/k/wDkij+2Pjh/0J2if9/k/wDkigD1aivKf7Y+OH/QnaJ/3+T/AOSKP7Y+OH/QnaJ/3+T/AOSKAPVqK8p/tj44f9Cdon/f5P8A5Io/tj44f9Cdon/f5P8A5IoA9Woryn+2Pjh/0J2if9/k/wDkij+2Pjh/0J2if9/k/wDkigD1aivKf7Y+OH/QnaJ/3+T/AOSKP7Y+OH/QnaJ/3+T/AOSKAPVqK8p/tj44f9Cdon/f5P8A5Io/tj44f9Cdon/f5P8A5IoA9Woryn+2Pjh/0J2if9/k/wDkij+2Pjh/0J2if9/k/wDkigD1aivKf7Y+OH/QnaJ/3+T/AOSKP7Y+OH/QnaJ/3+T/AOSKAPVqK8p/tj44f9Cdon/f5P8A5Io/tj44f9Cdon/f5P8A5IoA9Woryn+2Pjh/0J2if9/k/wDkij+2Pjh/0J2if9/k/wDkigD1aivKf7Y+OH/QnaJ/3+T/AOSKP7Y+OH/QnaJ/3+T/AOSKAPVqK8p/tj44f9Cdon/f5P8A5Io/tj44f9Cdon/f5P8A5IoA9Woryn+2Pjh/0J2if9/k/wDkij+2Pjh/0J2if9/k/wDkigD1aivKf7Y+OH/QnaJ/3+T/AOSKP7Y+OH/QnaJ/3+T/AOSKAPVqK8p/tj44f9Cdon/f5P8A5Io/tj44f9Cdon/f5P8A5IoA9Woryn+2Pjh/0J2if9/k/wDkij+2Pjh/0J2if9/k/wDkigD1aivKf7Y+OH/QnaJ/3+T/AOSKP7Y+OH/QnaJ/3+T/AOSKAPVqK8p/tj44f9Cdon/f5P8A5Io/tj44f9Cdon/f5P8A5IoA9Woryn+2Pjh/0J2if9/k/wDkij+2Pjh/0J2if9/k/wDkigD1aivKf7Y+OH/QnaJ/3+T/AOSKP7Y+OH/QnaJ/3+T/AOSKAPVqK8p/tj44f9Cdon/f5P8A5Io/tj44f9Cdon/f5P8A5IoA9Woryn+2Pjh/0J2if9/k/wDkij+2Pjh/0J2if9/k/wDkigD1aivKf7Y+OH/QnaJ/3+T/AOSKP7Y+OH/QnaJ/3+T/AOSKAPVqK8p/tj44f9Cdon/f5P8A5Io/tj44f9Cdon/f5P8A5IoA9Woryn+2Pjh/0J2if9/k/wDkij+2Pjh/0J2if9/k/wDkigD1aivKf7Y+OH/QnaJ/3+T/AOSKP7Y+OH/QnaJ/3+T/AOSKAPVqK8p/tj44f9Cdon/f5P8A5Io/tj44f9Cdon/f5P8A5IoA9Woryn+2Pjh/0J2if9/k/wDkij+2Pjh/0J2if9/k/wDkigD1aivKf7Y+OH/QnaJ/3+T/AOSKP7Y+OH/QnaJ/3+T/AOSKAPVqK8p/tj44f9Cdon/f5P8A5Io/tj44f9Cdon/f5P8A5IoA9Woryn+2Pjh/0J2if9/k/wDkij+2Pjh/0J2if9/k/wDkigD1aivKf7Y+OH/QnaJ/3+T/AOSKP7Y+OH/QnaJ/3+T/AOSKAPVqK8p/tj44f9Cdon/f5P8A5Io/tj44f9Cdon/f5P8A5IoA9Woryn+2Pjh/0J2if9/k/wDkij+2Pjh/0J2if9/k/wDkigD1aivKf7Y+OH/QnaJ/3+T/AOSKP7Y+OH/QnaJ/3+T/AOSKAPVqK8p/tj44f9Cdon/f5P8A5Io/tj44f9Cdon/f5P8A5IoAl+Dn/I/fEz/sKD/0bcV7DXlvwh8L+JtE1PxVqviawisrjV7mOdY45VcZ3Ss2NrNgZkGMnNepUAFFFFABRRRQAUUUUAFFFFABRRRQAUUUUAFFFFABRRRQAUUUUAFFFFABRRRQAUUUUAFFFFABRRRQAUUUUAFFFFABRRRQAUUUUAFFFFABRRRQAUUUUAFFFFABRRRQAUUUUAFFFFABRRRQAUUUUAFFFFABRRRQAUUUUAFFFFABRRRQAUUUUAFFFFABRRRQAUUUUAFFFFABRRRQAUUUUAFFFFABRRRQAUUUUAFFFFABRRRQAUUUUAFFFFABRRRQAUUUUAFFFFABRRRQAUUUUAFFFFABRRRQAUUUUAFFFFABRRRQAUUUUAFFFFABRRRQAUUUUAFFFFABRRRQAUUUUAFFFFABRRRQAUUUUAFFFFABRRRQAUUUUAFFFFABRRRQAUUUUAFFFFABRRRQAUUUUAFFFFABRRRQAUUUUAFFFFABRRRQAUUUUAFFFFABRRRQAUUUUAFFFFABRRRQAUUUUAFFFFABRRRQAUUUUAFFFFABRRRQAUUUUAFFFFABRRRQAUUUUAFFFFABRRRQAUUUUAFFFFABRRRQAUUUUAFFFFABRRRQAUUUUAFFFFABRRRQAUUUUAFFFFABRRRQAUUUUAFFFFABRRRQAUUUUAFFFFABRRRQAUUUUAFFFFABRRRQAUUUUAFFFFABRRRQAUUUUAFFFFABRRRQAUUUUAFFFFABRRRQAUUUUAFFFFABRRRQAUUUUAFFFFABRRRQAUUUUAFFFFABRRRQAUUUUAFFFFABRRRQAUUUUAFFFFABRRRQAUUUUAFFFFAH/9k=)"
      ]
    },
    {
      "cell_type": "code",
      "metadata": {
        "id": "h83E6f6t40P2",
        "colab": {
          "base_uri": "https://localhost:8080/"
        },
        "outputId": "7128d94f-2641-44fb-b9a7-0f61b51b1da0"
      },
      "source": [
        "def crear_h(info):\n",
        "  BMR_original = info.BMR #...... 1. BMR ORIGINAL\n",
        "  TDEE_original = info.TDEE #.... 2. TDEE ORIGINAL\n",
        "  #Objetivo_original = info.objetivo #... 3. DEFINIR OBJETIVO\n",
        "  #.... 4. h(estado)\n",
        "  def h(x):\n",
        "    \"\"\"\n",
        "    print(BMR_original)\n",
        "    print(TDEE_original)\n",
        "    print(info.objetivo)\n",
        "    \"\"\"\n",
        "    #print(Objetivo_original) Por alguna razón no lo guarda? xd\n",
        "    #==== Extraer Información del 'Estado' ====\n",
        "    calorias = x.get_calorias()\n",
        "    actividad = x.get_ejercicios()\n",
        "    #==== TDEE según este estado ====\n",
        "    TDEE = BMR_original * (1.2 + actividad * 0.175)\n",
        "    #==== ¿El Cambio de Métricas es muy brusco? ====\n",
        "    aux = abs(TDEE - TDEE_original)\n",
        "    if aux > (BMR_original * 0.35): #... 2 unidades de diferencia en 'actividad' (2 x 0.175 = 0.35)\n",
        "      \"\"\"print(\"Es Peligroso (b)\")\"\"\"\n",
        "      return 0\n",
        "    #==== Calorías Consumidas - Necesarias ====\n",
        "    aux = calorias - TDEE #...Recibo C calorias, necesito TDEE calorias\n",
        "    efecto = 0 #..............Efecto\n",
        "    if info.objetivo == -2:\n",
        "      info.objetivo = -1 #.... Homogeneizar\n",
        "    if aux < -500:\n",
        "      efecto = -1 # Si a < 0; Consumo menos de lo que necesito; Bajo de Peso\n",
        "    elif aux > 500:\n",
        "      efecto = 1 # Si a > 1; Consumo más de lo que necesito; Subo de Peso\n",
        "    #==== Si no es el efecto deseado, salir ====\n",
        "    if efecto != info.objetivo:\n",
        "      \"\"\"\n",
        "      print(\"El efecto no es el deseado:\", efecto)\n",
        "      print(\"Se quiere:\", info.objetivo)\n",
        "      \"\"\"\n",
        "      return 0\n",
        "    #==== Si es un cambio brusco, salir (Debe consumir mínimo su BMR) ====\n",
        "    if abs(aux) > BMR_original:\n",
        "      \"\"\"print(\"Es Peligroso (a)\")\"\"\"\n",
        "      return 0 \n",
        "    return abs(aux)\n",
        "\n",
        "  return h\n",
        "\n",
        "# ===== PRUEBAS ====\n",
        "Informacion = informacion(sexo = \"HOMBRE\", peso = 98.5, estatura = 177, edad = 19, actividad = 1)\n",
        "print(Informacion)\n",
        "#print(\"IMC:\", Informacion.IMC)\n",
        "print(\"Objetivo:\", Informacion.objetivo)\n",
        "h = crear_h(Informacion)\n",
        "print(\"===========================\")\n",
        "print(E1.arreglo)\n",
        "print(h(E1))"
      ],
      "execution_count": null,
      "outputs": [
        {
          "output_type": "stream",
          "text": [
            "HOMBRE de 19 años, 98.5 kg, y 177 cm \n",
            " >> IMC: 31.440518369561744 \n",
            " >> BMR: 2001.25 \n",
            " >> TDEE: 2751.71875\n",
            "Objetivo: -2\n",
            "===========================\n",
            "[28, 431, 196, 225, 187, 13, 385, 103, 32, 233, 80, 1, 0, 0]\n",
            "0\n"
          ],
          "name": "stdout"
        }
      ]
    },
    {
      "cell_type": "markdown",
      "metadata": {
        "id": "vftppKmloVTj"
      },
      "source": [
        "## Algoritmo Genético"
      ]
    },
    {
      "cell_type": "code",
      "metadata": {
        "id": "pAfbPKzRdChq",
        "colab": {
          "base_uri": "https://localhost:8080/"
        },
        "outputId": "7b21d8ab-79eb-41de-c9de-d0a79cdf4cf1"
      },
      "source": [
        "class AG():\n",
        "  def __init__(self, h, n = 8):\n",
        "    #... 1. Generar Población Original de Estados Aleatorios\n",
        "    self.n = n\n",
        "    self.poblacion = [estado() for i in range(n)]\n",
        "    self.h = h #... Define Heurística\n",
        "  \n",
        "  def hallar_mejor(self):\n",
        "    # Ordena y retorna TUPLA (mejor estado,mejor h(x))\n",
        "    self.poblacion = sorted(self.poblacion, key = self.h)\n",
        "    return (self.poblacion[-1], self.h(self.poblacion[-1]))\n",
        "\n",
        "  def algoritmo_genetico(self, comparar = False, deseado = np.inf):\n",
        "    #... 2: Elegir los mejores\n",
        "    (mejor, h_m) = self.hallar_mejor() #... 2.1. Ordena y halla el mejor hasta ahora\n",
        "    if comparar:\n",
        "      if h_m > deseado:\n",
        "        return (mejor, h_m) #¿Es un h(x) aceptable?, Entonces ACABA.\n",
        "    for _ in range(2):\n",
        "      self.poblacion.pop(0) #................................. 2.2. Eliminará a los 2 peores\n",
        "    nuevos_hijos = self.poblacion[-1].cruce(self.poblacion[-2]) #... 2.3. Cruce entre los 2 mejores\n",
        "    #... 3: Mutacion\n",
        "    for p in nuevos_hijos:\n",
        "      p.mutar()\n",
        "      self.poblacion.append(p) #... Agregar los hijos a la población\n",
        "    return None\n",
        "  \n",
        "  # ===== Automatizar\n",
        "  def automatico(self, deseado = None, iteraciones = None):\n",
        "    encontrado = False\n",
        "    iterar = False\n",
        "    comparar = False\n",
        "    i = 0\n",
        "    if iteraciones:\n",
        "      iterar = True\n",
        "    if deseado:\n",
        "      comparar = True\n",
        "    while not encontrado:\n",
        "      res = self.algoritmo_genetico(comparar, deseado)\n",
        "      if iterar:\n",
        "        i += 1\n",
        "        if i == iteraciones:\n",
        "          # Si se quiere max iteraciones, entonces terminar en el tope\n",
        "          return self.hallar_mejor()\n",
        "      if comparar and res:\n",
        "        # Si se quiere comparar y res NO es Vacío.\n",
        "        return res\n",
        "\n",
        "modelo = AG(h,4)\n",
        "print(\"Poblacion Original\")\n",
        "for p in modelo.poblacion:\n",
        "  print(p.arreglo)\n",
        "print(\"Iterar 50 veces\")\n",
        "modelo.automatico(iteraciones=50)\n",
        "for p in modelo.poblacion:\n",
        "  print(p.arreglo)\n",
        "  print(h(p))\n",
        "print(\"Conseguir 2500\")\n",
        "res = modelo.automatico(deseado=2500, iteraciones = 100)\n",
        "print(res[1])\n",
        "print(res[0].arreglo)"
      ],
      "execution_count": null,
      "outputs": [
        {
          "output_type": "stream",
          "text": [
            "Poblacion Original\n",
            "[361, 33, 490, 287, 493, 376, 251, 293, 273, 86, 248, 1, 1, 1]\n",
            "[433, 23, 298, 102, 414, 307, 167, 173, 123, 348, 56, 0, 1, 0]\n",
            "[186, 333, 207, 328, 93, 293, 246, 420, 189, 184, 256, 1, 1, 1]\n",
            "[483, 414, 426, 69, 156, 84, 136, 465, 57, 235, 376, 1, 1, 1]\n",
            "Iterar 50 veces\n",
            "[391, 23, 298, 102, 414, 307, 167, 173, 123, 348, 28, 0, 1, 1]\n",
            "1078.1562499999995\n",
            "[391, 23, 298, 102, 414, 307, 167, 173, 123, 348, 28, 0, 1, 1]\n",
            "1078.1562499999995\n",
            "[105, 23, 298, 102, 414, 307, 167, 173, 123, 348, 28, 0, 1, 1]\n",
            "1364.1562499999995\n",
            "[105, 23, 298, 102, 414, 307, 167, 173, 123, 348, 28, 0, 1, 1]\n",
            "1364.1562499999995\n",
            "Conseguir 2500\n",
            "1673.1562499999995\n",
            "[78, 14, 298, 102, 335, 307, 86, 60, 123, 348, 28, 0, 1, 1]\n"
          ],
          "name": "stdout"
        }
      ]
    },
    {
      "cell_type": "markdown",
      "metadata": {
        "id": "85AzLylMUz24"
      },
      "source": [
        "## Interpretador"
      ]
    },
    {
      "cell_type": "markdown",
      "metadata": {
        "id": "ijLa6mzSicy9"
      },
      "source": [
        "### Data"
      ]
    },
    {
      "cell_type": "markdown",
      "metadata": {
        "id": "yfzWAyLaeGV3"
      },
      "source": [
        "Extraemos data nutricional de alimentos de [Kaggle](https://www.kaggle.com/niharika41298/nutrition-details-for-most-common-foods). Este dataset almacena las comidas más comunes, sus categorías (lácteos, vegetales, carnes, etc.) y sus valores nutricionales."
      ]
    },
    {
      "cell_type": "code",
      "metadata": {
        "colab": {
          "base_uri": "https://localhost:8080/",
          "height": 408
        },
        "id": "G-gmvKXYU6NF",
        "outputId": "919687ea-8746-425c-dcf0-997457f5dcdd"
      },
      "source": [
        "nutrientes = pd.read_csv(\"nutrients_csvfile.csv\")\n",
        "print(\"Dataset de %s filas\"%(len(nutrientes)))\n",
        "print(nutrientes.dtypes)\n",
        "nutrientes.head()"
      ],
      "execution_count": null,
      "outputs": [
        {
          "output_type": "stream",
          "text": [
            "Dataset de 335 filas\n",
            "Food        object\n",
            "Measure     object\n",
            "Grams       object\n",
            "Calories    object\n",
            "Protein     object\n",
            "Fat         object\n",
            "Sat.Fat     object\n",
            "Fiber       object\n",
            "Carbs       object\n",
            "Category    object\n",
            "dtype: object\n"
          ],
          "name": "stdout"
        },
        {
          "output_type": "execute_result",
          "data": {
            "text/html": [
              "<div>\n",
              "<style scoped>\n",
              "    .dataframe tbody tr th:only-of-type {\n",
              "        vertical-align: middle;\n",
              "    }\n",
              "\n",
              "    .dataframe tbody tr th {\n",
              "        vertical-align: top;\n",
              "    }\n",
              "\n",
              "    .dataframe thead th {\n",
              "        text-align: right;\n",
              "    }\n",
              "</style>\n",
              "<table border=\"1\" class=\"dataframe\">\n",
              "  <thead>\n",
              "    <tr style=\"text-align: right;\">\n",
              "      <th></th>\n",
              "      <th>Food</th>\n",
              "      <th>Measure</th>\n",
              "      <th>Grams</th>\n",
              "      <th>Calories</th>\n",
              "      <th>Protein</th>\n",
              "      <th>Fat</th>\n",
              "      <th>Sat.Fat</th>\n",
              "      <th>Fiber</th>\n",
              "      <th>Carbs</th>\n",
              "      <th>Category</th>\n",
              "    </tr>\n",
              "  </thead>\n",
              "  <tbody>\n",
              "    <tr>\n",
              "      <th>0</th>\n",
              "      <td>Cows' milk</td>\n",
              "      <td>1 qt.</td>\n",
              "      <td>976</td>\n",
              "      <td>660</td>\n",
              "      <td>32</td>\n",
              "      <td>40</td>\n",
              "      <td>36</td>\n",
              "      <td>0</td>\n",
              "      <td>48</td>\n",
              "      <td>Dairy products</td>\n",
              "    </tr>\n",
              "    <tr>\n",
              "      <th>1</th>\n",
              "      <td>Milk skim</td>\n",
              "      <td>1 qt.</td>\n",
              "      <td>984</td>\n",
              "      <td>360</td>\n",
              "      <td>36</td>\n",
              "      <td>t</td>\n",
              "      <td>t</td>\n",
              "      <td>0</td>\n",
              "      <td>52</td>\n",
              "      <td>Dairy products</td>\n",
              "    </tr>\n",
              "    <tr>\n",
              "      <th>2</th>\n",
              "      <td>Buttermilk</td>\n",
              "      <td>1 cup</td>\n",
              "      <td>246</td>\n",
              "      <td>127</td>\n",
              "      <td>9</td>\n",
              "      <td>5</td>\n",
              "      <td>4</td>\n",
              "      <td>0</td>\n",
              "      <td>13</td>\n",
              "      <td>Dairy products</td>\n",
              "    </tr>\n",
              "    <tr>\n",
              "      <th>3</th>\n",
              "      <td>Evaporated, undiluted</td>\n",
              "      <td>1 cup</td>\n",
              "      <td>252</td>\n",
              "      <td>345</td>\n",
              "      <td>16</td>\n",
              "      <td>20</td>\n",
              "      <td>18</td>\n",
              "      <td>0</td>\n",
              "      <td>24</td>\n",
              "      <td>Dairy products</td>\n",
              "    </tr>\n",
              "    <tr>\n",
              "      <th>4</th>\n",
              "      <td>Fortified milk</td>\n",
              "      <td>6 cups</td>\n",
              "      <td>1,419</td>\n",
              "      <td>1,373</td>\n",
              "      <td>89</td>\n",
              "      <td>42</td>\n",
              "      <td>23</td>\n",
              "      <td>1.4</td>\n",
              "      <td>119</td>\n",
              "      <td>Dairy products</td>\n",
              "    </tr>\n",
              "  </tbody>\n",
              "</table>\n",
              "</div>"
            ],
            "text/plain": [
              "                    Food Measure  Grams  ... Fiber Carbs        Category\n",
              "0             Cows' milk   1 qt.    976  ...     0    48  Dairy products\n",
              "1              Milk skim   1 qt.    984  ...     0    52  Dairy products\n",
              "2             Buttermilk   1 cup    246  ...     0    13  Dairy products\n",
              "3  Evaporated, undiluted   1 cup    252  ...     0    24  Dairy products\n",
              "4         Fortified milk  6 cups  1,419  ...   1.4   119  Dairy products\n",
              "\n",
              "[5 rows x 10 columns]"
            ]
          },
          "metadata": {
            "tags": []
          },
          "execution_count": 68
        }
      ]
    },
    {
      "cell_type": "markdown",
      "metadata": {
        "id": "76GxILTUiy6b"
      },
      "source": [
        "#### Preprocesamiento"
      ]
    },
    {
      "cell_type": "markdown",
      "metadata": {
        "id": "gJF5eF2Xj9WB"
      },
      "source": [
        "1. Según el diccionario de datos en la página original, los valores '$t$' representan cantidades minúsculas. Por esto, las reemplazamos con 0.\n",
        "2. Debido a la presencia de los valores $t$, las columnas 2 a 8 (Gramos a Carbohidratos) son de tipo \"Objeto\"."
      ]
    },
    {
      "cell_type": "code",
      "metadata": {
        "id": "jC1J9JKljA8Q",
        "colab": {
          "base_uri": "https://localhost:8080/"
        },
        "outputId": "8b36645a-691f-478b-d740-75902d9c13a5"
      },
      "source": [
        "def preprocesamiento(df):\n",
        "  df = df.replace(\"t\",0)\n",
        "  df = df.replace(\"t'\",0)\n",
        "  columnas = df.columns\n",
        "  for i in range(2,9):\n",
        "    df[columnas[i]] = pd.to_numeric(df[columnas[i]], errors='coerce')\n",
        "  print(df.dtypes)\n",
        "  return df\n",
        "\n",
        "nutrientes = preprocesamiento(nutrientes)"
      ],
      "execution_count": null,
      "outputs": [
        {
          "output_type": "stream",
          "text": [
            "Food         object\n",
            "Measure      object\n",
            "Grams       float64\n",
            "Calories    float64\n",
            "Protein       int64\n",
            "Fat           int64\n",
            "Sat.Fat     float64\n",
            "Fiber       float64\n",
            "Carbs       float64\n",
            "Category     object\n",
            "dtype: object\n"
          ],
          "name": "stdout"
        }
      ]
    },
    {
      "cell_type": "markdown",
      "metadata": {
        "id": "kj8ZUQ254z5F"
      },
      "source": [
        "#### Agregar Proporciones"
      ]
    },
    {
      "cell_type": "code",
      "metadata": {
        "id": "WvU27u2t-Joo",
        "colab": {
          "base_uri": "https://localhost:8080/"
        },
        "outputId": "f3b61981-5a93-40cc-8067-e48c3d4fd5e4"
      },
      "source": [
        "pd.unique(nutrientes[\"Protein\"])\n",
        "sum(nutrientes[\"Protein\"])"
      ],
      "execution_count": null,
      "outputs": [
        {
          "output_type": "execute_result",
          "data": {
            "text/plain": [
              "2872"
            ]
          },
          "metadata": {
            "tags": []
          },
          "execution_count": 70
        }
      ]
    },
    {
      "cell_type": "code",
      "metadata": {
        "id": "BFnIiIMV9GE8"
      },
      "source": [
        "c = \"Fat\"\n",
        "for i in range(len(nutrientes)):\n",
        "  if pd.isna(nutrientes[c][i]):\n",
        "    print(\"NULL en \", i)"
      ],
      "execution_count": null,
      "outputs": []
    },
    {
      "cell_type": "code",
      "metadata": {
        "id": "uVlbn2ww48oi",
        "colab": {
          "base_uri": "https://localhost:8080/"
        },
        "outputId": "fa0729eb-42e1-491b-cce9-f2879eab548f"
      },
      "source": [
        "def normalizar(arr):\n",
        "  t = sum(arr)\n",
        "  f_r = []\n",
        "  for a in arr:\n",
        "    f_r.append(round(a / t, 1))\n",
        "  return f_r\n",
        "\n",
        "n = len(nutrientes)\n",
        "col_objs = [\"Carbs\", \"Protein\", \"Fat\"] # \"Sat.Fat\" después\n",
        "p_carbs = []\n",
        "p_protein = []\n",
        "p_fat = []\n",
        "for i in range(n):\n",
        "  aux = True\n",
        "  for c in col_objs:\n",
        "    #if pd.isna(nutrientes.iloc[i,c]):\n",
        "    if pd.isna(nutrientes[c][i]):\n",
        "      aux = False\n",
        "  #--- ¿Se puede sin miedo a los NaN?\n",
        "  if aux:\n",
        "    aux = [nutrientes[c][i] for c in col_objs]\n",
        "    if not pd.isna(nutrientes[\"Sat.Fat\"][i]):\n",
        "      aux[2] = aux[2] + nutrientes[\"Sat.Fat\"][i] # Suma Grasas Saturadas a Grasas si se lo permiten :p\n",
        "    aux = normalizar(aux)\n",
        "    p_carbs.append(aux[0])\n",
        "    p_protein.append(aux[1])\n",
        "    p_protein.append(aux[2])\n",
        "    if i > 330:\n",
        "      print(i)\n",
        "  #-- parte de for\n",
        "print(len(p_protein))\n",
        "print(len(nutrientes))\n",
        "#aux = nutrientes.assign(p_protein = p_protein)\n",
        "#aux.head()"
      ],
      "execution_count": null,
      "outputs": [
        {
          "output_type": "stream",
          "text": [
            "331\n",
            "332\n",
            "333\n",
            "334\n",
            "670\n",
            "335\n"
          ],
          "name": "stdout"
        },
        {
          "output_type": "stream",
          "text": [
            "/usr/local/lib/python3.7/dist-packages/ipykernel_launcher.py:5: RuntimeWarning: invalid value encountered in double_scalars\n",
            "  \"\"\"\n",
            "/usr/local/lib/python3.7/dist-packages/ipykernel_launcher.py:5: RuntimeWarning: invalid value encountered in true_divide\n",
            "  \"\"\"\n"
          ],
          "name": "stderr"
        }
      ]
    },
    {
      "cell_type": "markdown",
      "metadata": {
        "id": "RN36lbVOmpEd"
      },
      "source": [
        "### Recibir estado $x$"
      ]
    },
    {
      "cell_type": "code",
      "metadata": {
        "id": "h8Cy9JRPmsp_",
        "colab": {
          "base_uri": "https://localhost:8080/"
        },
        "outputId": "7fc9c26c-d0b0-4dd6-faa8-2aabbda89fb8"
      },
      "source": [
        "def interpretar(x, data):\n",
        "  # ============================= EJERCICIOS ============================= \n",
        "  actividad = [\"Sedentario (Muy poco o nulo ejercicio)\", \n",
        "              \"Activo Livianamente (Ejercicio liviano de 1 a 3 días por semana)\",\n",
        "              \"Moderadamente activo (Ejercicio moderado o deporte de 3 a 5 días a la semana)\",\n",
        "              \"Muy Activo (Ejercicios y deportes fuertes de 6 a 7 días a la semana)\",\n",
        "              \"Extra Activo (Ejercicios y trabajo físico)\"]\n",
        "  print(\"Ud. debería ser: \", actividad[x.get_ejercicios()])\n",
        "  # ============================= DIETA =============================\n",
        "  carbohidratos = x.arreglo[:5]\n",
        "  proteinas = x.arreglo[5:8]\n",
        "  grasas = x.arreglo[8:11]\n",
        "  nombres_nutrientes = [\"Carbohidratos\", \"Proteínas\", \"Grasas\"]\n",
        "  proporcion_nutrientes = []\n",
        "  comidas = [[] for _ in range(4)]\n",
        "  nombres_comidas = [\"Desayuno\", \"Almuerzo\", \"Cena\", \"Refrigerios\"]\n",
        "  for i in range(3):\n",
        "    comidas[i].append(carbohidratos[i])\n",
        "    comidas[i].append(proteinas[i])\n",
        "    comidas[i].append(grasas[i])\n",
        "    p_nutrientes = normalizar(comidas[i])\n",
        "    proporcion_nutrientes.append(p_nutrientes)\n",
        "  comidas[3] = carbohidratos[3:]\n",
        "  print(\"En un día, tus comidas deberían ser:\")\n",
        "  for i in range(4):\n",
        "    aux = \">> %s de %s kcal\"%(nombres_comidas[i], sum(comidas[i]))\n",
        "    print(aux)\n",
        "    if i < 3:\n",
        "      for j in range(3):\n",
        "        p_nutrientes = proporcion_nutrientes[i]\n",
        "        print(\"\\t %s: %s de 1\"%(nombres_nutrientes[j], p_nutrientes[j]))\n",
        "E1 = estado()\n",
        "print(E1.arreglo)\n",
        "interpretar(E1, 0)"
      ],
      "execution_count": null,
      "outputs": [
        {
          "output_type": "stream",
          "text": [
            "[315, 287, 142, 321, 196, 406, 111, 102, 453, 410, 48, 1, 0, 0]\n",
            "Ud. debería ser:  Extra Activo (Ejercicios y trabajo físico)\n",
            "En un día, tus comidas deberían ser:\n",
            ">> Desayuno de 1174 kcal\n",
            "\t Carbohidratos: 0.3 de 1\n",
            "\t Proteínas: 0.3 de 1\n",
            "\t Grasas: 0.4 de 1\n",
            ">> Almuerzo de 808 kcal\n",
            "\t Carbohidratos: 0.4 de 1\n",
            "\t Proteínas: 0.1 de 1\n",
            "\t Grasas: 0.5 de 1\n",
            ">> Cena de 292 kcal\n",
            "\t Carbohidratos: 0.5 de 1\n",
            "\t Proteínas: 0.3 de 1\n",
            "\t Grasas: 0.2 de 1\n",
            ">> Refrigerios de 517 kcal\n"
          ],
          "name": "stdout"
        }
      ]
    },
    {
      "cell_type": "markdown",
      "metadata": {
        "id": "AOAS1BjHPu8t"
      },
      "source": [
        "## Función Automatizada"
      ]
    },
    {
      "cell_type": "markdown",
      "metadata": {
        "id": "0mBgmc4DPyGh"
      },
      "source": [
        "Para automatizar el proceso, desarrollamos una función que obtenga como datos de entrada:\n",
        "- Información del Usuario\n",
        "- Número máximo de iteraciones o un Valor de $h(x)$ deseado\n",
        "\n",
        "El proceso interno consiste en:\n",
        "1. Personalizar $h(x)$ a partir de $Informacion$\n",
        "2. Generar modelo $AG$, con la función heurística $h$, y 15 estados iniciales por defecto.\n",
        "3. Ejecutar el algoritmo genético hasta cumplir alguna de las dos condiciones (número máximo de iteraciones o h(x) deseado)\n",
        "4. Interpretar el resultado"
      ]
    },
    {
      "cell_type": "code",
      "metadata": {
        "id": "Co2AL9zyQzHO",
        "colab": {
          "base_uri": "https://localhost:8080/"
        },
        "outputId": "2ba3680f-4fd9-4ac5-879c-3019a27f11ac"
      },
      "source": [
        "def senbu(info, n_AG = 15, max_iteraciones = 150, min_h = None):\n",
        "  h = crear_h(info) #...... 1: Crea h(x) personalizado\n",
        "  modelo = AG(h, n_AG) #... 2: Crear modelo AG\n",
        "  #........................ 3: Ejecutar\n",
        "  estado_r, h_r = modelo.automatico(deseado = min_h, iteraciones = max_iteraciones)\n",
        "  # --- Interpretar estado_r ---\n",
        "  print(\"Puntuación obtenida:\", h_r) #.... Imprime la heurística\n",
        "  print(\"Debes consumir %s calorías al día. Se distribuyen de esta manera:\"%estado_r.get_calorias(), estado_r.arreglo[:11])\n",
        "  #print(\"Debes tener el nivel de actividad:\", dicc_act_t[estado_r.get_ejercicios()])\n",
        "# Probar\n",
        "senbu(Informacion)"
      ],
      "execution_count": null,
      "outputs": [
        {
          "output_type": "stream",
          "text": [
            "Puntuación obtenida: 1941.1562499999995\n",
            "Debes consumir 1511 calorías al día. Se distribuyen de esta manera: [9, 32, 336, 467, 83, 230, 110, 70, 2, 110, 62]\n"
          ],
          "name": "stdout"
        }
      ]
    },
    {
      "cell_type": "markdown",
      "metadata": {
        "id": "FrZd883tYDQj"
      },
      "source": [
        "# Interfaz"
      ]
    },
    {
      "cell_type": "code",
      "metadata": {
        "id": "LeiOeQXrZI8p",
        "colab": {
          "base_uri": "https://localhost:8080/",
          "height": 405,
          "referenced_widgets": [
            "35cecec7673c472a875d3de2d6a0e832",
            "d3dba8b9126d401e9c523ff8f18d7b60",
            "01481488e8204b16aeeea441437d1fa0",
            "41ed04aaa54645f5ac3b7b59b92d1eb5",
            "e3887c3b1c4040bf90a2c59e8c61e10e",
            "e8480f5ea1844dad9e9c333899b12337",
            "b15945e6fff84aedbd5305c17af2c5e4",
            "bc4099388711497c8bb2ceb07a6d026a",
            "c585361ff4a9444f812a978c88ec5533",
            "1fb949f64cdd442d88b24538363c6a13",
            "43d1e8051b4840c68cfb5343706d7fed",
            "13a561588c714ac6b0837a43223e549c",
            "757f256ed9c5450d901386bd1ecaf5a1",
            "df90b55fe940477bafa3ccdfd7e74dc5",
            "e2ac29c8689e44dab82356dc3617b475",
            "a2a1e2904d5d49e5a6b4532044751db7",
            "c52be7249c4449d4aa51552ccec88c1b",
            "152c4d138a0a4c8c9b3948202d78f5ae",
            "c27c84dc48ab45fbb02ac3c4ae924ac9",
            "3df107a6a2fa4773bece3352fe051110"
          ]
        },
        "cellView": "form",
        "outputId": "7a2a8944-6904-46ee-e795-46d3d3274e8d"
      },
      "source": [
        "#@title Ingrese su información\n",
        "wg_sexo = widgets.Dropdown(options = [\"HOMBRE\", \"MUJER\"], description = 'Sexo:')\n",
        "wg_edad = widgets.IntSlider(\n",
        "    min=10,\n",
        "    max=100,\n",
        "    step=1,\n",
        "    description='Edad:',\n",
        "    value=19\n",
        ")\n",
        "wg_estatura = widgets.IntText(description = 'Estatura (cm)', value=170)\n",
        "wg_peso = widgets.FloatText(description = 'Peso (kg)', value=70.5)\n",
        "wg_actividad = widgets.Dropdown(options = [(\"Sedentario (Muy poco o nulo ejercicio)\",0),\n",
        "                                           (\"Livianamente (Ejercicio liviano de 1 a 3 días por semana)\",1), \n",
        "                                           (\"Moderadamente (Ejercicio moderado o deporte de 3 a 5 días por semana)\", 2),\n",
        "                                           (\"Muy Activo (Ejercicios y deportes fuertes de 6 a 7 días a la semana)\", 3),\n",
        "                                           (\"Extra Activo\", 4)],\n",
        "                                description = \"Se considera ... activo\")\n",
        "display(wg_sexo, wg_edad, wg_estatura, wg_peso, wg_actividad)\n",
        "button = widgets.Button(description=\"Calcular\")\n",
        "output = widgets.Output()\n",
        "display(button, output)\n",
        "\n",
        "def on_button_clicked(b):\n",
        "  with output:\n",
        "    \"\"\"\n",
        "      print(type(wg_sexo.value))\n",
        "      print(wg_edad.value)\n",
        "      print(wg_estatura.value)\n",
        "      print(wg_peso.value)\n",
        "      print(type(wg_actividad.value))\n",
        "    \"\"\"\n",
        "    output.clear_output()\n",
        "    Informacion = informacion(wg_sexo.value, wg_peso.value, wg_estatura.value, wg_edad.value, wg_actividad.value)\n",
        "    realizar_prueba(Informacion)\n",
        "    print(\"RESULTADOS: \")\n",
        "    senbu(Informacion)\n",
        "button.on_click(on_button_clicked)"
      ],
      "execution_count": null,
      "outputs": [
        {
          "output_type": "display_data",
          "data": {
            "application/vnd.jupyter.widget-view+json": {
              "model_id": "35cecec7673c472a875d3de2d6a0e832",
              "version_minor": 0,
              "version_major": 2
            },
            "text/plain": [
              "Dropdown(description='Sexo:', options=('HOMBRE', 'MUJER'), value='HOMBRE')"
            ]
          },
          "metadata": {
            "tags": []
          }
        },
        {
          "output_type": "display_data",
          "data": {
            "application/vnd.jupyter.widget-view+json": {
              "model_id": "41ed04aaa54645f5ac3b7b59b92d1eb5",
              "version_minor": 0,
              "version_major": 2
            },
            "text/plain": [
              "IntSlider(value=19, description='Edad:', min=10)"
            ]
          },
          "metadata": {
            "tags": []
          }
        },
        {
          "output_type": "display_data",
          "data": {
            "application/vnd.jupyter.widget-view+json": {
              "model_id": "b15945e6fff84aedbd5305c17af2c5e4",
              "version_minor": 0,
              "version_major": 2
            },
            "text/plain": [
              "IntText(value=170, description='Estatura (cm)')"
            ]
          },
          "metadata": {
            "tags": []
          }
        },
        {
          "output_type": "display_data",
          "data": {
            "application/vnd.jupyter.widget-view+json": {
              "model_id": "1fb949f64cdd442d88b24538363c6a13",
              "version_minor": 0,
              "version_major": 2
            },
            "text/plain": [
              "FloatText(value=70.5, description='Peso (kg)')"
            ]
          },
          "metadata": {
            "tags": []
          }
        },
        {
          "output_type": "display_data",
          "data": {
            "application/vnd.jupyter.widget-view+json": {
              "model_id": "757f256ed9c5450d901386bd1ecaf5a1",
              "version_minor": 0,
              "version_major": 2
            },
            "text/plain": [
              "Dropdown(description='Se considera ... activo', options=(('Sedentario (Muy poco o nulo ejercicio)', 0), ('Livi…"
            ]
          },
          "metadata": {
            "tags": []
          }
        },
        {
          "output_type": "display_data",
          "data": {
            "application/vnd.jupyter.widget-view+json": {
              "model_id": "a2a1e2904d5d49e5a6b4532044751db7",
              "version_minor": 0,
              "version_major": 2
            },
            "text/plain": [
              "Button(description='Calcular', style=ButtonStyle())"
            ]
          },
          "metadata": {
            "tags": []
          }
        },
        {
          "output_type": "display_data",
          "data": {
            "application/vnd.jupyter.widget-view+json": {
              "model_id": "c27c84dc48ab45fbb02ac3c4ae924ac9",
              "version_minor": 0,
              "version_major": 2
            },
            "text/plain": [
              "Output()"
            ]
          },
          "metadata": {
            "tags": []
          }
        }
      ]
    },
    {
      "cell_type": "code",
      "metadata": {
        "colab": {
          "base_uri": "https://localhost:8080/",
          "height": 281
        },
        "id": "eB_xVZIVup6B",
        "outputId": "74c2d6b0-61da-498d-b9d9-aced811c6986"
      },
      "source": [
        "y = np.random.randn(len(nutrientes))\n",
        "x = [x for x in range(len(nutrientes))]\n",
        "plt.plot(x, y, '-')\n",
        "plt.fill_between(x, y, 200, where = (y> 195), facecolor = 'g', alpha = 0.6)\n",
        "plt.title( \"Gráfico lineal sobre el estado de salud de las personas\")\n",
        "plt.show()"
      ],
      "execution_count": null,
      "outputs": [
        {
          "output_type": "display_data",
          "data": {
            "image/png": "[encoded data removed]",
            "text/plain": [
              "<Figure size 432x288 with 1 Axes>"
            ]
          },
          "metadata": {
            "tags": [],
            "needs_background": "light"
          }
        }
      ]
    }
  ]
}