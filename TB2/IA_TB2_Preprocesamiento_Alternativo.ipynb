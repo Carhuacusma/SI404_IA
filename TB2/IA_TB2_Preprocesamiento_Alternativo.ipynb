{
  "nbformat": 4,
  "nbformat_minor": 0,
  "metadata": {
    "colab": {
      "name": "IA TB2 - Preprocesamiento Alternativo",
      "provenance": [],
      "collapsed_sections": [],
      "toc_visible": true,
      "include_colab_link": true
    },
    "kernelspec": {
      "name": "python3",
      "display_name": "Python 3"
    },
    "language_info": {
      "name": "python"
    }
  },
  "cells": [
    {
      "cell_type": "markdown",
      "metadata": {
        "id": "view-in-github",
        "colab_type": "text"
      },
      "source": [
        "<a href=\"https://colab.research.google.com/github/Carhuacusma/SI404_IA/blob/main/TB2/IA_TB2_Preprocesamiento_Alternativo.ipynb\" target=\"_parent\"><img src=\"https://colab.research.google.com/assets/colab-badge.svg\" alt=\"Open In Colab\"/></a>"
      ]
    },
    {
      "cell_type": "markdown",
      "metadata": {
        "id": "LNJ3TfLwbpN8"
      },
      "source": [
        "#Modelo de inferencia para predecir el nivel socioeconómico de una persona en Perú basado en la Encuesta Permanente de Empleo de INEI\n"
      ]
    },
    {
      "cell_type": "markdown",
      "metadata": {
        "id": "-qb3h-3notgN"
      },
      "source": [
        "## Inteligencia Artificial - TB2\n",
        "\n",
        "### Integrantes:\n",
        "* Rafael Andrade Rodríguez\t-\tu201812443\n",
        "* Dante Moreno Carhuacusma\t-\tu201818067\n",
        "---\n",
        "Universidad Peruana de Ciencias Aplicadas (UPC)\n",
        "\n",
        "Ciclo 2021 - 1"
      ]
    },
    {
      "cell_type": "markdown",
      "metadata": {
        "id": "jIaokOuOdEns"
      },
      "source": [
        "## Análisis de Data"
      ]
    },
    {
      "cell_type": "markdown",
      "metadata": {
        "id": "sYVg8YDlb3XH"
      },
      "source": [
        "DataSets Originales: \n",
        "\n",
        "- Trimestre Diciembre 2020 - Febrero 2021: https://www.datosabiertos.gob.pe/dataset/encuesta-permanente-de-empleo-epe-2021-trimestre-m%C3%B3vil-dic-ene-feb-instituto-nacional-de\n",
        "- Trimestre Septiembre 2020 - Noviembre 2020: https://www.datosabiertos.gob.pe/dataset/encuesta-permanente-de-empleo-epe-2020-trimestre-m%C3%B3vil-set-oct-nov-instituto-nacional-de\n",
        "- https://www.datosabiertos.gob.pe/dataset/encuesta-permanente-de-empleo-epe-2020-trimestre-m%C3%B3vil-jun-jul-ago-instituto-nacional-de\n"
      ]
    },
    {
      "cell_type": "markdown",
      "metadata": {
        "id": "4S5JJ9-KdCfu"
      },
      "source": [
        "Según el Diccionario de Datos provisto junto al dataset original:\n",
        "\n",
        "Variable | Etiqueta | Tipo de Dato\n",
        "--- | --- | ---\n",
        "pano | Año de la encuesta | Numérico\n",
        "pmes | Mes de la encuesta | Numérico\n",
        "conglome | Número del conglomerado | Numérico\n",
        "submuestra | Nº de Sub Muestra | Numérico\n",
        "vivienda | Número de selección de la vivienda | Numérico\n",
        "hogar | Hogar | Numérico \n",
        "codperso | Código de persona | Numérico\n",
        "PXYZ | Pregunta N° XYZ | Categórica\n",
        "ocu200 | Ocupación laboral de la persona | Categórica\n",
        "iXYZ | Ingreso mensual monetario según indicador XYZ | Numérico"
      ]
    },
    {
      "cell_type": "markdown",
      "metadata": {
        "id": "pJ9X2rEOaEjW"
      },
      "source": [
        "Cargar la Data"
      ]
    },
    {
      "cell_type": "markdown",
      "metadata": {
        "id": "TkhgGaa9UsCH"
      },
      "source": [
        "Importamos las librerías necesarias para realizar las operaciones algorítmicas y mostrar las representaciones gráficas a lo largo del código.\n",
        "Luego, extraemos la muestra original de los datos contenidos en un repositorio vinculado a una cuenta de GitHub y selecionamos una muestra del Dataframe "
      ]
    },
    {
      "cell_type": "code",
      "metadata": {
        "colab": {
          "base_uri": "https://localhost:8080/"
        },
        "id": "I8_g1XfJboMJ",
        "outputId": "59fca781-55f7-49ca-c681-0932f98ccf40"
      },
      "source": [
        "# 1. Librerías:\n",
        "import pandas as pd\n",
        "import numpy as np\n",
        "from numpy import genfromtxt\n",
        "from matplotlib import pyplot as plt\n",
        "from sklearn.datasets import load_iris\n",
        "from sklearn.model_selection import train_test_split\n",
        "from sklearn.preprocessing import StandardScaler\n",
        "from sklearn.neural_network import MLPClassifier \n",
        "from sklearn.metrics import accuracy_score\n",
        "from sklearn.metrics import confusion_matrix\n",
        "from sklearn.metrics import classification_report\n",
        "\n",
        "# 2. Cargar Data desde GitHub\n",
        "# ... Data_Original = pd.read_csv(\"Trim Dic-Ene-Feb21.csv\", sep = \"|\")\n",
        "# ... Enlace Original: https://raw.githubusercontent.com/Carhuacusma/SI404_IA/main/TB2/731-Modulo76/Trim%20Dic-Ene-Feb21_Muestra.csv\n",
        "Data_Muestra_Feb21 = pd.read_csv(\"https://raw.githubusercontent.com/Carhuacusma/SI404_IA/main/TB2/731-Modulo76/Trim%20Dic-Ene-Feb21.csv\", sep = \"|\")\n",
        "Data_Muestra_Ago20 = pd.read_csv(\"Trim Jun-Jul-Ago20_Muestra.csv\",sep = \"|\")\n",
        "print(\"Muestra: \", len(Data_Muestra_Feb21))\n",
        "print(Data_Muestra_Feb21.head())\n",
        "print(\"Muestra: \", len(Data_Muestra_Ago20))\n",
        "print(Data_Muestra_Ago20.head())"
      ],
      "execution_count": 1,
      "outputs": [
        {
          "output_type": "stream",
          "text": [
            "Muestra:  400\n",
            "   pano  pmes  conglome  submuestra  ...  ingtot  ingprin  resident    fa_def21\n",
            "0  2020    12     17685           4  ...  1500.0   1500.0       1.0  380.928998\n",
            "1  2020    12     24385           5  ...  1500.0   1500.0       1.0  923.697941\n",
            "2  2020    12     29157           5  ...  1500.0   1500.0       1.0  919.309082\n",
            "3  2020    12     47580           4  ...   930.0    930.0       1.0  897.678280\n",
            "4  2020    12     90931           1  ...  1500.0   1500.0       1.0  696.259177\n",
            "\n",
            "[5 rows x 103 columns]\n",
            "Muestra:  200\n",
            "   pano  pmes  conglome  submuestra  ...  ingtot  ingprin  resident    fa_jja20\n",
            "0  2020     6     17299           4  ...   320.0    320.0       1.0  182.415386\n",
            "1  2020     6     17299           4  ...     NaN      NaN       1.0  309.916795\n",
            "2  2020     6     17299           4  ...     NaN      NaN       1.0  322.784688\n",
            "3  2020     6     17299           4  ...     NaN      NaN       1.0         NaN\n",
            "4  2020     6     17299           4  ...  3500.0   3500.0       1.0  183.181507\n",
            "\n",
            "[5 rows x 102 columns]\n"
          ],
          "name": "stdout"
        }
      ]
    },
    {
      "cell_type": "code",
      "metadata": {
        "colab": {
          "base_uri": "https://localhost:8080/",
          "height": 270
        },
        "id": "5K9QHQ9O2Q2n",
        "outputId": "c9406040-27c5-419b-d69f-67e0ff2d6355"
      },
      "source": [
        "DataFrame_EPE = pd.concat([Data_Muestra_Feb21,Data_Muestra_Ago20])\n",
        "print(\"Data Concatenada:\", len(DataFrame_EPE))\n",
        "DataFrame_EPE.head()"
      ],
      "execution_count": 4,
      "outputs": [
        {
          "output_type": "stream",
          "text": [
            "Data Concatenada: 600\n"
          ],
          "name": "stdout"
        },
        {
          "output_type": "execute_result",
          "data": {
            "text/html": [
              "<div>\n",
              "<style scoped>\n",
              "    .dataframe tbody tr th:only-of-type {\n",
              "        vertical-align: middle;\n",
              "    }\n",
              "\n",
              "    .dataframe tbody tr th {\n",
              "        vertical-align: top;\n",
              "    }\n",
              "\n",
              "    .dataframe thead th {\n",
              "        text-align: right;\n",
              "    }\n",
              "</style>\n",
              "<table border=\"1\" class=\"dataframe\">\n",
              "  <thead>\n",
              "    <tr style=\"text-align: right;\">\n",
              "      <th></th>\n",
              "      <th>pano</th>\n",
              "      <th>pmes</th>\n",
              "      <th>conglome</th>\n",
              "      <th>submuestra</th>\n",
              "      <th>vivienda</th>\n",
              "      <th>hogar</th>\n",
              "      <th>codperso</th>\n",
              "      <th>dominio</th>\n",
              "      <th>estrato</th>\n",
              "      <th>codpanel</th>\n",
              "      <th>p103</th>\n",
              "      <th>p104</th>\n",
              "      <th>p105</th>\n",
              "      <th>p106</th>\n",
              "      <th>p107</th>\n",
              "      <th>p108</th>\n",
              "      <th>p109a</th>\n",
              "      <th>p109b</th>\n",
              "      <th>p109c</th>\n",
              "      <th>p200n</th>\n",
              "      <th>p200i</th>\n",
              "      <th>p200a</th>\n",
              "      <th>p200b</th>\n",
              "      <th>p200bb</th>\n",
              "      <th>p200c</th>\n",
              "      <th>p200d</th>\n",
              "      <th>p200dd</th>\n",
              "      <th>p200e</th>\n",
              "      <th>p200f</th>\n",
              "      <th>p200g</th>\n",
              "      <th>p201</th>\n",
              "      <th>p202</th>\n",
              "      <th>p203</th>\n",
              "      <th>p204</th>\n",
              "      <th>p2041</th>\n",
              "      <th>p2042</th>\n",
              "      <th>p2043</th>\n",
              "      <th>p2044</th>\n",
              "      <th>p2045</th>\n",
              "      <th>p2046</th>\n",
              "      <th>...</th>\n",
              "      <th>p209h</th>\n",
              "      <th>p209ee</th>\n",
              "      <th>p210</th>\n",
              "      <th>p211a</th>\n",
              "      <th>p211b</th>\n",
              "      <th>p212a</th>\n",
              "      <th>p212b</th>\n",
              "      <th>p212c</th>\n",
              "      <th>p212d</th>\n",
              "      <th>p212e</th>\n",
              "      <th>p213</th>\n",
              "      <th>p214</th>\n",
              "      <th>p215</th>\n",
              "      <th>p216</th>\n",
              "      <th>p217</th>\n",
              "      <th>p218</th>\n",
              "      <th>p219</th>\n",
              "      <th>p220</th>\n",
              "      <th>p222</th>\n",
              "      <th>P223A1</th>\n",
              "      <th>P223A2</th>\n",
              "      <th>P223A3</th>\n",
              "      <th>P223A4</th>\n",
              "      <th>P223A5</th>\n",
              "      <th>P223A6</th>\n",
              "      <th>P223A7</th>\n",
              "      <th>P224</th>\n",
              "      <th>P225</th>\n",
              "      <th>ocu200</th>\n",
              "      <th>i211a</th>\n",
              "      <th>i211b</th>\n",
              "      <th>i212a</th>\n",
              "      <th>i212b</th>\n",
              "      <th>i212c</th>\n",
              "      <th>i212d</th>\n",
              "      <th>ingtot</th>\n",
              "      <th>ingprin</th>\n",
              "      <th>resident</th>\n",
              "      <th>fa_def21</th>\n",
              "      <th>fa_jja20</th>\n",
              "    </tr>\n",
              "  </thead>\n",
              "  <tbody>\n",
              "    <tr>\n",
              "      <th>0</th>\n",
              "      <td>2020</td>\n",
              "      <td>12</td>\n",
              "      <td>17685</td>\n",
              "      <td>4</td>\n",
              "      <td>66</td>\n",
              "      <td>11</td>\n",
              "      <td>2</td>\n",
              "      <td>8.0</td>\n",
              "      <td>1</td>\n",
              "      <td>19121103</td>\n",
              "      <td>3</td>\n",
              "      <td>1</td>\n",
              "      <td>2.0</td>\n",
              "      <td>NaN</td>\n",
              "      <td>1</td>\n",
              "      <td>23</td>\n",
              "      <td>8.0</td>\n",
              "      <td>3.0</td>\n",
              "      <td>NaN</td>\n",
              "      <td>2.0</td>\n",
              "      <td>1.0</td>\n",
              "      <td>13.0</td>\n",
              "      <td>12.0</td>\n",
              "      <td>2020.0</td>\n",
              "      <td>19.0</td>\n",
              "      <td>12.0</td>\n",
              "      <td>2020.0</td>\n",
              "      <td>9.0</td>\n",
              "      <td>5.0</td>\n",
              "      <td>1997.0</td>\n",
              "      <td>1.0</td>\n",
              "      <td>NaN</td>\n",
              "      <td>NaN</td>\n",
              "      <td>NaN</td>\n",
              "      <td>NaN</td>\n",
              "      <td>NaN</td>\n",
              "      <td>NaN</td>\n",
              "      <td>NaN</td>\n",
              "      <td>NaN</td>\n",
              "      <td>NaN</td>\n",
              "      <td>...</td>\n",
              "      <td>1.0</td>\n",
              "      <td>2.0</td>\n",
              "      <td>4.0</td>\n",
              "      <td>1500.0</td>\n",
              "      <td>0.0</td>\n",
              "      <td>NaN</td>\n",
              "      <td>NaN</td>\n",
              "      <td>NaN</td>\n",
              "      <td>NaN</td>\n",
              "      <td>1.0</td>\n",
              "      <td>NaN</td>\n",
              "      <td>NaN</td>\n",
              "      <td>NaN</td>\n",
              "      <td>NaN</td>\n",
              "      <td>NaN</td>\n",
              "      <td>NaN</td>\n",
              "      <td>NaN</td>\n",
              "      <td>NaN</td>\n",
              "      <td>1.0</td>\n",
              "      <td>0.0</td>\n",
              "      <td>0.0</td>\n",
              "      <td>0.0</td>\n",
              "      <td>0.0</td>\n",
              "      <td>0.0</td>\n",
              "      <td>0.0</td>\n",
              "      <td>1.0</td>\n",
              "      <td>6.0</td>\n",
              "      <td>4.0</td>\n",
              "      <td>1.0</td>\n",
              "      <td>1500.0</td>\n",
              "      <td>0.0</td>\n",
              "      <td>NaN</td>\n",
              "      <td>NaN</td>\n",
              "      <td>NaN</td>\n",
              "      <td>NaN</td>\n",
              "      <td>1500.0</td>\n",
              "      <td>1500.0</td>\n",
              "      <td>1.0</td>\n",
              "      <td>380.928998</td>\n",
              "      <td>NaN</td>\n",
              "    </tr>\n",
              "    <tr>\n",
              "      <th>1</th>\n",
              "      <td>2020</td>\n",
              "      <td>12</td>\n",
              "      <td>24385</td>\n",
              "      <td>5</td>\n",
              "      <td>120</td>\n",
              "      <td>11</td>\n",
              "      <td>1</td>\n",
              "      <td>8.0</td>\n",
              "      <td>1</td>\n",
              "      <td>20121101</td>\n",
              "      <td>1</td>\n",
              "      <td>1</td>\n",
              "      <td>2.0</td>\n",
              "      <td>NaN</td>\n",
              "      <td>1</td>\n",
              "      <td>43</td>\n",
              "      <td>5.0</td>\n",
              "      <td>1.0</td>\n",
              "      <td>NaN</td>\n",
              "      <td>1.0</td>\n",
              "      <td>1.0</td>\n",
              "      <td>13.0</td>\n",
              "      <td>12.0</td>\n",
              "      <td>2020.0</td>\n",
              "      <td>19.0</td>\n",
              "      <td>12.0</td>\n",
              "      <td>2020.0</td>\n",
              "      <td>24.0</td>\n",
              "      <td>2.0</td>\n",
              "      <td>1977.0</td>\n",
              "      <td>1.0</td>\n",
              "      <td>NaN</td>\n",
              "      <td>NaN</td>\n",
              "      <td>NaN</td>\n",
              "      <td>NaN</td>\n",
              "      <td>NaN</td>\n",
              "      <td>NaN</td>\n",
              "      <td>NaN</td>\n",
              "      <td>NaN</td>\n",
              "      <td>NaN</td>\n",
              "      <td>...</td>\n",
              "      <td>1.0</td>\n",
              "      <td>2.0</td>\n",
              "      <td>4.0</td>\n",
              "      <td>1500.0</td>\n",
              "      <td>0.0</td>\n",
              "      <td>NaN</td>\n",
              "      <td>NaN</td>\n",
              "      <td>NaN</td>\n",
              "      <td>NaN</td>\n",
              "      <td>1.0</td>\n",
              "      <td>NaN</td>\n",
              "      <td>NaN</td>\n",
              "      <td>NaN</td>\n",
              "      <td>NaN</td>\n",
              "      <td>NaN</td>\n",
              "      <td>NaN</td>\n",
              "      <td>NaN</td>\n",
              "      <td>NaN</td>\n",
              "      <td>1.0</td>\n",
              "      <td>0.0</td>\n",
              "      <td>0.0</td>\n",
              "      <td>0.0</td>\n",
              "      <td>0.0</td>\n",
              "      <td>0.0</td>\n",
              "      <td>0.0</td>\n",
              "      <td>1.0</td>\n",
              "      <td>6.0</td>\n",
              "      <td>4.0</td>\n",
              "      <td>1.0</td>\n",
              "      <td>1500.0</td>\n",
              "      <td>0.0</td>\n",
              "      <td>NaN</td>\n",
              "      <td>NaN</td>\n",
              "      <td>NaN</td>\n",
              "      <td>NaN</td>\n",
              "      <td>1500.0</td>\n",
              "      <td>1500.0</td>\n",
              "      <td>1.0</td>\n",
              "      <td>923.697941</td>\n",
              "      <td>NaN</td>\n",
              "    </tr>\n",
              "    <tr>\n",
              "      <th>2</th>\n",
              "      <td>2020</td>\n",
              "      <td>12</td>\n",
              "      <td>29157</td>\n",
              "      <td>5</td>\n",
              "      <td>97</td>\n",
              "      <td>11</td>\n",
              "      <td>1</td>\n",
              "      <td>8.0</td>\n",
              "      <td>1</td>\n",
              "      <td>20121101</td>\n",
              "      <td>1</td>\n",
              "      <td>1</td>\n",
              "      <td>2.0</td>\n",
              "      <td>NaN</td>\n",
              "      <td>1</td>\n",
              "      <td>30</td>\n",
              "      <td>6.0</td>\n",
              "      <td>5.0</td>\n",
              "      <td>NaN</td>\n",
              "      <td>1.0</td>\n",
              "      <td>1.0</td>\n",
              "      <td>22.0</td>\n",
              "      <td>11.0</td>\n",
              "      <td>2020.0</td>\n",
              "      <td>28.0</td>\n",
              "      <td>11.0</td>\n",
              "      <td>2020.0</td>\n",
              "      <td>25.0</td>\n",
              "      <td>9.0</td>\n",
              "      <td>1990.0</td>\n",
              "      <td>1.0</td>\n",
              "      <td>NaN</td>\n",
              "      <td>NaN</td>\n",
              "      <td>NaN</td>\n",
              "      <td>NaN</td>\n",
              "      <td>NaN</td>\n",
              "      <td>NaN</td>\n",
              "      <td>NaN</td>\n",
              "      <td>NaN</td>\n",
              "      <td>NaN</td>\n",
              "      <td>...</td>\n",
              "      <td>2.0</td>\n",
              "      <td>2.0</td>\n",
              "      <td>4.0</td>\n",
              "      <td>1500.0</td>\n",
              "      <td>0.0</td>\n",
              "      <td>NaN</td>\n",
              "      <td>NaN</td>\n",
              "      <td>NaN</td>\n",
              "      <td>NaN</td>\n",
              "      <td>1.0</td>\n",
              "      <td>NaN</td>\n",
              "      <td>NaN</td>\n",
              "      <td>NaN</td>\n",
              "      <td>NaN</td>\n",
              "      <td>NaN</td>\n",
              "      <td>NaN</td>\n",
              "      <td>NaN</td>\n",
              "      <td>NaN</td>\n",
              "      <td>1.0</td>\n",
              "      <td>0.0</td>\n",
              "      <td>0.0</td>\n",
              "      <td>0.0</td>\n",
              "      <td>0.0</td>\n",
              "      <td>0.0</td>\n",
              "      <td>0.0</td>\n",
              "      <td>1.0</td>\n",
              "      <td>6.0</td>\n",
              "      <td>4.0</td>\n",
              "      <td>1.0</td>\n",
              "      <td>1500.0</td>\n",
              "      <td>0.0</td>\n",
              "      <td>NaN</td>\n",
              "      <td>NaN</td>\n",
              "      <td>NaN</td>\n",
              "      <td>NaN</td>\n",
              "      <td>1500.0</td>\n",
              "      <td>1500.0</td>\n",
              "      <td>1.0</td>\n",
              "      <td>919.309082</td>\n",
              "      <td>NaN</td>\n",
              "    </tr>\n",
              "    <tr>\n",
              "      <th>3</th>\n",
              "      <td>2020</td>\n",
              "      <td>12</td>\n",
              "      <td>47580</td>\n",
              "      <td>4</td>\n",
              "      <td>128</td>\n",
              "      <td>11</td>\n",
              "      <td>1</td>\n",
              "      <td>8.0</td>\n",
              "      <td>1</td>\n",
              "      <td>20121101</td>\n",
              "      <td>1</td>\n",
              "      <td>1</td>\n",
              "      <td>2.0</td>\n",
              "      <td>NaN</td>\n",
              "      <td>1</td>\n",
              "      <td>29</td>\n",
              "      <td>5.0</td>\n",
              "      <td>3.0</td>\n",
              "      <td>NaN</td>\n",
              "      <td>1.0</td>\n",
              "      <td>1.0</td>\n",
              "      <td>29.0</td>\n",
              "      <td>11.0</td>\n",
              "      <td>2020.0</td>\n",
              "      <td>5.0</td>\n",
              "      <td>12.0</td>\n",
              "      <td>2020.0</td>\n",
              "      <td>99.0</td>\n",
              "      <td>99.0</td>\n",
              "      <td>1991.0</td>\n",
              "      <td>1.0</td>\n",
              "      <td>NaN</td>\n",
              "      <td>NaN</td>\n",
              "      <td>NaN</td>\n",
              "      <td>NaN</td>\n",
              "      <td>NaN</td>\n",
              "      <td>NaN</td>\n",
              "      <td>NaN</td>\n",
              "      <td>NaN</td>\n",
              "      <td>NaN</td>\n",
              "      <td>...</td>\n",
              "      <td>2.0</td>\n",
              "      <td>2.0</td>\n",
              "      <td>4.0</td>\n",
              "      <td>930.0</td>\n",
              "      <td>0.0</td>\n",
              "      <td>NaN</td>\n",
              "      <td>NaN</td>\n",
              "      <td>NaN</td>\n",
              "      <td>NaN</td>\n",
              "      <td>1.0</td>\n",
              "      <td>NaN</td>\n",
              "      <td>NaN</td>\n",
              "      <td>NaN</td>\n",
              "      <td>NaN</td>\n",
              "      <td>NaN</td>\n",
              "      <td>NaN</td>\n",
              "      <td>NaN</td>\n",
              "      <td>NaN</td>\n",
              "      <td>5.0</td>\n",
              "      <td>0.0</td>\n",
              "      <td>0.0</td>\n",
              "      <td>0.0</td>\n",
              "      <td>0.0</td>\n",
              "      <td>0.0</td>\n",
              "      <td>0.0</td>\n",
              "      <td>1.0</td>\n",
              "      <td>6.0</td>\n",
              "      <td>4.0</td>\n",
              "      <td>1.0</td>\n",
              "      <td>930.0</td>\n",
              "      <td>0.0</td>\n",
              "      <td>NaN</td>\n",
              "      <td>NaN</td>\n",
              "      <td>NaN</td>\n",
              "      <td>NaN</td>\n",
              "      <td>930.0</td>\n",
              "      <td>930.0</td>\n",
              "      <td>1.0</td>\n",
              "      <td>897.678280</td>\n",
              "      <td>NaN</td>\n",
              "    </tr>\n",
              "    <tr>\n",
              "      <th>4</th>\n",
              "      <td>2020</td>\n",
              "      <td>12</td>\n",
              "      <td>90931</td>\n",
              "      <td>1</td>\n",
              "      <td>5</td>\n",
              "      <td>11</td>\n",
              "      <td>1</td>\n",
              "      <td>8.0</td>\n",
              "      <td>1</td>\n",
              "      <td>20121101</td>\n",
              "      <td>1</td>\n",
              "      <td>1</td>\n",
              "      <td>2.0</td>\n",
              "      <td>NaN</td>\n",
              "      <td>1</td>\n",
              "      <td>55</td>\n",
              "      <td>6.0</td>\n",
              "      <td>5.0</td>\n",
              "      <td>NaN</td>\n",
              "      <td>1.0</td>\n",
              "      <td>1.0</td>\n",
              "      <td>6.0</td>\n",
              "      <td>12.0</td>\n",
              "      <td>2020.0</td>\n",
              "      <td>12.0</td>\n",
              "      <td>12.0</td>\n",
              "      <td>2020.0</td>\n",
              "      <td>22.0</td>\n",
              "      <td>8.0</td>\n",
              "      <td>1965.0</td>\n",
              "      <td>1.0</td>\n",
              "      <td>NaN</td>\n",
              "      <td>NaN</td>\n",
              "      <td>NaN</td>\n",
              "      <td>NaN</td>\n",
              "      <td>NaN</td>\n",
              "      <td>NaN</td>\n",
              "      <td>NaN</td>\n",
              "      <td>NaN</td>\n",
              "      <td>NaN</td>\n",
              "      <td>...</td>\n",
              "      <td>1.0</td>\n",
              "      <td>2.0</td>\n",
              "      <td>4.0</td>\n",
              "      <td>1500.0</td>\n",
              "      <td>0.0</td>\n",
              "      <td>NaN</td>\n",
              "      <td>NaN</td>\n",
              "      <td>0.0</td>\n",
              "      <td>0.0</td>\n",
              "      <td>0.0</td>\n",
              "      <td>NaN</td>\n",
              "      <td>NaN</td>\n",
              "      <td>NaN</td>\n",
              "      <td>NaN</td>\n",
              "      <td>NaN</td>\n",
              "      <td>NaN</td>\n",
              "      <td>NaN</td>\n",
              "      <td>NaN</td>\n",
              "      <td>1.0</td>\n",
              "      <td>0.0</td>\n",
              "      <td>0.0</td>\n",
              "      <td>0.0</td>\n",
              "      <td>0.0</td>\n",
              "      <td>0.0</td>\n",
              "      <td>0.0</td>\n",
              "      <td>1.0</td>\n",
              "      <td>6.0</td>\n",
              "      <td>4.0</td>\n",
              "      <td>1.0</td>\n",
              "      <td>1500.0</td>\n",
              "      <td>0.0</td>\n",
              "      <td>NaN</td>\n",
              "      <td>NaN</td>\n",
              "      <td>NaN</td>\n",
              "      <td>NaN</td>\n",
              "      <td>1500.0</td>\n",
              "      <td>1500.0</td>\n",
              "      <td>1.0</td>\n",
              "      <td>696.259177</td>\n",
              "      <td>NaN</td>\n",
              "    </tr>\n",
              "  </tbody>\n",
              "</table>\n",
              "<p>5 rows × 104 columns</p>\n",
              "</div>"
            ],
            "text/plain": [
              "   pano  pmes  conglome  submuestra  ...  ingprin  resident    fa_def21  fa_jja20\n",
              "0  2020    12     17685           4  ...   1500.0       1.0  380.928998       NaN\n",
              "1  2020    12     24385           5  ...   1500.0       1.0  923.697941       NaN\n",
              "2  2020    12     29157           5  ...   1500.0       1.0  919.309082       NaN\n",
              "3  2020    12     47580           4  ...    930.0       1.0  897.678280       NaN\n",
              "4  2020    12     90931           1  ...   1500.0       1.0  696.259177       NaN\n",
              "\n",
              "[5 rows x 104 columns]"
            ]
          },
          "metadata": {
            "tags": []
          },
          "execution_count": 4
        }
      ]
    },
    {
      "cell_type": "markdown",
      "metadata": {
        "id": "-1upuZiibtuN"
      },
      "source": [
        "Cada trimestre consta de 200 instancias. La muestra del trimestre móvil Diciembre 2020 - Febrero 2021 concatenada a la del trimestre Septiembre - Noviembre 2020, consta de 103 variables.\n",
        "\n",
        "El trimestre móvil Junio - Agosto 2020 consta de 102 variables.\n",
        "\n",
        "Concatenando la data de los tres trimestres, obtenemos 600 instancias de 104 columnas."
      ]
    },
    {
      "cell_type": "code",
      "metadata": {
        "colab": {
          "base_uri": "https://localhost:8080/"
        },
        "id": "Hp2HC3OoT8zB",
        "cellView": "form",
        "outputId": "a351a0a7-9bb8-4084-97d3-8a449453c054"
      },
      "source": [
        "#@title Confirmar información sobre la recopilación de Data\n",
        "print(\"Año: \\t\", pd.unique(DataFrame_EPE['pano']))\n",
        "print(\"Mes: \\t\", pd.unique(DataFrame_EPE['pmes']))\n",
        "print(\"Estrato: \\t\", pd.unique(DataFrame_EPE['estrato']))\n",
        "print(\"Submuestra: \\t\", pd.unique(DataFrame_EPE['submuestra']))"
      ],
      "execution_count": 5,
      "outputs": [
        {
          "output_type": "stream",
          "text": [
            "Año: \t [2020 2021]\n",
            "Mes: \t [12  1  2  9  6]\n",
            "Estrato: \t [1 5 4 3]\n",
            "Submuestra: \t [4 5 1 2 3]\n"
          ],
          "name": "stdout"
        }
      ]
    },
    {
      "cell_type": "markdown",
      "metadata": {
        "id": "DDMXWlwqb19h"
      },
      "source": [
        "A través de estos resultados, confirmamos que la data fue recopilada desde Diciembre del 2020 a Febrero del 2021. Se dividió en 5 submuestras, y todos pertenecían a un mismo estrato (urbano, según el diccionario).\n",
        "\n",
        "Dado que esta información no es relevante para la red neuronal, podemos marcar estas variables para eliminarlas en el preprocesamiento."
      ]
    },
    {
      "cell_type": "markdown",
      "metadata": {
        "id": "3iXYrsuXauGG"
      },
      "source": [
        "#### Elegir Preguntas relevantes según el Diccionario de Datos"
      ]
    },
    {
      "cell_type": "markdown",
      "metadata": {
        "id": "LBoXfyJ8dZhW"
      },
      "source": [
        "Debido a la gran cantidad de variables presentes, la mayoría de ellas preguntas con respuestas categóricas, seleccionamos algunas según el Diccionario."
      ]
    },
    {
      "cell_type": "markdown",
      "metadata": {
        "id": "YMxFX0WtdyA6"
      },
      "source": [
        "ID | Pregunta | Respuestas\n",
        "--- | --- | ---\n",
        "P107 | Sexo | 1: Hombre \n",
        "P107 | \"\" |2: Mujer\n",
        "P108 | Edad | En años\n",
        "P109a | Nivel educativo aprobado | 1: Sin Nivel\n",
        "P109a | \"\" | 2: Inicial\n",
        "P109a | \"\" | 3: Primaria Incompleta\n",
        "P109a | \"\" | 4: Primaria Completa\n",
        "P109a | \"\" | 5: Secundaria Incompleta\n",
        "P109a | \"\" | 6: Secundaria Completa\n",
        "P109a | \"\" | 7: Superior No Univ. Incompleta\n",
        "P109a | \"\" | 8: Superior No Univ. Completa\n",
        "P109a | \"\" | 9: Superior Univ. Incompleta\n",
        "P109a | \"\" | 10: Superior Univ. Completa\n",
        "P209cc | Normalmente, ¿cuántas horas trabaja a la semana en todas sus ocupaciones? | Numérico\n",
        "P212e | ¿Tiene actividad secundaria? | 1: No tiene actividad secundaria\n",
        "P212e | \"\" | 2: Tiene actividad secundaria\n",
        "P220 | ¿Ha trabajado antes? | 1: Sí\n",
        "P220 | \"\" | 2: No\n",
        "P222 | El sistema se seguros de salud al cual está afiliado es... | 1: EsSalud\n",
        "P222 | \"\" | 2: Seguro Privado de Salud\n",
        "P222 | \"\" | 3: Ambos (Privado y EsSalud)\n",
        "P222 | \"\" | 4: Otro\n",
        "P222 | \"\" | 5: No está afiliado\n",
        "P222 | \"\" | 8: Seguro Universal de Salud SIS\n",
        "P224 | Por sus antepasados y de acuerdo a sus costumbres. ¿Ud. se considera ... ? | 1: Quechua\n",
        "P224 | \"\" | 2: Aymara\n",
        "P224 | \"\" | 3: Nativo o indígena de la Amazonía\n",
        "P224 | \"\" | 4: Negro/Mulato/Zambo/Afroperuano\n",
        "P224 | \"\" | 5: Blanco\n",
        "P224 | \"\" | 6: Mestizo\n",
        "P224 | \"\" | 7: Otro\n",
        "P224 | \"\" | 8: No Sabe\n",
        "P225 | ¿Cuál es el idioma o lengua materna? | 1: Quechua\n",
        "P225 | \"\" | 2: Aymara\n",
        "P225 | \"\" | 3: Otra lengua nativa\n",
        "P225 | \"\" | 4: Castellano\n",
        "P225 | \"\" | 5: Portugués\n",
        "P225 | \"\" | 6: Otra lengua extranjera\n",
        "P225 | \"\" | 7: Es sordo / mudo (a)\n",
        "P225 | \"\" | 8: Lengua de Señas Peruanas\n",
        "INGTOT | Total Ingreso Mensual por persona | Numérico\n",
        "INGPRIN | Total Ingreso (Principal por Trabajo) Mensual por persona | Numérico"
      ]
    },
    {
      "cell_type": "markdown",
      "metadata": {
        "id": "VS6oakgxUOfD"
      },
      "source": [
        "## Preprocesamiento"
      ]
    },
    {
      "cell_type": "markdown",
      "metadata": {
        "id": "IDFFg8S8tHpy"
      },
      "source": [
        "Analizamos las variables elegidas: P107, P108, P109a, P209cc, P212e, P220, P222, P224, P225, INGTOT e INGPRIN."
      ]
    },
    {
      "cell_type": "code",
      "metadata": {
        "colab": {
          "base_uri": "https://localhost:8080/"
        },
        "id": "jQOUgTjPt07e",
        "outputId": "a3458f02-336a-4da0-b004-ec5578d43b90"
      },
      "source": [
        "variables_elegidas = ['p107', 'p108', 'p109a', 'p209cc', 'p212e', 'p220', 'p222', 'P224', 'P225', 'ingtot', 'ingprin']\n",
        "for variable in variables_elegidas:\n",
        "  nulos = DataFrame_EPE[variable].isnull().sum()\n",
        "  print(\"En %s, hay %s instancias vacías\"%(variable,nulos))"
      ],
      "execution_count": 92,
      "outputs": [
        {
          "output_type": "stream",
          "text": [
            "En p107, hay 0 instancias vacías\n",
            "En p108, hay 0 instancias vacías\n",
            "En p109a, hay 27 instancias vacías\n",
            "En p209cc, hay 539 instancias vacías\n",
            "En p212e, hay 291 instancias vacías\n",
            "En p220, hay 444 instancias vacías\n",
            "En p222, hay 114 instancias vacías\n",
            "En P224, hay 114 instancias vacías\n",
            "En P225, hay 114 instancias vacías\n",
            "En ingtot, hay 270 instancias vacías\n",
            "En ingprin, hay 270 instancias vacías\n"
          ],
          "name": "stdout"
        }
      ]
    },
    {
      "cell_type": "code",
      "metadata": {
        "colab": {
          "base_uri": "https://localhost:8080/"
        },
        "cellView": "form",
        "id": "j4GhUdie4vUn",
        "outputId": "daeaeb5f-102c-47ca-d40d-5a3cf6ebd2ff"
      },
      "source": [
        "#@title Filtramos las variables a utilizar en un nuevo DataFrame\n",
        "Data = DataFrame_EPE.filter(variables_elegidas, axis=1)\n",
        "print(Data.head())"
      ],
      "execution_count": 93,
      "outputs": [
        {
          "output_type": "stream",
          "text": [
            "   p107  p108  p109a  p209cc  p212e  p220  p222  P224  P225  ingtot  ingprin\n",
            "0     1    23    8.0     NaN    1.0   NaN   1.0   6.0   4.0  1500.0   1500.0\n",
            "1     1    43    5.0     NaN    1.0   NaN   1.0   6.0   4.0  1500.0   1500.0\n",
            "2     1    30    6.0     NaN    1.0   NaN   1.0   6.0   4.0  1500.0   1500.0\n",
            "3     1    29    5.0     NaN    1.0   NaN   5.0   6.0   4.0   930.0    930.0\n",
            "4     1    55    6.0    57.0    0.0   NaN   1.0   6.0   4.0  1500.0   1500.0\n"
          ],
          "name": "stdout"
        }
      ]
    },
    {
      "cell_type": "markdown",
      "metadata": {
        "id": "D5w4ykea5jox"
      },
      "source": [
        "#### Manejar la data incompleta y adaptar las columnas"
      ]
    },
    {
      "cell_type": "code",
      "metadata": {
        "colab": {
          "base_uri": "https://localhost:8080/"
        },
        "cellView": "form",
        "id": "MOOk7Q83_X8u",
        "outputId": "9f5d583d-7d1c-4b3d-e4b1-76c5de3d6321"
      },
      "source": [
        "#@title Renombrar las variables\n",
        "Data = Data.rename(columns={'p107': 'Sexo', \n",
        "                            'p108': 'Edad',\n",
        "                            'p109a': 'Nivel educativo',\n",
        "                            'p209cc': 'Horas semanales',\n",
        "                            'p212e': 'Actividad secundaria',\n",
        "                            'p220': 'Trabajo anterior',\n",
        "                            'p222': 'Seguro de salud',\n",
        "                            'P224': 'Etnia',\n",
        "                            'P225': 'Lengua materna'\n",
        "                            })\n",
        "print(Data.head())"
      ],
      "execution_count": 94,
      "outputs": [
        {
          "output_type": "stream",
          "text": [
            "   Sexo  Edad  Nivel educativo  ...  Lengua materna  ingtot  ingprin\n",
            "0     1    23              8.0  ...             4.0  1500.0   1500.0\n",
            "1     1    43              5.0  ...             4.0  1500.0   1500.0\n",
            "2     1    30              6.0  ...             4.0  1500.0   1500.0\n",
            "3     1    29              5.0  ...             4.0   930.0    930.0\n",
            "4     1    55              6.0  ...             4.0  1500.0   1500.0\n",
            "\n",
            "[5 rows x 11 columns]\n"
          ],
          "name": "stdout"
        }
      ]
    },
    {
      "cell_type": "markdown",
      "metadata": {
        "id": "DCceddx55o5j"
      },
      "source": [
        "Rango original de **\"Nivel de Educación\"**:\n",
        "\n",
        "1. Sin Nivel\n",
        "2. Inicial\n",
        "3. Primaria Incompleta\n",
        "4. Primaria Completa\n",
        "5. Secundaria Incompleta\n",
        "6. Secundaria Completa\n",
        "7. Superior No Univ. Incompleta\n",
        "8. Superior No Univ. Completa\n",
        "9. Superior Univ. Incompleta\n",
        "10. Superior Univ. Completa\n",
        "\n",
        "- Entonces, asumimos que los valores $NaN$ representan la respuesta por defecto 'Sin Nivel' educativo.\n",
        "- Además, cambiamos el nombre de la columna para facilitar la interpretación de la Data\n",
        "- Cambiamos el rango [$1$, $10$]; a [$0$; $9$]; con $0$ como el menor nivel educativo posible"
      ]
    },
    {
      "cell_type": "code",
      "metadata": {
        "colab": {
          "base_uri": "https://localhost:8080/",
          "height": 289
        },
        "cellView": "form",
        "id": "IsqnU5rv5cdB",
        "outputId": "687efe3f-7a21-4c44-9690-9246c9b983ee"
      },
      "source": [
        "#@title Cambiar rango de 'Nivel educativo'\n",
        "print(\"Rango original:\")\n",
        "print(pd.unique(Data['Nivel educativo']))\n",
        "#... Dentro de las variables de 'Data', el índice de la pregunta p109a es 2\n",
        "for i in range(len(Data)):\n",
        "  if pd.isna(Data.iloc[i,2]):\n",
        "    Data.iloc[i,2] = np.int32(0)\n",
        "  else:\n",
        "    Data.iloc[i,2] = np.int32(Data.iloc[i,2] - 1)\n",
        "\n",
        "#... Corroborar:\n",
        "print(\"El rango de 'Nivel educativo' ahora es: \")\n",
        "print(pd.unique(Data[\"Nivel educativo\"]))\n",
        "#... Convertir el tipo de Dato a 'Entero'\n",
        "Data = Data.astype({\"Nivel educativo\": int})\n",
        "#... Mostrar\n",
        "Data.head()"
      ],
      "execution_count": 95,
      "outputs": [
        {
          "output_type": "stream",
          "text": [
            "Rango original:\n",
            "[ 8.  5.  6.  7. 10.  9.  3.  4. nan  1.  2.]\n",
            "El rango de 'Nivel educativo' ahora es: \n",
            "[7. 4. 5. 6. 9. 8. 2. 3. 0. 1.]\n"
          ],
          "name": "stdout"
        },
        {
          "output_type": "execute_result",
          "data": {
            "text/html": [
              "<div>\n",
              "<style scoped>\n",
              "    .dataframe tbody tr th:only-of-type {\n",
              "        vertical-align: middle;\n",
              "    }\n",
              "\n",
              "    .dataframe tbody tr th {\n",
              "        vertical-align: top;\n",
              "    }\n",
              "\n",
              "    .dataframe thead th {\n",
              "        text-align: right;\n",
              "    }\n",
              "</style>\n",
              "<table border=\"1\" class=\"dataframe\">\n",
              "  <thead>\n",
              "    <tr style=\"text-align: right;\">\n",
              "      <th></th>\n",
              "      <th>Sexo</th>\n",
              "      <th>Edad</th>\n",
              "      <th>Nivel educativo</th>\n",
              "      <th>Horas semanales</th>\n",
              "      <th>Actividad secundaria</th>\n",
              "      <th>Trabajo anterior</th>\n",
              "      <th>Seguro de salud</th>\n",
              "      <th>Etnia</th>\n",
              "      <th>Lengua materna</th>\n",
              "      <th>ingtot</th>\n",
              "      <th>ingprin</th>\n",
              "    </tr>\n",
              "  </thead>\n",
              "  <tbody>\n",
              "    <tr>\n",
              "      <th>0</th>\n",
              "      <td>1</td>\n",
              "      <td>23</td>\n",
              "      <td>7</td>\n",
              "      <td>NaN</td>\n",
              "      <td>1.0</td>\n",
              "      <td>NaN</td>\n",
              "      <td>1.0</td>\n",
              "      <td>6.0</td>\n",
              "      <td>4.0</td>\n",
              "      <td>1500.0</td>\n",
              "      <td>1500.0</td>\n",
              "    </tr>\n",
              "    <tr>\n",
              "      <th>1</th>\n",
              "      <td>1</td>\n",
              "      <td>43</td>\n",
              "      <td>4</td>\n",
              "      <td>NaN</td>\n",
              "      <td>1.0</td>\n",
              "      <td>NaN</td>\n",
              "      <td>1.0</td>\n",
              "      <td>6.0</td>\n",
              "      <td>4.0</td>\n",
              "      <td>1500.0</td>\n",
              "      <td>1500.0</td>\n",
              "    </tr>\n",
              "    <tr>\n",
              "      <th>2</th>\n",
              "      <td>1</td>\n",
              "      <td>30</td>\n",
              "      <td>5</td>\n",
              "      <td>NaN</td>\n",
              "      <td>1.0</td>\n",
              "      <td>NaN</td>\n",
              "      <td>1.0</td>\n",
              "      <td>6.0</td>\n",
              "      <td>4.0</td>\n",
              "      <td>1500.0</td>\n",
              "      <td>1500.0</td>\n",
              "    </tr>\n",
              "    <tr>\n",
              "      <th>3</th>\n",
              "      <td>1</td>\n",
              "      <td>29</td>\n",
              "      <td>4</td>\n",
              "      <td>NaN</td>\n",
              "      <td>1.0</td>\n",
              "      <td>NaN</td>\n",
              "      <td>5.0</td>\n",
              "      <td>6.0</td>\n",
              "      <td>4.0</td>\n",
              "      <td>930.0</td>\n",
              "      <td>930.0</td>\n",
              "    </tr>\n",
              "    <tr>\n",
              "      <th>4</th>\n",
              "      <td>1</td>\n",
              "      <td>55</td>\n",
              "      <td>5</td>\n",
              "      <td>57.0</td>\n",
              "      <td>0.0</td>\n",
              "      <td>NaN</td>\n",
              "      <td>1.0</td>\n",
              "      <td>6.0</td>\n",
              "      <td>4.0</td>\n",
              "      <td>1500.0</td>\n",
              "      <td>1500.0</td>\n",
              "    </tr>\n",
              "  </tbody>\n",
              "</table>\n",
              "</div>"
            ],
            "text/plain": [
              "   Sexo  Edad  Nivel educativo  ...  Lengua materna  ingtot  ingprin\n",
              "0     1    23                7  ...             4.0  1500.0   1500.0\n",
              "1     1    43                4  ...             4.0  1500.0   1500.0\n",
              "2     1    30                5  ...             4.0  1500.0   1500.0\n",
              "3     1    29                4  ...             4.0   930.0    930.0\n",
              "4     1    55                5  ...             4.0  1500.0   1500.0\n",
              "\n",
              "[5 rows x 11 columns]"
            ]
          },
          "metadata": {
            "tags": []
          },
          "execution_count": 95
        }
      ]
    },
    {
      "cell_type": "markdown",
      "metadata": {
        "id": "VlAGMTT2-Su0"
      },
      "source": [
        "**P209cc**: Normalmente, ¿cuántas horas trabaja a la semana en todas sus ocupaciones?\n",
        "> Rango: Numérico\n",
        "\n",
        "- Asumimos que la data incompleta en esta columna significa que la persona no trabaja; es decir, $0$ horas a la semana."
      ]
    },
    {
      "cell_type": "code",
      "metadata": {
        "colab": {
          "base_uri": "https://localhost:8080/",
          "height": 272
        },
        "cellView": "form",
        "id": "Vqv2Xe5n-lyz",
        "outputId": "e2671380-e83c-4b56-faf8-581cf256e0c4"
      },
      "source": [
        "#@title Cambiar NaN en 'Horas semanales'\n",
        "#... Cambiar NaN a 0\n",
        "print(\"Rango original:\", pd.unique(Data['Horas semanales']))\n",
        "#... el indice es la columna 3\n",
        "indice = 3\n",
        "for i in range(len(Data)):\n",
        "  if pd.isna(Data.iloc[i,indice]):\n",
        "    Data.iloc[i,indice] = np.int32(0)\n",
        "#... Corroborar:\n",
        "print(\"El rango de 'Horas semanales' ahora es: \")\n",
        "print(pd.unique(Data['Horas semanales']))\n",
        "#... Mostrar\n",
        "Data.head()"
      ],
      "execution_count": 96,
      "outputs": [
        {
          "output_type": "stream",
          "text": [
            "Rango original: [nan 57. 58. 48. 40. 66. 45. 50. 56. 60. 24. 36. 28. 20. 35. 52. 18. 30.]\n",
            "El rango de 'Horas semanales' ahora es: \n",
            "[ 0. 57. 58. 48. 40. 66. 45. 50. 56. 60. 24. 36. 28. 20. 35. 52. 18. 30.]\n"
          ],
          "name": "stdout"
        },
        {
          "output_type": "execute_result",
          "data": {
            "text/html": [
              "<div>\n",
              "<style scoped>\n",
              "    .dataframe tbody tr th:only-of-type {\n",
              "        vertical-align: middle;\n",
              "    }\n",
              "\n",
              "    .dataframe tbody tr th {\n",
              "        vertical-align: top;\n",
              "    }\n",
              "\n",
              "    .dataframe thead th {\n",
              "        text-align: right;\n",
              "    }\n",
              "</style>\n",
              "<table border=\"1\" class=\"dataframe\">\n",
              "  <thead>\n",
              "    <tr style=\"text-align: right;\">\n",
              "      <th></th>\n",
              "      <th>Sexo</th>\n",
              "      <th>Edad</th>\n",
              "      <th>Nivel educativo</th>\n",
              "      <th>Horas semanales</th>\n",
              "      <th>Actividad secundaria</th>\n",
              "      <th>Trabajo anterior</th>\n",
              "      <th>Seguro de salud</th>\n",
              "      <th>Etnia</th>\n",
              "      <th>Lengua materna</th>\n",
              "      <th>ingtot</th>\n",
              "      <th>ingprin</th>\n",
              "    </tr>\n",
              "  </thead>\n",
              "  <tbody>\n",
              "    <tr>\n",
              "      <th>0</th>\n",
              "      <td>1</td>\n",
              "      <td>23</td>\n",
              "      <td>7</td>\n",
              "      <td>0.0</td>\n",
              "      <td>1.0</td>\n",
              "      <td>NaN</td>\n",
              "      <td>1.0</td>\n",
              "      <td>6.0</td>\n",
              "      <td>4.0</td>\n",
              "      <td>1500.0</td>\n",
              "      <td>1500.0</td>\n",
              "    </tr>\n",
              "    <tr>\n",
              "      <th>1</th>\n",
              "      <td>1</td>\n",
              "      <td>43</td>\n",
              "      <td>4</td>\n",
              "      <td>0.0</td>\n",
              "      <td>1.0</td>\n",
              "      <td>NaN</td>\n",
              "      <td>1.0</td>\n",
              "      <td>6.0</td>\n",
              "      <td>4.0</td>\n",
              "      <td>1500.0</td>\n",
              "      <td>1500.0</td>\n",
              "    </tr>\n",
              "    <tr>\n",
              "      <th>2</th>\n",
              "      <td>1</td>\n",
              "      <td>30</td>\n",
              "      <td>5</td>\n",
              "      <td>0.0</td>\n",
              "      <td>1.0</td>\n",
              "      <td>NaN</td>\n",
              "      <td>1.0</td>\n",
              "      <td>6.0</td>\n",
              "      <td>4.0</td>\n",
              "      <td>1500.0</td>\n",
              "      <td>1500.0</td>\n",
              "    </tr>\n",
              "    <tr>\n",
              "      <th>3</th>\n",
              "      <td>1</td>\n",
              "      <td>29</td>\n",
              "      <td>4</td>\n",
              "      <td>0.0</td>\n",
              "      <td>1.0</td>\n",
              "      <td>NaN</td>\n",
              "      <td>5.0</td>\n",
              "      <td>6.0</td>\n",
              "      <td>4.0</td>\n",
              "      <td>930.0</td>\n",
              "      <td>930.0</td>\n",
              "    </tr>\n",
              "    <tr>\n",
              "      <th>4</th>\n",
              "      <td>1</td>\n",
              "      <td>55</td>\n",
              "      <td>5</td>\n",
              "      <td>57.0</td>\n",
              "      <td>0.0</td>\n",
              "      <td>NaN</td>\n",
              "      <td>1.0</td>\n",
              "      <td>6.0</td>\n",
              "      <td>4.0</td>\n",
              "      <td>1500.0</td>\n",
              "      <td>1500.0</td>\n",
              "    </tr>\n",
              "  </tbody>\n",
              "</table>\n",
              "</div>"
            ],
            "text/plain": [
              "   Sexo  Edad  Nivel educativo  ...  Lengua materna  ingtot  ingprin\n",
              "0     1    23                7  ...             4.0  1500.0   1500.0\n",
              "1     1    43                4  ...             4.0  1500.0   1500.0\n",
              "2     1    30                5  ...             4.0  1500.0   1500.0\n",
              "3     1    29                4  ...             4.0   930.0    930.0\n",
              "4     1    55                5  ...             4.0  1500.0   1500.0\n",
              "\n",
              "[5 rows x 11 columns]"
            ]
          },
          "metadata": {
            "tags": []
          },
          "execution_count": 96
        }
      ]
    },
    {
      "cell_type": "markdown",
      "metadata": {
        "id": "z7DK7eqDC7NL"
      },
      "source": [
        "Rango original de **'Actividad secundaria'** es:\n",
        "> 1. No tiene actividad secundaria\n",
        "> 2. Tiene actividad secundaria\n",
        "\n",
        "- Cambiamos el rango para que la variables sea booleana; con $0 = False; 1 = True$; y asumiendo que, al no haber respuesta, no tiene trabajo secundario."
      ]
    },
    {
      "cell_type": "code",
      "metadata": {
        "colab": {
          "base_uri": "https://localhost:8080/",
          "height": 272
        },
        "id": "osMzG8lbDe_A",
        "outputId": "358a47f3-8393-4778-a84b-cf3044cf61b0"
      },
      "source": [
        "#@title Cambiar NaN en 'Actividad secundaria'\n",
        "print(\"Rango original:\", pd.unique(Data['Actividad secundaria']))\n",
        "#... Cambiar NaN a 0\n",
        "#... el indice es la columna 4\n",
        "indice = 4\n",
        "for i in range(len(Data)):\n",
        "  if pd.isna(Data.iloc[i,indice]):\n",
        "    Data.iloc[i,indice] = 0\n",
        "#... Corroborar:\n",
        "print(\"El rango de 'Actividad secundaria' ahora es: \")\n",
        "print(pd.unique(Data['Actividad secundaria']))\n",
        "#... Cambiar el tipo de Dato\n",
        "#Data = Data.astype({\"Actividad secundaria\": bool})\n",
        "#... Mostrar\n",
        "Data.head()"
      ],
      "execution_count": 97,
      "outputs": [
        {
          "output_type": "stream",
          "text": [
            "Rango original: [ 1.  0. nan]\n",
            "El rango de 'Actividad secundaria' ahora es: \n",
            "[1. 0.]\n"
          ],
          "name": "stdout"
        },
        {
          "output_type": "execute_result",
          "data": {
            "text/html": [
              "<div>\n",
              "<style scoped>\n",
              "    .dataframe tbody tr th:only-of-type {\n",
              "        vertical-align: middle;\n",
              "    }\n",
              "\n",
              "    .dataframe tbody tr th {\n",
              "        vertical-align: top;\n",
              "    }\n",
              "\n",
              "    .dataframe thead th {\n",
              "        text-align: right;\n",
              "    }\n",
              "</style>\n",
              "<table border=\"1\" class=\"dataframe\">\n",
              "  <thead>\n",
              "    <tr style=\"text-align: right;\">\n",
              "      <th></th>\n",
              "      <th>Sexo</th>\n",
              "      <th>Edad</th>\n",
              "      <th>Nivel educativo</th>\n",
              "      <th>Horas semanales</th>\n",
              "      <th>Actividad secundaria</th>\n",
              "      <th>Trabajo anterior</th>\n",
              "      <th>Seguro de salud</th>\n",
              "      <th>Etnia</th>\n",
              "      <th>Lengua materna</th>\n",
              "      <th>ingtot</th>\n",
              "      <th>ingprin</th>\n",
              "    </tr>\n",
              "  </thead>\n",
              "  <tbody>\n",
              "    <tr>\n",
              "      <th>0</th>\n",
              "      <td>1</td>\n",
              "      <td>23</td>\n",
              "      <td>7</td>\n",
              "      <td>0.0</td>\n",
              "      <td>1.0</td>\n",
              "      <td>NaN</td>\n",
              "      <td>1.0</td>\n",
              "      <td>6.0</td>\n",
              "      <td>4.0</td>\n",
              "      <td>1500.0</td>\n",
              "      <td>1500.0</td>\n",
              "    </tr>\n",
              "    <tr>\n",
              "      <th>1</th>\n",
              "      <td>1</td>\n",
              "      <td>43</td>\n",
              "      <td>4</td>\n",
              "      <td>0.0</td>\n",
              "      <td>1.0</td>\n",
              "      <td>NaN</td>\n",
              "      <td>1.0</td>\n",
              "      <td>6.0</td>\n",
              "      <td>4.0</td>\n",
              "      <td>1500.0</td>\n",
              "      <td>1500.0</td>\n",
              "    </tr>\n",
              "    <tr>\n",
              "      <th>2</th>\n",
              "      <td>1</td>\n",
              "      <td>30</td>\n",
              "      <td>5</td>\n",
              "      <td>0.0</td>\n",
              "      <td>1.0</td>\n",
              "      <td>NaN</td>\n",
              "      <td>1.0</td>\n",
              "      <td>6.0</td>\n",
              "      <td>4.0</td>\n",
              "      <td>1500.0</td>\n",
              "      <td>1500.0</td>\n",
              "    </tr>\n",
              "    <tr>\n",
              "      <th>3</th>\n",
              "      <td>1</td>\n",
              "      <td>29</td>\n",
              "      <td>4</td>\n",
              "      <td>0.0</td>\n",
              "      <td>1.0</td>\n",
              "      <td>NaN</td>\n",
              "      <td>5.0</td>\n",
              "      <td>6.0</td>\n",
              "      <td>4.0</td>\n",
              "      <td>930.0</td>\n",
              "      <td>930.0</td>\n",
              "    </tr>\n",
              "    <tr>\n",
              "      <th>4</th>\n",
              "      <td>1</td>\n",
              "      <td>55</td>\n",
              "      <td>5</td>\n",
              "      <td>57.0</td>\n",
              "      <td>0.0</td>\n",
              "      <td>NaN</td>\n",
              "      <td>1.0</td>\n",
              "      <td>6.0</td>\n",
              "      <td>4.0</td>\n",
              "      <td>1500.0</td>\n",
              "      <td>1500.0</td>\n",
              "    </tr>\n",
              "  </tbody>\n",
              "</table>\n",
              "</div>"
            ],
            "text/plain": [
              "   Sexo  Edad  Nivel educativo  ...  Lengua materna  ingtot  ingprin\n",
              "0     1    23                7  ...             4.0  1500.0   1500.0\n",
              "1     1    43                4  ...             4.0  1500.0   1500.0\n",
              "2     1    30                5  ...             4.0  1500.0   1500.0\n",
              "3     1    29                4  ...             4.0   930.0    930.0\n",
              "4     1    55                5  ...             4.0  1500.0   1500.0\n",
              "\n",
              "[5 rows x 11 columns]"
            ]
          },
          "metadata": {
            "tags": []
          },
          "execution_count": 97
        }
      ]
    },
    {
      "cell_type": "code",
      "metadata": {
        "colab": {
          "base_uri": "https://localhost:8080/",
          "height": 272
        },
        "id": "pOlqGJf7FS6Z",
        "outputId": "b056631f-74b2-4360-e510-89199f87a42a"
      },
      "source": [
        "#@title Cambiar NaN en 'Trabajo anterior'\n",
        "print(\"Rango original:\", pd.unique(Data['Trabajo anterior']))\n",
        "#... Cambiar NaN a 0\n",
        "#... el indice es la columna 5\n",
        "indice = 5\n",
        "for i in range(len(Data)):\n",
        "  if pd.isna(Data.iloc[i,indice]):\n",
        "    Data.iloc[i,indice] = 0\n",
        "  else:\n",
        "    Data.iloc[i,indice] = Data.iloc[i,indice] - 1\n",
        "#... Corroborar:\n",
        "print(\"El rango de 'Trabajo anterior' ahora es: \")\n",
        "print(pd.unique(Data['Trabajo anterior']))\n",
        "#... Cambiar el tipo de Dato\n",
        "#Data = Data.astype({\"Trabajo anterior\": bool})\n",
        "#... Mostrar\n",
        "Data.head()"
      ],
      "execution_count": 98,
      "outputs": [
        {
          "output_type": "stream",
          "text": [
            "Rango original: [nan  1.  2.]\n",
            "El rango de 'Trabajo anterior' ahora es: \n",
            "[0. 1.]\n"
          ],
          "name": "stdout"
        },
        {
          "output_type": "execute_result",
          "data": {
            "text/html": [
              "<div>\n",
              "<style scoped>\n",
              "    .dataframe tbody tr th:only-of-type {\n",
              "        vertical-align: middle;\n",
              "    }\n",
              "\n",
              "    .dataframe tbody tr th {\n",
              "        vertical-align: top;\n",
              "    }\n",
              "\n",
              "    .dataframe thead th {\n",
              "        text-align: right;\n",
              "    }\n",
              "</style>\n",
              "<table border=\"1\" class=\"dataframe\">\n",
              "  <thead>\n",
              "    <tr style=\"text-align: right;\">\n",
              "      <th></th>\n",
              "      <th>Sexo</th>\n",
              "      <th>Edad</th>\n",
              "      <th>Nivel educativo</th>\n",
              "      <th>Horas semanales</th>\n",
              "      <th>Actividad secundaria</th>\n",
              "      <th>Trabajo anterior</th>\n",
              "      <th>Seguro de salud</th>\n",
              "      <th>Etnia</th>\n",
              "      <th>Lengua materna</th>\n",
              "      <th>ingtot</th>\n",
              "      <th>ingprin</th>\n",
              "    </tr>\n",
              "  </thead>\n",
              "  <tbody>\n",
              "    <tr>\n",
              "      <th>0</th>\n",
              "      <td>1</td>\n",
              "      <td>23</td>\n",
              "      <td>7</td>\n",
              "      <td>0.0</td>\n",
              "      <td>1.0</td>\n",
              "      <td>0.0</td>\n",
              "      <td>1.0</td>\n",
              "      <td>6.0</td>\n",
              "      <td>4.0</td>\n",
              "      <td>1500.0</td>\n",
              "      <td>1500.0</td>\n",
              "    </tr>\n",
              "    <tr>\n",
              "      <th>1</th>\n",
              "      <td>1</td>\n",
              "      <td>43</td>\n",
              "      <td>4</td>\n",
              "      <td>0.0</td>\n",
              "      <td>1.0</td>\n",
              "      <td>0.0</td>\n",
              "      <td>1.0</td>\n",
              "      <td>6.0</td>\n",
              "      <td>4.0</td>\n",
              "      <td>1500.0</td>\n",
              "      <td>1500.0</td>\n",
              "    </tr>\n",
              "    <tr>\n",
              "      <th>2</th>\n",
              "      <td>1</td>\n",
              "      <td>30</td>\n",
              "      <td>5</td>\n",
              "      <td>0.0</td>\n",
              "      <td>1.0</td>\n",
              "      <td>0.0</td>\n",
              "      <td>1.0</td>\n",
              "      <td>6.0</td>\n",
              "      <td>4.0</td>\n",
              "      <td>1500.0</td>\n",
              "      <td>1500.0</td>\n",
              "    </tr>\n",
              "    <tr>\n",
              "      <th>3</th>\n",
              "      <td>1</td>\n",
              "      <td>29</td>\n",
              "      <td>4</td>\n",
              "      <td>0.0</td>\n",
              "      <td>1.0</td>\n",
              "      <td>0.0</td>\n",
              "      <td>5.0</td>\n",
              "      <td>6.0</td>\n",
              "      <td>4.0</td>\n",
              "      <td>930.0</td>\n",
              "      <td>930.0</td>\n",
              "    </tr>\n",
              "    <tr>\n",
              "      <th>4</th>\n",
              "      <td>1</td>\n",
              "      <td>55</td>\n",
              "      <td>5</td>\n",
              "      <td>57.0</td>\n",
              "      <td>0.0</td>\n",
              "      <td>0.0</td>\n",
              "      <td>1.0</td>\n",
              "      <td>6.0</td>\n",
              "      <td>4.0</td>\n",
              "      <td>1500.0</td>\n",
              "      <td>1500.0</td>\n",
              "    </tr>\n",
              "  </tbody>\n",
              "</table>\n",
              "</div>"
            ],
            "text/plain": [
              "   Sexo  Edad  Nivel educativo  ...  Lengua materna  ingtot  ingprin\n",
              "0     1    23                7  ...             4.0  1500.0   1500.0\n",
              "1     1    43                4  ...             4.0  1500.0   1500.0\n",
              "2     1    30                5  ...             4.0  1500.0   1500.0\n",
              "3     1    29                4  ...             4.0   930.0    930.0\n",
              "4     1    55                5  ...             4.0  1500.0   1500.0\n",
              "\n",
              "[5 rows x 11 columns]"
            ]
          },
          "metadata": {
            "tags": []
          },
          "execution_count": 98
        }
      ]
    },
    {
      "cell_type": "markdown",
      "metadata": {
        "id": "n8OO-Bl7GbRg"
      },
      "source": [
        "La siguiente columna, sobre el Seguro de salud, tiene originalmente el formato:\n",
        "\n",
        "\n",
        "El sistema se seguros de salud al cual está afiliado es...\n",
        "> 1. EsSalud\n",
        "> 2. Seguro Privado de Salud\n",
        "> 3. Ambos (Privado y EsSalud)\n",
        "> 4. Otro\n",
        "> 5. No está afiliado\n",
        "> 6. Seguro Universal de Salud SIS\n",
        "\n"
      ]
    },
    {
      "cell_type": "code",
      "metadata": {
        "colab": {
          "base_uri": "https://localhost:8080/"
        },
        "id": "PIfiESlbGHTW",
        "outputId": "388f02c9-881b-4980-cf1c-87de26f51508"
      },
      "source": [
        "pd.unique(Data['Seguro de salud'])"
      ],
      "execution_count": 99,
      "outputs": [
        {
          "output_type": "execute_result",
          "data": {
            "text/plain": [
              "array([ 1.,  5.,  6.,  3.,  4.,  2., nan])"
            ]
          },
          "metadata": {
            "tags": []
          },
          "execution_count": 99
        }
      ]
    },
    {
      "cell_type": "markdown",
      "metadata": {
        "id": "KpnO0AzrG43c"
      },
      "source": [
        "Podemos reorganizar los valores del diccionario, para que $0$ represente la menor afiliación (No tiene seguro) y $5$ represente mayor estabilidad ('Ambos')\n",
        "\n",
        "> 0. No está afiliado\n",
        "> 1. Seguro Universal de Salud (SIS)\n",
        "> 2. EsSalud\n",
        "> 3. Otro\n",
        "> 4. Seguro Privado de Salud\n",
        "> 5. Ambos"
      ]
    },
    {
      "cell_type": "code",
      "metadata": {
        "colab": {
          "base_uri": "https://localhost:8080/",
          "height": 272
        },
        "cellView": "form",
        "id": "gCJ4QkX4F6wp",
        "outputId": "412af212-9c04-4879-8ade-d890363225fc"
      },
      "source": [
        "#@title Cambiar los valores en 'Seguro de salud'\n",
        "print(\"Rango original:\", pd.unique(Data['Seguro de salud']))\n",
        "#... Cambiar NaN a 0\n",
        "#... el indice es la columna 6\n",
        "indice = 6\n",
        "for i in range(len(Data)):\n",
        "  if pd.isna(Data.iloc[i,indice]):\n",
        "    Data.iloc[i,indice] = 0\n",
        "  elif Data.iloc[i,indice] == 1:\n",
        "    Data.iloc[i,indice] = 2\n",
        "  elif Data.iloc[i,indice] == 2:\n",
        "    Data.iloc[i,indice] = 4\n",
        "  elif Data.iloc[i,indice] == 3:\n",
        "    Data.iloc[i,indice] = 5\n",
        "  elif Data.iloc[i,indice] == 4:\n",
        "    Data.iloc[i,indice] = 3\n",
        "  elif Data.iloc[i,indice] == 5:\n",
        "    Data.iloc[i,indice] = 0\n",
        "  elif Data.iloc[i,indice] == 6:\n",
        "    Data.iloc[i,indice] = 1\n",
        "#... Corroborar:\n",
        "print(\"El rango de 'Seguro de salud' ahora es: \")\n",
        "print(pd.unique(Data['Seguro de salud']))\n",
        "#... Mostrar\n",
        "Data.head()"
      ],
      "execution_count": 100,
      "outputs": [
        {
          "output_type": "stream",
          "text": [
            "Rango original: [ 1.  5.  6.  3.  4.  2. nan]\n",
            "El rango de 'Seguro de salud' ahora es: \n",
            "[2. 0. 1. 5. 3. 4.]\n"
          ],
          "name": "stdout"
        },
        {
          "output_type": "execute_result",
          "data": {
            "text/html": [
              "<div>\n",
              "<style scoped>\n",
              "    .dataframe tbody tr th:only-of-type {\n",
              "        vertical-align: middle;\n",
              "    }\n",
              "\n",
              "    .dataframe tbody tr th {\n",
              "        vertical-align: top;\n",
              "    }\n",
              "\n",
              "    .dataframe thead th {\n",
              "        text-align: right;\n",
              "    }\n",
              "</style>\n",
              "<table border=\"1\" class=\"dataframe\">\n",
              "  <thead>\n",
              "    <tr style=\"text-align: right;\">\n",
              "      <th></th>\n",
              "      <th>Sexo</th>\n",
              "      <th>Edad</th>\n",
              "      <th>Nivel educativo</th>\n",
              "      <th>Horas semanales</th>\n",
              "      <th>Actividad secundaria</th>\n",
              "      <th>Trabajo anterior</th>\n",
              "      <th>Seguro de salud</th>\n",
              "      <th>Etnia</th>\n",
              "      <th>Lengua materna</th>\n",
              "      <th>ingtot</th>\n",
              "      <th>ingprin</th>\n",
              "    </tr>\n",
              "  </thead>\n",
              "  <tbody>\n",
              "    <tr>\n",
              "      <th>0</th>\n",
              "      <td>1</td>\n",
              "      <td>23</td>\n",
              "      <td>7</td>\n",
              "      <td>0.0</td>\n",
              "      <td>1.0</td>\n",
              "      <td>0.0</td>\n",
              "      <td>2.0</td>\n",
              "      <td>6.0</td>\n",
              "      <td>4.0</td>\n",
              "      <td>1500.0</td>\n",
              "      <td>1500.0</td>\n",
              "    </tr>\n",
              "    <tr>\n",
              "      <th>1</th>\n",
              "      <td>1</td>\n",
              "      <td>43</td>\n",
              "      <td>4</td>\n",
              "      <td>0.0</td>\n",
              "      <td>1.0</td>\n",
              "      <td>0.0</td>\n",
              "      <td>2.0</td>\n",
              "      <td>6.0</td>\n",
              "      <td>4.0</td>\n",
              "      <td>1500.0</td>\n",
              "      <td>1500.0</td>\n",
              "    </tr>\n",
              "    <tr>\n",
              "      <th>2</th>\n",
              "      <td>1</td>\n",
              "      <td>30</td>\n",
              "      <td>5</td>\n",
              "      <td>0.0</td>\n",
              "      <td>1.0</td>\n",
              "      <td>0.0</td>\n",
              "      <td>2.0</td>\n",
              "      <td>6.0</td>\n",
              "      <td>4.0</td>\n",
              "      <td>1500.0</td>\n",
              "      <td>1500.0</td>\n",
              "    </tr>\n",
              "    <tr>\n",
              "      <th>3</th>\n",
              "      <td>1</td>\n",
              "      <td>29</td>\n",
              "      <td>4</td>\n",
              "      <td>0.0</td>\n",
              "      <td>1.0</td>\n",
              "      <td>0.0</td>\n",
              "      <td>0.0</td>\n",
              "      <td>6.0</td>\n",
              "      <td>4.0</td>\n",
              "      <td>930.0</td>\n",
              "      <td>930.0</td>\n",
              "    </tr>\n",
              "    <tr>\n",
              "      <th>4</th>\n",
              "      <td>1</td>\n",
              "      <td>55</td>\n",
              "      <td>5</td>\n",
              "      <td>57.0</td>\n",
              "      <td>0.0</td>\n",
              "      <td>0.0</td>\n",
              "      <td>2.0</td>\n",
              "      <td>6.0</td>\n",
              "      <td>4.0</td>\n",
              "      <td>1500.0</td>\n",
              "      <td>1500.0</td>\n",
              "    </tr>\n",
              "  </tbody>\n",
              "</table>\n",
              "</div>"
            ],
            "text/plain": [
              "   Sexo  Edad  Nivel educativo  ...  Lengua materna  ingtot  ingprin\n",
              "0     1    23                7  ...             4.0  1500.0   1500.0\n",
              "1     1    43                4  ...             4.0  1500.0   1500.0\n",
              "2     1    30                5  ...             4.0  1500.0   1500.0\n",
              "3     1    29                4  ...             4.0   930.0    930.0\n",
              "4     1    55                5  ...             4.0  1500.0   1500.0\n",
              "\n",
              "[5 rows x 11 columns]"
            ]
          },
          "metadata": {
            "tags": []
          },
          "execution_count": 100
        }
      ]
    },
    {
      "cell_type": "markdown",
      "metadata": {
        "id": "JoPLV5tNKTZH"
      },
      "source": [
        "Consideramos que si no respone la pregunta sobre qué etnia se considera, entonces 'No Sabe' (Opción 8)"
      ]
    },
    {
      "cell_type": "code",
      "metadata": {
        "colab": {
          "base_uri": "https://localhost:8080/"
        },
        "id": "BOK6EIuZKadc",
        "outputId": "1d874258-e654-41e9-b5e5-1a8cffdd9268"
      },
      "source": [
        "pd.unique(Data['Etnia'])"
      ],
      "execution_count": 101,
      "outputs": [
        {
          "output_type": "execute_result",
          "data": {
            "text/plain": [
              "array([ 6.,  1.,  5.,  7.,  8.,  4.,  2., nan,  3.])"
            ]
          },
          "metadata": {
            "tags": []
          },
          "execution_count": 101
        }
      ]
    },
    {
      "cell_type": "code",
      "metadata": {
        "colab": {
          "base_uri": "https://localhost:8080/",
          "height": 272
        },
        "cellView": "form",
        "id": "_sJ3GPdnKC35",
        "outputId": "a3a0a826-8d18-480d-ca17-630c5fe98251"
      },
      "source": [
        "#@title Cambiar NaN en 'Etnia'\n",
        "print(\"Rango original:\", pd.unique(Data['Etnia']))\n",
        "#... Cambiar NaN a 0\n",
        "#... el indice es la columna 7\n",
        "indice = 7\n",
        "for i in range(len(Data)):\n",
        "  if pd.isna(Data.iloc[i,indice]):\n",
        "    Data.iloc[i,indice] = 8\n",
        "\n",
        "#... Corroborar:\n",
        "print(\"El rango de 'Etnia' ahora es: \")\n",
        "print(pd.unique(Data['Etnia']))\n",
        "#... Mostrar\n",
        "Data.head()"
      ],
      "execution_count": 102,
      "outputs": [
        {
          "output_type": "stream",
          "text": [
            "Rango original: [ 6.  1.  5.  7.  8.  4.  2. nan  3.]\n",
            "El rango de 'Etnia' ahora es: \n",
            "[6. 1. 5. 7. 8. 4. 2. 3.]\n"
          ],
          "name": "stdout"
        },
        {
          "output_type": "execute_result",
          "data": {
            "text/html": [
              "<div>\n",
              "<style scoped>\n",
              "    .dataframe tbody tr th:only-of-type {\n",
              "        vertical-align: middle;\n",
              "    }\n",
              "\n",
              "    .dataframe tbody tr th {\n",
              "        vertical-align: top;\n",
              "    }\n",
              "\n",
              "    .dataframe thead th {\n",
              "        text-align: right;\n",
              "    }\n",
              "</style>\n",
              "<table border=\"1\" class=\"dataframe\">\n",
              "  <thead>\n",
              "    <tr style=\"text-align: right;\">\n",
              "      <th></th>\n",
              "      <th>Sexo</th>\n",
              "      <th>Edad</th>\n",
              "      <th>Nivel educativo</th>\n",
              "      <th>Horas semanales</th>\n",
              "      <th>Actividad secundaria</th>\n",
              "      <th>Trabajo anterior</th>\n",
              "      <th>Seguro de salud</th>\n",
              "      <th>Etnia</th>\n",
              "      <th>Lengua materna</th>\n",
              "      <th>ingtot</th>\n",
              "      <th>ingprin</th>\n",
              "    </tr>\n",
              "  </thead>\n",
              "  <tbody>\n",
              "    <tr>\n",
              "      <th>0</th>\n",
              "      <td>1</td>\n",
              "      <td>23</td>\n",
              "      <td>7</td>\n",
              "      <td>0.0</td>\n",
              "      <td>1.0</td>\n",
              "      <td>0.0</td>\n",
              "      <td>2.0</td>\n",
              "      <td>6.0</td>\n",
              "      <td>4.0</td>\n",
              "      <td>1500.0</td>\n",
              "      <td>1500.0</td>\n",
              "    </tr>\n",
              "    <tr>\n",
              "      <th>1</th>\n",
              "      <td>1</td>\n",
              "      <td>43</td>\n",
              "      <td>4</td>\n",
              "      <td>0.0</td>\n",
              "      <td>1.0</td>\n",
              "      <td>0.0</td>\n",
              "      <td>2.0</td>\n",
              "      <td>6.0</td>\n",
              "      <td>4.0</td>\n",
              "      <td>1500.0</td>\n",
              "      <td>1500.0</td>\n",
              "    </tr>\n",
              "    <tr>\n",
              "      <th>2</th>\n",
              "      <td>1</td>\n",
              "      <td>30</td>\n",
              "      <td>5</td>\n",
              "      <td>0.0</td>\n",
              "      <td>1.0</td>\n",
              "      <td>0.0</td>\n",
              "      <td>2.0</td>\n",
              "      <td>6.0</td>\n",
              "      <td>4.0</td>\n",
              "      <td>1500.0</td>\n",
              "      <td>1500.0</td>\n",
              "    </tr>\n",
              "    <tr>\n",
              "      <th>3</th>\n",
              "      <td>1</td>\n",
              "      <td>29</td>\n",
              "      <td>4</td>\n",
              "      <td>0.0</td>\n",
              "      <td>1.0</td>\n",
              "      <td>0.0</td>\n",
              "      <td>0.0</td>\n",
              "      <td>6.0</td>\n",
              "      <td>4.0</td>\n",
              "      <td>930.0</td>\n",
              "      <td>930.0</td>\n",
              "    </tr>\n",
              "    <tr>\n",
              "      <th>4</th>\n",
              "      <td>1</td>\n",
              "      <td>55</td>\n",
              "      <td>5</td>\n",
              "      <td>57.0</td>\n",
              "      <td>0.0</td>\n",
              "      <td>0.0</td>\n",
              "      <td>2.0</td>\n",
              "      <td>6.0</td>\n",
              "      <td>4.0</td>\n",
              "      <td>1500.0</td>\n",
              "      <td>1500.0</td>\n",
              "    </tr>\n",
              "  </tbody>\n",
              "</table>\n",
              "</div>"
            ],
            "text/plain": [
              "   Sexo  Edad  Nivel educativo  ...  Lengua materna  ingtot  ingprin\n",
              "0     1    23                7  ...             4.0  1500.0   1500.0\n",
              "1     1    43                4  ...             4.0  1500.0   1500.0\n",
              "2     1    30                5  ...             4.0  1500.0   1500.0\n",
              "3     1    29                4  ...             4.0   930.0    930.0\n",
              "4     1    55                5  ...             4.0  1500.0   1500.0\n",
              "\n",
              "[5 rows x 11 columns]"
            ]
          },
          "metadata": {
            "tags": []
          },
          "execution_count": 102
        }
      ]
    },
    {
      "cell_type": "code",
      "metadata": {
        "colab": {
          "base_uri": "https://localhost:8080/"
        },
        "id": "G77B1okvLSb2",
        "outputId": "1d8be6a7-8990-485f-f41f-6833f07064ce"
      },
      "source": [
        "pd.unique(Data['Lengua materna'])"
      ],
      "execution_count": 103,
      "outputs": [
        {
          "output_type": "execute_result",
          "data": {
            "text/plain": [
              "array([ 4.,  6.,  3.,  1.,  2.,  5., nan])"
            ]
          },
          "metadata": {
            "tags": []
          },
          "execution_count": 103
        }
      ]
    },
    {
      "cell_type": "markdown",
      "metadata": {
        "id": "u0waozVLLfJm"
      },
      "source": [
        "Para no asumir que una lengua es la predeterminada, manejamos la data incompleta como $0$"
      ]
    },
    {
      "cell_type": "code",
      "metadata": {
        "colab": {
          "base_uri": "https://localhost:8080/",
          "height": 272
        },
        "id": "uPMSnMtCLKGO",
        "outputId": "439dbe07-d20e-4a09-c13a-5fa46e9e8fc1"
      },
      "source": [
        "#@title Cambiar los valores en 'Lengua materna'\n",
        "print(\"Rango original:\", pd.unique(Data['Lengua materna']))\n",
        "#... Cambiar NaN a 0\n",
        "#... el indice es la columna 8\n",
        "indice = 8\n",
        "for i in range(len(Data)):\n",
        "  if pd.isna(Data.iloc[i,indice]):\n",
        "    Data.iloc[i,indice] = 0\n",
        "\n",
        "#... Corroborar:\n",
        "print(\"El rango de 'Lengua materna' ahora es: \")\n",
        "print(pd.unique(Data['Lengua materna']))\n",
        "#... Mostrar\n",
        "Data.head()"
      ],
      "execution_count": 104,
      "outputs": [
        {
          "output_type": "stream",
          "text": [
            "Rango original: [ 4.  6.  3.  1.  2.  5. nan]\n",
            "El rango de 'Lengua materna' ahora es: \n",
            "[4. 6. 3. 1. 2. 5. 0.]\n"
          ],
          "name": "stdout"
        },
        {
          "output_type": "execute_result",
          "data": {
            "text/html": [
              "<div>\n",
              "<style scoped>\n",
              "    .dataframe tbody tr th:only-of-type {\n",
              "        vertical-align: middle;\n",
              "    }\n",
              "\n",
              "    .dataframe tbody tr th {\n",
              "        vertical-align: top;\n",
              "    }\n",
              "\n",
              "    .dataframe thead th {\n",
              "        text-align: right;\n",
              "    }\n",
              "</style>\n",
              "<table border=\"1\" class=\"dataframe\">\n",
              "  <thead>\n",
              "    <tr style=\"text-align: right;\">\n",
              "      <th></th>\n",
              "      <th>Sexo</th>\n",
              "      <th>Edad</th>\n",
              "      <th>Nivel educativo</th>\n",
              "      <th>Horas semanales</th>\n",
              "      <th>Actividad secundaria</th>\n",
              "      <th>Trabajo anterior</th>\n",
              "      <th>Seguro de salud</th>\n",
              "      <th>Etnia</th>\n",
              "      <th>Lengua materna</th>\n",
              "      <th>ingtot</th>\n",
              "      <th>ingprin</th>\n",
              "    </tr>\n",
              "  </thead>\n",
              "  <tbody>\n",
              "    <tr>\n",
              "      <th>0</th>\n",
              "      <td>1</td>\n",
              "      <td>23</td>\n",
              "      <td>7</td>\n",
              "      <td>0.0</td>\n",
              "      <td>1.0</td>\n",
              "      <td>0.0</td>\n",
              "      <td>2.0</td>\n",
              "      <td>6.0</td>\n",
              "      <td>4.0</td>\n",
              "      <td>1500.0</td>\n",
              "      <td>1500.0</td>\n",
              "    </tr>\n",
              "    <tr>\n",
              "      <th>1</th>\n",
              "      <td>1</td>\n",
              "      <td>43</td>\n",
              "      <td>4</td>\n",
              "      <td>0.0</td>\n",
              "      <td>1.0</td>\n",
              "      <td>0.0</td>\n",
              "      <td>2.0</td>\n",
              "      <td>6.0</td>\n",
              "      <td>4.0</td>\n",
              "      <td>1500.0</td>\n",
              "      <td>1500.0</td>\n",
              "    </tr>\n",
              "    <tr>\n",
              "      <th>2</th>\n",
              "      <td>1</td>\n",
              "      <td>30</td>\n",
              "      <td>5</td>\n",
              "      <td>0.0</td>\n",
              "      <td>1.0</td>\n",
              "      <td>0.0</td>\n",
              "      <td>2.0</td>\n",
              "      <td>6.0</td>\n",
              "      <td>4.0</td>\n",
              "      <td>1500.0</td>\n",
              "      <td>1500.0</td>\n",
              "    </tr>\n",
              "    <tr>\n",
              "      <th>3</th>\n",
              "      <td>1</td>\n",
              "      <td>29</td>\n",
              "      <td>4</td>\n",
              "      <td>0.0</td>\n",
              "      <td>1.0</td>\n",
              "      <td>0.0</td>\n",
              "      <td>0.0</td>\n",
              "      <td>6.0</td>\n",
              "      <td>4.0</td>\n",
              "      <td>930.0</td>\n",
              "      <td>930.0</td>\n",
              "    </tr>\n",
              "    <tr>\n",
              "      <th>4</th>\n",
              "      <td>1</td>\n",
              "      <td>55</td>\n",
              "      <td>5</td>\n",
              "      <td>57.0</td>\n",
              "      <td>0.0</td>\n",
              "      <td>0.0</td>\n",
              "      <td>2.0</td>\n",
              "      <td>6.0</td>\n",
              "      <td>4.0</td>\n",
              "      <td>1500.0</td>\n",
              "      <td>1500.0</td>\n",
              "    </tr>\n",
              "  </tbody>\n",
              "</table>\n",
              "</div>"
            ],
            "text/plain": [
              "   Sexo  Edad  Nivel educativo  ...  Lengua materna  ingtot  ingprin\n",
              "0     1    23                7  ...             4.0  1500.0   1500.0\n",
              "1     1    43                4  ...             4.0  1500.0   1500.0\n",
              "2     1    30                5  ...             4.0  1500.0   1500.0\n",
              "3     1    29                4  ...             4.0   930.0    930.0\n",
              "4     1    55                5  ...             4.0  1500.0   1500.0\n",
              "\n",
              "[5 rows x 11 columns]"
            ]
          },
          "metadata": {
            "tags": []
          },
          "execution_count": 104
        }
      ]
    },
    {
      "cell_type": "code",
      "metadata": {
        "colab": {
          "base_uri": "https://localhost:8080/",
          "height": 612
        },
        "id": "z91EJv8ue8yc",
        "cellView": "form",
        "outputId": "9173bf45-bcf8-4685-d3b5-e033519b246d"
      },
      "source": [
        "#@title Cambiar NaN en 'ingtot' (Ingresos Totales)\n",
        "print(\"Rango original:\", pd.unique(Data['ingtot']))\n",
        "#... Cambiar NaN a 0\n",
        "#... el indice es la columna 9\n",
        "indice = 9\n",
        "for i in range(len(Data)):\n",
        "  if pd.isna(Data.iloc[i,indice]):\n",
        "    Data.iloc[i,indice] = 0\n",
        "\n",
        "#... Corroborar:\n",
        "print(\"El rango de 'ingtot' ahora es: \")\n",
        "print(pd.unique(Data['ingtot']))\n",
        "#... Mostrar\n",
        "Data.head()"
      ],
      "execution_count": 105,
      "outputs": [
        {
          "output_type": "stream",
          "text": [
            "Rango original: [1500.  930.  500. 1000.  800. 2600. 2000. 5000. 1265.    0.  946. 3031.\n",
            " 1299. 3634.  900. 2200. 1100. 1440. 2500.  650. 1300. 3300.  961. 1480.\n",
            " 1516. 1455. 2598. 1039. 1600. 1213.  866. 3000. 2800. 1200.  400. 1103.\n",
            " 1339. 3208. 3139. 1550.  950. 1700. 1212.  540.  550. 1083. 1169. 1170.\n",
            " 1178.  329. 1291. 1525.  364.  485.  867.  987.  303. 1400.  700.  802.\n",
            " 3039. 2539. 1800. 4200. 2400.  600.  671. 1732.  850.  390.  433. 1210.\n",
            "   nan 1250. 4000. 4500.  519. 1507. 1386.  325. 1295. 1373. 1075.  975.\n",
            " 1559.  779.   50. 1612.  520. 3604. 1150. 1622.   75.  260. 1681.  624.\n",
            " 1385.  888.  300. 3673. 3173.  455.  953.   60.  100. 2260.  320. 3500.\n",
            " 1390.  398. 1724. 1425. 1526. 1868.  875.  996.  420.  338. 1560. 1725.\n",
            " 2078.  165. 2165. 1195.  350.  217.]\n",
            "El rango de 'ingtot' ahora es: \n",
            "[1500.  930.  500. 1000.  800. 2600. 2000. 5000. 1265.    0.  946. 3031.\n",
            " 1299. 3634.  900. 2200. 1100. 1440. 2500.  650. 1300. 3300.  961. 1480.\n",
            " 1516. 1455. 2598. 1039. 1600. 1213.  866. 3000. 2800. 1200.  400. 1103.\n",
            " 1339. 3208. 3139. 1550.  950. 1700. 1212.  540.  550. 1083. 1169. 1170.\n",
            " 1178.  329. 1291. 1525.  364.  485.  867.  987.  303. 1400.  700.  802.\n",
            " 3039. 2539. 1800. 4200. 2400.  600.  671. 1732.  850.  390.  433. 1210.\n",
            " 1250. 4000. 4500.  519. 1507. 1386.  325. 1295. 1373. 1075.  975. 1559.\n",
            "  779.   50. 1612.  520. 3604. 1150. 1622.   75.  260. 1681.  624. 1385.\n",
            "  888.  300. 3673. 3173.  455.  953.   60.  100. 2260.  320. 3500. 1390.\n",
            "  398. 1724. 1425. 1526. 1868.  875.  996.  420.  338. 1560. 1725. 2078.\n",
            "  165. 2165. 1195.  350.  217.]\n"
          ],
          "name": "stdout"
        },
        {
          "output_type": "execute_result",
          "data": {
            "text/html": [
              "<div>\n",
              "<style scoped>\n",
              "    .dataframe tbody tr th:only-of-type {\n",
              "        vertical-align: middle;\n",
              "    }\n",
              "\n",
              "    .dataframe tbody tr th {\n",
              "        vertical-align: top;\n",
              "    }\n",
              "\n",
              "    .dataframe thead th {\n",
              "        text-align: right;\n",
              "    }\n",
              "</style>\n",
              "<table border=\"1\" class=\"dataframe\">\n",
              "  <thead>\n",
              "    <tr style=\"text-align: right;\">\n",
              "      <th></th>\n",
              "      <th>Sexo</th>\n",
              "      <th>Edad</th>\n",
              "      <th>Nivel educativo</th>\n",
              "      <th>Horas semanales</th>\n",
              "      <th>Actividad secundaria</th>\n",
              "      <th>Trabajo anterior</th>\n",
              "      <th>Seguro de salud</th>\n",
              "      <th>Etnia</th>\n",
              "      <th>Lengua materna</th>\n",
              "      <th>ingtot</th>\n",
              "      <th>ingprin</th>\n",
              "    </tr>\n",
              "  </thead>\n",
              "  <tbody>\n",
              "    <tr>\n",
              "      <th>0</th>\n",
              "      <td>1</td>\n",
              "      <td>23</td>\n",
              "      <td>7</td>\n",
              "      <td>0.0</td>\n",
              "      <td>1.0</td>\n",
              "      <td>0.0</td>\n",
              "      <td>2.0</td>\n",
              "      <td>6.0</td>\n",
              "      <td>4.0</td>\n",
              "      <td>1500.0</td>\n",
              "      <td>1500.0</td>\n",
              "    </tr>\n",
              "    <tr>\n",
              "      <th>1</th>\n",
              "      <td>1</td>\n",
              "      <td>43</td>\n",
              "      <td>4</td>\n",
              "      <td>0.0</td>\n",
              "      <td>1.0</td>\n",
              "      <td>0.0</td>\n",
              "      <td>2.0</td>\n",
              "      <td>6.0</td>\n",
              "      <td>4.0</td>\n",
              "      <td>1500.0</td>\n",
              "      <td>1500.0</td>\n",
              "    </tr>\n",
              "    <tr>\n",
              "      <th>2</th>\n",
              "      <td>1</td>\n",
              "      <td>30</td>\n",
              "      <td>5</td>\n",
              "      <td>0.0</td>\n",
              "      <td>1.0</td>\n",
              "      <td>0.0</td>\n",
              "      <td>2.0</td>\n",
              "      <td>6.0</td>\n",
              "      <td>4.0</td>\n",
              "      <td>1500.0</td>\n",
              "      <td>1500.0</td>\n",
              "    </tr>\n",
              "    <tr>\n",
              "      <th>3</th>\n",
              "      <td>1</td>\n",
              "      <td>29</td>\n",
              "      <td>4</td>\n",
              "      <td>0.0</td>\n",
              "      <td>1.0</td>\n",
              "      <td>0.0</td>\n",
              "      <td>0.0</td>\n",
              "      <td>6.0</td>\n",
              "      <td>4.0</td>\n",
              "      <td>930.0</td>\n",
              "      <td>930.0</td>\n",
              "    </tr>\n",
              "    <tr>\n",
              "      <th>4</th>\n",
              "      <td>1</td>\n",
              "      <td>55</td>\n",
              "      <td>5</td>\n",
              "      <td>57.0</td>\n",
              "      <td>0.0</td>\n",
              "      <td>0.0</td>\n",
              "      <td>2.0</td>\n",
              "      <td>6.0</td>\n",
              "      <td>4.0</td>\n",
              "      <td>1500.0</td>\n",
              "      <td>1500.0</td>\n",
              "    </tr>\n",
              "  </tbody>\n",
              "</table>\n",
              "</div>"
            ],
            "text/plain": [
              "   Sexo  Edad  Nivel educativo  ...  Lengua materna  ingtot  ingprin\n",
              "0     1    23                7  ...             4.0  1500.0   1500.0\n",
              "1     1    43                4  ...             4.0  1500.0   1500.0\n",
              "2     1    30                5  ...             4.0  1500.0   1500.0\n",
              "3     1    29                4  ...             4.0   930.0    930.0\n",
              "4     1    55                5  ...             4.0  1500.0   1500.0\n",
              "\n",
              "[5 rows x 11 columns]"
            ]
          },
          "metadata": {
            "tags": []
          },
          "execution_count": 105
        }
      ]
    },
    {
      "cell_type": "code",
      "metadata": {
        "colab": {
          "base_uri": "https://localhost:8080/",
          "height": 612
        },
        "cellView": "form",
        "id": "EWc2vmDjMtKi",
        "outputId": "85b297d4-c32d-4197-ddeb-b7eae03544b2"
      },
      "source": [
        "#@title Cambiar NaN en 'ingprin' (Ingresos Principales)\n",
        "print(\"Rango original:\", pd.unique(Data['ingprin']))\n",
        "#... Cambiar NaN a 0\n",
        "#... el indice es la columna 9\n",
        "indice = 10\n",
        "for i in range(len(Data)):\n",
        "  if pd.isna(Data.iloc[i,indice]):\n",
        "    Data.iloc[i,indice] = 0\n",
        "\n",
        "#... Corroborar:\n",
        "print(\"El rango de 'ingprin' ahora es: \")\n",
        "print(pd.unique(Data['ingprin']))\n",
        "#... Mostrar\n",
        "Data.head()"
      ],
      "execution_count": 106,
      "outputs": [
        {
          "output_type": "stream",
          "text": [
            "Rango original: [1500.  930.  500. 1000.    0. 2000. 5000. 1265.  600. 3031. 1299. 3634.\n",
            "  900. 2200. 1100. 1280. 2500.  650. 1300. 3300.  961. 1480. 1516. 1282.\n",
            " 2598. 1039. 1600. 1138.  866. 3000. 2800. 1200.  400. 1103. 1339. 3208.\n",
            " 3139. 1550.  950. 1700.  540.  550. 1083. 1169. 1170. 1178.  329. 1291.\n",
            " 1525.  364.  485.  867.  987.  303. 1400.  700.  802. 3039. 1800. 4200.\n",
            " 2400.  671. 1732.  850.  390.  433. 1210.   nan  750. 4000. 4500.  519.\n",
            " 1507. 1386.  325.  800. 1295. 1373. 1075.  975. 1559.  779.  260.   50.\n",
            " 1612.  520. 3604. 2600. 1150. 1622.   75.  538.  624. 1385.  758.  300.\n",
            " 3673. 3173.  455.  953.   60.  100. 2260.  320. 3500.  398. 1724. 1122.\n",
            " 1526. 1868.  875.  996.  420.  338. 1212. 1560. 1725. 2078.  165. 2165.\n",
            " 1195.  350.  217.]\n",
            "El rango de 'ingprin' ahora es: \n",
            "[1500.  930.  500. 1000.    0. 2000. 5000. 1265.  600. 3031. 1299. 3634.\n",
            "  900. 2200. 1100. 1280. 2500.  650. 1300. 3300.  961. 1480. 1516. 1282.\n",
            " 2598. 1039. 1600. 1138.  866. 3000. 2800. 1200.  400. 1103. 1339. 3208.\n",
            " 3139. 1550.  950. 1700.  540.  550. 1083. 1169. 1170. 1178.  329. 1291.\n",
            " 1525.  364.  485.  867.  987.  303. 1400.  700.  802. 3039. 1800. 4200.\n",
            " 2400.  671. 1732.  850.  390.  433. 1210.  750. 4000. 4500.  519. 1507.\n",
            " 1386.  325.  800. 1295. 1373. 1075.  975. 1559.  779.  260.   50. 1612.\n",
            "  520. 3604. 2600. 1150. 1622.   75.  538.  624. 1385.  758.  300. 3673.\n",
            " 3173.  455.  953.   60.  100. 2260.  320. 3500.  398. 1724. 1122. 1526.\n",
            " 1868.  875.  996.  420.  338. 1212. 1560. 1725. 2078.  165. 2165. 1195.\n",
            "  350.  217.]\n"
          ],
          "name": "stdout"
        },
        {
          "output_type": "execute_result",
          "data": {
            "text/html": [
              "<div>\n",
              "<style scoped>\n",
              "    .dataframe tbody tr th:only-of-type {\n",
              "        vertical-align: middle;\n",
              "    }\n",
              "\n",
              "    .dataframe tbody tr th {\n",
              "        vertical-align: top;\n",
              "    }\n",
              "\n",
              "    .dataframe thead th {\n",
              "        text-align: right;\n",
              "    }\n",
              "</style>\n",
              "<table border=\"1\" class=\"dataframe\">\n",
              "  <thead>\n",
              "    <tr style=\"text-align: right;\">\n",
              "      <th></th>\n",
              "      <th>Sexo</th>\n",
              "      <th>Edad</th>\n",
              "      <th>Nivel educativo</th>\n",
              "      <th>Horas semanales</th>\n",
              "      <th>Actividad secundaria</th>\n",
              "      <th>Trabajo anterior</th>\n",
              "      <th>Seguro de salud</th>\n",
              "      <th>Etnia</th>\n",
              "      <th>Lengua materna</th>\n",
              "      <th>ingtot</th>\n",
              "      <th>ingprin</th>\n",
              "    </tr>\n",
              "  </thead>\n",
              "  <tbody>\n",
              "    <tr>\n",
              "      <th>0</th>\n",
              "      <td>1</td>\n",
              "      <td>23</td>\n",
              "      <td>7</td>\n",
              "      <td>0.0</td>\n",
              "      <td>1.0</td>\n",
              "      <td>0.0</td>\n",
              "      <td>2.0</td>\n",
              "      <td>6.0</td>\n",
              "      <td>4.0</td>\n",
              "      <td>1500.0</td>\n",
              "      <td>1500.0</td>\n",
              "    </tr>\n",
              "    <tr>\n",
              "      <th>1</th>\n",
              "      <td>1</td>\n",
              "      <td>43</td>\n",
              "      <td>4</td>\n",
              "      <td>0.0</td>\n",
              "      <td>1.0</td>\n",
              "      <td>0.0</td>\n",
              "      <td>2.0</td>\n",
              "      <td>6.0</td>\n",
              "      <td>4.0</td>\n",
              "      <td>1500.0</td>\n",
              "      <td>1500.0</td>\n",
              "    </tr>\n",
              "    <tr>\n",
              "      <th>2</th>\n",
              "      <td>1</td>\n",
              "      <td>30</td>\n",
              "      <td>5</td>\n",
              "      <td>0.0</td>\n",
              "      <td>1.0</td>\n",
              "      <td>0.0</td>\n",
              "      <td>2.0</td>\n",
              "      <td>6.0</td>\n",
              "      <td>4.0</td>\n",
              "      <td>1500.0</td>\n",
              "      <td>1500.0</td>\n",
              "    </tr>\n",
              "    <tr>\n",
              "      <th>3</th>\n",
              "      <td>1</td>\n",
              "      <td>29</td>\n",
              "      <td>4</td>\n",
              "      <td>0.0</td>\n",
              "      <td>1.0</td>\n",
              "      <td>0.0</td>\n",
              "      <td>0.0</td>\n",
              "      <td>6.0</td>\n",
              "      <td>4.0</td>\n",
              "      <td>930.0</td>\n",
              "      <td>930.0</td>\n",
              "    </tr>\n",
              "    <tr>\n",
              "      <th>4</th>\n",
              "      <td>1</td>\n",
              "      <td>55</td>\n",
              "      <td>5</td>\n",
              "      <td>57.0</td>\n",
              "      <td>0.0</td>\n",
              "      <td>0.0</td>\n",
              "      <td>2.0</td>\n",
              "      <td>6.0</td>\n",
              "      <td>4.0</td>\n",
              "      <td>1500.0</td>\n",
              "      <td>1500.0</td>\n",
              "    </tr>\n",
              "  </tbody>\n",
              "</table>\n",
              "</div>"
            ],
            "text/plain": [
              "   Sexo  Edad  Nivel educativo  ...  Lengua materna  ingtot  ingprin\n",
              "0     1    23                7  ...             4.0  1500.0   1500.0\n",
              "1     1    43                4  ...             4.0  1500.0   1500.0\n",
              "2     1    30                5  ...             4.0  1500.0   1500.0\n",
              "3     1    29                4  ...             4.0   930.0    930.0\n",
              "4     1    55                5  ...             4.0  1500.0   1500.0\n",
              "\n",
              "[5 rows x 11 columns]"
            ]
          },
          "metadata": {
            "tags": []
          },
          "execution_count": 106
        }
      ]
    },
    {
      "cell_type": "markdown",
      "metadata": {
        "id": "RRbN9pfGNPan"
      },
      "source": [
        "### Agregar Nivel Socioeconómico:"
      ]
    },
    {
      "cell_type": "code",
      "metadata": {
        "colab": {
          "base_uri": "https://localhost:8080/",
          "height": 436
        },
        "id": "xkM3VqlnLz2t",
        "cellView": "form",
        "outputId": "b3a7b7e8-9116-49f7-a69d-6d1b9e2dd24c"
      },
      "source": [
        "#@title Situación actual de Data\n",
        "Data"
      ],
      "execution_count": 107,
      "outputs": [
        {
          "output_type": "execute_result",
          "data": {
            "text/html": [
              "<div>\n",
              "<style scoped>\n",
              "    .dataframe tbody tr th:only-of-type {\n",
              "        vertical-align: middle;\n",
              "    }\n",
              "\n",
              "    .dataframe tbody tr th {\n",
              "        vertical-align: top;\n",
              "    }\n",
              "\n",
              "    .dataframe thead th {\n",
              "        text-align: right;\n",
              "    }\n",
              "</style>\n",
              "<table border=\"1\" class=\"dataframe\">\n",
              "  <thead>\n",
              "    <tr style=\"text-align: right;\">\n",
              "      <th></th>\n",
              "      <th>Sexo</th>\n",
              "      <th>Edad</th>\n",
              "      <th>Nivel educativo</th>\n",
              "      <th>Horas semanales</th>\n",
              "      <th>Actividad secundaria</th>\n",
              "      <th>Trabajo anterior</th>\n",
              "      <th>Seguro de salud</th>\n",
              "      <th>Etnia</th>\n",
              "      <th>Lengua materna</th>\n",
              "      <th>ingtot</th>\n",
              "      <th>ingprin</th>\n",
              "    </tr>\n",
              "  </thead>\n",
              "  <tbody>\n",
              "    <tr>\n",
              "      <th>0</th>\n",
              "      <td>1</td>\n",
              "      <td>23</td>\n",
              "      <td>7</td>\n",
              "      <td>0.0</td>\n",
              "      <td>1.0</td>\n",
              "      <td>0.0</td>\n",
              "      <td>2.0</td>\n",
              "      <td>6.0</td>\n",
              "      <td>4.0</td>\n",
              "      <td>1500.0</td>\n",
              "      <td>1500.0</td>\n",
              "    </tr>\n",
              "    <tr>\n",
              "      <th>1</th>\n",
              "      <td>1</td>\n",
              "      <td>43</td>\n",
              "      <td>4</td>\n",
              "      <td>0.0</td>\n",
              "      <td>1.0</td>\n",
              "      <td>0.0</td>\n",
              "      <td>2.0</td>\n",
              "      <td>6.0</td>\n",
              "      <td>4.0</td>\n",
              "      <td>1500.0</td>\n",
              "      <td>1500.0</td>\n",
              "    </tr>\n",
              "    <tr>\n",
              "      <th>2</th>\n",
              "      <td>1</td>\n",
              "      <td>30</td>\n",
              "      <td>5</td>\n",
              "      <td>0.0</td>\n",
              "      <td>1.0</td>\n",
              "      <td>0.0</td>\n",
              "      <td>2.0</td>\n",
              "      <td>6.0</td>\n",
              "      <td>4.0</td>\n",
              "      <td>1500.0</td>\n",
              "      <td>1500.0</td>\n",
              "    </tr>\n",
              "    <tr>\n",
              "      <th>3</th>\n",
              "      <td>1</td>\n",
              "      <td>29</td>\n",
              "      <td>4</td>\n",
              "      <td>0.0</td>\n",
              "      <td>1.0</td>\n",
              "      <td>0.0</td>\n",
              "      <td>0.0</td>\n",
              "      <td>6.0</td>\n",
              "      <td>4.0</td>\n",
              "      <td>930.0</td>\n",
              "      <td>930.0</td>\n",
              "    </tr>\n",
              "    <tr>\n",
              "      <th>4</th>\n",
              "      <td>1</td>\n",
              "      <td>55</td>\n",
              "      <td>5</td>\n",
              "      <td>57.0</td>\n",
              "      <td>0.0</td>\n",
              "      <td>0.0</td>\n",
              "      <td>2.0</td>\n",
              "      <td>6.0</td>\n",
              "      <td>4.0</td>\n",
              "      <td>1500.0</td>\n",
              "      <td>1500.0</td>\n",
              "    </tr>\n",
              "    <tr>\n",
              "      <th>...</th>\n",
              "      <td>...</td>\n",
              "      <td>...</td>\n",
              "      <td>...</td>\n",
              "      <td>...</td>\n",
              "      <td>...</td>\n",
              "      <td>...</td>\n",
              "      <td>...</td>\n",
              "      <td>...</td>\n",
              "      <td>...</td>\n",
              "      <td>...</td>\n",
              "      <td>...</td>\n",
              "    </tr>\n",
              "    <tr>\n",
              "      <th>195</th>\n",
              "      <td>1</td>\n",
              "      <td>51</td>\n",
              "      <td>7</td>\n",
              "      <td>0.0</td>\n",
              "      <td>0.0</td>\n",
              "      <td>0.0</td>\n",
              "      <td>1.0</td>\n",
              "      <td>1.0</td>\n",
              "      <td>4.0</td>\n",
              "      <td>0.0</td>\n",
              "      <td>0.0</td>\n",
              "    </tr>\n",
              "    <tr>\n",
              "      <th>196</th>\n",
              "      <td>2</td>\n",
              "      <td>43</td>\n",
              "      <td>3</td>\n",
              "      <td>0.0</td>\n",
              "      <td>0.0</td>\n",
              "      <td>0.0</td>\n",
              "      <td>1.0</td>\n",
              "      <td>6.0</td>\n",
              "      <td>4.0</td>\n",
              "      <td>0.0</td>\n",
              "      <td>0.0</td>\n",
              "    </tr>\n",
              "    <tr>\n",
              "      <th>197</th>\n",
              "      <td>2</td>\n",
              "      <td>19</td>\n",
              "      <td>5</td>\n",
              "      <td>0.0</td>\n",
              "      <td>0.0</td>\n",
              "      <td>0.0</td>\n",
              "      <td>1.0</td>\n",
              "      <td>6.0</td>\n",
              "      <td>4.0</td>\n",
              "      <td>0.0</td>\n",
              "      <td>0.0</td>\n",
              "    </tr>\n",
              "    <tr>\n",
              "      <th>198</th>\n",
              "      <td>1</td>\n",
              "      <td>15</td>\n",
              "      <td>3</td>\n",
              "      <td>0.0</td>\n",
              "      <td>0.0</td>\n",
              "      <td>1.0</td>\n",
              "      <td>1.0</td>\n",
              "      <td>6.0</td>\n",
              "      <td>4.0</td>\n",
              "      <td>0.0</td>\n",
              "      <td>0.0</td>\n",
              "    </tr>\n",
              "    <tr>\n",
              "      <th>199</th>\n",
              "      <td>1</td>\n",
              "      <td>37</td>\n",
              "      <td>0</td>\n",
              "      <td>48.0</td>\n",
              "      <td>1.0</td>\n",
              "      <td>0.0</td>\n",
              "      <td>1.0</td>\n",
              "      <td>6.0</td>\n",
              "      <td>4.0</td>\n",
              "      <td>217.0</td>\n",
              "      <td>217.0</td>\n",
              "    </tr>\n",
              "  </tbody>\n",
              "</table>\n",
              "<p>600 rows × 11 columns</p>\n",
              "</div>"
            ],
            "text/plain": [
              "     Sexo  Edad  Nivel educativo  ...  Lengua materna  ingtot  ingprin\n",
              "0       1    23                7  ...             4.0  1500.0   1500.0\n",
              "1       1    43                4  ...             4.0  1500.0   1500.0\n",
              "2       1    30                5  ...             4.0  1500.0   1500.0\n",
              "3       1    29                4  ...             4.0   930.0    930.0\n",
              "4       1    55                5  ...             4.0  1500.0   1500.0\n",
              "..    ...   ...              ...  ...             ...     ...      ...\n",
              "195     1    51                7  ...             4.0     0.0      0.0\n",
              "196     2    43                3  ...             4.0     0.0      0.0\n",
              "197     2    19                5  ...             4.0     0.0      0.0\n",
              "198     1    15                3  ...             4.0     0.0      0.0\n",
              "199     1    37                0  ...             4.0   217.0    217.0\n",
              "\n",
              "[600 rows x 11 columns]"
            ]
          },
          "metadata": {
            "tags": []
          },
          "execution_count": 107
        }
      ]
    },
    {
      "cell_type": "markdown",
      "metadata": {
        "id": "uN90QVnERM9U"
      },
      "source": [
        "***3er Paso:*** Añadimos una nueva columna al dataset, que indica la Calidad del empleo, objetivo principal de nuestro trabajo. El valor acertado para esta característica se calcula a partir de los ingresos totales de cada persona. Por ende, esta variable no será incluida en el entrenamiento, pero servirá para verificar la proximidad del algoritmo a los resultados reales.\n",
        "\n",
        "La distribución socioeconómica, según  Game Changers IPSOS, se podría dividir en 5 tipos:\n",
        "\n",
        "*   A: Ingreso promedio de S/.12,660 y Gasto mensual del 62%\n",
        "*   B: Ingreso promedio de S/.7,020 y Gasto mensual del 68%\n",
        "*   C: Ingreso promedio de S/.3,970 y Gasto mensual del 75%\n",
        "*   D: Ingreso promedio de S/.2,480 y Gasto mensual del 80%\n",
        "*   E: Ingreso promedio de S/.1,300 y Gasto mensual del 87%\n",
        "\n",
        "![image.png](data:image/png;base64,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)"
      ]
    },
    {
      "cell_type": "markdown",
      "metadata": {
        "id": "76kBogZrRzjh"
      },
      "source": [
        "Para obtener más información acerca de la distribución socioeconómica y su seccionamiento, acceder al siguiente enlace: https://www.ipsos.com/es-pe/caracteristicas-de-los-niveles-socioeconomicos-en-el-peru"
      ]
    },
    {
      "cell_type": "code",
      "metadata": {
        "colab": {
          "base_uri": "https://localhost:8080/",
          "height": 436
        },
        "id": "Sbmg1c_xQOuP",
        "cellView": "form",
        "outputId": "445ec518-fd13-4d9e-f84b-8b4006b205d6"
      },
      "source": [
        "#@title Clasificar según Ingresos\n",
        "n_socio = []\n",
        "for i in Data['ingtot']:\n",
        "  if i >= 12660:\n",
        "    n_socio.append(4)\n",
        "  else:\n",
        "    if i >= 7020:\n",
        "      n_socio.append(3)\n",
        "    else:\n",
        "      if i >= 3970:\n",
        "        n_socio.append(2)\n",
        "      else:\n",
        "        if i >= 2480:\n",
        "          n_socio.append(1)\n",
        "        else:\n",
        "          n_socio.append(0)\n",
        "\n",
        "Data.insert(Data.shape[1],\"Nivel social\",n_socio, True)\n",
        "Data"
      ],
      "execution_count": 108,
      "outputs": [
        {
          "output_type": "execute_result",
          "data": {
            "text/html": [
              "<div>\n",
              "<style scoped>\n",
              "    .dataframe tbody tr th:only-of-type {\n",
              "        vertical-align: middle;\n",
              "    }\n",
              "\n",
              "    .dataframe tbody tr th {\n",
              "        vertical-align: top;\n",
              "    }\n",
              "\n",
              "    .dataframe thead th {\n",
              "        text-align: right;\n",
              "    }\n",
              "</style>\n",
              "<table border=\"1\" class=\"dataframe\">\n",
              "  <thead>\n",
              "    <tr style=\"text-align: right;\">\n",
              "      <th></th>\n",
              "      <th>Sexo</th>\n",
              "      <th>Edad</th>\n",
              "      <th>Nivel educativo</th>\n",
              "      <th>Horas semanales</th>\n",
              "      <th>Actividad secundaria</th>\n",
              "      <th>Trabajo anterior</th>\n",
              "      <th>Seguro de salud</th>\n",
              "      <th>Etnia</th>\n",
              "      <th>Lengua materna</th>\n",
              "      <th>ingtot</th>\n",
              "      <th>ingprin</th>\n",
              "      <th>Nivel social</th>\n",
              "    </tr>\n",
              "  </thead>\n",
              "  <tbody>\n",
              "    <tr>\n",
              "      <th>0</th>\n",
              "      <td>1</td>\n",
              "      <td>23</td>\n",
              "      <td>7</td>\n",
              "      <td>0.0</td>\n",
              "      <td>1.0</td>\n",
              "      <td>0.0</td>\n",
              "      <td>2.0</td>\n",
              "      <td>6.0</td>\n",
              "      <td>4.0</td>\n",
              "      <td>1500.0</td>\n",
              "      <td>1500.0</td>\n",
              "      <td>0</td>\n",
              "    </tr>\n",
              "    <tr>\n",
              "      <th>1</th>\n",
              "      <td>1</td>\n",
              "      <td>43</td>\n",
              "      <td>4</td>\n",
              "      <td>0.0</td>\n",
              "      <td>1.0</td>\n",
              "      <td>0.0</td>\n",
              "      <td>2.0</td>\n",
              "      <td>6.0</td>\n",
              "      <td>4.0</td>\n",
              "      <td>1500.0</td>\n",
              "      <td>1500.0</td>\n",
              "      <td>0</td>\n",
              "    </tr>\n",
              "    <tr>\n",
              "      <th>2</th>\n",
              "      <td>1</td>\n",
              "      <td>30</td>\n",
              "      <td>5</td>\n",
              "      <td>0.0</td>\n",
              "      <td>1.0</td>\n",
              "      <td>0.0</td>\n",
              "      <td>2.0</td>\n",
              "      <td>6.0</td>\n",
              "      <td>4.0</td>\n",
              "      <td>1500.0</td>\n",
              "      <td>1500.0</td>\n",
              "      <td>0</td>\n",
              "    </tr>\n",
              "    <tr>\n",
              "      <th>3</th>\n",
              "      <td>1</td>\n",
              "      <td>29</td>\n",
              "      <td>4</td>\n",
              "      <td>0.0</td>\n",
              "      <td>1.0</td>\n",
              "      <td>0.0</td>\n",
              "      <td>0.0</td>\n",
              "      <td>6.0</td>\n",
              "      <td>4.0</td>\n",
              "      <td>930.0</td>\n",
              "      <td>930.0</td>\n",
              "      <td>0</td>\n",
              "    </tr>\n",
              "    <tr>\n",
              "      <th>4</th>\n",
              "      <td>1</td>\n",
              "      <td>55</td>\n",
              "      <td>5</td>\n",
              "      <td>57.0</td>\n",
              "      <td>0.0</td>\n",
              "      <td>0.0</td>\n",
              "      <td>2.0</td>\n",
              "      <td>6.0</td>\n",
              "      <td>4.0</td>\n",
              "      <td>1500.0</td>\n",
              "      <td>1500.0</td>\n",
              "      <td>0</td>\n",
              "    </tr>\n",
              "    <tr>\n",
              "      <th>...</th>\n",
              "      <td>...</td>\n",
              "      <td>...</td>\n",
              "      <td>...</td>\n",
              "      <td>...</td>\n",
              "      <td>...</td>\n",
              "      <td>...</td>\n",
              "      <td>...</td>\n",
              "      <td>...</td>\n",
              "      <td>...</td>\n",
              "      <td>...</td>\n",
              "      <td>...</td>\n",
              "      <td>...</td>\n",
              "    </tr>\n",
              "    <tr>\n",
              "      <th>195</th>\n",
              "      <td>1</td>\n",
              "      <td>51</td>\n",
              "      <td>7</td>\n",
              "      <td>0.0</td>\n",
              "      <td>0.0</td>\n",
              "      <td>0.0</td>\n",
              "      <td>1.0</td>\n",
              "      <td>1.0</td>\n",
              "      <td>4.0</td>\n",
              "      <td>0.0</td>\n",
              "      <td>0.0</td>\n",
              "      <td>0</td>\n",
              "    </tr>\n",
              "    <tr>\n",
              "      <th>196</th>\n",
              "      <td>2</td>\n",
              "      <td>43</td>\n",
              "      <td>3</td>\n",
              "      <td>0.0</td>\n",
              "      <td>0.0</td>\n",
              "      <td>0.0</td>\n",
              "      <td>1.0</td>\n",
              "      <td>6.0</td>\n",
              "      <td>4.0</td>\n",
              "      <td>0.0</td>\n",
              "      <td>0.0</td>\n",
              "      <td>0</td>\n",
              "    </tr>\n",
              "    <tr>\n",
              "      <th>197</th>\n",
              "      <td>2</td>\n",
              "      <td>19</td>\n",
              "      <td>5</td>\n",
              "      <td>0.0</td>\n",
              "      <td>0.0</td>\n",
              "      <td>0.0</td>\n",
              "      <td>1.0</td>\n",
              "      <td>6.0</td>\n",
              "      <td>4.0</td>\n",
              "      <td>0.0</td>\n",
              "      <td>0.0</td>\n",
              "      <td>0</td>\n",
              "    </tr>\n",
              "    <tr>\n",
              "      <th>198</th>\n",
              "      <td>1</td>\n",
              "      <td>15</td>\n",
              "      <td>3</td>\n",
              "      <td>0.0</td>\n",
              "      <td>0.0</td>\n",
              "      <td>1.0</td>\n",
              "      <td>1.0</td>\n",
              "      <td>6.0</td>\n",
              "      <td>4.0</td>\n",
              "      <td>0.0</td>\n",
              "      <td>0.0</td>\n",
              "      <td>0</td>\n",
              "    </tr>\n",
              "    <tr>\n",
              "      <th>199</th>\n",
              "      <td>1</td>\n",
              "      <td>37</td>\n",
              "      <td>0</td>\n",
              "      <td>48.0</td>\n",
              "      <td>1.0</td>\n",
              "      <td>0.0</td>\n",
              "      <td>1.0</td>\n",
              "      <td>6.0</td>\n",
              "      <td>4.0</td>\n",
              "      <td>217.0</td>\n",
              "      <td>217.0</td>\n",
              "      <td>0</td>\n",
              "    </tr>\n",
              "  </tbody>\n",
              "</table>\n",
              "<p>600 rows × 12 columns</p>\n",
              "</div>"
            ],
            "text/plain": [
              "     Sexo  Edad  Nivel educativo  ...  ingtot  ingprin  Nivel social\n",
              "0       1    23                7  ...  1500.0   1500.0             0\n",
              "1       1    43                4  ...  1500.0   1500.0             0\n",
              "2       1    30                5  ...  1500.0   1500.0             0\n",
              "3       1    29                4  ...   930.0    930.0             0\n",
              "4       1    55                5  ...  1500.0   1500.0             0\n",
              "..    ...   ...              ...  ...     ...      ...           ...\n",
              "195     1    51                7  ...     0.0      0.0             0\n",
              "196     2    43                3  ...     0.0      0.0             0\n",
              "197     2    19                5  ...     0.0      0.0             0\n",
              "198     1    15                3  ...     0.0      0.0             0\n",
              "199     1    37                0  ...   217.0    217.0             0\n",
              "\n",
              "[600 rows x 12 columns]"
            ]
          },
          "metadata": {
            "tags": []
          },
          "execution_count": 108
        }
      ]
    },
    {
      "cell_type": "code",
      "metadata": {
        "colab": {
          "base_uri": "https://localhost:8080/"
        },
        "id": "10nesG-mN8b0",
        "outputId": "ad8839da-6fc6-49a8-a8e9-5f4f19001a0e"
      },
      "source": [
        "pd.unique(Data['Nivel social'])"
      ],
      "execution_count": 109,
      "outputs": [
        {
          "output_type": "execute_result",
          "data": {
            "text/plain": [
              "array([0, 1, 2])"
            ]
          },
          "metadata": {
            "tags": []
          },
          "execution_count": 109
        }
      ]
    },
    {
      "cell_type": "markdown",
      "metadata": {
        "id": "yykwYeAKNKlb"
      },
      "source": [
        "***4to Paso:*** Creamos archivo en formato txt a partir del Dataframe actual para poder comenzar el entrenamiento de la Red Neuronal"
      ]
    },
    {
      "cell_type": "code",
      "metadata": {
        "id": "WQBRDO8vNOE2"
      },
      "source": [
        "np.savetxt(r'Dataframe.txt', Data.values, fmt='%f')"
      ],
      "execution_count": 110,
      "outputs": []
    },
    {
      "cell_type": "markdown",
      "metadata": {
        "id": "fAuocOIvOsm-"
      },
      "source": [
        "## Redes neuronales SOM\n",
        "\n",
        "Es un algoritmo útil para llevar a cabo la autoorganización y visualización de grandes conjuntos de datos multidimensionales de manera eficiente.\n",
        "\n",
        "Establece que si x, y ∈ X son cercanos entonces ϕ(x) y ϕ(y)\n",
        "serán neuronas cercanas."
      ]
    },
    {
      "cell_type": "markdown",
      "metadata": {
        "id": "vrVMRTLrOxMt"
      },
      "source": [
        "#### Función de vecindad\n",
        "\n",
        "Esta función se encarga de producir la topología o estructura del mapa neuronal. Los mapas autoorganizados usan una función de vecindad para preservar las propiedades topológicas del espacio de entrada.\n",
        "\n",
        "La función de vecindad depende principalmente de la distancia de cuadrículas entre la BMU y la neurona que enviamos como parámetro. De forma simple, se asigna el valor 1 a todas las neuronas suficientemente cerca a BMU y 0 a las otras. La función de vecindad se contrae con el tiempo."
      ]
    },
    {
      "cell_type": "code",
      "metadata": {
        "id": "AA-OVOlOOeDy"
      },
      "source": [
        "def minimoNodo(data, t, pesos, n_rows, n_cols): \n",
        "  BMU = (0,0)\n",
        "  distanciaMinima = 1.0e20 # Se inicializa en un pseudo infinito para que agarre el primer valor \n",
        "  for i in range(n_rows): # Recorremos la matriz de neuronas\n",
        "    for j in range(n_cols):\n",
        "      de = euc_dist(pesos[i][j], data[t]) # Distancia euclidiana t -> qué patrón de entrenamiento se usará \n",
        "      if de < distanciaMinima:\n",
        "        distanciaMinima = de\n",
        "        BMU = (i,j)\n",
        "  return BMU"
      ],
      "execution_count": null,
      "outputs": []
    },
    {
      "cell_type": "markdown",
      "metadata": {
        "id": "ZeYXQY3UO1_A"
      },
      "source": [
        "#### Distancia euclidiana\n",
        "\n",
        "La distancia euclidiana representa la longitud de un segmento de línea entre dos puntos. Se puede calcular a partir del Coordenadas cartesianas de los puntos usando el Teorema de pitágoras.\n",
        "\n",
        "Esta función nos ayudará a determinar si los nodos son cercanos a la BMU."
      ]
    },
    {
      "cell_type": "code",
      "metadata": {
        "id": "m1IGwgwBO34v"
      },
      "source": [
        "def euc_dist(v1, v2):\n",
        "  return np.linalg.norm(v1-v2)"
      ],
      "execution_count": null,
      "outputs": []
    },
    {
      "cell_type": "markdown",
      "metadata": {
        "id": "NrHWPFOkO4WI"
      },
      "source": [
        "#### Distancia Manhattan \n",
        "\n",
        "Es una forma de geometría en la que la métrica usual de la geometría euclidiana es reemplazada por una nueva métrica en la que la distancia entre dos puntos es la suma de las diferencias de sus coordenadas."
      ]
    },
    {
      "cell_type": "code",
      "metadata": {
        "id": "20MNd-ZXO7mW"
      },
      "source": [
        "def manhattan_dist(r1, c1, r2, c2):\n",
        "  return np.abs(r1-r2) + np.abs(c1-c2)"
      ],
      "execution_count": null,
      "outputs": []
    },
    {
      "cell_type": "markdown",
      "metadata": {
        "id": "mwoUZXnshrOk"
      },
      "source": [
        "#### Lectura\n",
        "\n",
        "Elegimos las posiciones que vamos a utilizar como entrenamiento de la red neuronal."
      ]
    },
    {
      "cell_type": "code",
      "metadata": {
        "colab": {
          "base_uri": "https://localhost:8080/"
        },
        "id": "Su_IKmgBS6jR",
        "outputId": "98ca5141-5d9a-4737-930e-3e2873c07bd5"
      },
      "source": [
        "arrlectura = [i for i in range(Data_Muestra.shape[1]-2)]\n",
        "arrlectura = [0,1,2,3,4,5,6,7,8,9,10]\n",
        "arrlectura"
      ],
      "execution_count": null,
      "outputs": [
        {
          "output_type": "execute_result",
          "data": {
            "text/plain": [
              "[0, 1, 2, 3, 4, 5, 6, 7, 8, 9, 10]"
            ]
          },
          "metadata": {
            "tags": []
          },
          "execution_count": 499
        }
      ]
    },
    {
      "cell_type": "markdown",
      "metadata": {
        "id": "jG6OLljkO89v"
      },
      "source": [
        "#### Entrenamiento SOM (Mapas autoorganizativos)\n",
        "\n",
        "Se emplea un conjunto finito de datos X = {x0, ..., xm−1} ⊂ Rn. \n",
        "\n",
        "Para cada tiempo t, se puede determinar un dato de entrada x(t) para la red neuronal, reciclando el conjunto X.\n",
        "\n",
        "**Etapas del entrenamiento:**\n",
        "\n",
        "*   Ordenamiento Global: \n",
        "\n",
        "  Se establecen los pesos de cada una de las neuronas, para que estas sean capaces de identificar el subconjunto característico dentro del conjunto de datos X y para que las relaciones de cercanía entre las distintas neuronas del mapa, reflejen la similitud entre los datos. \n",
        "\n",
        "*   Refinamiento: \n",
        "\n",
        "  Los valores de α(t) deben ser pequeños y decrecer lineal o exponencialmente. \n",
        "La precisión final del mapa dependerá del número de pasos en esta etapa final de la convergencia, la cual debe ser razonablemente larga."
      ]
    },
    {
      "cell_type": "code",
      "metadata": {
        "id": "xsh7J1Sio1uR"
      },
      "source": [
        "  archivo = \"Dataframe.txt\"\n",
        "  ncolumnas = len(arrlectura) #MODIFICAR HASTA CORREGIR VALORES FALTANTES\n",
        "  dataEntrenamiento = np.loadtxt(archivo, delimiter = \" \", usecols = arrlectura, dtype = np.float64) # usecols incluye las columnas con las que voy a trabajar\n",
        "  salida = np.loadtxt(archivo, delimiter=\" \", usecols=[11], dtype = np.float64) #CAMBIAR LA COLUMNA A SECCIONAR DEPENDIENDO DE LO QUE SE QUIERA"
      ],
      "execution_count": null,
      "outputs": []
    },
    {
      "cell_type": "code",
      "metadata": {
        "id": "VOf8RSr6PARz"
      },
      "source": [
        "def SOM(dataEntrenamiento,atributos):\n",
        "  Row = 40 #Entrenamiento\n",
        "  Cols = 40 #Entrenamiento\n",
        "  rangoMax = Row + Cols\n",
        "  factorAprendizaje = 0.3\n",
        "  iteraciones = 1000\n",
        "  \"inicializamos pesos\"\n",
        "  pesos = np.random.randn(Row, Cols, atributos)\n",
        "  for s in range (iteraciones):\n",
        "    alfa = 1.0 - ((s*1.0)/iteraciones)\n",
        "    rangoActual = (int)(alfa*rangoMax)\n",
        "    alfaActual = alfa * factorAprendizaje\n",
        "    t = np.random.randint(len(dataEntrenamiento))\n",
        "    (bmu_row, bmu_col) = minimoNodo(dataEntrenamiento, t, pesos, Row, Cols)\n",
        "    for i in range(Row):\n",
        "      for j in range(Cols):\n",
        "        if manhattan_dist(bmu_row, bmu_col,i,j) < rangoActual:\n",
        "          pesos[i][j] = pesos[i][j] + alfaActual * (dataEntrenamiento[t] - pesos[i][j])\n",
        "    \n",
        "  (bmu_row, bmu_col) = minimoNodo(dataEntrenamiento,dataEntrenamiento.shape[0]-1,pesos,Row,Cols)\n",
        "  print(\"Resultados de la Data de Entrada\")\n",
        "  print(\"Fila: \", bmu_row)\n",
        "  print(\"Columna: \", bmu_col)\n",
        "  print(\"Pesos: \", pesos[bmu_row,bmu_col])\n",
        "\n",
        "  #VISUALIZACIÓN\n",
        "  mapa = np.empty(shape=(Row,Cols), dtype = np.float64)\n",
        "  for i in range(Row):\n",
        "    for j in range(Cols):\n",
        "      mapa[i][j] = -1\n",
        "  for t in range(len(dataEntrenamiento)):\n",
        "    (m_row,m_col) = minimoNodo(dataEntrenamiento,t,pesos, Row, Cols)\n",
        "    mapa[m_row][m_col] = salida[t]\n",
        "  plt.imshow(mapa)\n",
        "  plt.colorbar()\n",
        "  plt.show()"
      ],
      "execution_count": null,
      "outputs": []
    },
    {
      "cell_type": "markdown",
      "metadata": {
        "id": "q4QWYfdlwJtg"
      },
      "source": [
        "## Interfaz de Usuario - SOM"
      ]
    },
    {
      "cell_type": "markdown",
      "metadata": {
        "id": "Y6nSYMO8wM9I"
      },
      "source": [
        "Nota: Ejecutar el código correspondiente a la sección 'Código e Informe' para cargar la Data y el modelo SOM."
      ]
    },
    {
      "cell_type": "code",
      "metadata": {
        "id": "eLUI-cGdc239"
      },
      "source": [
        "#@title Ingrese su información para predecir su calidad de empleo\n",
        "\n",
        "Sexo = 'Hombre' #@param [\"Hombre\", \"Mujer\"] {allow-input: false}\n",
        "Edad = 18 #@param {type:\"number\"}\n",
        "Nivel_educativo_aprobado = 'Sin Educacion' #@param [\"Sin Educacion\", \"Inicial\", \"Primaria Incompleta\", \"Primaria Completa\", \"Secundaria Incompleta\",\"Secundaria Completa\", \"Superior No Univ. Incompleta\", \"Superior No Univ. Completa\", \"Superior Univ. Incompleta\", \"Superior Univ. Completa\" ] {allow-input: false}\n",
        "Horas_de_trabajo = 0 #@param {type:\"number\"}\n",
        "Actividad_secundaria = 'Si' #@param [\"No\", \"Si\"] {allow-input: false}\n",
        "Trabajo_Antes = 'Si trabaje' #@param [\"Si trabaje\", \"No trabaje\"] {allow-input: false}\n",
        "Seguro_Salud =  'EsSalud' #@param [\"EsSalud\", \"Seguro privado\",\"Ambos\",\"Otro\",\"No afiliado\", \"SIS\"] {allow-input: false}\n",
        "Raza = 'Otro' #@param [\"Quechua\", \"Aymara\", \"Nativo\", \"Negro\", \"Blanco\", \"Mestizo\", \"Otro\"] {allow-input: false}\n",
        "Lengua_Materna = 'Castellano' #@param [\"Quechua\", \"Aymara\", \"Otra lengua nativa\", \"Castellano\", \"Portugues\", \"Otra lengua extranjera\", \"Es sordo/mudo\", \"Lenguaje de senas\"] {allow-input: false}\n",
        "Ing_Mensual = 5000 #@param {type:\"number\"}\n",
        "Ing_Principal = 4000 #@param {type:\"number\"}\n",
        "\n",
        "diccionario = {'Hombre': 1, 'Mujer': 2, \n",
        "               'Sin Educacion': 1, 'Inicial': 2, \"Primaria Incompleta\": 3, \"Primaria Completa\": 4,\n",
        "               \"Secundaria Incompleta\": 5, \"Secundaria Completa\": 6, \"Superior No Univ. Incompleta\": 7,\n",
        "               \"Superior No Univ. Completa\": 8, \"Superior Univ. Incompleta\": 9, \"Superior Univ. Completa\": 10,\n",
        "               \"No\": 1, \"Si\": 2,\n",
        "               \"Quechua\": 1, 'Aymara': 2, \"Nativo\": 3, \"Negro\": 4, \"Blanco\": 5, \"Mestizo\": 6, \"Otro\": 7,\n",
        "               \"Otra lengua nativa\": 3, \"Castellano\": 4, \"Portugues\": 5, \"Otra lengua extranjera\": 6, \"Es sordo/mudo\": 7, \"Lenguaje de senas\": 8,\n",
        "               \"Si trabaje\": 1, \"No trabaje\": 2, \"EsSalud\": 1, \"Seguro privado\": 2, \"Ambos\": 3,\n",
        "               \"Otro\": 4, \"No afiliado\": 5, \"SIS\": 6}\n",
        "\n"
      ],
      "execution_count": null,
      "outputs": []
    },
    {
      "cell_type": "code",
      "metadata": {
        "id": "FS2CWy0b0yln"
      },
      "source": [
        "# Insertar data de entrada\n",
        "Data_Muestra = Data_Muestra.append({\"p107\": diccionario[Sexo], \"p108\": int(Edad), \"p109a\": diccionario[Nivel_educativo_aprobado], \"p209cc\": int(Horas_de_trabajo),\n",
        "                     \"p212e\": diccionario[Actividad_secundaria], \"p220\": diccionario[Trabajo_Antes], \"p222\": diccionario[Seguro_Salud],\n",
        "                     \"P224\": diccionario[Raza], \"P225\": diccionario[Lengua_Materna], \"ingtot\": int(Ing_Mensual), \n",
        "                     \"ingprin\": int(Ing_Principal), \"n_socio\": 5}, ignore_index=True)"
      ],
      "execution_count": null,
      "outputs": []
    },
    {
      "cell_type": "code",
      "metadata": {
        "colab": {
          "base_uri": "https://localhost:8080/",
          "height": 414
        },
        "id": "wwEzL4typ5fx",
        "outputId": "e36885a5-3711-48ef-dd53-70a6d2d3997c"
      },
      "source": [
        "Data_Muestra"
      ],
      "execution_count": null,
      "outputs": [
        {
          "output_type": "execute_result",
          "data": {
            "text/html": [
              "<div>\n",
              "<style scoped>\n",
              "    .dataframe tbody tr th:only-of-type {\n",
              "        vertical-align: middle;\n",
              "    }\n",
              "\n",
              "    .dataframe tbody tr th {\n",
              "        vertical-align: top;\n",
              "    }\n",
              "\n",
              "    .dataframe thead th {\n",
              "        text-align: right;\n",
              "    }\n",
              "</style>\n",
              "<table border=\"1\" class=\"dataframe\">\n",
              "  <thead>\n",
              "    <tr style=\"text-align: right;\">\n",
              "      <th></th>\n",
              "      <th>p107</th>\n",
              "      <th>p108</th>\n",
              "      <th>p109a</th>\n",
              "      <th>p209cc</th>\n",
              "      <th>p212e</th>\n",
              "      <th>p220</th>\n",
              "      <th>p222</th>\n",
              "      <th>P224</th>\n",
              "      <th>P225</th>\n",
              "      <th>ingtot</th>\n",
              "      <th>ingprin</th>\n",
              "      <th>n_socio</th>\n",
              "    </tr>\n",
              "  </thead>\n",
              "  <tbody>\n",
              "    <tr>\n",
              "      <th>0</th>\n",
              "      <td>1</td>\n",
              "      <td>23</td>\n",
              "      <td>8.0</td>\n",
              "      <td>0.0</td>\n",
              "      <td>1.0</td>\n",
              "      <td>0.0</td>\n",
              "      <td>1.0</td>\n",
              "      <td>6.0</td>\n",
              "      <td>4.0</td>\n",
              "      <td>1500.0</td>\n",
              "      <td>1500.0</td>\n",
              "      <td>0</td>\n",
              "    </tr>\n",
              "    <tr>\n",
              "      <th>1</th>\n",
              "      <td>1</td>\n",
              "      <td>43</td>\n",
              "      <td>5.0</td>\n",
              "      <td>0.0</td>\n",
              "      <td>1.0</td>\n",
              "      <td>0.0</td>\n",
              "      <td>1.0</td>\n",
              "      <td>6.0</td>\n",
              "      <td>4.0</td>\n",
              "      <td>1500.0</td>\n",
              "      <td>1500.0</td>\n",
              "      <td>0</td>\n",
              "    </tr>\n",
              "    <tr>\n",
              "      <th>2</th>\n",
              "      <td>1</td>\n",
              "      <td>30</td>\n",
              "      <td>6.0</td>\n",
              "      <td>0.0</td>\n",
              "      <td>1.0</td>\n",
              "      <td>0.0</td>\n",
              "      <td>1.0</td>\n",
              "      <td>6.0</td>\n",
              "      <td>4.0</td>\n",
              "      <td>1500.0</td>\n",
              "      <td>1500.0</td>\n",
              "      <td>0</td>\n",
              "    </tr>\n",
              "    <tr>\n",
              "      <th>3</th>\n",
              "      <td>1</td>\n",
              "      <td>29</td>\n",
              "      <td>5.0</td>\n",
              "      <td>0.0</td>\n",
              "      <td>1.0</td>\n",
              "      <td>0.0</td>\n",
              "      <td>5.0</td>\n",
              "      <td>6.0</td>\n",
              "      <td>4.0</td>\n",
              "      <td>930.0</td>\n",
              "      <td>930.0</td>\n",
              "      <td>0</td>\n",
              "    </tr>\n",
              "    <tr>\n",
              "      <th>4</th>\n",
              "      <td>1</td>\n",
              "      <td>55</td>\n",
              "      <td>6.0</td>\n",
              "      <td>57.0</td>\n",
              "      <td>0.0</td>\n",
              "      <td>0.0</td>\n",
              "      <td>1.0</td>\n",
              "      <td>6.0</td>\n",
              "      <td>4.0</td>\n",
              "      <td>1500.0</td>\n",
              "      <td>1500.0</td>\n",
              "      <td>0</td>\n",
              "    </tr>\n",
              "    <tr>\n",
              "      <th>...</th>\n",
              "      <td>...</td>\n",
              "      <td>...</td>\n",
              "      <td>...</td>\n",
              "      <td>...</td>\n",
              "      <td>...</td>\n",
              "      <td>...</td>\n",
              "      <td>...</td>\n",
              "      <td>...</td>\n",
              "      <td>...</td>\n",
              "      <td>...</td>\n",
              "      <td>...</td>\n",
              "      <td>...</td>\n",
              "    </tr>\n",
              "    <tr>\n",
              "      <th>396</th>\n",
              "      <td>2</td>\n",
              "      <td>29</td>\n",
              "      <td>9.0</td>\n",
              "      <td>0.0</td>\n",
              "      <td>0.0</td>\n",
              "      <td>1.0</td>\n",
              "      <td>1.0</td>\n",
              "      <td>6.0</td>\n",
              "      <td>4.0</td>\n",
              "      <td>0.0</td>\n",
              "      <td>0.0</td>\n",
              "      <td>0</td>\n",
              "    </tr>\n",
              "    <tr>\n",
              "      <th>397</th>\n",
              "      <td>1</td>\n",
              "      <td>4</td>\n",
              "      <td>0.0</td>\n",
              "      <td>0.0</td>\n",
              "      <td>0.0</td>\n",
              "      <td>0.0</td>\n",
              "      <td>0.0</td>\n",
              "      <td>0.0</td>\n",
              "      <td>0.0</td>\n",
              "      <td>0.0</td>\n",
              "      <td>0.0</td>\n",
              "      <td>0</td>\n",
              "    </tr>\n",
              "    <tr>\n",
              "      <th>398</th>\n",
              "      <td>1</td>\n",
              "      <td>0</td>\n",
              "      <td>0.0</td>\n",
              "      <td>0.0</td>\n",
              "      <td>0.0</td>\n",
              "      <td>0.0</td>\n",
              "      <td>0.0</td>\n",
              "      <td>0.0</td>\n",
              "      <td>0.0</td>\n",
              "      <td>0.0</td>\n",
              "      <td>0.0</td>\n",
              "      <td>0</td>\n",
              "    </tr>\n",
              "    <tr>\n",
              "      <th>399</th>\n",
              "      <td>1</td>\n",
              "      <td>58</td>\n",
              "      <td>6.0</td>\n",
              "      <td>60.0</td>\n",
              "      <td>1.0</td>\n",
              "      <td>0.0</td>\n",
              "      <td>1.0</td>\n",
              "      <td>1.0</td>\n",
              "      <td>1.0</td>\n",
              "      <td>2000.0</td>\n",
              "      <td>2000.0</td>\n",
              "      <td>0</td>\n",
              "    </tr>\n",
              "    <tr>\n",
              "      <th>400</th>\n",
              "      <td>1</td>\n",
              "      <td>18</td>\n",
              "      <td>1.0</td>\n",
              "      <td>50.0</td>\n",
              "      <td>2.0</td>\n",
              "      <td>1.0</td>\n",
              "      <td>1.0</td>\n",
              "      <td>4.0</td>\n",
              "      <td>8.0</td>\n",
              "      <td>5000.0</td>\n",
              "      <td>4000.0</td>\n",
              "      <td>5</td>\n",
              "    </tr>\n",
              "  </tbody>\n",
              "</table>\n",
              "<p>401 rows × 12 columns</p>\n",
              "</div>"
            ],
            "text/plain": [
              "     p107  p108  p109a  p209cc  p212e  ...  P224  P225  ingtot  ingprin  n_socio\n",
              "0       1    23    8.0     0.0    1.0  ...   6.0   4.0  1500.0   1500.0        0\n",
              "1       1    43    5.0     0.0    1.0  ...   6.0   4.0  1500.0   1500.0        0\n",
              "2       1    30    6.0     0.0    1.0  ...   6.0   4.0  1500.0   1500.0        0\n",
              "3       1    29    5.0     0.0    1.0  ...   6.0   4.0   930.0    930.0        0\n",
              "4       1    55    6.0    57.0    0.0  ...   6.0   4.0  1500.0   1500.0        0\n",
              "..    ...   ...    ...     ...    ...  ...   ...   ...     ...      ...      ...\n",
              "396     2    29    9.0     0.0    0.0  ...   6.0   4.0     0.0      0.0        0\n",
              "397     1     4    0.0     0.0    0.0  ...   0.0   0.0     0.0      0.0        0\n",
              "398     1     0    0.0     0.0    0.0  ...   0.0   0.0     0.0      0.0        0\n",
              "399     1    58    6.0    60.0    1.0  ...   1.0   1.0  2000.0   2000.0        0\n",
              "400     1    18    1.0    50.0    2.0  ...   4.0   8.0  5000.0   4000.0        5\n",
              "\n",
              "[401 rows x 12 columns]"
            ]
          },
          "metadata": {
            "tags": []
          },
          "execution_count": 504
        }
      ]
    },
    {
      "cell_type": "code",
      "metadata": {
        "colab": {
          "base_uri": "https://localhost:8080/",
          "height": 375
        },
        "id": "Fc2Djw1wQXAi",
        "outputId": "4c841cbf-be55-4be4-a0b2-689b6ef015e8"
      },
      "source": [
        "if __name__ == \"__main__\":\n",
        "  SOM(dataEntrenamiento, ncolumnas)"
      ],
      "execution_count": null,
      "outputs": [
        {
          "output_type": "stream",
          "text": [
            "Resultados de la Data de Entrada\n",
            "Fila:  14\n",
            "Columna:  2\n",
            "Pesos:  [1.16650291e+00 4.48219644e+01 6.92425101e+00 1.36972949e+01\n",
            " 9.25647692e-01 1.39100894e-06 2.74819305e+00 5.54775702e+00\n",
            " 3.70083756e+00 1.99760560e+03 1.99759769e+03]\n"
          ],
          "name": "stdout"
        },
        {
          "output_type": "display_data",
          "data": {
            "image/png": "[encoded data removed]",
            "text/plain": [
              "<Figure size 432x288 with 2 Axes>"
            ]
          },
          "metadata": {
            "tags": [],
            "needs_background": "light"
          }
        }
      ]
    },
    {
      "cell_type": "markdown",
      "metadata": {
        "id": "EkffW0mx8Qm2"
      },
      "source": [
        "## Multicapa con SKLearn"
      ]
    },
    {
      "cell_type": "code",
      "metadata": {
        "id": "n9BI-XLEO5-B"
      },
      "source": [
        "import tensorflow as tf\n",
        "from tensorflow import keras\n",
        "from tensorflow.keras import Sequential\n",
        "from tensorflow.keras.layers import Dense\n",
        "import matplotlib.pyplot as plt"
      ],
      "execution_count": 80,
      "outputs": []
    },
    {
      "cell_type": "markdown",
      "metadata": {
        "id": "no562hccPC2i"
      },
      "source": [
        "### 1. Dividimos la Data en Entrenamiento y Test"
      ]
    },
    {
      "cell_type": "code",
      "metadata": {
        "colab": {
          "base_uri": "https://localhost:8080/"
        },
        "id": "25uKBgqgPRNb",
        "outputId": "3d1bf2ee-7231-4f5e-a480-b452d8dfe703"
      },
      "source": [
        "pivote = len(Data) * 0.70 # El 80% de la Data sirve para entrenar, y el 20% para validar\n",
        "print(pivote)"
      ],
      "execution_count": 117,
      "outputs": [
        {
          "output_type": "stream",
          "text": [
            "420.0\n"
          ],
          "name": "stdout"
        }
      ]
    },
    {
      "cell_type": "code",
      "metadata": {
        "colab": {
          "base_uri": "https://localhost:8080/",
          "height": 221
        },
        "id": "OcTII6UXPet1",
        "outputId": "28242920-4369-452e-8698-87222daf39e2"
      },
      "source": [
        "Data_Sin_Ingresos = Data.drop(columns = ['ingprin', 'ingtot'])\n",
        "Data_Sin_Ingresos.head()"
      ],
      "execution_count": 118,
      "outputs": [
        {
          "output_type": "execute_result",
          "data": {
            "text/html": [
              "<div>\n",
              "<style scoped>\n",
              "    .dataframe tbody tr th:only-of-type {\n",
              "        vertical-align: middle;\n",
              "    }\n",
              "\n",
              "    .dataframe tbody tr th {\n",
              "        vertical-align: top;\n",
              "    }\n",
              "\n",
              "    .dataframe thead th {\n",
              "        text-align: right;\n",
              "    }\n",
              "</style>\n",
              "<table border=\"1\" class=\"dataframe\">\n",
              "  <thead>\n",
              "    <tr style=\"text-align: right;\">\n",
              "      <th></th>\n",
              "      <th>Sexo</th>\n",
              "      <th>Edad</th>\n",
              "      <th>Nivel educativo</th>\n",
              "      <th>Horas semanales</th>\n",
              "      <th>Actividad secundaria</th>\n",
              "      <th>Trabajo anterior</th>\n",
              "      <th>Seguro de salud</th>\n",
              "      <th>Etnia</th>\n",
              "      <th>Lengua materna</th>\n",
              "      <th>Nivel social</th>\n",
              "    </tr>\n",
              "  </thead>\n",
              "  <tbody>\n",
              "    <tr>\n",
              "      <th>0</th>\n",
              "      <td>1</td>\n",
              "      <td>23</td>\n",
              "      <td>7</td>\n",
              "      <td>0.0</td>\n",
              "      <td>1.0</td>\n",
              "      <td>0.0</td>\n",
              "      <td>2.0</td>\n",
              "      <td>6.0</td>\n",
              "      <td>4.0</td>\n",
              "      <td>0</td>\n",
              "    </tr>\n",
              "    <tr>\n",
              "      <th>1</th>\n",
              "      <td>1</td>\n",
              "      <td>43</td>\n",
              "      <td>4</td>\n",
              "      <td>0.0</td>\n",
              "      <td>1.0</td>\n",
              "      <td>0.0</td>\n",
              "      <td>2.0</td>\n",
              "      <td>6.0</td>\n",
              "      <td>4.0</td>\n",
              "      <td>0</td>\n",
              "    </tr>\n",
              "    <tr>\n",
              "      <th>2</th>\n",
              "      <td>1</td>\n",
              "      <td>30</td>\n",
              "      <td>5</td>\n",
              "      <td>0.0</td>\n",
              "      <td>1.0</td>\n",
              "      <td>0.0</td>\n",
              "      <td>2.0</td>\n",
              "      <td>6.0</td>\n",
              "      <td>4.0</td>\n",
              "      <td>0</td>\n",
              "    </tr>\n",
              "    <tr>\n",
              "      <th>3</th>\n",
              "      <td>1</td>\n",
              "      <td>29</td>\n",
              "      <td>4</td>\n",
              "      <td>0.0</td>\n",
              "      <td>1.0</td>\n",
              "      <td>0.0</td>\n",
              "      <td>0.0</td>\n",
              "      <td>6.0</td>\n",
              "      <td>4.0</td>\n",
              "      <td>0</td>\n",
              "    </tr>\n",
              "    <tr>\n",
              "      <th>4</th>\n",
              "      <td>1</td>\n",
              "      <td>55</td>\n",
              "      <td>5</td>\n",
              "      <td>57.0</td>\n",
              "      <td>0.0</td>\n",
              "      <td>0.0</td>\n",
              "      <td>2.0</td>\n",
              "      <td>6.0</td>\n",
              "      <td>4.0</td>\n",
              "      <td>0</td>\n",
              "    </tr>\n",
              "  </tbody>\n",
              "</table>\n",
              "</div>"
            ],
            "text/plain": [
              "   Sexo  Edad  Nivel educativo  ...  Etnia  Lengua materna  Nivel social\n",
              "0     1    23                7  ...    6.0             4.0             0\n",
              "1     1    43                4  ...    6.0             4.0             0\n",
              "2     1    30                5  ...    6.0             4.0             0\n",
              "3     1    29                4  ...    6.0             4.0             0\n",
              "4     1    55                5  ...    6.0             4.0             0\n",
              "\n",
              "[5 rows x 10 columns]"
            ]
          },
          "metadata": {
            "tags": []
          },
          "execution_count": 118
        }
      ]
    },
    {
      "cell_type": "code",
      "metadata": {
        "colab": {
          "base_uri": "https://localhost:8080/"
        },
        "id": "c4HEEhR5PBEJ",
        "outputId": "c4dad533-bc1f-4646-d0a7-25e11f193d1f"
      },
      "source": [
        "x_train = Data_Sin_Ingresos.iloc[:420, :-1].to_numpy()\n",
        "y_train = pd.get_dummies(Data_Sin_Ingresos.iloc[:420, -1]).to_numpy()\n",
        "\n",
        "x_test = Data_Sin_Ingresos.iloc[420:, :-1].to_numpy()\n",
        "y_test = pd.get_dummies(Data_Sin_Ingresos.iloc[420:, -1]).to_numpy()\n",
        "\n",
        "print(x_train.shape, y_train.shape)\n",
        "print(x_test.shape, y_test.shape)"
      ],
      "execution_count": 120,
      "outputs": [
        {
          "output_type": "stream",
          "text": [
            "(420, 9) (420, 3)\n",
            "(180, 9) (180, 3)\n"
          ],
          "name": "stdout"
        }
      ]
    },
    {
      "cell_type": "markdown",
      "metadata": {
        "id": "gUtsJqoBSg7u"
      },
      "source": [
        "### 2. Desarrollamos modelo de ANN"
      ]
    },
    {
      "cell_type": "code",
      "metadata": {
        "id": "_Z5pdscMQOZO"
      },
      "source": [
        "modelo = Sequential([Dense(8, input_dim=9, activation='relu'),\n",
        "                    Dense(18,activation='relu'),\n",
        "                    Dense(25,activation='relu'),\n",
        "                    Dense(30,activation='relu'),\n",
        "                    Dense(10,activation='relu'),\n",
        "                    Dense(3, activation='softmax')])\n",
        "modelo.compile(optimizer='adam', loss='binary_crossentropy', metrics=['accuracy'])"
      ],
      "execution_count": 121,
      "outputs": []
    },
    {
      "cell_type": "code",
      "metadata": {
        "colab": {
          "base_uri": "https://localhost:8080/"
        },
        "id": "nJhvq3Y1QfUJ",
        "outputId": "8403b5cb-4de6-44f4-81fe-35e4f596634c"
      },
      "source": [
        "hist = modelo.fit(x_train, y_train, epochs=100, batch_size=10, verbose=2)"
      ],
      "execution_count": 122,
      "outputs": [
        {
          "output_type": "stream",
          "text": [
            "Epoch 1/100\n",
            "42/42 - 1s - loss: 0.3506 - accuracy: 0.8952\n",
            "Epoch 2/100\n",
            "42/42 - 0s - loss: 0.2497 - accuracy: 0.9333\n",
            "Epoch 3/100\n",
            "42/42 - 0s - loss: 0.2266 - accuracy: 0.9333\n",
            "Epoch 4/100\n",
            "42/42 - 0s - loss: 0.2124 - accuracy: 0.9333\n",
            "Epoch 5/100\n",
            "42/42 - 0s - loss: 0.1957 - accuracy: 0.9333\n",
            "Epoch 6/100\n",
            "42/42 - 0s - loss: 0.1852 - accuracy: 0.9333\n",
            "Epoch 7/100\n",
            "42/42 - 0s - loss: 0.1834 - accuracy: 0.9333\n",
            "Epoch 8/100\n",
            "42/42 - 0s - loss: 0.1853 - accuracy: 0.9333\n",
            "Epoch 9/100\n",
            "42/42 - 0s - loss: 0.1797 - accuracy: 0.9333\n",
            "Epoch 10/100\n",
            "42/42 - 0s - loss: 0.1706 - accuracy: 0.9333\n",
            "Epoch 11/100\n",
            "42/42 - 0s - loss: 0.1690 - accuracy: 0.9333\n",
            "Epoch 12/100\n",
            "42/42 - 0s - loss: 0.1710 - accuracy: 0.9333\n",
            "Epoch 13/100\n",
            "42/42 - 0s - loss: 0.1702 - accuracy: 0.9333\n",
            "Epoch 14/100\n",
            "42/42 - 0s - loss: 0.1709 - accuracy: 0.9333\n",
            "Epoch 15/100\n",
            "42/42 - 0s - loss: 0.1696 - accuracy: 0.9333\n",
            "Epoch 16/100\n",
            "42/42 - 0s - loss: 0.1614 - accuracy: 0.9333\n",
            "Epoch 17/100\n",
            "42/42 - 0s - loss: 0.1637 - accuracy: 0.9333\n",
            "Epoch 18/100\n",
            "42/42 - 0s - loss: 0.1624 - accuracy: 0.9333\n",
            "Epoch 19/100\n",
            "42/42 - 0s - loss: 0.1594 - accuracy: 0.9333\n",
            "Epoch 20/100\n",
            "42/42 - 0s - loss: 0.1561 - accuracy: 0.9333\n",
            "Epoch 21/100\n",
            "42/42 - 0s - loss: 0.1697 - accuracy: 0.9333\n",
            "Epoch 22/100\n",
            "42/42 - 0s - loss: 0.1590 - accuracy: 0.9333\n",
            "Epoch 23/100\n",
            "42/42 - 0s - loss: 0.1571 - accuracy: 0.9333\n",
            "Epoch 24/100\n",
            "42/42 - 0s - loss: 0.1552 - accuracy: 0.9333\n",
            "Epoch 25/100\n",
            "42/42 - 0s - loss: 0.1499 - accuracy: 0.9333\n",
            "Epoch 26/100\n",
            "42/42 - 0s - loss: 0.1602 - accuracy: 0.9333\n",
            "Epoch 27/100\n",
            "42/42 - 0s - loss: 0.1525 - accuracy: 0.9333\n",
            "Epoch 28/100\n",
            "42/42 - 0s - loss: 0.1539 - accuracy: 0.9333\n",
            "Epoch 29/100\n",
            "42/42 - 0s - loss: 0.1507 - accuracy: 0.9333\n",
            "Epoch 30/100\n",
            "42/42 - 0s - loss: 0.1509 - accuracy: 0.9333\n",
            "Epoch 31/100\n",
            "42/42 - 0s - loss: 0.1498 - accuracy: 0.9333\n",
            "Epoch 32/100\n",
            "42/42 - 0s - loss: 0.1465 - accuracy: 0.9333\n",
            "Epoch 33/100\n",
            "42/42 - 0s - loss: 0.1466 - accuracy: 0.9333\n",
            "Epoch 34/100\n",
            "42/42 - 0s - loss: 0.1542 - accuracy: 0.9333\n",
            "Epoch 35/100\n",
            "42/42 - 0s - loss: 0.1480 - accuracy: 0.9333\n",
            "Epoch 36/100\n",
            "42/42 - 0s - loss: 0.1471 - accuracy: 0.9333\n",
            "Epoch 37/100\n",
            "42/42 - 0s - loss: 0.1469 - accuracy: 0.9333\n",
            "Epoch 38/100\n",
            "42/42 - 0s - loss: 0.1450 - accuracy: 0.9333\n",
            "Epoch 39/100\n",
            "42/42 - 0s - loss: 0.1419 - accuracy: 0.9333\n",
            "Epoch 40/100\n",
            "42/42 - 0s - loss: 0.1428 - accuracy: 0.9333\n",
            "Epoch 41/100\n",
            "42/42 - 0s - loss: 0.1499 - accuracy: 0.9333\n",
            "Epoch 42/100\n",
            "42/42 - 0s - loss: 0.1432 - accuracy: 0.9333\n",
            "Epoch 43/100\n",
            "42/42 - 0s - loss: 0.1376 - accuracy: 0.9333\n",
            "Epoch 44/100\n",
            "42/42 - 0s - loss: 0.1469 - accuracy: 0.9333\n",
            "Epoch 45/100\n",
            "42/42 - 0s - loss: 0.1427 - accuracy: 0.9333\n",
            "Epoch 46/100\n",
            "42/42 - 0s - loss: 0.1361 - accuracy: 0.9333\n",
            "Epoch 47/100\n",
            "42/42 - 0s - loss: 0.1362 - accuracy: 0.9333\n",
            "Epoch 48/100\n",
            "42/42 - 0s - loss: 0.1337 - accuracy: 0.9333\n",
            "Epoch 49/100\n",
            "42/42 - 0s - loss: 0.1359 - accuracy: 0.9333\n",
            "Epoch 50/100\n",
            "42/42 - 0s - loss: 0.1329 - accuracy: 0.9333\n",
            "Epoch 51/100\n",
            "42/42 - 0s - loss: 0.1386 - accuracy: 0.9333\n",
            "Epoch 52/100\n",
            "42/42 - 0s - loss: 0.1480 - accuracy: 0.9333\n",
            "Epoch 53/100\n",
            "42/42 - 0s - loss: 0.1385 - accuracy: 0.9333\n",
            "Epoch 54/100\n",
            "42/42 - 0s - loss: 0.1337 - accuracy: 0.9333\n",
            "Epoch 55/100\n",
            "42/42 - 0s - loss: 0.1352 - accuracy: 0.9333\n",
            "Epoch 56/100\n",
            "42/42 - 0s - loss: 0.1317 - accuracy: 0.9333\n",
            "Epoch 57/100\n",
            "42/42 - 0s - loss: 0.1387 - accuracy: 0.9333\n",
            "Epoch 58/100\n",
            "42/42 - 0s - loss: 0.1296 - accuracy: 0.9333\n",
            "Epoch 59/100\n",
            "42/42 - 0s - loss: 0.1314 - accuracy: 0.9333\n",
            "Epoch 60/100\n",
            "42/42 - 0s - loss: 0.1328 - accuracy: 0.9333\n",
            "Epoch 61/100\n",
            "42/42 - 0s - loss: 0.1311 - accuracy: 0.9333\n",
            "Epoch 62/100\n",
            "42/42 - 0s - loss: 0.1417 - accuracy: 0.9333\n",
            "Epoch 63/100\n",
            "42/42 - 0s - loss: 0.1289 - accuracy: 0.9333\n",
            "Epoch 64/100\n",
            "42/42 - 0s - loss: 0.1269 - accuracy: 0.9333\n",
            "Epoch 65/100\n",
            "42/42 - 0s - loss: 0.1446 - accuracy: 0.9238\n",
            "Epoch 66/100\n",
            "42/42 - 0s - loss: 0.1377 - accuracy: 0.9333\n",
            "Epoch 67/100\n",
            "42/42 - 0s - loss: 0.1273 - accuracy: 0.9333\n",
            "Epoch 68/100\n",
            "42/42 - 0s - loss: 0.1301 - accuracy: 0.9333\n",
            "Epoch 69/100\n",
            "42/42 - 0s - loss: 0.1349 - accuracy: 0.9333\n",
            "Epoch 70/100\n",
            "42/42 - 0s - loss: 0.1272 - accuracy: 0.9333\n",
            "Epoch 71/100\n",
            "42/42 - 0s - loss: 0.1292 - accuracy: 0.9333\n",
            "Epoch 72/100\n",
            "42/42 - 0s - loss: 0.1279 - accuracy: 0.9333\n",
            "Epoch 73/100\n",
            "42/42 - 0s - loss: 0.1295 - accuracy: 0.9333\n",
            "Epoch 74/100\n",
            "42/42 - 0s - loss: 0.1257 - accuracy: 0.9333\n",
            "Epoch 75/100\n",
            "42/42 - 0s - loss: 0.1304 - accuracy: 0.9333\n",
            "Epoch 76/100\n",
            "42/42 - 0s - loss: 0.1346 - accuracy: 0.9333\n",
            "Epoch 77/100\n",
            "42/42 - 0s - loss: 0.1262 - accuracy: 0.9333\n",
            "Epoch 78/100\n",
            "42/42 - 0s - loss: 0.1254 - accuracy: 0.9333\n",
            "Epoch 79/100\n",
            "42/42 - 0s - loss: 0.1260 - accuracy: 0.9310\n",
            "Epoch 80/100\n",
            "42/42 - 0s - loss: 0.1270 - accuracy: 0.9333\n",
            "Epoch 81/100\n",
            "42/42 - 0s - loss: 0.1313 - accuracy: 0.9333\n",
            "Epoch 82/100\n",
            "42/42 - 0s - loss: 0.1238 - accuracy: 0.9262\n",
            "Epoch 83/100\n",
            "42/42 - 0s - loss: 0.1208 - accuracy: 0.9333\n",
            "Epoch 84/100\n",
            "42/42 - 0s - loss: 0.1245 - accuracy: 0.9310\n",
            "Epoch 85/100\n",
            "42/42 - 0s - loss: 0.1250 - accuracy: 0.9333\n",
            "Epoch 86/100\n",
            "42/42 - 0s - loss: 0.1268 - accuracy: 0.9333\n",
            "Epoch 87/100\n",
            "42/42 - 0s - loss: 0.1221 - accuracy: 0.9286\n",
            "Epoch 88/100\n",
            "42/42 - 0s - loss: 0.1275 - accuracy: 0.9357\n",
            "Epoch 89/100\n",
            "42/42 - 0s - loss: 0.1209 - accuracy: 0.9333\n",
            "Epoch 90/100\n",
            "42/42 - 0s - loss: 0.1217 - accuracy: 0.9286\n",
            "Epoch 91/100\n",
            "42/42 - 0s - loss: 0.1216 - accuracy: 0.9333\n",
            "Epoch 92/100\n",
            "42/42 - 0s - loss: 0.1191 - accuracy: 0.9333\n",
            "Epoch 93/100\n",
            "42/42 - 0s - loss: 0.1298 - accuracy: 0.9286\n",
            "Epoch 94/100\n",
            "42/42 - 0s - loss: 0.1215 - accuracy: 0.9333\n",
            "Epoch 95/100\n",
            "42/42 - 0s - loss: 0.1190 - accuracy: 0.9333\n",
            "Epoch 96/100\n",
            "42/42 - 0s - loss: 0.1218 - accuracy: 0.9333\n",
            "Epoch 97/100\n",
            "42/42 - 0s - loss: 0.1326 - accuracy: 0.9310\n",
            "Epoch 98/100\n",
            "42/42 - 0s - loss: 0.1282 - accuracy: 0.9333\n",
            "Epoch 99/100\n",
            "42/42 - 0s - loss: 0.1221 - accuracy: 0.9333\n",
            "Epoch 100/100\n",
            "42/42 - 0s - loss: 0.1210 - accuracy: 0.9333\n"
          ],
          "name": "stdout"
        }
      ]
    },
    {
      "cell_type": "markdown",
      "metadata": {
        "id": "xEqzbVS_SlB6"
      },
      "source": [
        "### 3. Evaluamos modelo"
      ]
    },
    {
      "cell_type": "code",
      "metadata": {
        "colab": {
          "base_uri": "https://localhost:8080/"
        },
        "id": "ZZpHhzBWRA-s",
        "outputId": "10988663-36d3-4528-ae25-c94144b043e9"
      },
      "source": [
        "modelo.evaluate(x_test, y_test)"
      ],
      "execution_count": 123,
      "outputs": [
        {
          "output_type": "stream",
          "text": [
            "6/6 [==============================] - 0s 2ms/step - loss: 0.0790 - accuracy: 0.9889\n"
          ],
          "name": "stdout"
        },
        {
          "output_type": "execute_result",
          "data": {
            "text/plain": [
              "[0.0789705440402031, 0.9888888597488403]"
            ]
          },
          "metadata": {
            "tags": []
          },
          "execution_count": 123
        }
      ]
    },
    {
      "cell_type": "markdown",
      "metadata": {
        "id": "-qB5EhoGSt5k"
      },
      "source": [
        "## Interfaz para predecir con Sklearn"
      ]
    },
    {
      "cell_type": "code",
      "metadata": {
        "id": "14gtzkeZSytH"
      },
      "source": [
        "#@ title Ingrese sus datos\n",
        "\n",
        "Sexo = 'Hombre' #@param [\"Hombre\", \"Mujer\"] {allow-input: false}\n",
        "Edad = 18 #@param {type:\"number\"}\n",
        "Nivel_educativo_aprobado = 'Sin Educacion' #@param [\"Sin Educacion\", \"Inicial\", \"Primaria Incompleta\", \"Primaria Completa\", \"Secundaria Incompleta\",\"Secundaria Completa\", \"Superior No Univ. Incompleta\", \"Superior No Univ. Completa\", \"Superior Univ. Incompleta\", \"Superior Univ. Completa\" ] {allow-input: false}\n",
        "Horas_de_trabajo = 0 #@param {type:\"number\"}\n",
        "Actividad_secundaria = 'Si' #@param [\"No\", \"Si\"] {allow-input: false}\n",
        "Trabajo_Antes = 'Si' #@param [\"No\", \"Si\"] {allow-input: false}\n",
        "Seguro_Salud =  'EsSalud' #@param [\"EsSalud\", \"Seguro privado\",\"Ambos\",\"Otro\",\"No afiliado\", \"SIS\"] {allow-input: false}\n",
        "Etnia = 'Otro' #@param [\"Quechua\", \"Aymara\", \"Nativo\", \"Negro\", \"Blanco\", \"Mestizo\", \"Otro\"] {allow-input: false}\n",
        "Lengua_Materna = 'Castellano' #@param [\"Quechua\", \"Aymara\", \"Otra lengua nativa\", \"Castellano\", \"Portugues\", \"Otra lengua extranjera\", \"Es sordo/mudo\", \"Lenguaje de senas\"] {allow-input: false}\n",
        "\n",
        "diccionario = {'Hombre': 1, 'Mujer': 2, \n",
        "               'Sin Educacion': 0, 'Inicial': 1, \n",
        "               \"Primaria Incompleta\": 2, \n",
        "               \"Primaria Completa\": 3,\n",
        "               \"Secundaria Incompleta\": 4, \n",
        "               \"Secundaria Completa\": 5, \n",
        "               \"Superior No Univ. Incompleta\": 6,\n",
        "               \"Superior No Univ. Completa\": 7, \n",
        "               \"Superior Univ. Incompleta\": 8, \n",
        "               \"Superior Univ. Completa\": 9,\n",
        "               \"No\": 0, \"Si\": 1,\n",
        "               \"Quechua\": 1, 'Aymara': 2, \"Nativo\": 3, \"Negro\": 4, \"Blanco\": 5, \"Mestizo\": 6, \"Otro\": 7,\n",
        "               \"Otra lengua nativa\": 3, \"Castellano\": 4, \"Portugues\": 5, \"Otra lengua extranjera\": 6, \"Es sordo/mudo\": 7, \"Lenguaje de senas\": 8, \n",
        "               \"EsSalud\": 3, \n",
        "               \"Seguro privado\": 4, \n",
        "               \"Ambos\": 5,\n",
        "               \"Otro\": 2, \n",
        "               \"No afiliado\": 0, \n",
        "               \"SIS\": 1}"
      ],
      "execution_count": 124,
      "outputs": []
    },
    {
      "cell_type": "code",
      "metadata": {
        "id": "HxYyNfdHUkqa"
      },
      "source": [
        "nuevaInstancia = [diccionario[Sexo], int(Edad), diccionario[Nivel_educativo_aprobado], int(Horas_de_trabajo),\n",
        "                  diccionario[Actividad_secundaria], diccionario[Trabajo_Antes], diccionario[Seguro_Salud],\n",
        "                  diccionario[Etnia], diccionario[Lengua_Materna]]\n",
        "modelo.predict_classes(nuevaInstancia)"
      ],
      "execution_count": null,
      "outputs": []
    },
    {
      "cell_type": "markdown",
      "metadata": {
        "id": "wL1uS5AoGiIw"
      },
      "source": [
        "### Graficando la evolución del error"
      ]
    },
    {
      "cell_type": "code",
      "metadata": {
        "id": "GETNdkQWGjMS",
        "colab": {
          "base_uri": "https://localhost:8080/",
          "height": 296
        },
        "outputId": "dccdd125-c372-49d5-ac6f-656efaa8bb23"
      },
      "source": [
        "plt.ylabel('Mean square error')\n",
        "plt.xlabel('Epochs')\n",
        "plt.plot(Multicapa.loss_curve_)"
      ],
      "execution_count": null,
      "outputs": [
        {
          "output_type": "execute_result",
          "data": {
            "text/plain": [
              "[<matplotlib.lines.Line2D at 0x7fc9a813f2d0>]"
            ]
          },
          "metadata": {
            "tags": []
          },
          "execution_count": 514
        },
        {
          "output_type": "display_data",
          "data": {
            "image/png": "[encoded data removed]",
            "text/plain": [
              "<Figure size 432x288 with 1 Axes>"
            ]
          },
          "metadata": {
            "tags": [],
            "needs_background": "light"
          }
        }
      ]
    }
  ]
}